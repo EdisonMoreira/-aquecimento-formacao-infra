{
  "cells": [
    {
      "cell_type": "markdown",
      "metadata": {
        "id": "view-in-github",
        "colab_type": "text"
      },
      "source": [
        "<a href=\"https://colab.research.google.com/github/EdisonMoreira/-aquecimento-formacao-infra/blob/master/Pipeline.ipynb\" target=\"_parent\"><img src=\"https://colab.research.google.com/assets/colab-badge.svg\" alt=\"Open In Colab\"/></a>"
      ]
    },
    {
      "cell_type": "markdown",
      "metadata": {
        "id": "6yTR340XkBKS"
      },
      "source": [
        "# <font color='blue'>Escritório de Dados</font>\n",
        "\n",
        "## Aquecimento para Formação de Infraestrutura\n",
        "## Edison Moreira\n",
        "### Iplanrio / Diretoria de Sistemas (DSI) / Gerência de Arquitetura e Integrações (GAI)"
      ]
    },
    {
      "cell_type": "markdown",
      "metadata": {
        "id": "wrY9P4JKkBKh"
      },
      "source": [
        "## Pipeline\n",
        "### Etapa 1: Entendendo os dados 🎲\n",
        "\n",
        "- **Objetivo:** nessa etapa, você deve somente ingerir dados da API do `randomuser.me` e observar o formato dos dados, tentando imaginar como eles poderiam ser usados para construir uma tabela.\n",
        "- **Descrição da solução:** a solução dessa etapa consiste em uma função para consumir a API na URL `https://randomuser.me/api/` e retornar um dicionário com os dados."
      ]
    },
    {
      "cell_type": "markdown",
      "metadata": {
        "id": "AorSGd1XkBKl"
      },
      "source": [
        "## Instalando e Carregando Pacotes"
      ]
    },
    {
      "cell_type": "code",
      "execution_count": 18,
      "metadata": {
        "id": "geX_WLH2kBKm",
        "outputId": "69050a3a-6f2d-4591-9496-3e0a080faac9",
        "colab": {
          "base_uri": "https://localhost:8080/"
        }
      },
      "outputs": [
        {
          "output_type": "stream",
          "name": "stdout",
          "text": [
            "Versão da Linguagem Python Usada Neste Jupyter Notebook: 3.8.10\n"
          ]
        }
      ],
      "source": [
        "# Versão da Linguagem Python\n",
        "from platform import python_version\n",
        "print('Versão da Linguagem Python Usada Neste Jupyter Notebook:', python_version())"
      ]
    },
    {
      "cell_type": "code",
      "source": [
        "pip install requests"
      ],
      "metadata": {
        "colab": {
          "base_uri": "https://localhost:8080/"
        },
        "id": "rhOx3Gq5S4n6",
        "outputId": "e9e013f2-55d2-46b8-ba5f-3a56296b8f68"
      },
      "execution_count": 19,
      "outputs": [
        {
          "output_type": "stream",
          "name": "stdout",
          "text": [
            "Looking in indexes: https://pypi.org/simple, https://us-python.pkg.dev/colab-wheels/public/simple/\n",
            "Requirement already satisfied: requests in /usr/local/lib/python3.8/dist-packages (2.25.1)\n",
            "Requirement already satisfied: idna<3,>=2.5 in /usr/local/lib/python3.8/dist-packages (from requests) (2.10)\n",
            "Requirement already satisfied: urllib3<1.27,>=1.21.1 in /usr/local/lib/python3.8/dist-packages (from requests) (1.24.3)\n",
            "Requirement already satisfied: certifi>=2017.4.17 in /usr/local/lib/python3.8/dist-packages (from requests) (2022.12.7)\n",
            "Requirement already satisfied: chardet<5,>=3.0.2 in /usr/local/lib/python3.8/dist-packages (from requests) (4.0.0)\n"
          ]
        }
      ]
    },
    {
      "cell_type": "code",
      "execution_count": 20,
      "metadata": {
        "id": "KwrZ9EWy02p7"
      },
      "outputs": [],
      "source": [
        "# Import da package para tratamento de acesso a uma API\n",
        "import requests"
      ]
    },
    {
      "cell_type": "markdown",
      "metadata": {
        "id": "yebFAbpYviBJ"
      },
      "source": [
        "## Ingerindo os Dados\n",
        "\n",
        "Acessando os dados na API Random User\n",
        "\n",
        "Confirmando o sucesso do acesso que é \n",
        "API Status Code 200: Everything went okay, \n",
        "and the result has been returned (if any)."
      ]
    },
    {
      "cell_type": "code",
      "execution_count": 21,
      "metadata": {
        "id": "GCynwX5SFUt8",
        "colab": {
          "base_uri": "https://localhost:8080/"
        },
        "outputId": "b599f135-bdf4-4cc4-fc51-2aa7e7ab3baf"
      },
      "outputs": [
        {
          "output_type": "stream",
          "name": "stdout",
          "text": [
            "200\n"
          ]
        }
      ],
      "source": [
        "response = requests.get(\"https://randomuser.me/api/\")\n",
        "print(response.status_code)"
      ]
    },
    {
      "cell_type": "markdown",
      "source": [
        "Identificando qual é a classe do objeto response"
      ],
      "metadata": {
        "id": "7YnlA39FbVmV"
      }
    },
    {
      "cell_type": "code",
      "source": [
        "type(response)"
      ],
      "metadata": {
        "colab": {
          "base_uri": "https://localhost:8080/"
        },
        "id": "d-HTWx0vZuqr",
        "outputId": "2beaabc0-5804-4823-a74f-25060332cf95"
      },
      "execution_count": 22,
      "outputs": [
        {
          "output_type": "execute_result",
          "data": {
            "text/plain": [
              "requests.models.Response"
            ]
          },
          "metadata": {},
          "execution_count": 22
        }
      ]
    },
    {
      "cell_type": "markdown",
      "source": [
        "Exibindo o conteúdo do response que tem o formato json,\n",
        "sendo a formatação de dictionary"
      ],
      "metadata": {
        "id": "kvjKPHzkblgL"
      }
    },
    {
      "cell_type": "code",
      "source": [
        "response.json()"
      ],
      "metadata": {
        "colab": {
          "base_uri": "https://localhost:8080/"
        },
        "id": "g4_DNzJnaQoM",
        "outputId": "485d908d-86e9-4338-be44-2b99e94fc42c"
      },
      "execution_count": 23,
      "outputs": [
        {
          "output_type": "execute_result",
          "data": {
            "text/plain": [
              "{'results': [{'gender': 'female',\n",
              "   'name': {'title': 'Miss', 'first': 'Ilona', 'last': 'Hack'},\n",
              "   'location': {'street': {'number': 8124, 'name': 'Kirchweg'},\n",
              "    'city': 'Potsdam',\n",
              "    'state': 'Saarland',\n",
              "    'country': 'Germany',\n",
              "    'postcode': 27794,\n",
              "    'coordinates': {'latitude': '-51.7656', 'longitude': '107.5504'},\n",
              "    'timezone': {'offset': '-3:30', 'description': 'Newfoundland'}},\n",
              "   'email': 'ilona.hack@example.com',\n",
              "   'login': {'uuid': '7425c8bb-3f02-4f80-8b0d-0d4f9f1f263d',\n",
              "    'username': 'tinybird858',\n",
              "    'password': '1983',\n",
              "    'salt': '9dk7FcXS',\n",
              "    'md5': '1e65bf850a1998163e69e0a7944b1d67',\n",
              "    'sha1': '99c25a4308b7309e5e62e403c143dc1a23e681d2',\n",
              "    'sha256': '2b367b442bb189d8c447aba5788798b93c2f5db699c4c3e7a8824d402315718f'},\n",
              "   'dob': {'date': '1959-08-01T05:06:36.647Z', 'age': 63},\n",
              "   'registered': {'date': '2022-01-28T11:22:23.516Z', 'age': 1},\n",
              "   'phone': '0909-1418843',\n",
              "   'cell': '0173-9598910',\n",
              "   'id': {'name': 'SVNR', 'value': '25 010859 H 562'},\n",
              "   'picture': {'large': 'https://randomuser.me/api/portraits/women/54.jpg',\n",
              "    'medium': 'https://randomuser.me/api/portraits/med/women/54.jpg',\n",
              "    'thumbnail': 'https://randomuser.me/api/portraits/thumb/women/54.jpg'},\n",
              "   'nat': 'DE'}],\n",
              " 'info': {'seed': 'b30a63c98e02f2cf',\n",
              "  'results': 1,\n",
              "  'page': 1,\n",
              "  'version': '1.4'}}"
            ]
          },
          "metadata": {},
          "execution_count": 23
        }
      ]
    },
    {
      "cell_type": "markdown",
      "source": [
        "### Etapa 2: Coletando dados 💾\n",
        "\n",
        "- **Objetivo:** nessa etapa, você deve coletar dados da API e armazená-los em um arquivo CSV.\n",
        "- **Descrição da solução:** a solução dessa etapa consiste em uma função para coletar uma quantidade `n` de dados da API (sendo `n` um valor fornecido via parâmetro da função), manipulá-los para montar um `pandas.DataFrame` e salvar o resultado em um arquivo CSV.\n",
        "**Dicas:**\n",
        "  - Para tornar os dados mais fáceis de manipular no futuro, faça com que o `DataFrame` seja \"plano\", ou seja, cada coluna seja um único atributo do objeto.\n",
        "  - Para ter dados suficientes para uma análise razoável nas próximas etapas, recomendamos `n>=500`."
      ],
      "metadata": {
        "id": "Dxl2C1Nha2o5"
      }
    },
    {
      "cell_type": "markdown",
      "metadata": {
        "id": "yx0flL9gkBLH"
      },
      "source": [
        "> Criar função qu receba parametro Args1 para fazer Args1 acessos a API\n",
        "Juntando cada leitura (append) ao dicitionario"
      ]
    },
    {
      "cell_type": "code",
      "source": [
        "# Import da packages\n",
        "# para tratamento de acesso a uma API\n",
        "# para criação e processamento de Pandas Dataframe\n",
        "import requests as reqs\n",
        "import pandas as pd"
      ],
      "metadata": {
        "id": "BfeW_pG9jb5e"
      },
      "execution_count": 72,
      "outputs": []
    },
    {
      "cell_type": "code",
      "source": [
        "# Função para coletar uma quantidade n de dados da API (sendo n um valor fornecido via parâmetro da função),\n",
        "def coletaDado (quantidadeDado: int):\n",
        "    parametroAPI=\"https://randomuser.me/api/?results=\" + str(quantidadeDado)\n",
        "    print(parametroAPI)\n",
        "    return reqs.get(parametroAPI)"
      ],
      "metadata": {
        "id": "JjDHPbp7bsYD"
      },
      "execution_count": 76,
      "outputs": []
    },
    {
      "cell_type": "code",
      "source": [
        "responseDados = coletaDado(30)\n",
        "print(responseDados.status_code)"
      ],
      "metadata": {
        "colab": {
          "base_uri": "https://localhost:8080/"
        },
        "id": "56NJRF7cSzso",
        "outputId": "4307e92d-9f83-4a72-e6ac-a77c1a67c2ae"
      },
      "execution_count": 77,
      "outputs": [
        {
          "output_type": "stream",
          "name": "stdout",
          "text": [
            "https://randomuser.me/api/?results=30\n",
            "200\n"
          ]
        }
      ]
    },
    {
      "cell_type": "code",
      "source": [
        "type(responseDados)"
      ],
      "metadata": {
        "colab": {
          "base_uri": "https://localhost:8080/"
        },
        "id": "uCGwrhUTuGlX",
        "outputId": "5e91e691-7ea7-4b91-ccbb-8b4fc8325393"
      },
      "execution_count": 78,
      "outputs": [
        {
          "output_type": "execute_result",
          "data": {
            "text/plain": [
              "requests.models.Response"
            ]
          },
          "metadata": {},
          "execution_count": 78
        }
      ]
    },
    {
      "cell_type": "code",
      "source": [
        "responseDados.json()"
      ],
      "metadata": {
        "colab": {
          "base_uri": "https://localhost:8080/"
        },
        "id": "2lcvVtR3TMyC",
        "outputId": "34da69ea-b441-4da5-f43e-ce485b6ab974"
      },
      "execution_count": 79,
      "outputs": [
        {
          "output_type": "execute_result",
          "data": {
            "text/plain": [
              "{'results': [{'gender': 'male',\n",
              "   'name': {'title': 'Mr', 'first': 'Niilo', 'last': 'Pelto'},\n",
              "   'location': {'street': {'number': 2485, 'name': 'Pirkankatu'},\n",
              "    'city': 'Haukipudas',\n",
              "    'state': 'Kainuu',\n",
              "    'country': 'Finland',\n",
              "    'postcode': 51850,\n",
              "    'coordinates': {'latitude': '-23.6618', 'longitude': '-140.4254'},\n",
              "    'timezone': {'offset': '-6:00',\n",
              "     'description': 'Central Time (US & Canada), Mexico City'}},\n",
              "   'email': 'niilo.pelto@example.com',\n",
              "   'login': {'uuid': '9a338127-fc00-44d9-bec5-eb20acb26b25',\n",
              "    'username': 'silvergoose935',\n",
              "    'password': 'team',\n",
              "    'salt': '7Wbcr2LU',\n",
              "    'md5': '127c9de457464e34a13ef9742b6f2230',\n",
              "    'sha1': 'f8aa7e5b5ad79ee48a0dd5b98487512b9fe55ba8',\n",
              "    'sha256': '3d8e6b7af4f2d58436a45292fb3b8d76aa64b576d56f778f0a89f7b28f8c54e7'},\n",
              "   'dob': {'date': '1983-11-16T22:21:57.397Z', 'age': 39},\n",
              "   'registered': {'date': '2005-07-13T15:44:05.114Z', 'age': 17},\n",
              "   'phone': '07-771-461',\n",
              "   'cell': '043-967-14-25',\n",
              "   'id': {'name': 'HETU', 'value': 'NaNNA637undefined'},\n",
              "   'picture': {'large': 'https://randomuser.me/api/portraits/men/0.jpg',\n",
              "    'medium': 'https://randomuser.me/api/portraits/med/men/0.jpg',\n",
              "    'thumbnail': 'https://randomuser.me/api/portraits/thumb/men/0.jpg'},\n",
              "   'nat': 'FI'},\n",
              "  {'gender': 'male',\n",
              "   'name': {'title': 'Mr', 'first': 'Emil', 'last': 'Ketola'},\n",
              "   'location': {'street': {'number': 2546, 'name': 'Rotuaari'},\n",
              "    'city': 'Keminmaa',\n",
              "    'state': 'Kainuu',\n",
              "    'country': 'Finland',\n",
              "    'postcode': 79951,\n",
              "    'coordinates': {'latitude': '79.8503', 'longitude': '50.0334'},\n",
              "    'timezone': {'offset': '+9:30', 'description': 'Adelaide, Darwin'}},\n",
              "   'email': 'emil.ketola@example.com',\n",
              "   'login': {'uuid': 'c2739a59-5644-4e4b-83c9-d6e6ce370a8a',\n",
              "    'username': 'beautifulostrich589',\n",
              "    'password': 'jamess',\n",
              "    'salt': 'LZz3xY4m',\n",
              "    'md5': '07717b1afa33d63b36d516c9b19dadff',\n",
              "    'sha1': '72a0beccd70322f0cd3060d6b27aa9daba3851ff',\n",
              "    'sha256': '911bd16fb1337105c649cbf24aca870b14c07071f5c31504d6443dee2b3b79e3'},\n",
              "   'dob': {'date': '1981-06-16T11:09:24.435Z', 'age': 41},\n",
              "   'registered': {'date': '2004-08-10T16:01:53.605Z', 'age': 18},\n",
              "   'phone': '03-035-614',\n",
              "   'cell': '047-544-20-45',\n",
              "   'id': {'name': 'HETU', 'value': 'NaNNA369undefined'},\n",
              "   'picture': {'large': 'https://randomuser.me/api/portraits/men/18.jpg',\n",
              "    'medium': 'https://randomuser.me/api/portraits/med/men/18.jpg',\n",
              "    'thumbnail': 'https://randomuser.me/api/portraits/thumb/men/18.jpg'},\n",
              "   'nat': 'FI'},\n",
              "  {'gender': 'female',\n",
              "   'name': {'title': 'Miss', 'first': 'Alexis', 'last': 'Margaret'},\n",
              "   'location': {'street': {'number': 3481, 'name': 'Queen St'},\n",
              "    'city': 'Inverness',\n",
              "    'state': 'Québec',\n",
              "    'country': 'Canada',\n",
              "    'postcode': 'D0B 7W7',\n",
              "    'coordinates': {'latitude': '-68.6639', 'longitude': '-115.1814'},\n",
              "    'timezone': {'offset': '+1:00',\n",
              "     'description': 'Brussels, Copenhagen, Madrid, Paris'}},\n",
              "   'email': 'alexis.margaret@example.com',\n",
              "   'login': {'uuid': '2058a27c-8673-4078-a9c1-90a075c7cd56',\n",
              "    'username': 'lazymeercat957',\n",
              "    'password': 'sundance',\n",
              "    'salt': 'uyibHcpc',\n",
              "    'md5': '3a789cf7c22fe43903ed98762e3f3b19',\n",
              "    'sha1': '77a613c91b040977f54281aecf42e5cf6d0fb629',\n",
              "    'sha256': '770f51e0bdb53906840e7df557b95d2ad977f42282ba431f6cdf318752a5cdf0'},\n",
              "   'dob': {'date': '1972-12-18T14:19:54.875Z', 'age': 50},\n",
              "   'registered': {'date': '2005-11-01T09:43:09.121Z', 'age': 17},\n",
              "   'phone': 'Y38 A09-2601',\n",
              "   'cell': 'O02 V87-9351',\n",
              "   'id': {'name': 'SIN', 'value': '756325643'},\n",
              "   'picture': {'large': 'https://randomuser.me/api/portraits/women/82.jpg',\n",
              "    'medium': 'https://randomuser.me/api/portraits/med/women/82.jpg',\n",
              "    'thumbnail': 'https://randomuser.me/api/portraits/thumb/women/82.jpg'},\n",
              "   'nat': 'CA'},\n",
              "  {'gender': 'female',\n",
              "   'name': {'title': 'Miss', 'first': 'Minea', 'last': 'Palo'},\n",
              "   'location': {'street': {'number': 217, 'name': 'Verkatehtaankatu'},\n",
              "    'city': 'Alajärvi',\n",
              "    'state': 'North Karelia',\n",
              "    'country': 'Finland',\n",
              "    'postcode': 63386,\n",
              "    'coordinates': {'latitude': '-65.0850', 'longitude': '-172.1643'},\n",
              "    'timezone': {'offset': '+9:30', 'description': 'Adelaide, Darwin'}},\n",
              "   'email': 'minea.palo@example.com',\n",
              "   'login': {'uuid': '8030d89f-72df-45c0-8e3a-02803cebf492',\n",
              "    'username': 'crazypeacock275',\n",
              "    'password': 'mushroom',\n",
              "    'salt': 'r2blzGHe',\n",
              "    'md5': '6345e723c49b4e58eac02e2471c278d7',\n",
              "    'sha1': '473864199a2e8d3b0605884f18b2b605a0383ef9',\n",
              "    'sha256': '001d6068761f3e4116eb0fc4cd0757b9230316233dc731e7a09a69accead2e44'},\n",
              "   'dob': {'date': '1967-03-29T15:01:00.774Z', 'age': 55},\n",
              "   'registered': {'date': '2015-04-30T18:43:27.997Z', 'age': 7},\n",
              "   'phone': '05-196-810',\n",
              "   'cell': '040-414-66-16',\n",
              "   'id': {'name': 'HETU', 'value': 'NaNNA278undefined'},\n",
              "   'picture': {'large': 'https://randomuser.me/api/portraits/women/38.jpg',\n",
              "    'medium': 'https://randomuser.me/api/portraits/med/women/38.jpg',\n",
              "    'thumbnail': 'https://randomuser.me/api/portraits/thumb/women/38.jpg'},\n",
              "   'nat': 'FI'},\n",
              "  {'gender': 'male',\n",
              "   'name': {'title': 'Mr', 'first': 'Fabiano', 'last': 'da Paz'},\n",
              "   'location': {'street': {'number': 6145, 'name': 'Rua Maranhão '},\n",
              "    'city': 'Novo Hamburgo',\n",
              "    'state': 'Rio Grande do Norte',\n",
              "    'country': 'Brazil',\n",
              "    'postcode': 12311,\n",
              "    'coordinates': {'latitude': '-13.8134', 'longitude': '3.3808'},\n",
              "    'timezone': {'offset': '0:00',\n",
              "     'description': 'Western Europe Time, London, Lisbon, Casablanca'}},\n",
              "   'email': 'fabiano.dapaz@example.com',\n",
              "   'login': {'uuid': '8c0c5035-0fd5-43ba-9fc2-e4de7de937ed',\n",
              "    'username': 'whitecat894',\n",
              "    'password': 'talon',\n",
              "    'salt': 'gAWPHJFK',\n",
              "    'md5': 'a575e8538d795ed529bbc06cc840be58',\n",
              "    'sha1': '57115ae8f83653b7da16441be78829f66cb461fb',\n",
              "    'sha256': 'bc90e94a136adaad80a001a7bcbd699ca2010aeacf1c66ce7efe0678da6607d4'},\n",
              "   'dob': {'date': '1962-02-28T02:33:53.952Z', 'age': 60},\n",
              "   'registered': {'date': '2021-11-02T03:19:36.408Z', 'age': 1},\n",
              "   'phone': '(99) 6373-9082',\n",
              "   'cell': '(40) 6730-5427',\n",
              "   'id': {'name': 'CPF', 'value': '298.444.004-96'},\n",
              "   'picture': {'large': 'https://randomuser.me/api/portraits/men/44.jpg',\n",
              "    'medium': 'https://randomuser.me/api/portraits/med/men/44.jpg',\n",
              "    'thumbnail': 'https://randomuser.me/api/portraits/thumb/men/44.jpg'},\n",
              "   'nat': 'BR'},\n",
              "  {'gender': 'male',\n",
              "   'name': {'title': 'Mr', 'first': 'Wout', 'last': 'Oosterbeek'},\n",
              "   'location': {'street': {'number': 1743, 'name': 'Jan van Speyklaan'},\n",
              "    'city': 'Schalkhaar',\n",
              "    'state': 'Flevoland',\n",
              "    'country': 'Netherlands',\n",
              "    'postcode': '5259 QS',\n",
              "    'coordinates': {'latitude': '20.6486', 'longitude': '113.0983'},\n",
              "    'timezone': {'offset': '-9:00', 'description': 'Alaska'}},\n",
              "   'email': 'wout.oosterbeek@example.com',\n",
              "   'login': {'uuid': '7c99ae36-4671-44e5-af83-696e0a2526bd',\n",
              "    'username': 'silvertiger557',\n",
              "    'password': 'tech',\n",
              "    'salt': 'O3geWn5p',\n",
              "    'md5': '2e119d89e3a31dce9d6da28fe9fb5ba0',\n",
              "    'sha1': '3d66b14e8601de9a3b8af7b9e4f9fa27ef3a3830',\n",
              "    'sha256': 'dbab18aa33baeb89ee51ec901ec29958c09942d34771c4ea7b87b08750b29554'},\n",
              "   'dob': {'date': '1952-04-17T00:37:39.882Z', 'age': 70},\n",
              "   'registered': {'date': '2010-10-24T22:23:43.970Z', 'age': 12},\n",
              "   'phone': '(0607) 960226',\n",
              "   'cell': '(06) 29994087',\n",
              "   'id': {'name': 'BSN', 'value': '89397268'},\n",
              "   'picture': {'large': 'https://randomuser.me/api/portraits/men/9.jpg',\n",
              "    'medium': 'https://randomuser.me/api/portraits/med/men/9.jpg',\n",
              "    'thumbnail': 'https://randomuser.me/api/portraits/thumb/men/9.jpg'},\n",
              "   'nat': 'NL'},\n",
              "  {'gender': 'female',\n",
              "   'name': {'title': 'Ms', 'first': 'Radmila', 'last': 'Mandić'},\n",
              "   'location': {'street': {'number': 5812, 'name': 'Bajčinska'},\n",
              "    'city': 'Sremska Mitrovica',\n",
              "    'state': 'Rasina',\n",
              "    'country': 'Serbia',\n",
              "    'postcode': 98473,\n",
              "    'coordinates': {'latitude': '72.7821', 'longitude': '38.8924'},\n",
              "    'timezone': {'offset': '-7:00',\n",
              "     'description': 'Mountain Time (US & Canada)'}},\n",
              "   'email': 'radmila.mandic@example.com',\n",
              "   'login': {'uuid': 'e99e719d-b042-4e95-af6b-c03e456d3620',\n",
              "    'username': 'bluebird322',\n",
              "    'password': 'marissa',\n",
              "    'salt': 'i4C5tYkX',\n",
              "    'md5': 'a2c916114a5214ab39558b8b41e1d061',\n",
              "    'sha1': 'f4695ea83eeeaca6cc971b0d771f1b62c57c1f43',\n",
              "    'sha256': '6af3139bedd3c6b5ae7991f76f517084b1690f889d41706c6499b08ef564b224'},\n",
              "   'dob': {'date': '1975-03-31T09:14:47.698Z', 'age': 47},\n",
              "   'registered': {'date': '2013-01-18T09:52:45.956Z', 'age': 10},\n",
              "   'phone': '011-1060-222',\n",
              "   'cell': '065-8011-700',\n",
              "   'id': {'name': 'SID', 'value': '688773020'},\n",
              "   'picture': {'large': 'https://randomuser.me/api/portraits/women/38.jpg',\n",
              "    'medium': 'https://randomuser.me/api/portraits/med/women/38.jpg',\n",
              "    'thumbnail': 'https://randomuser.me/api/portraits/thumb/women/38.jpg'},\n",
              "   'nat': 'RS'},\n",
              "  {'gender': 'female',\n",
              "   'name': {'title': 'Ms', 'first': 'Beverly', 'last': 'Alvarez'},\n",
              "   'location': {'street': {'number': 5168, 'name': 'Mockingbird Hill'},\n",
              "    'city': 'Orange',\n",
              "    'state': 'Tasmania',\n",
              "    'country': 'Australia',\n",
              "    'postcode': 4900,\n",
              "    'coordinates': {'latitude': '-54.3777', 'longitude': '111.8347'},\n",
              "    'timezone': {'offset': '0:00',\n",
              "     'description': 'Western Europe Time, London, Lisbon, Casablanca'}},\n",
              "   'email': 'beverly.alvarez@example.com',\n",
              "   'login': {'uuid': '27739c69-8f11-4f45-9afe-ff00eeba8fa6',\n",
              "    'username': 'purplebear255',\n",
              "    'password': '24682468',\n",
              "    'salt': 'c93GWwJT',\n",
              "    'md5': '92158ed4235a7016c4d2f6ff88579b67',\n",
              "    'sha1': 'ef34c30452dda72ec493caf1afa176fd7bf77a87',\n",
              "    'sha256': '8b5eafef55d3ad899e520032726cca33bae77dc1b79b5dc571affc20c7442565'},\n",
              "   'dob': {'date': '1991-04-01T16:06:43.388Z', 'age': 31},\n",
              "   'registered': {'date': '2006-04-13T06:01:12.703Z', 'age': 16},\n",
              "   'phone': '05-7490-0838',\n",
              "   'cell': '0473-941-028',\n",
              "   'id': {'name': 'TFN', 'value': '101184744'},\n",
              "   'picture': {'large': 'https://randomuser.me/api/portraits/women/43.jpg',\n",
              "    'medium': 'https://randomuser.me/api/portraits/med/women/43.jpg',\n",
              "    'thumbnail': 'https://randomuser.me/api/portraits/thumb/women/43.jpg'},\n",
              "   'nat': 'AU'},\n",
              "  {'gender': 'female',\n",
              "   'name': {'title': 'Miss', 'first': 'Nina', 'last': 'Guerin'},\n",
              "   'location': {'street': {'number': 4383, 'name': \"Rue D'Abbeville\"},\n",
              "    'city': 'Toulon',\n",
              "    'state': 'Seine-Maritime',\n",
              "    'country': 'France',\n",
              "    'postcode': 68000,\n",
              "    'coordinates': {'latitude': '-81.3933', 'longitude': '32.0977'},\n",
              "    'timezone': {'offset': '+3:30', 'description': 'Tehran'}},\n",
              "   'email': 'nina.guerin@example.com',\n",
              "   'login': {'uuid': '08641b10-6a93-471e-bbbe-b8a539965201',\n",
              "    'username': 'yellowbutterfly745',\n",
              "    'password': '1981',\n",
              "    'salt': 'Kilkconn',\n",
              "    'md5': 'f1778870ec4f0ec998453b6335ec1bac',\n",
              "    'sha1': 'fede5fc1bb5eb16eb9977f8becf0feae16d0c327',\n",
              "    'sha256': '037a01eddf9f77a6d4cc94e104f265d826c02a24885041f6bb9905440febca23'},\n",
              "   'dob': {'date': '1993-09-01T04:08:32.606Z', 'age': 29},\n",
              "   'registered': {'date': '2003-07-18T22:53:32.515Z', 'age': 19},\n",
              "   'phone': '05-51-12-67-45',\n",
              "   'cell': '06-98-58-73-28',\n",
              "   'id': {'name': 'INSEE', 'value': '2930738475669 74'},\n",
              "   'picture': {'large': 'https://randomuser.me/api/portraits/women/74.jpg',\n",
              "    'medium': 'https://randomuser.me/api/portraits/med/women/74.jpg',\n",
              "    'thumbnail': 'https://randomuser.me/api/portraits/thumb/women/74.jpg'},\n",
              "   'nat': 'FR'},\n",
              "  {'gender': 'female',\n",
              "   'name': {'title': 'Mrs', 'first': 'Alicia', 'last': 'Riley'},\n",
              "   'location': {'street': {'number': 7684, 'name': 'Timber Wolf Trail'},\n",
              "    'city': 'Centennial',\n",
              "    'state': 'Illinois',\n",
              "    'country': 'United States',\n",
              "    'postcode': 34881,\n",
              "    'coordinates': {'latitude': '42.0722', 'longitude': '126.0194'},\n",
              "    'timezone': {'offset': '-4:00',\n",
              "     'description': 'Atlantic Time (Canada), Caracas, La Paz'}},\n",
              "   'email': 'alicia.riley@example.com',\n",
              "   'login': {'uuid': 'c589a4e0-f059-44d0-b688-1a4c36a662ea',\n",
              "    'username': 'greenduck989',\n",
              "    'password': 'magic',\n",
              "    'salt': 'YwadCGJG',\n",
              "    'md5': 'c67a449e63b5066cff350197a98c0dcd',\n",
              "    'sha1': '2b87c777544a989449fba5e73d76044d42ea289d',\n",
              "    'sha256': 'e14d432a6b6aae7e6c8526b65377ad93592620fd84db4b88d5b8205e18c50645'},\n",
              "   'dob': {'date': '1978-02-22T11:27:09.732Z', 'age': 45},\n",
              "   'registered': {'date': '2006-11-27T16:37:32.403Z', 'age': 16},\n",
              "   'phone': '(579) 483-2381',\n",
              "   'cell': '(466) 482-3710',\n",
              "   'id': {'name': 'SSN', 'value': '776-11-5098'},\n",
              "   'picture': {'large': 'https://randomuser.me/api/portraits/women/50.jpg',\n",
              "    'medium': 'https://randomuser.me/api/portraits/med/women/50.jpg',\n",
              "    'thumbnail': 'https://randomuser.me/api/portraits/thumb/women/50.jpg'},\n",
              "   'nat': 'US'},\n",
              "  {'gender': 'male',\n",
              "   'name': {'title': 'Mr', 'first': 'Porfírio', 'last': 'Nunes'},\n",
              "   'location': {'street': {'number': 2345, 'name': 'Rua Alagoas '},\n",
              "    'city': 'Chapecó',\n",
              "    'state': 'Distrito Federal',\n",
              "    'country': 'Brazil',\n",
              "    'postcode': 15042,\n",
              "    'coordinates': {'latitude': '55.3834', 'longitude': '-142.4919'},\n",
              "    'timezone': {'offset': '-9:00', 'description': 'Alaska'}},\n",
              "   'email': 'porfirio.nunes@example.com',\n",
              "   'login': {'uuid': '00626993-a4bd-4125-8796-9b016ca8989e',\n",
              "    'username': 'smallladybug730',\n",
              "    'password': '1971',\n",
              "    'salt': 'JtXRnrlv',\n",
              "    'md5': 'af3c2cf50bac19b20eecd4c8cf49a492',\n",
              "    'sha1': 'c3c4a8cf7ac8bffed65fcb2362d6e7bfb31b93b9',\n",
              "    'sha256': '78d3565895fad0eeafe69b5e2746167bb293832d266da6700c17c3f4110f70ec'},\n",
              "   'dob': {'date': '1953-06-27T08:25:57.705Z', 'age': 69},\n",
              "   'registered': {'date': '2004-04-17T04:57:33.250Z', 'age': 18},\n",
              "   'phone': '(18) 7703-9723',\n",
              "   'cell': '(61) 5115-7566',\n",
              "   'id': {'name': 'CPF', 'value': '374.968.774-81'},\n",
              "   'picture': {'large': 'https://randomuser.me/api/portraits/men/78.jpg',\n",
              "    'medium': 'https://randomuser.me/api/portraits/med/men/78.jpg',\n",
              "    'thumbnail': 'https://randomuser.me/api/portraits/thumb/men/78.jpg'},\n",
              "   'nat': 'BR'},\n",
              "  {'gender': 'male',\n",
              "   'name': {'title': 'Mr', 'first': 'Tristan', 'last': 'Novak'},\n",
              "   'location': {'street': {'number': 9509, 'name': 'Maple Ave'},\n",
              "    'city': 'Glenwood',\n",
              "    'state': 'Québec',\n",
              "    'country': 'Canada',\n",
              "    'postcode': 'R8Q 5J7',\n",
              "    'coordinates': {'latitude': '81.6174', 'longitude': '-130.9409'},\n",
              "    'timezone': {'offset': '-12:00', 'description': 'Eniwetok, Kwajalein'}},\n",
              "   'email': 'tristan.novak@example.com',\n",
              "   'login': {'uuid': 'e4f7eea5-b6f1-4d36-99b5-0863b4fe7761',\n",
              "    'username': 'blueduck979',\n",
              "    'password': 'seadog',\n",
              "    'salt': 'ONmcFgRV',\n",
              "    'md5': '261b1e6c73df30abe479822aef6243e4',\n",
              "    'sha1': '96408f7d1a4091864325b2d7cc35913f5645e5c4',\n",
              "    'sha256': '6c94f45f5e09b4a8e2dc94442815993a436164509ed33d5e796e6bc5e673c61b'},\n",
              "   'dob': {'date': '1999-09-17T09:00:48.559Z', 'age': 23},\n",
              "   'registered': {'date': '2012-08-06T22:10:24.022Z', 'age': 10},\n",
              "   'phone': 'W08 H25-3122',\n",
              "   'cell': 'A74 U30-6941',\n",
              "   'id': {'name': 'SIN', 'value': '685468399'},\n",
              "   'picture': {'large': 'https://randomuser.me/api/portraits/men/47.jpg',\n",
              "    'medium': 'https://randomuser.me/api/portraits/med/men/47.jpg',\n",
              "    'thumbnail': 'https://randomuser.me/api/portraits/thumb/men/47.jpg'},\n",
              "   'nat': 'CA'},\n",
              "  {'gender': 'male',\n",
              "   'name': {'title': 'Mr', 'first': 'Malthe', 'last': 'Hansen'},\n",
              "   'location': {'street': {'number': 7508, 'name': 'Hasselvej'},\n",
              "    'city': 'Juelsminde',\n",
              "    'state': 'Danmark',\n",
              "    'country': 'Denmark',\n",
              "    'postcode': 54816,\n",
              "    'coordinates': {'latitude': '-76.5831', 'longitude': '-8.0513'},\n",
              "    'timezone': {'offset': '-6:00',\n",
              "     'description': 'Central Time (US & Canada), Mexico City'}},\n",
              "   'email': 'malthe.hansen@example.com',\n",
              "   'login': {'uuid': 'eaa3f812-db25-4ae1-9c3e-3ece82612497',\n",
              "    'username': 'organicwolf214',\n",
              "    'password': 'reggie',\n",
              "    'salt': 'gY56VTdA',\n",
              "    'md5': 'a3d9c6edd8389bf1bc69db5861096346',\n",
              "    'sha1': '9d72ab7ceeb1685d3af17f482e56a5e6806c3eef',\n",
              "    'sha256': '37918bc9b57603e9419a057628ac4102a9aeca64091ef7f6816ea7f0aa3bc8a1'},\n",
              "   'dob': {'date': '1954-03-24T06:37:02.114Z', 'age': 68},\n",
              "   'registered': {'date': '2010-04-14T19:34:31.889Z', 'age': 12},\n",
              "   'phone': '70452533',\n",
              "   'cell': '90139136',\n",
              "   'id': {'name': 'CPR', 'value': '240354-0997'},\n",
              "   'picture': {'large': 'https://randomuser.me/api/portraits/men/87.jpg',\n",
              "    'medium': 'https://randomuser.me/api/portraits/med/men/87.jpg',\n",
              "    'thumbnail': 'https://randomuser.me/api/portraits/thumb/men/87.jpg'},\n",
              "   'nat': 'DK'},\n",
              "  {'gender': 'male',\n",
              "   'name': {'title': 'Mr', 'first': 'David', 'last': 'Novak'},\n",
              "   'location': {'street': {'number': 7774, 'name': 'Coastal Highway'},\n",
              "    'city': 'Notre Dame de Lourdes',\n",
              "    'state': 'Québec',\n",
              "    'country': 'Canada',\n",
              "    'postcode': 'E8P 6X4',\n",
              "    'coordinates': {'latitude': '-2.4728', 'longitude': '-111.6336'},\n",
              "    'timezone': {'offset': '-1:00',\n",
              "     'description': 'Azores, Cape Verde Islands'}},\n",
              "   'email': 'david.novak@example.com',\n",
              "   'login': {'uuid': '88fa0cfa-143a-4b4e-ae71-dcdf6fb4be84',\n",
              "    'username': 'silverlion227',\n",
              "    'password': 'aptiva',\n",
              "    'salt': '87A1cgIx',\n",
              "    'md5': '7c82507e2201d347e6fa69f133f875f9',\n",
              "    'sha1': 'a549e15fae44c5a3424a3c2485ce928a34d74948',\n",
              "    'sha256': '29d94916ca8bde86c090debdd8968aaddda086bd1908136f314baf242ad8f9c4'},\n",
              "   'dob': {'date': '1964-09-29T05:50:11.760Z', 'age': 58},\n",
              "   'registered': {'date': '2013-08-24T16:16:22.772Z', 'age': 9},\n",
              "   'phone': 'G50 L34-5962',\n",
              "   'cell': 'G43 T55-4626',\n",
              "   'id': {'name': 'SIN', 'value': '441949765'},\n",
              "   'picture': {'large': 'https://randomuser.me/api/portraits/men/62.jpg',\n",
              "    'medium': 'https://randomuser.me/api/portraits/med/men/62.jpg',\n",
              "    'thumbnail': 'https://randomuser.me/api/portraits/thumb/men/62.jpg'},\n",
              "   'nat': 'CA'},\n",
              "  {'gender': 'male',\n",
              "   'name': {'title': 'Mr', 'first': 'Yarovit', 'last': 'Teplickiy'},\n",
              "   'location': {'street': {'number': 2170, 'name': 'Olega Onikiienka'},\n",
              "    'city': 'Dublyani',\n",
              "    'state': 'Lvivska',\n",
              "    'country': 'Ukraine',\n",
              "    'postcode': 76491,\n",
              "    'coordinates': {'latitude': '11.5013', 'longitude': '166.4462'},\n",
              "    'timezone': {'offset': '+4:00',\n",
              "     'description': 'Abu Dhabi, Muscat, Baku, Tbilisi'}},\n",
              "   'email': 'yarovit.teplickiy@example.com',\n",
              "   'login': {'uuid': '9bdcb6a2-90ca-4f2e-be5d-2c9203886332',\n",
              "    'username': 'bigmeercat618',\n",
              "    'password': 'stealth',\n",
              "    'salt': 'IfaS64GS',\n",
              "    'md5': '20367ed17ec22f2e153259a2144bed75',\n",
              "    'sha1': '2eca5cd747d8acb37b1f79b695f539f04e70cbf6',\n",
              "    'sha256': '80a18fb1f9e708c7a34e08e6567439aa9e01235b70bf25c90799aabe946b3388'},\n",
              "   'dob': {'date': '1980-03-24T14:31:58.073Z', 'age': 42},\n",
              "   'registered': {'date': '2003-09-18T03:08:42.333Z', 'age': 19},\n",
              "   'phone': '(067) P08-1424',\n",
              "   'cell': '(068) I20-8177',\n",
              "   'id': {'name': '', 'value': None},\n",
              "   'picture': {'large': 'https://randomuser.me/api/portraits/men/25.jpg',\n",
              "    'medium': 'https://randomuser.me/api/portraits/med/men/25.jpg',\n",
              "    'thumbnail': 'https://randomuser.me/api/portraits/thumb/men/25.jpg'},\n",
              "   'nat': 'UA'},\n",
              "  {'gender': 'male',\n",
              "   'name': {'title': 'Mr', 'first': 'Todd', 'last': 'Brown'},\n",
              "   'location': {'street': {'number': 6359, 'name': 'Cork Street'},\n",
              "    'city': 'Ardee',\n",
              "    'state': 'Westmeath',\n",
              "    'country': 'Ireland',\n",
              "    'postcode': 67585,\n",
              "    'coordinates': {'latitude': '-87.9701', 'longitude': '47.9326'},\n",
              "    'timezone': {'offset': '-1:00',\n",
              "     'description': 'Azores, Cape Verde Islands'}},\n",
              "   'email': 'todd.brown@example.com',\n",
              "   'login': {'uuid': '04348c12-2b10-49dd-8c50-300f10b788aa',\n",
              "    'username': 'smallmouse135',\n",
              "    'password': 'hans',\n",
              "    'salt': '3Lp6zeHp',\n",
              "    'md5': '1059bcdc73033b03f3ef895f4b1373fb',\n",
              "    'sha1': '655e9a48dc522958fd6574b7a8f773ace80cbb56',\n",
              "    'sha256': '9551de75761e39683fff4b65e3cbb1d28fbcc3952632042f114923fd8af29cae'},\n",
              "   'dob': {'date': '1977-01-07T08:28:09.120Z', 'age': 46},\n",
              "   'registered': {'date': '2002-12-25T01:19:40.448Z', 'age': 20},\n",
              "   'phone': '021-365-9098',\n",
              "   'cell': '081-835-8860',\n",
              "   'id': {'name': 'PPS', 'value': '1773038T'},\n",
              "   'picture': {'large': 'https://randomuser.me/api/portraits/men/16.jpg',\n",
              "    'medium': 'https://randomuser.me/api/portraits/med/men/16.jpg',\n",
              "    'thumbnail': 'https://randomuser.me/api/portraits/thumb/men/16.jpg'},\n",
              "   'nat': 'IE'},\n",
              "  {'gender': 'female',\n",
              "   'name': {'title': 'Ms', 'first': 'María Luisa', 'last': 'Luna'},\n",
              "   'location': {'street': {'number': 3421, 'name': 'Pasaje Frías'},\n",
              "    'city': 'Guanajuato',\n",
              "    'state': 'Guanajuato',\n",
              "    'country': 'Mexico',\n",
              "    'postcode': 69151,\n",
              "    'coordinates': {'latitude': '78.1292', 'longitude': '-167.3163'},\n",
              "    'timezone': {'offset': '-5:00',\n",
              "     'description': 'Eastern Time (US & Canada), Bogota, Lima'}},\n",
              "   'email': 'marialuisa.luna@example.com',\n",
              "   'login': {'uuid': 'fe8c59b0-902d-4378-87f1-0e5dc4f7303c',\n",
              "    'username': 'silverbear831',\n",
              "    'password': 'katherin',\n",
              "    'salt': 'HsN4WBkq',\n",
              "    'md5': 'd48acc9cbf27d229511568a6cd79d042',\n",
              "    'sha1': 'b3d45b3febd9ee022f5de79ff99aed0480156bc6',\n",
              "    'sha256': '3f4cbfc15149866ba9dd7f4cf86396b6c61215e10d15c60f169b3ba6181aae77'},\n",
              "   'dob': {'date': '1951-05-04T17:49:32.354Z', 'age': 71},\n",
              "   'registered': {'date': '2019-01-29T16:36:17.479Z', 'age': 4},\n",
              "   'phone': '(673) 393 7939',\n",
              "   'cell': '(630) 195 0970',\n",
              "   'id': {'name': 'NSS', 'value': '14 04 43 8335 2'},\n",
              "   'picture': {'large': 'https://randomuser.me/api/portraits/women/70.jpg',\n",
              "    'medium': 'https://randomuser.me/api/portraits/med/women/70.jpg',\n",
              "    'thumbnail': 'https://randomuser.me/api/portraits/thumb/women/70.jpg'},\n",
              "   'nat': 'MX'},\n",
              "  {'gender': 'female',\n",
              "   'name': {'title': 'Ms', 'first': 'Jaqueline', 'last': 'Quintanilla'},\n",
              "   'location': {'street': {'number': 9653, 'name': 'Corredor Tlaxcala'},\n",
              "    'city': 'Angangueo',\n",
              "    'state': 'Chihuahua',\n",
              "    'country': 'Mexico',\n",
              "    'postcode': 25128,\n",
              "    'coordinates': {'latitude': '-68.9512', 'longitude': '-167.7169'},\n",
              "    'timezone': {'offset': '+4:30', 'description': 'Kabul'}},\n",
              "   'email': 'jaqueline.quintanilla@example.com',\n",
              "   'login': {'uuid': '23c6c677-6ed6-4297-beda-922203330f1b',\n",
              "    'username': 'greenmouse121',\n",
              "    'password': 'govols',\n",
              "    'salt': '9QsyEQRe',\n",
              "    'md5': '23612c0df39f90915c6f585a2dceef0c',\n",
              "    'sha1': '1a000e114878431c0d0383e84229ab2dd8d126ab',\n",
              "    'sha256': '01b236a041524aa6902c8fdbae169de999de22b8fd931d6bf8b2bd092dd3bd6c'},\n",
              "   'dob': {'date': '1945-09-05T14:54:46.101Z', 'age': 77},\n",
              "   'registered': {'date': '2018-06-30T14:14:54.973Z', 'age': 4},\n",
              "   'phone': '(653) 654 5458',\n",
              "   'cell': '(692) 480 4044',\n",
              "   'id': {'name': 'NSS', 'value': '48 33 41 9337 6'},\n",
              "   'picture': {'large': 'https://randomuser.me/api/portraits/women/43.jpg',\n",
              "    'medium': 'https://randomuser.me/api/portraits/med/women/43.jpg',\n",
              "    'thumbnail': 'https://randomuser.me/api/portraits/thumb/women/43.jpg'},\n",
              "   'nat': 'MX'},\n",
              "  {'gender': 'female',\n",
              "   'name': {'title': 'Miss', 'first': 'Viivi', 'last': 'Makinen'},\n",
              "   'location': {'street': {'number': 5711, 'name': 'Rautatienkatu'},\n",
              "    'city': 'Kalajoki',\n",
              "    'state': 'Central Ostrobothnia',\n",
              "    'country': 'Finland',\n",
              "    'postcode': 75066,\n",
              "    'coordinates': {'latitude': '65.4553', 'longitude': '-156.3186'},\n",
              "    'timezone': {'offset': '+5:30',\n",
              "     'description': 'Bombay, Calcutta, Madras, New Delhi'}},\n",
              "   'email': 'viivi.makinen@example.com',\n",
              "   'login': {'uuid': 'cf9224ab-79fd-48ec-83d6-d6b8aaffb0c8',\n",
              "    'username': 'redpanda705',\n",
              "    'password': 'f00tball',\n",
              "    'salt': 'RfdAI4Rb',\n",
              "    'md5': 'fc2b6b117dce21d5253f4309bc40a482',\n",
              "    'sha1': '4abcc185a6ca9e2d3c91949679f7cef0802cb0b3',\n",
              "    'sha256': 'f6f1f128f1ff1e292406e9ac9f9862ba31a9519db658a25e5389fe6fd71f0fcf'},\n",
              "   'dob': {'date': '1954-08-27T22:15:25.151Z', 'age': 68},\n",
              "   'registered': {'date': '2021-12-21T23:49:14.451Z', 'age': 1},\n",
              "   'phone': '07-155-289',\n",
              "   'cell': '047-648-42-20',\n",
              "   'id': {'name': 'HETU', 'value': 'NaNNA090undefined'},\n",
              "   'picture': {'large': 'https://randomuser.me/api/portraits/women/26.jpg',\n",
              "    'medium': 'https://randomuser.me/api/portraits/med/women/26.jpg',\n",
              "    'thumbnail': 'https://randomuser.me/api/portraits/thumb/women/26.jpg'},\n",
              "   'nat': 'FI'},\n",
              "  {'gender': 'female',\n",
              "   'name': {'title': 'Miss', 'first': 'Norma', 'last': 'Vergara'},\n",
              "   'location': {'street': {'number': 9231, 'name': 'Andador Sur Urbina'},\n",
              "    'city': 'Buaysiacobe',\n",
              "    'state': 'Ciudad de Mexico',\n",
              "    'country': 'Mexico',\n",
              "    'postcode': 95446,\n",
              "    'coordinates': {'latitude': '-41.6698', 'longitude': '96.6224'},\n",
              "    'timezone': {'offset': '+10:00',\n",
              "     'description': 'Eastern Australia, Guam, Vladivostok'}},\n",
              "   'email': 'norma.vergara@example.com',\n",
              "   'login': {'uuid': 'd244d500-7898-4953-b938-6bf5d635d14a',\n",
              "    'username': 'ticklishdog265',\n",
              "    'password': 'mellon',\n",
              "    'salt': '5qKZ0Jhn',\n",
              "    'md5': '1110642a606c3e95ae7de3258a1b5e12',\n",
              "    'sha1': '9c8debc439b0c31ff6f1879e30af5cf676ade61c',\n",
              "    'sha256': '5408a10b403e4703a003999a73a1fe977c076b390b18f08b9a3f48052d8f71cd'},\n",
              "   'dob': {'date': '1968-01-24T00:43:36.187Z', 'age': 55},\n",
              "   'registered': {'date': '2017-01-09T09:31:49.997Z', 'age': 6},\n",
              "   'phone': '(688) 551 4438',\n",
              "   'cell': '(657) 828 3596',\n",
              "   'id': {'name': 'NSS', 'value': '51 38 79 8240 0'},\n",
              "   'picture': {'large': 'https://randomuser.me/api/portraits/women/9.jpg',\n",
              "    'medium': 'https://randomuser.me/api/portraits/med/women/9.jpg',\n",
              "    'thumbnail': 'https://randomuser.me/api/portraits/thumb/women/9.jpg'},\n",
              "   'nat': 'MX'},\n",
              "  {'gender': 'male',\n",
              "   'name': {'title': 'Mr', 'first': 'Jörn', 'last': 'Pech'},\n",
              "   'location': {'street': {'number': 4094, 'name': 'Uhlandstraße'},\n",
              "    'city': 'Schöneck/Vogtl.',\n",
              "    'state': 'Brandenburg',\n",
              "    'country': 'Germany',\n",
              "    'postcode': 83420,\n",
              "    'coordinates': {'latitude': '21.1712', 'longitude': '-89.4018'},\n",
              "    'timezone': {'offset': '-3:30', 'description': 'Newfoundland'}},\n",
              "   'email': 'jorn.pech@example.com',\n",
              "   'login': {'uuid': 'd45b20cc-a228-40fe-96cb-13134094cb34',\n",
              "    'username': 'crazyrabbit411',\n",
              "    'password': 'barry1',\n",
              "    'salt': 'tInBycJl',\n",
              "    'md5': '2fc25bac80d9f8bfb6934d3975bc2ca0',\n",
              "    'sha1': '1e454d886cb78dce500d6068290b71f55c90d5f2',\n",
              "    'sha256': 'e21a3092ef0006fbded9bbb7894c5d53b19e61d1db1fd272f716f0c27df481c2'},\n",
              "   'dob': {'date': '1995-10-23T09:33:42.166Z', 'age': 27},\n",
              "   'registered': {'date': '2016-12-30T11:36:45.114Z', 'age': 6},\n",
              "   'phone': '0145-9100820',\n",
              "   'cell': '0177-3856568',\n",
              "   'id': {'name': 'SVNR', 'value': '61 231095 P 495'},\n",
              "   'picture': {'large': 'https://randomuser.me/api/portraits/men/19.jpg',\n",
              "    'medium': 'https://randomuser.me/api/portraits/med/men/19.jpg',\n",
              "    'thumbnail': 'https://randomuser.me/api/portraits/thumb/men/19.jpg'},\n",
              "   'nat': 'DE'},\n",
              "  {'gender': 'male',\n",
              "   'name': {'title': 'Mr', 'first': 'Joan', 'last': 'Prieto'},\n",
              "   'location': {'street': {'number': 8848, 'name': 'Calle de Arturo Soria'},\n",
              "    'city': 'Alcalá de Henares',\n",
              "    'state': 'Galicia',\n",
              "    'country': 'Spain',\n",
              "    'postcode': 79587,\n",
              "    'coordinates': {'latitude': '-55.8251', 'longitude': '-55.9417'},\n",
              "    'timezone': {'offset': '+4:00',\n",
              "     'description': 'Abu Dhabi, Muscat, Baku, Tbilisi'}},\n",
              "   'email': 'joan.prieto@example.com',\n",
              "   'login': {'uuid': '0d7b21c3-dcb1-46ec-b5a2-8329b9aa5b7e',\n",
              "    'username': 'silverzebra695',\n",
              "    'password': 'goku',\n",
              "    'salt': 'ZLAmfjS0',\n",
              "    'md5': 'eedd73826bc2b54fe2d11a5520c5944b',\n",
              "    'sha1': 'e724c8480f7640f41621a61fadf4fc548d7c763a',\n",
              "    'sha256': 'd648c541298a301b1d81c7218010d7012f2488468dcc5da94a70f9940eebcf53'},\n",
              "   'dob': {'date': '1992-09-01T21:35:05.077Z', 'age': 30},\n",
              "   'registered': {'date': '2003-10-31T15:47:23.595Z', 'age': 19},\n",
              "   'phone': '991-146-466',\n",
              "   'cell': '660-807-094',\n",
              "   'id': {'name': 'DNI', 'value': '10433975-O'},\n",
              "   'picture': {'large': 'https://randomuser.me/api/portraits/men/73.jpg',\n",
              "    'medium': 'https://randomuser.me/api/portraits/med/men/73.jpg',\n",
              "    'thumbnail': 'https://randomuser.me/api/portraits/thumb/men/73.jpg'},\n",
              "   'nat': 'ES'},\n",
              "  {'gender': 'female',\n",
              "   'name': {'title': 'Ms', 'first': 'Mae', 'last': 'Henry'},\n",
              "   'location': {'street': {'number': 4103, 'name': 'Mockingbird Ln'},\n",
              "    'city': 'Centennial',\n",
              "    'state': 'South Carolina',\n",
              "    'country': 'United States',\n",
              "    'postcode': 87355,\n",
              "    'coordinates': {'latitude': '35.2541', 'longitude': '128.1754'},\n",
              "    'timezone': {'offset': '-12:00', 'description': 'Eniwetok, Kwajalein'}},\n",
              "   'email': 'mae.henry@example.com',\n",
              "   'login': {'uuid': 'cb7d211e-b0fa-45c3-aa30-81bcc33ff87d',\n",
              "    'username': 'blueostrich205',\n",
              "    'password': 'wolfpac',\n",
              "    'salt': '9LfF8Kza',\n",
              "    'md5': '1178464eb96529664103a57256175bae',\n",
              "    'sha1': 'b72d106ae6064839ecc4cd404d3bfd05891d0b55',\n",
              "    'sha256': 'dd0d2d872fe77f2721cafaf4439189733e9201ffda6059cde4ce9e9a52e024c8'},\n",
              "   'dob': {'date': '2001-05-12T15:04:32.115Z', 'age': 21},\n",
              "   'registered': {'date': '2006-05-08T01:41:15.375Z', 'age': 16},\n",
              "   'phone': '(528) 346-1354',\n",
              "   'cell': '(364) 784-6473',\n",
              "   'id': {'name': 'SSN', 'value': '406-87-4057'},\n",
              "   'picture': {'large': 'https://randomuser.me/api/portraits/women/65.jpg',\n",
              "    'medium': 'https://randomuser.me/api/portraits/med/women/65.jpg',\n",
              "    'thumbnail': 'https://randomuser.me/api/portraits/thumb/women/65.jpg'},\n",
              "   'nat': 'US'},\n",
              "  {'gender': 'male',\n",
              "   'name': {'title': 'Mr', 'first': 'Lohit', 'last': 'Nagane'},\n",
              "   'location': {'street': {'number': 812, 'name': 'Janpath'},\n",
              "    'city': 'Gorakhpur',\n",
              "    'state': 'Odisha',\n",
              "    'country': 'India',\n",
              "    'postcode': 94505,\n",
              "    'coordinates': {'latitude': '-84.6989', 'longitude': '109.7734'},\n",
              "    'timezone': {'offset': '+7:00', 'description': 'Bangkok, Hanoi, Jakarta'}},\n",
              "   'email': 'lohit.nagane@example.com',\n",
              "   'login': {'uuid': '43952340-c7c6-40ae-b254-4659e9e7d834',\n",
              "    'username': 'organicmeercat160',\n",
              "    'password': 'reading',\n",
              "    'salt': '6cXbKZQr',\n",
              "    'md5': '7501a98d1d24f2aa0e6ef926ac0d3415',\n",
              "    'sha1': '62008bd7bbbf209408e808ee0950cd606edbd665',\n",
              "    'sha256': 'e6c5086c9ee57a3c33e1f55b13e86cbca7c738cc2a7aa8dffc353e662000ecde'},\n",
              "   'dob': {'date': '1968-08-22T05:19:58.872Z', 'age': 54},\n",
              "   'registered': {'date': '2002-09-17T04:33:07.475Z', 'age': 20},\n",
              "   'phone': '9833632682',\n",
              "   'cell': '9574189876',\n",
              "   'id': {'name': 'UIDAI', 'value': '808431683238'},\n",
              "   'picture': {'large': 'https://randomuser.me/api/portraits/men/18.jpg',\n",
              "    'medium': 'https://randomuser.me/api/portraits/med/men/18.jpg',\n",
              "    'thumbnail': 'https://randomuser.me/api/portraits/thumb/men/18.jpg'},\n",
              "   'nat': 'IN'},\n",
              "  {'gender': 'female',\n",
              "   'name': {'title': 'Ms', 'first': 'Carmen', 'last': 'Sánchez'},\n",
              "   'location': {'street': {'number': 3513, 'name': 'Calle Mota'},\n",
              "    'city': 'Fuenlabrada',\n",
              "    'state': 'Ceuta',\n",
              "    'country': 'Spain',\n",
              "    'postcode': 95421,\n",
              "    'coordinates': {'latitude': '26.8540', 'longitude': '-172.6523'},\n",
              "    'timezone': {'offset': '0:00',\n",
              "     'description': 'Western Europe Time, London, Lisbon, Casablanca'}},\n",
              "   'email': 'carmen.sanchez@example.com',\n",
              "   'login': {'uuid': '5c57bde9-72cc-4df6-94b3-dfc6fe98674f',\n",
              "    'username': 'beautifulleopard708',\n",
              "    'password': 'ranger1',\n",
              "    'salt': 'YepQViNk',\n",
              "    'md5': '25dcd06fa64f20d451911ffbe75ab63a',\n",
              "    'sha1': 'b17a0d56994cc2e5ec338833840de09ce5cd46cb',\n",
              "    'sha256': '69dbfe4245b3960b53528d44ec1e8c92ea949ca5ecfe6da725aec7af42913dbe'},\n",
              "   'dob': {'date': '1971-05-25T07:27:45.934Z', 'age': 51},\n",
              "   'registered': {'date': '2003-04-21T17:07:01.538Z', 'age': 19},\n",
              "   'phone': '985-375-890',\n",
              "   'cell': '651-040-861',\n",
              "   'id': {'name': 'DNI', 'value': '41804893-W'},\n",
              "   'picture': {'large': 'https://randomuser.me/api/portraits/women/55.jpg',\n",
              "    'medium': 'https://randomuser.me/api/portraits/med/women/55.jpg',\n",
              "    'thumbnail': 'https://randomuser.me/api/portraits/thumb/women/55.jpg'},\n",
              "   'nat': 'ES'},\n",
              "  {'gender': 'female',\n",
              "   'name': {'title': 'Ms', 'first': 'Tanya', 'last': 'Wallace'},\n",
              "   'location': {'street': {'number': 9276, 'name': 'Hogan St'},\n",
              "    'city': 'Dubbo',\n",
              "    'state': 'New South Wales',\n",
              "    'country': 'Australia',\n",
              "    'postcode': 4847,\n",
              "    'coordinates': {'latitude': '6.6594', 'longitude': '45.0041'},\n",
              "    'timezone': {'offset': '+3:00',\n",
              "     'description': 'Baghdad, Riyadh, Moscow, St. Petersburg'}},\n",
              "   'email': 'tanya.wallace@example.com',\n",
              "   'login': {'uuid': '9c1a74fd-d3b4-4a89-892f-3760a665bfc7',\n",
              "    'username': 'brownduck669',\n",
              "    'password': 'cafc91',\n",
              "    'salt': '59NFSuN4',\n",
              "    'md5': '3976bc931f755bbbd73c5d7e3ab4238d',\n",
              "    'sha1': '9493652ad3e058e1b44e2510bc24c9e049169ad8',\n",
              "    'sha256': '6571c60a07cc72506315cb10b403e5b9a47b7ec8a72658d789ec257747dedef5'},\n",
              "   'dob': {'date': '1968-01-08T19:57:48.735Z', 'age': 55},\n",
              "   'registered': {'date': '2014-08-31T18:35:22.061Z', 'age': 8},\n",
              "   'phone': '09-3546-8779',\n",
              "   'cell': '0457-340-842',\n",
              "   'id': {'name': 'TFN', 'value': '899610033'},\n",
              "   'picture': {'large': 'https://randomuser.me/api/portraits/women/63.jpg',\n",
              "    'medium': 'https://randomuser.me/api/portraits/med/women/63.jpg',\n",
              "    'thumbnail': 'https://randomuser.me/api/portraits/thumb/women/63.jpg'},\n",
              "   'nat': 'AU'},\n",
              "  {'gender': 'male',\n",
              "   'name': {'title': 'Mr', 'first': 'Jairo', 'last': 'Díaz'},\n",
              "   'location': {'street': {'number': 4363, 'name': 'Prolongación Sur Jimínez'},\n",
              "    'city': 'Urique',\n",
              "    'state': 'Tamaulipas',\n",
              "    'country': 'Mexico',\n",
              "    'postcode': 40480,\n",
              "    'coordinates': {'latitude': '82.5787', 'longitude': '38.5453'},\n",
              "    'timezone': {'offset': '-2:00', 'description': 'Mid-Atlantic'}},\n",
              "   'email': 'jairo.diaz@example.com',\n",
              "   'login': {'uuid': '75477da9-009e-4fe8-9397-2c06a411721b',\n",
              "    'username': 'purpleleopard500',\n",
              "    'password': 'w4g8at',\n",
              "    'salt': 'tXsidaKX',\n",
              "    'md5': '5c59baa13b729fd03ae47b9b0e2b6e0e',\n",
              "    'sha1': '97c07a8ca5c886cfff15b6dc04c3bbc512b5a309',\n",
              "    'sha256': 'fcb48fd12324ea76c80e26e0d7f50f60f0f502435591b6632f42230af0eb869c'},\n",
              "   'dob': {'date': '1954-09-25T05:46:04.487Z', 'age': 68},\n",
              "   'registered': {'date': '2009-07-06T17:34:02.149Z', 'age': 13},\n",
              "   'phone': '(697) 245 2539',\n",
              "   'cell': '(698) 441 6187',\n",
              "   'id': {'name': 'NSS', 'value': '19 75 57 9549 5'},\n",
              "   'picture': {'large': 'https://randomuser.me/api/portraits/men/84.jpg',\n",
              "    'medium': 'https://randomuser.me/api/portraits/med/men/84.jpg',\n",
              "    'thumbnail': 'https://randomuser.me/api/portraits/thumb/men/84.jpg'},\n",
              "   'nat': 'MX'},\n",
              "  {'gender': 'male',\n",
              "   'name': {'title': 'Mr', 'first': 'Lachlan', 'last': 'Jones'},\n",
              "   'location': {'street': {'number': 3493, 'name': 'Te Irirangi Drive'},\n",
              "    'city': 'Wellington',\n",
              "    'state': 'Taranaki',\n",
              "    'country': 'New Zealand',\n",
              "    'postcode': 95633,\n",
              "    'coordinates': {'latitude': '-74.1872', 'longitude': '81.6396'},\n",
              "    'timezone': {'offset': '+9:30', 'description': 'Adelaide, Darwin'}},\n",
              "   'email': 'lachlan.jones@example.com',\n",
              "   'login': {'uuid': '4d3cd124-00d0-4bbf-97ad-7097b00e519e',\n",
              "    'username': 'ticklishgorilla188',\n",
              "    'password': '1114',\n",
              "    'salt': 'nwTMECCs',\n",
              "    'md5': '6412af8c9925e9bdbf115f1e848d7575',\n",
              "    'sha1': '0cad9825a7366e1daa0519f2f5a5758c495987bc',\n",
              "    'sha256': '26075e7261951aa9c2c130bfa503f6b4cf7d09b5dc8b51c13287e938bb3d15c1'},\n",
              "   'dob': {'date': '1972-11-03T15:51:59.984Z', 'age': 50},\n",
              "   'registered': {'date': '2013-02-20T00:38:47.056Z', 'age': 10},\n",
              "   'phone': '(402)-992-9968',\n",
              "   'cell': '(726)-612-5813',\n",
              "   'id': {'name': '', 'value': None},\n",
              "   'picture': {'large': 'https://randomuser.me/api/portraits/men/66.jpg',\n",
              "    'medium': 'https://randomuser.me/api/portraits/med/men/66.jpg',\n",
              "    'thumbnail': 'https://randomuser.me/api/portraits/thumb/men/66.jpg'},\n",
              "   'nat': 'NZ'},\n",
              "  {'gender': 'male',\n",
              "   'name': {'title': 'Mr', 'first': 'Oliver', 'last': 'Koskinen'},\n",
              "   'location': {'street': {'number': 6981, 'name': 'Korkeavuorenkatu'},\n",
              "    'city': 'Jämsä',\n",
              "    'state': 'Southern Savonia',\n",
              "    'country': 'Finland',\n",
              "    'postcode': 50954,\n",
              "    'coordinates': {'latitude': '0.7045', 'longitude': '-11.2067'},\n",
              "    'timezone': {'offset': '+4:30', 'description': 'Kabul'}},\n",
              "   'email': 'oliver.koskinen@example.com',\n",
              "   'login': {'uuid': 'ad5ffada-85c4-4382-bc45-271deecb06b9',\n",
              "    'username': 'beautifulmouse354',\n",
              "    'password': 'best',\n",
              "    'salt': 'QKgmGLd1',\n",
              "    'md5': 'd9192849a3bd23c1236bf7c2c2d3745f',\n",
              "    'sha1': '825ca5f1044b59d101ae31cbc81bd60d4e22acbd',\n",
              "    'sha256': 'e0adff1b7203a713bcfd8f1c086b14d7cf6331e07dd6093bca7b3dc2b22552ad'},\n",
              "   'dob': {'date': '1988-09-14T01:30:23.485Z', 'age': 34},\n",
              "   'registered': {'date': '2004-11-01T23:34:50.390Z', 'age': 18},\n",
              "   'phone': '07-308-161',\n",
              "   'cell': '042-551-45-52',\n",
              "   'id': {'name': 'HETU', 'value': 'NaNNA621undefined'},\n",
              "   'picture': {'large': 'https://randomuser.me/api/portraits/men/46.jpg',\n",
              "    'medium': 'https://randomuser.me/api/portraits/med/men/46.jpg',\n",
              "    'thumbnail': 'https://randomuser.me/api/portraits/thumb/men/46.jpg'},\n",
              "   'nat': 'FI'},\n",
              "  {'gender': 'male',\n",
              "   'name': {'title': 'Mr', 'first': 'Camilo', 'last': 'Riojas'},\n",
              "   'location': {'street': {'number': 8739, 'name': 'Boulevard Colima'},\n",
              "    'city': 'Benjamin Hill',\n",
              "    'state': 'Chihuahua',\n",
              "    'country': 'Mexico',\n",
              "    'postcode': 79080,\n",
              "    'coordinates': {'latitude': '77.4856', 'longitude': '-134.2421'},\n",
              "    'timezone': {'offset': '+6:00', 'description': 'Almaty, Dhaka, Colombo'}},\n",
              "   'email': 'camilo.riojas@example.com',\n",
              "   'login': {'uuid': '26dc0783-856f-4114-a26a-0feb273b6c49',\n",
              "    'username': 'smallzebra140',\n",
              "    'password': 'chuan',\n",
              "    'salt': '8S1RvEF8',\n",
              "    'md5': '8f4f4d907bcc5bd32ffbeecf483d802f',\n",
              "    'sha1': 'c4123e9a0d60793066e69c469c07c3975d5109cf',\n",
              "    'sha256': '4efb794f82fe68330370db8e2364591b179c5fa26cfad6299de0fef8c6fbed30'},\n",
              "   'dob': {'date': '1996-02-23T20:37:51.928Z', 'age': 27},\n",
              "   'registered': {'date': '2008-10-29T15:31:17.830Z', 'age': 14},\n",
              "   'phone': '(611) 642 5517',\n",
              "   'cell': '(634) 580 9132',\n",
              "   'id': {'name': 'NSS', 'value': '59 89 46 6951 7'},\n",
              "   'picture': {'large': 'https://randomuser.me/api/portraits/men/43.jpg',\n",
              "    'medium': 'https://randomuser.me/api/portraits/med/men/43.jpg',\n",
              "    'thumbnail': 'https://randomuser.me/api/portraits/thumb/men/43.jpg'},\n",
              "   'nat': 'MX'}],\n",
              " 'info': {'seed': 'db03e3ff40e8a565',\n",
              "  'results': 30,\n",
              "  'page': 1,\n",
              "  'version': '1.4'}}"
            ]
          },
          "metadata": {},
          "execution_count": 79
        }
      ]
    },
    {
      "cell_type": "code",
      "source": [],
      "metadata": {
        "id": "GVrf9CvbUV88"
      },
      "execution_count": null,
      "outputs": []
    },
    {
      "cell_type": "code",
      "source": [
        "# Imports\n",
        "import re\n",
        "import time\n",
        "import numpy as np\n",
        "import matplotlib.pyplot as plt"
      ],
      "metadata": {
        "id": "BCCd0xqMRRAL"
      },
      "execution_count": null,
      "outputs": []
    },
    {
      "cell_type": "code",
      "source": [
        "file_name = \"binary.csv\"\n",
        "\n",
        "def retornaArq(file_name):\n",
        "    df = pd.read_csv(file_name)\n",
        "    return df.describe()\n",
        "    \n",
        "retornaArq(file_name)"
      ],
      "metadata": {
        "id": "xWaDCZI8STeZ"
      },
      "execution_count": null,
      "outputs": []
    },
    {
      "cell_type": "markdown",
      "source": [
        "Import da package para acesso e tratamento dos países (Country)"
      ],
      "metadata": {
        "id": "SvKzxKtuenGp"
      }
    },
    {
      "cell_type": "code",
      "source": [
        "# Instala o pacote\n",
        "# https://pypi.org/project/pycountry/\n",
        "!pip install -q pycountry"
      ],
      "metadata": {
        "colab": {
          "base_uri": "https://localhost:8080/"
        },
        "id": "XNlMnLsLUUtg",
        "outputId": "7b062164-e052-47fe-aa14-4352f60559c0"
      },
      "execution_count": 7,
      "outputs": [
        {
          "output_type": "stream",
          "name": "stdout",
          "text": [
            "\u001b[?25l     \u001b[90m━━━━━━━━━━━━━━━━━━━━━━━━━━━━━━━━━━━━━━━━\u001b[0m \u001b[32m0.0/10.1 MB\u001b[0m \u001b[31m?\u001b[0m eta \u001b[36m-:--:--\u001b[0m\r\u001b[2K     \u001b[91m━━━━━━━━━━━━━━\u001b[0m\u001b[91m╸\u001b[0m\u001b[90m━━━━━━━━━━━━━━━━━━━━━━━━━\u001b[0m \u001b[32m3.8/10.1 MB\u001b[0m \u001b[31m114.4 MB/s\u001b[0m eta \u001b[36m0:00:01\u001b[0m\r\u001b[2K     \u001b[91m━━━━━━━━━━━━━━━━━━━━━━━━━━━━━━━━━\u001b[0m\u001b[91m╸\u001b[0m\u001b[90m━━━━━━\u001b[0m \u001b[32m8.6/10.1 MB\u001b[0m \u001b[31m124.6 MB/s\u001b[0m eta \u001b[36m0:00:01\u001b[0m\r\u001b[2K     \u001b[91m━━━━━━━━━━━━━━━━━━━━━━━━━━━━━━━━━━━━━━\u001b[0m\u001b[91m╸\u001b[0m \u001b[32m10.1/10.1 MB\u001b[0m \u001b[31m125.7 MB/s\u001b[0m eta \u001b[36m0:00:01\u001b[0m\r\u001b[2K     \u001b[90m━━━━━━━━━━━━━━━━━━━━━━━━━━━━━━━━━━━━━━━━\u001b[0m \u001b[32m10.1/10.1 MB\u001b[0m \u001b[31m71.8 MB/s\u001b[0m eta \u001b[36m0:00:00\u001b[0m\n",
            "\u001b[?25h  Installing build dependencies ... \u001b[?25l\u001b[?25hdone\n",
            "  Getting requirements to build wheel ... \u001b[?25l\u001b[?25hdone\n",
            "  Preparing metadata (pyproject.toml) ... \u001b[?25l\u001b[?25hdone\n",
            "  Building wheel for pycountry (pyproject.toml) ... \u001b[?25l\u001b[?25hdone\n"
          ]
        }
      ]
    },
    {
      "cell_type": "markdown",
      "metadata": {
        "id": "t6ScDbBNzblj"
      },
      "source": [
        "## 8- Qual o Número de Filmes Produzidos Por País?\n",
        "\n",
        "Número de filmes produzidos por país."
      ]
    },
    {
      "cell_type": "code",
      "execution_count": null,
      "metadata": {
        "id": "xit2KSBiLOdf"
      },
      "outputs": [],
      "source": [
        "# Consulta SQL\n",
        "consulta8 = '''\n",
        "            SELECT region, COUNT(*) Number_of_movies FROM \n",
        "            akas JOIN titles ON \n",
        "            akas.title_id = titles.title_id\n",
        "            WHERE region != 'None'\n",
        "            AND type = \\'movie\\'\n",
        "            GROUP BY region\n",
        "            ''' "
      ]
    },
    {
      "cell_type": "code",
      "execution_count": null,
      "metadata": {
        "id": "FxiQKzlbkBLy"
      },
      "outputs": [],
      "source": [
        "# Resultado\n",
        "resultado8 = pd.read_sql_query(consulta8, conn)"
      ]
    },
    {
      "cell_type": "code",
      "execution_count": null,
      "metadata": {
        "id": "O1TcqZihkBLz",
        "outputId": "99404a43-77ec-4121-874e-6c6bbfa4aed8"
      },
      "outputs": [
        {
          "data": {
            "text/html": [
              "<div>\n",
              "<style scoped>\n",
              "    .dataframe tbody tr th:only-of-type {\n",
              "        vertical-align: middle;\n",
              "    }\n",
              "\n",
              "    .dataframe tbody tr th {\n",
              "        vertical-align: top;\n",
              "    }\n",
              "\n",
              "    .dataframe thead th {\n",
              "        text-align: right;\n",
              "    }\n",
              "</style>\n",
              "<table border=\"1\" class=\"dataframe\">\n",
              "  <thead>\n",
              "    <tr style=\"text-align: right;\">\n",
              "      <th></th>\n",
              "      <th>region</th>\n",
              "      <th>Number_of_movies</th>\n",
              "    </tr>\n",
              "  </thead>\n",
              "  <tbody>\n",
              "    <tr>\n",
              "      <th>0</th>\n",
              "      <td>AD</td>\n",
              "      <td>22</td>\n",
              "    </tr>\n",
              "    <tr>\n",
              "      <th>1</th>\n",
              "      <td>AE</td>\n",
              "      <td>321</td>\n",
              "    </tr>\n",
              "    <tr>\n",
              "      <th>2</th>\n",
              "      <td>AF</td>\n",
              "      <td>108</td>\n",
              "    </tr>\n",
              "    <tr>\n",
              "      <th>3</th>\n",
              "      <td>AG</td>\n",
              "      <td>12</td>\n",
              "    </tr>\n",
              "    <tr>\n",
              "      <th>4</th>\n",
              "      <td>AL</td>\n",
              "      <td>1230</td>\n",
              "    </tr>\n",
              "    <tr>\n",
              "      <th>...</th>\n",
              "      <td>...</td>\n",
              "      <td>...</td>\n",
              "    </tr>\n",
              "    <tr>\n",
              "      <th>227</th>\n",
              "      <td>YUCS</td>\n",
              "      <td>146</td>\n",
              "    </tr>\n",
              "    <tr>\n",
              "      <th>228</th>\n",
              "      <td>ZA</td>\n",
              "      <td>2930</td>\n",
              "    </tr>\n",
              "    <tr>\n",
              "      <th>229</th>\n",
              "      <td>ZM</td>\n",
              "      <td>11</td>\n",
              "    </tr>\n",
              "    <tr>\n",
              "      <th>230</th>\n",
              "      <td>ZRCD</td>\n",
              "      <td>2</td>\n",
              "    </tr>\n",
              "    <tr>\n",
              "      <th>231</th>\n",
              "      <td>ZW</td>\n",
              "      <td>46</td>\n",
              "    </tr>\n",
              "  </tbody>\n",
              "</table>\n",
              "<p>232 rows × 2 columns</p>\n",
              "</div>"
            ],
            "text/plain": [
              "    region  Number_of_movies\n",
              "0       AD                22\n",
              "1       AE               321\n",
              "2       AF               108\n",
              "3       AG                12\n",
              "4       AL              1230\n",
              "..     ...               ...\n",
              "227   YUCS               146\n",
              "228     ZA              2930\n",
              "229     ZM                11\n",
              "230   ZRCD                 2\n",
              "231     ZW                46\n",
              "\n",
              "[232 rows x 2 columns]"
            ]
          },
          "metadata": {},
          "output_type": "display_data"
        }
      ],
      "source": [
        "display(resultado8)"
      ]
    },
    {
      "cell_type": "code",
      "execution_count": null,
      "metadata": {
        "id": "wVeA78irkBLz",
        "outputId": "4f94cd07-cb4b-4e71-828b-6d04f700d384"
      },
      "outputs": [
        {
          "data": {
            "text/plain": [
              "(232, 2)"
            ]
          },
          "execution_count": 91,
          "metadata": {},
          "output_type": "execute_result"
        }
      ],
      "source": [
        "# Shape\n",
        "resultado8.shape"
      ]
    },
    {
      "cell_type": "code",
      "execution_count": null,
      "metadata": {
        "id": "nRg64HbkkBLz",
        "outputId": "f7cc4936-8ffd-4e18-db63-d605d7c8929f"
      },
      "outputs": [
        {
          "data": {
            "text/plain": [
              "232"
            ]
          },
          "execution_count": 92,
          "metadata": {},
          "output_type": "execute_result"
        }
      ],
      "source": [
        "# Número de linhas\n",
        "resultado8.shape[0]"
      ]
    },
    {
      "cell_type": "code",
      "execution_count": null,
      "metadata": {
        "id": "fhPq2Va2kBL0"
      },
      "outputs": [],
      "source": [
        "# Listas auxiliares\n",
        "nomes_paises = []\n",
        "contagem = []"
      ]
    },
    {
      "cell_type": "code",
      "execution_count": null,
      "metadata": {
        "id": "y0EiQBfgNEgb"
      },
      "outputs": [],
      "source": [
        "# Loop para obter o país de acordo com a região\n",
        "for i in range(resultado8.shape[0]):\n",
        "    try:\n",
        "        coun = resultado8['region'].values[i]\n",
        "        nomes_paises.append(pycountry.countries.get(alpha_2 = coun).name)\n",
        "        contagem.append(resultado8['Number_of_movies'].values[i])\n",
        "    except: \n",
        "        continue"
      ]
    },
    {
      "cell_type": "code",
      "execution_count": null,
      "metadata": {
        "id": "Ke69xq96Oeeu"
      },
      "outputs": [],
      "source": [
        "# Prepara o dataframe\n",
        "df_filmes_paises = pd.DataFrame()\n",
        "df_filmes_paises['country'] = nomes_paises\n",
        "df_filmes_paises['Movie_Count'] = contagem"
      ]
    },
    {
      "cell_type": "code",
      "execution_count": null,
      "metadata": {
        "id": "RyaO-hmNOxv-"
      },
      "outputs": [],
      "source": [
        "# Ordena o resultado\n",
        "df_filmes_paises = df_filmes_paises.sort_values(by = 'Movie_Count', ascending = False)"
      ]
    },
    {
      "cell_type": "code",
      "execution_count": null,
      "metadata": {
        "id": "OJPKheYkkBL1",
        "outputId": "66ca1258-33aa-4bc7-abda-31004b3a9c59"
      },
      "outputs": [
        {
          "data": {
            "text/html": [
              "<div>\n",
              "<style scoped>\n",
              "    .dataframe tbody tr th:only-of-type {\n",
              "        vertical-align: middle;\n",
              "    }\n",
              "\n",
              "    .dataframe tbody tr th {\n",
              "        vertical-align: top;\n",
              "    }\n",
              "\n",
              "    .dataframe thead th {\n",
              "        text-align: right;\n",
              "    }\n",
              "</style>\n",
              "<table border=\"1\" class=\"dataframe\">\n",
              "  <thead>\n",
              "    <tr style=\"text-align: right;\">\n",
              "      <th></th>\n",
              "      <th>country</th>\n",
              "      <th>Movie_Count</th>\n",
              "    </tr>\n",
              "  </thead>\n",
              "  <tbody>\n",
              "    <tr>\n",
              "      <th>198</th>\n",
              "      <td>United States</td>\n",
              "      <td>255987</td>\n",
              "    </tr>\n",
              "    <tr>\n",
              "      <th>65</th>\n",
              "      <td>United Kingdom</td>\n",
              "      <td>113225</td>\n",
              "    </tr>\n",
              "    <tr>\n",
              "      <th>96</th>\n",
              "      <td>Japan</td>\n",
              "      <td>87815</td>\n",
              "    </tr>\n",
              "    <tr>\n",
              "      <th>63</th>\n",
              "      <td>France</td>\n",
              "      <td>80993</td>\n",
              "    </tr>\n",
              "    <tr>\n",
              "      <th>89</th>\n",
              "      <td>India</td>\n",
              "      <td>70743</td>\n",
              "    </tr>\n",
              "    <tr>\n",
              "      <th>32</th>\n",
              "      <td>Canada</td>\n",
              "      <td>67483</td>\n",
              "    </tr>\n",
              "    <tr>\n",
              "      <th>47</th>\n",
              "      <td>Germany</td>\n",
              "      <td>65316</td>\n",
              "    </tr>\n",
              "    <tr>\n",
              "      <th>93</th>\n",
              "      <td>Italy</td>\n",
              "      <td>63060</td>\n",
              "    </tr>\n",
              "    <tr>\n",
              "      <th>26</th>\n",
              "      <td>Brazil</td>\n",
              "      <td>61825</td>\n",
              "    </tr>\n",
              "    <tr>\n",
              "      <th>58</th>\n",
              "      <td>Spain</td>\n",
              "      <td>61704</td>\n",
              "    </tr>\n",
              "  </tbody>\n",
              "</table>\n",
              "</div>"
            ],
            "text/plain": [
              "            country  Movie_Count\n",
              "198   United States       255987\n",
              "65   United Kingdom       113225\n",
              "96            Japan        87815\n",
              "63           France        80993\n",
              "89            India        70743\n",
              "32           Canada        67483\n",
              "47          Germany        65316\n",
              "93            Italy        63060\n",
              "26           Brazil        61825\n",
              "58            Spain        61704"
            ]
          },
          "execution_count": 97,
          "metadata": {},
          "output_type": "execute_result"
        }
      ],
      "source": [
        "# Visualiza\n",
        "df_filmes_paises.head(10)"
      ]
    },
    {
      "cell_type": "code",
      "execution_count": null,
      "metadata": {
        "colab": {
          "base_uri": "https://localhost:8080/",
          "height": 446
        },
        "id": "9vLWE-JaPB8K",
        "outputId": "f738f6a3-4128-469f-c772-bbd2614d8caf"
      },
      "outputs": [
        {
          "data": {
            "image/png": "[encoded data removed]",
            "text/plain": [
              "<Figure size 1440x576 with 1 Axes>"
            ]
          },
          "metadata": {},
          "output_type": "display_data"
        }
      ],
      "source": [
        "# Plot\n",
        "\n",
        "# Figura\n",
        "plt.figure(figsize = (20,8))\n",
        "\n",
        "# Barplot\n",
        "sns.barplot(y = df_filmes_paises[:20].country, x = df_filmes_paises[:20].Movie_Count, orient = \"h\")\n",
        "\n",
        "# Loop\n",
        "for i in range(0,20):\n",
        "    plt.text(df_filmes_paises.Movie_Count[df_filmes_paises.index[i]]-1,\n",
        "             i + 0.30,\n",
        "             round(df_filmes_paises[\"Movie_Count\"][df_filmes_paises.index[i]],2))\n",
        "\n",
        "plt.ylabel('País')             \n",
        "plt.xlabel('\\nNúmero de Filmes')\n",
        "plt.title('\\nNúmero de Filmes Produzidos Por País\\n')\n",
        "plt.show()"
      ]
    },
    {
      "cell_type": "markdown",
      "metadata": {
        "id": "szAHC3FEyoiv"
      },
      "source": [
        "## 9- Quais São os Top 10 Melhores Filmes?\n",
        "\n",
        "Top 10 filmes com melhor avaliação e mais de 25 mil votos."
      ]
    },
    {
      "cell_type": "code",
      "execution_count": null,
      "metadata": {
        "id": "b4IB3sTJiStg"
      },
      "outputs": [],
      "source": [
        "# Consulta SQL\n",
        "consulta9 = '''\n",
        "            SELECT primary_title AS Movie_Name, genres, rating\n",
        "            FROM \n",
        "            titles JOIN ratings\n",
        "            ON  titles.title_id = ratings.title_id\n",
        "            WHERE titles.type = 'movie' AND ratings.votes >= 25000\n",
        "            ORDER BY rating DESC\n",
        "            LIMIT 10          \n",
        "            ''' "
      ]
    },
    {
      "cell_type": "code",
      "execution_count": null,
      "metadata": {
        "id": "BMBWTlyykBL2"
      },
      "outputs": [],
      "source": [
        "# Resultado\n",
        "top10_melhores_filmes = pd.read_sql_query(consulta9, conn)"
      ]
    },
    {
      "cell_type": "code",
      "execution_count": null,
      "metadata": {
        "id": "mMtlq1cRkBL2",
        "outputId": "9cc7e0ea-e998-4365-cde7-f3f017bb9e94"
      },
      "outputs": [
        {
          "data": {
            "text/html": [
              "<div>\n",
              "<style scoped>\n",
              "    .dataframe tbody tr th:only-of-type {\n",
              "        vertical-align: middle;\n",
              "    }\n",
              "\n",
              "    .dataframe tbody tr th {\n",
              "        vertical-align: top;\n",
              "    }\n",
              "\n",
              "    .dataframe thead th {\n",
              "        text-align: right;\n",
              "    }\n",
              "</style>\n",
              "<table border=\"1\" class=\"dataframe\">\n",
              "  <thead>\n",
              "    <tr style=\"text-align: right;\">\n",
              "      <th></th>\n",
              "      <th>Movie_Name</th>\n",
              "      <th>genres</th>\n",
              "      <th>rating</th>\n",
              "    </tr>\n",
              "  </thead>\n",
              "  <tbody>\n",
              "    <tr>\n",
              "      <th>0</th>\n",
              "      <td>The Shawshank Redemption</td>\n",
              "      <td>Drama</td>\n",
              "      <td>9.3</td>\n",
              "    </tr>\n",
              "    <tr>\n",
              "      <th>1</th>\n",
              "      <td>The Chaos Class</td>\n",
              "      <td>Comedy,Drama</td>\n",
              "      <td>9.3</td>\n",
              "    </tr>\n",
              "    <tr>\n",
              "      <th>2</th>\n",
              "      <td>The Godfather</td>\n",
              "      <td>Crime,Drama</td>\n",
              "      <td>9.2</td>\n",
              "    </tr>\n",
              "    <tr>\n",
              "      <th>3</th>\n",
              "      <td>CM101MMXI Fundamentals</td>\n",
              "      <td>Comedy,Documentary</td>\n",
              "      <td>9.2</td>\n",
              "    </tr>\n",
              "    <tr>\n",
              "      <th>4</th>\n",
              "      <td>Soorarai Pottru</td>\n",
              "      <td>Drama</td>\n",
              "      <td>9.1</td>\n",
              "    </tr>\n",
              "    <tr>\n",
              "      <th>5</th>\n",
              "      <td>12 Angry Men</td>\n",
              "      <td>Crime,Drama</td>\n",
              "      <td>9.0</td>\n",
              "    </tr>\n",
              "    <tr>\n",
              "      <th>6</th>\n",
              "      <td>The Godfather: Part II</td>\n",
              "      <td>Crime,Drama</td>\n",
              "      <td>9.0</td>\n",
              "    </tr>\n",
              "    <tr>\n",
              "      <th>7</th>\n",
              "      <td>The Dark Knight</td>\n",
              "      <td>Action,Crime,Drama</td>\n",
              "      <td>9.0</td>\n",
              "    </tr>\n",
              "    <tr>\n",
              "      <th>8</th>\n",
              "      <td>Dara of Jasenovac</td>\n",
              "      <td>Drama,War</td>\n",
              "      <td>9.0</td>\n",
              "    </tr>\n",
              "    <tr>\n",
              "      <th>9</th>\n",
              "      <td>David Attenborough: A Life on Our Planet</td>\n",
              "      <td>Biography,Documentary</td>\n",
              "      <td>9.0</td>\n",
              "    </tr>\n",
              "  </tbody>\n",
              "</table>\n",
              "</div>"
            ],
            "text/plain": [
              "                                 Movie_Name                 genres  rating\n",
              "0                  The Shawshank Redemption                  Drama     9.3\n",
              "1                           The Chaos Class           Comedy,Drama     9.3\n",
              "2                             The Godfather            Crime,Drama     9.2\n",
              "3                    CM101MMXI Fundamentals     Comedy,Documentary     9.2\n",
              "4                           Soorarai Pottru                  Drama     9.1\n",
              "5                              12 Angry Men            Crime,Drama     9.0\n",
              "6                    The Godfather: Part II            Crime,Drama     9.0\n",
              "7                           The Dark Knight     Action,Crime,Drama     9.0\n",
              "8                         Dara of Jasenovac              Drama,War     9.0\n",
              "9  David Attenborough: A Life on Our Planet  Biography,Documentary     9.0"
            ]
          },
          "metadata": {},
          "output_type": "display_data"
        }
      ],
      "source": [
        "display(top10_melhores_filmes)"
      ]
    },
    {
      "cell_type": "markdown",
      "metadata": {
        "id": "AOyJM8blkBL3"
      },
      "source": [
        "## 10- Quais São os Top 10 Piores Filmes?\n",
        "\n",
        "Top 10 filmes com pior avaliação e mais de 25 mil votos."
      ]
    },
    {
      "cell_type": "code",
      "execution_count": null,
      "metadata": {
        "id": "xNkQXdifjWEF"
      },
      "outputs": [],
      "source": [
        "# Consulta SQL\n",
        "consulta10 = '''\n",
        "            SELECT primary_title AS Movie_Name, genres, rating\n",
        "            FROM \n",
        "            titles JOIN ratings\n",
        "            ON  titles.title_id = ratings.title_id\n",
        "            WHERE titles.type = 'movie' AND ratings.votes >= 25000\n",
        "            ORDER BY rating ASC\n",
        "            LIMIT 10\n",
        "            ''' "
      ]
    },
    {
      "cell_type": "code",
      "execution_count": null,
      "metadata": {
        "id": "naOoI-IXfKSI"
      },
      "outputs": [],
      "source": [
        "# Resultado\n",
        "top10_piores_filmes = pd.read_sql_query(consulta10, conn)"
      ]
    },
    {
      "cell_type": "code",
      "execution_count": null,
      "metadata": {
        "id": "XfzTdNp1kBL4",
        "outputId": "1a9e4a87-c0ec-4675-b9e2-e1642541c86d"
      },
      "outputs": [
        {
          "data": {
            "text/html": [
              "<div>\n",
              "<style scoped>\n",
              "    .dataframe tbody tr th:only-of-type {\n",
              "        vertical-align: middle;\n",
              "    }\n",
              "\n",
              "    .dataframe tbody tr th {\n",
              "        vertical-align: top;\n",
              "    }\n",
              "\n",
              "    .dataframe thead th {\n",
              "        text-align: right;\n",
              "    }\n",
              "</style>\n",
              "<table border=\"1\" class=\"dataframe\">\n",
              "  <thead>\n",
              "    <tr style=\"text-align: right;\">\n",
              "      <th></th>\n",
              "      <th>Movie_Name</th>\n",
              "      <th>genres</th>\n",
              "      <th>rating</th>\n",
              "    </tr>\n",
              "  </thead>\n",
              "  <tbody>\n",
              "    <tr>\n",
              "      <th>0</th>\n",
              "      <td>Cumali Ceber</td>\n",
              "      <td>Comedy</td>\n",
              "      <td>1.0</td>\n",
              "    </tr>\n",
              "    <tr>\n",
              "      <th>1</th>\n",
              "      <td>Smolensk</td>\n",
              "      <td>Drama,Thriller</td>\n",
              "      <td>1.1</td>\n",
              "    </tr>\n",
              "    <tr>\n",
              "      <th>2</th>\n",
              "      <td>Sadak 2</td>\n",
              "      <td>Action,Drama</td>\n",
              "      <td>1.1</td>\n",
              "    </tr>\n",
              "    <tr>\n",
              "      <th>3</th>\n",
              "      <td>Reis</td>\n",
              "      <td>Biography,Drama</td>\n",
              "      <td>1.4</td>\n",
              "    </tr>\n",
              "    <tr>\n",
              "      <th>4</th>\n",
              "      <td>Justin Bieber: Never Say Never</td>\n",
              "      <td>Documentary,Music</td>\n",
              "      <td>1.6</td>\n",
              "    </tr>\n",
              "    <tr>\n",
              "      <th>5</th>\n",
              "      <td>Manos: the Hands of Fate</td>\n",
              "      <td>Drama,Horror</td>\n",
              "      <td>1.8</td>\n",
              "    </tr>\n",
              "    <tr>\n",
              "      <th>6</th>\n",
              "      <td>Radhe</td>\n",
              "      <td>Action,Crime,Thriller</td>\n",
              "      <td>1.8</td>\n",
              "    </tr>\n",
              "    <tr>\n",
              "      <th>7</th>\n",
              "      <td>Superbabies: Baby Geniuses 2</td>\n",
              "      <td>Comedy,Family,Sci-Fi</td>\n",
              "      <td>1.9</td>\n",
              "    </tr>\n",
              "    <tr>\n",
              "      <th>8</th>\n",
              "      <td>The Hottie &amp; the Nottie</td>\n",
              "      <td>Comedy,Romance</td>\n",
              "      <td>1.9</td>\n",
              "    </tr>\n",
              "    <tr>\n",
              "      <th>9</th>\n",
              "      <td>Disaster Movie</td>\n",
              "      <td>Comedy,Sci-Fi</td>\n",
              "      <td>1.9</td>\n",
              "    </tr>\n",
              "  </tbody>\n",
              "</table>\n",
              "</div>"
            ],
            "text/plain": [
              "                       Movie_Name                 genres  rating\n",
              "0                    Cumali Ceber                 Comedy     1.0\n",
              "1                        Smolensk         Drama,Thriller     1.1\n",
              "2                         Sadak 2           Action,Drama     1.1\n",
              "3                            Reis        Biography,Drama     1.4\n",
              "4  Justin Bieber: Never Say Never      Documentary,Music     1.6\n",
              "5        Manos: the Hands of Fate           Drama,Horror     1.8\n",
              "6                           Radhe  Action,Crime,Thriller     1.8\n",
              "7    Superbabies: Baby Geniuses 2   Comedy,Family,Sci-Fi     1.9\n",
              "8         The Hottie & the Nottie         Comedy,Romance     1.9\n",
              "9                  Disaster Movie          Comedy,Sci-Fi     1.9"
            ]
          },
          "metadata": {},
          "output_type": "display_data"
        }
      ],
      "source": [
        "display(top10_piores_filmes)"
      ]
    },
    {
      "cell_type": "markdown",
      "metadata": {
        "id": "H3rKUiitkBL5"
      },
      "source": [
        "# Fim"
      ]
    },
    {
      "cell_type": "markdown",
      "metadata": {
        "id": "bB-zuVijkBL5"
      },
      "source": [
        "### Obrigado\n",
        "\n",
        "### Visite o Blog da Data Science Academy - <a href=\"http://blog.dsacademy.com.br\">Blog DSA</a>"
      ]
    },
    {
      "cell_type": "markdown",
      "metadata": {
        "id": "IDJ-pf6vkBL5"
      },
      "source": [
        "Parabéns se você chegou até aqui. Use o voucher PYTHONDSA9642 para comprar qualquer curso ou Formação da DSA com 5% de desconto."
      ]
    }
  ],
  "metadata": {
    "colab": {
      "collapsed_sections": [
        "yebFAbpYviBJ",
        "m6W_XSp3yBSL",
        "CWF1erMywd2w",
        "jRKl5x8YxoXO",
        "V4RFdmlvsbgQ",
        "2F2Dmji2xR9v",
        "9U6CKRVVzF5O",
        "Z4O4rDdHy7oO"
      ],
      "provenance": [],
      "include_colab_link": true
    },
    "kernelspec": {
      "display_name": "Python 3",
      "language": "python",
      "name": "python3"
    },
    "language_info": {
      "codemirror_mode": {
        "name": "ipython",
        "version": 3
      },
      "file_extension": ".py",
      "mimetype": "text/x-python",
      "name": "python",
      "nbconvert_exporter": "python",
      "pygments_lexer": "ipython3",
      "version": "3.8.8"
    }
  },
  "nbformat": 4,
  "nbformat_minor": 0
}