{
  "cells": [
    {
      "cell_type": "markdown",
      "metadata": {
        "id": "view-in-github",
        "colab_type": "text"
      },
      "source": [
        "<a href=\"https://colab.research.google.com/github/EdisonMoreira/-aquecimento-formacao-infra/blob/master/Pipeline.ipynb\" target=\"_parent\"><img src=\"https://colab.research.google.com/assets/colab-badge.svg\" alt=\"Open In Colab\"/></a>"
      ]
    },
    {
      "cell_type": "markdown",
      "metadata": {
        "id": "6yTR340XkBKS"
      },
      "source": [
        "# <font color='blue'>Escritório de Dados</font>\n",
        "\n",
        "## Aquecimento para Formação de Infraestrutura\n",
        "## Edison Moreira\n",
        "### Iplanrio / Diretoria de Sistemas (DSI) / Gerência de Arquitetura e Integrações (GAI)"
      ]
    },
    {
      "cell_type": "markdown",
      "metadata": {
        "id": "wrY9P4JKkBKh"
      },
      "source": [
        "## Pipeline\n",
        "### Etapa 1: Entendendo os dados 🎲\n",
        "\n",
        "- **Objetivo:** nessa etapa, você deve somente ingerir dados da API do `randomuser.me` e observar o formato dos dados, tentando imaginar como eles poderiam ser usados para construir uma tabela.\n",
        "- **Descrição da solução:** a solução dessa etapa consiste em uma função para consumir a API na URL `https://randomuser.me/api/` e retornar um dicionário com os dados."
      ]
    },
    {
      "cell_type": "markdown",
      "metadata": {
        "id": "AorSGd1XkBKl"
      },
      "source": [
        "## Instalando e Carregando Pacotes"
      ]
    },
    {
      "cell_type": "code",
      "execution_count": 120,
      "metadata": {
        "id": "geX_WLH2kBKm",
        "outputId": "44657db6-94bf-45a1-dd97-2a8ee88b33f6",
        "colab": {
          "base_uri": "https://localhost:8080/"
        }
      },
      "outputs": [
        {
          "output_type": "stream",
          "name": "stdout",
          "text": [
            "Versão da Linguagem Python Usada Neste Jupyter Notebook: 3.8.10\n"
          ]
        }
      ],
      "source": [
        "# Versão da Linguagem Python\n",
        "from platform import python_version\n",
        "print('Versão da Linguagem Python Usada Neste Jupyter Notebook:', python_version())"
      ]
    },
    {
      "cell_type": "code",
      "source": [
        "pip install requests"
      ],
      "metadata": {
        "colab": {
          "base_uri": "https://localhost:8080/"
        },
        "id": "rhOx3Gq5S4n6",
        "outputId": "2787cc74-c1b5-4c6e-a257-31ed7ab7e9dd"
      },
      "execution_count": 121,
      "outputs": [
        {
          "output_type": "stream",
          "name": "stdout",
          "text": [
            "Looking in indexes: https://pypi.org/simple, https://us-python.pkg.dev/colab-wheels/public/simple/\n",
            "Requirement already satisfied: requests in /usr/local/lib/python3.8/dist-packages (2.25.1)\n",
            "Requirement already satisfied: idna<3,>=2.5 in /usr/local/lib/python3.8/dist-packages (from requests) (2.10)\n",
            "Requirement already satisfied: urllib3<1.27,>=1.21.1 in /usr/local/lib/python3.8/dist-packages (from requests) (1.26.14)\n",
            "Requirement already satisfied: certifi>=2017.4.17 in /usr/local/lib/python3.8/dist-packages (from requests) (2022.12.7)\n",
            "Requirement already satisfied: chardet<5,>=3.0.2 in /usr/local/lib/python3.8/dist-packages (from requests) (4.0.0)\n"
          ]
        }
      ]
    },
    {
      "cell_type": "code",
      "execution_count": 122,
      "metadata": {
        "id": "KwrZ9EWy02p7"
      },
      "outputs": [],
      "source": [
        "# Import da package para tratamento de acesso a uma API\n",
        "import requests"
      ]
    },
    {
      "cell_type": "markdown",
      "metadata": {
        "id": "yebFAbpYviBJ"
      },
      "source": [
        "## Ingerindo os Dados\n",
        "\n",
        "Acessando os dados na API Random User\n",
        "\n",
        "Confirmando o sucesso do acesso que é \n",
        "API Status Code 200: Everything went okay, \n",
        "and the result has been returned (if any)."
      ]
    },
    {
      "cell_type": "code",
      "execution_count": null,
      "metadata": {
        "id": "GCynwX5SFUt8",
        "colab": {
          "base_uri": "https://localhost:8080/"
        },
        "outputId": "d4a0774b-6f46-41de-ca15-cb7527f283a7"
      },
      "outputs": [
        {
          "output_type": "stream",
          "name": "stdout",
          "text": [
            "200\n"
          ]
        }
      ],
      "source": [
        "response = requests.get(\"https://randomuser.me/api/\")\n",
        "print(response.status_code)"
      ]
    },
    {
      "cell_type": "markdown",
      "source": [
        "Exibindo o conteúdo do response que tem o formato json,\n",
        "sendo a formatação de dictionary"
      ],
      "metadata": {
        "id": "kvjKPHzkblgL"
      }
    },
    {
      "cell_type": "code",
      "source": [
        "response.json()"
      ],
      "metadata": {
        "colab": {
          "base_uri": "https://localhost:8080/"
        },
        "id": "g4_DNzJnaQoM",
        "outputId": "56e8b964-cd27-4718-bc0a-cc5e9092e6f9"
      },
      "execution_count": 123,
      "outputs": [
        {
          "output_type": "execute_result",
          "data": {
            "text/plain": [
              "{'results': [{'gender': 'male',\n",
              "   'name': {'title': 'Mr', 'first': 'Harley', 'last': 'Thomas'},\n",
              "   'location': {'street': {'number': 7342, 'name': 'Kilmore Street'},\n",
              "    'city': 'Wellington',\n",
              "    'state': 'Gisborne',\n",
              "    'country': 'New Zealand',\n",
              "    'postcode': 53173,\n",
              "    'coordinates': {'latitude': '49.1222', 'longitude': '-149.1682'},\n",
              "    'timezone': {'offset': '+3:30', 'description': 'Tehran'}},\n",
              "   'email': 'harley.thomas@example.com',\n",
              "   'login': {'uuid': '6b9b6e37-fc68-4b81-ae3e-2e5b7512e2e0',\n",
              "    'username': 'browntiger234',\n",
              "    'password': 'tracy',\n",
              "    'salt': '7VxGTIf4',\n",
              "    'md5': '723ac271a2b9a8f727a8385e7595ddd4',\n",
              "    'sha1': 'f1e5054a05aeb9ef451fa52a5c380ed8ad9fb056',\n",
              "    'sha256': '64b0f378274ffb89faf91fd78d21c07fd38d2e8b6040497f6000ccfb942696ad'},\n",
              "   'dob': {'date': '1996-04-29T07:33:06.497Z', 'age': 26},\n",
              "   'registered': {'date': '2009-07-23T17:13:51.048Z', 'age': 13},\n",
              "   'phone': '(431)-181-9048',\n",
              "   'cell': '(392)-231-9840',\n",
              "   'id': {'name': '', 'value': None},\n",
              "   'picture': {'large': 'https://randomuser.me/api/portraits/men/71.jpg',\n",
              "    'medium': 'https://randomuser.me/api/portraits/med/men/71.jpg',\n",
              "    'thumbnail': 'https://randomuser.me/api/portraits/thumb/men/71.jpg'},\n",
              "   'nat': 'NZ'}],\n",
              " 'info': {'seed': '4ff026f645a6b997',\n",
              "  'results': 1,\n",
              "  'page': 1,\n",
              "  'version': '1.4'}}"
            ]
          },
          "metadata": {},
          "execution_count": 123
        }
      ]
    },
    {
      "cell_type": "markdown",
      "source": [
        "### Etapa 2: Coletando dados 💾\n",
        "\n",
        "- **Objetivo:** nessa etapa, você deve coletar dados da API e armazená-los em um arquivo CSV.\n",
        "- **Descrição da solução:** a solução dessa etapa consiste em uma função para coletar uma quantidade `n` de dados da API (sendo `n` um valor fornecido via parâmetro da função), manipulá-los para montar um `pandas.DataFrame` e salvar o resultado em um arquivo CSV.\n",
        "**Dicas:**\n",
        "  - Para tornar os dados mais fáceis de manipular no futuro, faça com que o `DataFrame` seja \"plano\", ou seja, cada coluna seja um único atributo do objeto.\n",
        "  - Para ter dados suficientes para uma análise razoável nas próximas etapas, recomendamos `n>=500`."
      ],
      "metadata": {
        "id": "Dxl2C1Nha2o5"
      }
    },
    {
      "cell_type": "markdown",
      "metadata": {
        "id": "yx0flL9gkBLH"
      },
      "source": [
        "> Criar função qu receba parametro Args1 para fazer Args1 acessos a API\n",
        "Juntando cada leitura (append) ao dicitionario"
      ]
    },
    {
      "cell_type": "code",
      "source": [
        "# Import da packages\n",
        "# para tratamento de acesso a uma API\n",
        "# para criação e processamento de Pandas Dataframe\n",
        "import pandas as pd\n",
        "pd.set_option(\"display.max.columns\", None)\n",
        "\n",
        "\n"
      ],
      "metadata": {
        "id": "BfeW_pG9jb5e"
      },
      "execution_count": 124,
      "outputs": []
    },
    {
      "cell_type": "code",
      "source": [
        "# Função para coletar uma quantidade n de dados da API (sendo n um valor fornecido via parâmetro da função),\n",
        "def coletaDado (quantidadeDado: int):\n",
        "    parametroAPI=\"https://randomuser.me/api/?results=\" + str(quantidadeDado)\n",
        "    print(parametroAPI)\n",
        "    return requests.get(parametroAPI)"
      ],
      "metadata": {
        "id": "JjDHPbp7bsYD"
      },
      "execution_count": 162,
      "outputs": []
    },
    {
      "cell_type": "code",
      "source": [
        "responseDados = coletaDado(135)\n",
        "print(responseDados.status_code)"
      ],
      "metadata": {
        "colab": {
          "base_uri": "https://localhost:8080/"
        },
        "id": "56NJRF7cSzso",
        "outputId": "53e30171-2622-4b23-d586-3c5743057b92"
      },
      "execution_count": 163,
      "outputs": [
        {
          "output_type": "stream",
          "name": "stdout",
          "text": [
            "https://randomuser.me/api/?results=135\n",
            "200\n"
          ]
        }
      ]
    },
    {
      "cell_type": "code",
      "source": [
        "responseDict=responseDados.json()"
      ],
      "metadata": {
        "id": "2lcvVtR3TMyC"
      },
      "execution_count": 164,
      "outputs": []
    },
    {
      "cell_type": "code",
      "source": [
        "# Use json_normalize() to convert JSON (dict, list of dicts) to DataFrame Plano, cada campo uma coluna\n",
        "import json\n",
        "from pandas import json_normalize\n",
        "df = json_normalize(responseDict['results']) "
      ],
      "metadata": {
        "id": "SEw7w6uER-sP"
      },
      "execution_count": 165,
      "outputs": []
    },
    {
      "cell_type": "code",
      "source": [
        "pip install phonenumbers\n"
      ],
      "metadata": {
        "colab": {
          "base_uri": "https://localhost:8080/"
        },
        "id": "BSi0lABkNkdR",
        "outputId": "1146cec2-1701-4b73-9747-f84b1a1fb280"
      },
      "execution_count": 166,
      "outputs": [
        {
          "output_type": "stream",
          "name": "stdout",
          "text": [
            "Looking in indexes: https://pypi.org/simple, https://us-python.pkg.dev/colab-wheels/public/simple/\n",
            "Requirement already satisfied: phonenumbers in /usr/local/lib/python3.8/dist-packages (8.13.6)\n"
          ]
        }
      ]
    },
    {
      "cell_type": "code",
      "source": [
        "import phonenumbers"
      ],
      "metadata": {
        "id": "9bQNVV4JPqjv"
      },
      "execution_count": 167,
      "outputs": []
    },
    {
      "cell_type": "code",
      "source": [
        "# Padrão E.164 formato Internacional\n",
        "# Phones que contem letras são desprezados\n",
        "# A Python program to demonstrate working of re.match().\n",
        "import re\n",
        " \n",
        "# Lets use a regular expression to dismatch a phone string\n",
        "# within alphabet characters\n",
        "regex = r\"([0-9 -()]+)\"\n",
        "\n",
        "\n",
        "for ind in df.index:\n",
        "    match = re.search(regex, df['phone'][ind])\n",
        "    if match is True:\n",
        "      phoneIntAux = phonenumbers.parse(df['phone'][ind], df['nat'][ind])\n",
        "      phoneInt = phonenumbers.format_number(phoneIntAux, phonenumbers.PhoneNumberFormat.INTERNATIONAL)\n",
        "      df.loc[ind, 'phone']  = phoneInt    "
      ],
      "metadata": {
        "id": "g493jZCgKxCg"
      },
      "execution_count": 168,
      "outputs": []
    },
    {
      "cell_type": "code",
      "source": [
        "# Padrão E.164 formato Internacional\n",
        "# Celulares que contem letras são desprezados\n",
        "# A Python program to demonstrate working of re.match().\n",
        "\n",
        "for ind in df.index:\n",
        "   match = re.search(regex, df['cell'][ind])\n",
        "   if match == None:\n",
        "     cellIntAux = phonenumbers.parse(df['cell'][ind], df['nat'][ind])\n",
        "     cellInt = phonenumbers.format_number(phoneIntAux, phonenumbers.PhoneNumberFormat.INTERNATIONAL)\n",
        "     df.loc[ind, 'cell']  = cellInt\n",
        "   else:\n",
        "    print(df['cell'][ind], df['nat'][ind])  "
      ],
      "metadata": {
        "colab": {
          "base_uri": "https://localhost:8080/"
        },
        "id": "Iu42uvMn8IMh",
        "outputId": "b9c5e14f-f403-41b4-a7fa-f86955a416d7"
      },
      "execution_count": 169,
      "outputs": [
        {
          "output_type": "stream",
          "name": "stdout",
          "text": [
            "081-961-2946 IE\n",
            "43350743 NO\n",
            "06-87-49-15-13 FR\n",
            "064-0412-329 RS\n",
            "669-105-778 ES\n",
            "(208) 745-9684 US\n",
            "(694) 671 8842 MX\n",
            "9922649413 IN\n",
            "0934-055-1174 IR\n",
            "682-309-391 ES\n",
            "7798812571 IN\n",
            "0477-152-823 AU\n",
            "(671) 502 1313 MX\n",
            "(09) 4351-4776 BR\n",
            "(066) S56-3716 UA\n",
            "(79) 7281-7199 BR\n",
            "0177-9535722 DE\n",
            "19878763 DK\n",
            "(06) 01009312 NL\n",
            "694-976-745 ES\n",
            "(044)-039-2073 TR\n",
            "076 051 75 51 CH\n",
            "(684) 536 2417 MX\n",
            "61822800 DK\n",
            "(888)-696-5253 TR\n",
            "(276)-296-4571 TR\n",
            "06-55-97-51-45 FR\n",
            "Y92 G13-2443 CA\n",
            "(508)-776-1267 NZ\n",
            "079 344 71 34 CH\n",
            "(098) P15-3095 UA\n",
            "(48) 2936-8894 BR\n",
            "(58) 1749-4700 BR\n",
            "040-583-94-92 FI\n",
            "(52) 8473-4653 BR\n",
            "(06) 99790549 NL\n",
            "7375301422 IN\n",
            "043-172-36-25 FI\n",
            "(06) 75355851 NL\n",
            "0422-594-777 AU\n",
            "0951-056-0008 IR\n",
            "(607)-745-3297 TR\n",
            "06-70-69-46-90 FR\n",
            "07078 196647 GB\n",
            "42129794 NO\n",
            "07356 793501 GB\n",
            "07260 000833 GB\n",
            "0968-312-8667 IR\n",
            "081-088-0142 IE\n",
            "(659) 570 4738 MX\n",
            "(328) 404-9253 US\n",
            "97339400 NO\n",
            "0496-557-962 AU\n",
            "06-20-87-38-28 FR\n",
            "062-8384-462 RS\n",
            "049-552-77-84 FI\n",
            "0463-183-449 AU\n",
            "9053014289 IN\n",
            "(715) 470-5491 US\n",
            "081-878-8577 IE\n",
            "(43) 1152-0814 BR\n",
            "049-367-58-47 FI\n",
            "M91 J29-3719 CA\n",
            "9727365099 IN\n",
            "7315880586 IN\n",
            "(674) 297-6051 US\n",
            "48720635 NO\n",
            "076 104 61 32 CH\n",
            "0493-462-772 AU\n",
            "0985-084-5694 IR\n",
            "081-432-4214 IE\n",
            "612-942-358 ES\n",
            "(903) 241-8102 US\n",
            "(686) 097 2779 MX\n",
            "(066) K23-6374 UA\n",
            "(697) 085 1365 MX\n",
            "076 684 24 23 CH\n",
            "(92) 3868-0474 BR\n",
            "8040284000 IN\n",
            "(786)-033-6133 TR\n",
            "53410230 DK\n",
            "081-520-8917 IE\n",
            "081-740-2085 IE\n",
            "H96 J54-9307 CA\n",
            "97463546 NO\n",
            "Q46 R66-0304 CA\n",
            "(635) 321 4158 MX\n",
            "06-57-13-22-52 FR\n",
            "X54 R38-4293 CA\n",
            "076 074 78 04 CH\n",
            "06-89-36-87-01 FR\n",
            "0176-3131844 DE\n",
            "8970162756 IN\n",
            "11190722 DK\n",
            "9483604992 IN\n",
            "(003)-143-9861 TR\n",
            "(221) 532-8924 US\n",
            "(620) 990 5788 MX\n",
            "49100512 NO\n",
            "(097) T97-2336 UA\n",
            "07566 144016 GB\n",
            "642-037-245 ES\n",
            "(096) D88-5687 UA\n",
            "(232)-018-9607 TR\n",
            "(068) U11-2710 UA\n",
            "(53) 3142-4515 BR\n",
            "668-308-404 ES\n",
            "(37) 0647-1548 BR\n",
            "(48) 3682-2641 BR\n",
            "692-660-815 ES\n",
            "(306)-558-9729 NZ\n",
            "0174-3072104 DE\n",
            "(941) 728-1198 US\n",
            "(818) 444-5228 US\n",
            "(791) 474-2522 US\n",
            "0991-559-9663 IR\n",
            "(768) 340-6878 US\n",
            "0489-785-461 AU\n",
            "(390)-230-6587 NZ\n",
            "062-5605-904 RS\n",
            "K13 U24-8802 CA\n",
            "(068) A62-7063 UA\n",
            "32301720 DK\n",
            "0174-5396195 DE\n",
            "076 201 19 99 CH\n",
            "(870) 778-4516 US\n",
            "07887 712523 GB\n",
            "0174-6394636 DE\n",
            "(067) Y18-0666 UA\n",
            "(067) O89-5579 UA\n",
            "081-840-6545 IE\n",
            "081-355-7818 IE\n",
            "07744 431102 GB\n",
            "(965)-678-2443 NZ\n",
            "(88) 3902-8825 BR\n"
          ]
        }
      ]
    },
    {
      "cell_type": "markdown",
      "source": [
        "### Etapa 4: Analisando dados sem agrupamento 📊\n",
        "\n",
        "- **Objetivo**: com seus dados devidamente tratados, você deve gerar os seguintes itens:\n",
        "  - Um relatório em texto (não precisa de formatação) contendo:\n",
        "    - A porcentagem dos usuários por gênero\n",
        "    - A porcentagem dos usuários por país\n",
        "  - Uma imagem contendo um gráfico de distribuição da idade dos usuários (a biblioteca utilizada para o `plot` pode ser qualquer uma).\n",
        "- **Descrição da solução**: uma função que recebe, como parâmetro, um `pandas.DataFrame` e gera dois arquivos: um relatório em texto e outro contendo um gráfico de distribuição da idade dos usuários."
      ],
      "metadata": {
        "id": "ZOnhkac1xTNI"
      }
    },
    {
      "cell_type": "code",
      "source": [
        "# Imports\n",
        "import numpy as np\n",
        "import matplotlib.pyplot as plt\n",
        "import seaborn as sns\n",
        "from matplotlib import cm\n",
        "import warnings\n",
        "warnings.filterwarnings(\"ignore\")\n",
        "sns.set_theme(style = \"whitegrid\")"
      ],
      "metadata": {
        "id": "BCCd0xqMRRAL"
      },
      "execution_count": 170,
      "outputs": []
    },
    {
      "cell_type": "markdown",
      "source": [
        "### A porcentagem dos usuários por gênero"
      ],
      "metadata": {
        "id": "mHPQ7KS8EbfX"
      }
    },
    {
      "cell_type": "code",
      "source": [
        "print(df[\"gender\"].unique())\n",
        "print(type(df[\"gender\"].unique()))"
      ],
      "metadata": {
        "colab": {
          "base_uri": "https://localhost:8080/"
        },
        "id": "29PYwP-X023u",
        "outputId": "52912056-948d-4ec2-b306-74c8896bcf0f"
      },
      "execution_count": 171,
      "outputs": [
        {
          "output_type": "stream",
          "name": "stdout",
          "text": [
            "['male' 'female']\n",
            "<class 'numpy.ndarray'>\n"
          ]
        }
      ]
    },
    {
      "cell_type": "code",
      "source": [
        "df['gender'].value_counts()"
      ],
      "metadata": {
        "colab": {
          "base_uri": "https://localhost:8080/"
        },
        "id": "d-JRnpKb3mEp",
        "outputId": "32f832fd-b16b-4d20-9686-16357511e3ff"
      },
      "execution_count": 172,
      "outputs": [
        {
          "output_type": "execute_result",
          "data": {
            "text/plain": [
              "female    74\n",
              "male      61\n",
              "Name: gender, dtype: int64"
            ]
          },
          "metadata": {},
          "execution_count": 172
        }
      ]
    },
    {
      "cell_type": "code",
      "execution_count": 173,
      "metadata": {
        "id": "fhPq2Va2kBL0"
      },
      "outputs": [],
      "source": [
        "dfSexos=pd.DataFrame(df['gender'].value_counts())"
      ]
    },
    {
      "cell_type": "code",
      "source": [
        "# Lista auxiliar Sexo\n",
        "# para alterar o label da coluna gender\n",
        "sexosLista = dfSexos.columns.tolist()\n",
        "sexosLista[sexosLista.index('gender')] = 'usuarios'\n",
        "dfSexos.columns = sexosLista"
      ],
      "metadata": {
        "id": "8iP6ttNBCniu"
      },
      "execution_count": 174,
      "outputs": []
    },
    {
      "cell_type": "code",
      "source": [
        "# Vamos calcular o percentual para cada genero\n",
        "dfSexos['percentual'] = (dfSexos['usuarios'] / dfSexos['usuarios'].sum()) * 100"
      ],
      "metadata": {
        "id": "gn9nzcJe_b33"
      },
      "execution_count": 175,
      "outputs": []
    },
    {
      "cell_type": "code",
      "source": [
        "#Relatório básico \n",
        "display(dfSexos)"
      ],
      "metadata": {
        "colab": {
          "base_uri": "https://localhost:8080/",
          "height": 112
        },
        "id": "YBoCsr7c_0io",
        "outputId": "51407325-e774-4821-a3bd-14948d4b1838"
      },
      "execution_count": 190,
      "outputs": [
        {
          "output_type": "display_data",
          "data": {
            "text/plain": [
              "        usuarios  percentual\n",
              "female        74   54.814815\n",
              "male          61   45.185185"
            ],
            "text/html": [
              "\n",
              "  <div id=\"df-bfb2d43d-1e09-429e-8ae0-c41cdc6d5a80\">\n",
              "    <div class=\"colab-df-container\">\n",
              "      <div>\n",
              "<style scoped>\n",
              "    .dataframe tbody tr th:only-of-type {\n",
              "        vertical-align: middle;\n",
              "    }\n",
              "\n",
              "    .dataframe tbody tr th {\n",
              "        vertical-align: top;\n",
              "    }\n",
              "\n",
              "    .dataframe thead th {\n",
              "        text-align: right;\n",
              "    }\n",
              "</style>\n",
              "<table border=\"1\" class=\"dataframe\">\n",
              "  <thead>\n",
              "    <tr style=\"text-align: right;\">\n",
              "      <th></th>\n",
              "      <th>usuarios</th>\n",
              "      <th>percentual</th>\n",
              "    </tr>\n",
              "  </thead>\n",
              "  <tbody>\n",
              "    <tr>\n",
              "      <th>female</th>\n",
              "      <td>74</td>\n",
              "      <td>54.814815</td>\n",
              "    </tr>\n",
              "    <tr>\n",
              "      <th>male</th>\n",
              "      <td>61</td>\n",
              "      <td>45.185185</td>\n",
              "    </tr>\n",
              "  </tbody>\n",
              "</table>\n",
              "</div>\n",
              "      <button class=\"colab-df-convert\" onclick=\"convertToInteractive('df-bfb2d43d-1e09-429e-8ae0-c41cdc6d5a80')\"\n",
              "              title=\"Convert this dataframe to an interactive table.\"\n",
              "              style=\"display:none;\">\n",
              "        \n",
              "  <svg xmlns=\"http://www.w3.org/2000/svg\" height=\"24px\"viewBox=\"0 0 24 24\"\n",
              "       width=\"24px\">\n",
              "    <path d=\"M0 0h24v24H0V0z\" fill=\"none\"/>\n",
              "    <path d=\"M18.56 5.44l.94 2.06.94-2.06 2.06-.94-2.06-.94-.94-2.06-.94 2.06-2.06.94zm-11 1L8.5 8.5l.94-2.06 2.06-.94-2.06-.94L8.5 2.5l-.94 2.06-2.06.94zm10 10l.94 2.06.94-2.06 2.06-.94-2.06-.94-.94-2.06-.94 2.06-2.06.94z\"/><path d=\"M17.41 7.96l-1.37-1.37c-.4-.4-.92-.59-1.43-.59-.52 0-1.04.2-1.43.59L10.3 9.45l-7.72 7.72c-.78.78-.78 2.05 0 2.83L4 21.41c.39.39.9.59 1.41.59.51 0 1.02-.2 1.41-.59l7.78-7.78 2.81-2.81c.8-.78.8-2.07 0-2.86zM5.41 20L4 18.59l7.72-7.72 1.47 1.35L5.41 20z\"/>\n",
              "  </svg>\n",
              "      </button>\n",
              "      \n",
              "  <style>\n",
              "    .colab-df-container {\n",
              "      display:flex;\n",
              "      flex-wrap:wrap;\n",
              "      gap: 12px;\n",
              "    }\n",
              "\n",
              "    .colab-df-convert {\n",
              "      background-color: #E8F0FE;\n",
              "      border: none;\n",
              "      border-radius: 50%;\n",
              "      cursor: pointer;\n",
              "      display: none;\n",
              "      fill: #1967D2;\n",
              "      height: 32px;\n",
              "      padding: 0 0 0 0;\n",
              "      width: 32px;\n",
              "    }\n",
              "\n",
              "    .colab-df-convert:hover {\n",
              "      background-color: #E2EBFA;\n",
              "      box-shadow: 0px 1px 2px rgba(60, 64, 67, 0.3), 0px 1px 3px 1px rgba(60, 64, 67, 0.15);\n",
              "      fill: #174EA6;\n",
              "    }\n",
              "\n",
              "    [theme=dark] .colab-df-convert {\n",
              "      background-color: #3B4455;\n",
              "      fill: #D2E3FC;\n",
              "    }\n",
              "\n",
              "    [theme=dark] .colab-df-convert:hover {\n",
              "      background-color: #434B5C;\n",
              "      box-shadow: 0px 1px 3px 1px rgba(0, 0, 0, 0.15);\n",
              "      filter: drop-shadow(0px 1px 2px rgba(0, 0, 0, 0.3));\n",
              "      fill: #FFFFFF;\n",
              "    }\n",
              "  </style>\n",
              "\n",
              "      <script>\n",
              "        const buttonEl =\n",
              "          document.querySelector('#df-bfb2d43d-1e09-429e-8ae0-c41cdc6d5a80 button.colab-df-convert');\n",
              "        buttonEl.style.display =\n",
              "          google.colab.kernel.accessAllowed ? 'block' : 'none';\n",
              "\n",
              "        async function convertToInteractive(key) {\n",
              "          const element = document.querySelector('#df-bfb2d43d-1e09-429e-8ae0-c41cdc6d5a80');\n",
              "          const dataTable =\n",
              "            await google.colab.kernel.invokeFunction('convertToInteractive',\n",
              "                                                     [key], {});\n",
              "          if (!dataTable) return;\n",
              "\n",
              "          const docLinkHtml = 'Like what you see? Visit the ' +\n",
              "            '<a target=\"_blank\" href=https://colab.research.google.com/notebooks/data_table.ipynb>data table notebook</a>'\n",
              "            + ' to learn more about interactive tables.';\n",
              "          element.innerHTML = '';\n",
              "          dataTable['output_type'] = 'display_data';\n",
              "          await google.colab.output.renderOutput(dataTable, element);\n",
              "          const docLink = document.createElement('div');\n",
              "          docLink.innerHTML = docLinkHtml;\n",
              "          element.appendChild(docLink);\n",
              "        }\n",
              "      </script>\n",
              "    </div>\n",
              "  </div>\n",
              "  "
            ]
          },
          "metadata": {}
        }
      ]
    },
    {
      "cell_type": "code",
      "source": [
        "#Gráfico básico\n",
        "dfSexos.plot(kind='bar',y='percentual', title = 'Usuarios por Gênero', colormap = 'plasma');"
      ],
      "metadata": {
        "colab": {
          "base_uri": "https://localhost:8080/",
          "height": 312
        },
        "id": "Hx4XXgLcFYDN",
        "outputId": "8deda74d-8545-4505-f2a1-64a7c2801d37"
      },
      "execution_count": 177,
      "outputs": [
        {
          "output_type": "display_data",
          "data": {
            "text/plain": [
              "<Figure size 432x288 with 1 Axes>"
            ],
            "image/png": "[encoded data removed]"
          },
          "metadata": {}
        }
      ]
    },
    {
      "cell_type": "markdown",
      "source": [
        "### A porcentagem dos usuários por país"
      ],
      "metadata": {
        "id": "deuB-c9OEMy-"
      }
    },
    {
      "cell_type": "markdown",
      "source": [
        "Import da package para acesso e tratamento dos países (Country)"
      ],
      "metadata": {
        "id": "SvKzxKtuenGp"
      }
    },
    {
      "cell_type": "code",
      "source": [
        "# Instala o pacote\n",
        "# https://pypi.org/project/pycountry/\n",
        "!pip install -q pycountry"
      ],
      "metadata": {
        "id": "XNlMnLsLUUtg"
      },
      "execution_count": 178,
      "outputs": []
    },
    {
      "cell_type": "code",
      "source": [
        "# Listas auxiliares Paises\n",
        "import pycountry\n",
        "nomes_paises = []"
      ],
      "metadata": {
        "id": "3Lb5jQ7t0WqY"
      },
      "execution_count": 179,
      "outputs": []
    },
    {
      "cell_type": "code",
      "source": [
        "df.head(3)"
      ],
      "metadata": {
        "colab": {
          "base_uri": "https://localhost:8080/",
          "height": 364
        },
        "id": "f0xnsEJaoGHL",
        "outputId": "e0b4a109-789f-46d6-be24-ab185c76f035"
      },
      "execution_count": 180,
      "outputs": [
        {
          "output_type": "execute_result",
          "data": {
            "text/plain": [
              "   gender                      email           phone            cell nat  \\\n",
              "0    male    juan.otoole@example.com    051-265-4842    081-961-2946  IE   \n",
              "1    male  ayman.tveitan@example.com        65343765        43350743  NO   \n",
              "2  female   norah.dumont@example.com  02-62-32-28-36  06-87-49-15-13  FR   \n",
              "\n",
              "  name.title name.first name.last  location.street.number  \\\n",
              "0         Mr       Juan    Otoole                    3606   \n",
              "1         Mr      Ayman   Tveitan                    5159   \n",
              "2       Miss      Norah    Dumont                     272   \n",
              "\n",
              "  location.street.name location.city  location.state location.country  \\\n",
              "0        Novara Avenue         Ardee           Laois          Ireland   \n",
              "1        Eindrides vei       Ålesund          Bergen           Norway   \n",
              "2          Rue Courbet    Courbevoie  Maine-et-Loire           France   \n",
              "\n",
              "  location.postcode location.coordinates.latitude  \\\n",
              "0             14034                       -2.5585   \n",
              "1              2003                       83.6119   \n",
              "2             96685                      -28.7149   \n",
              "\n",
              "  location.coordinates.longitude location.timezone.offset  \\\n",
              "0                       -81.7806                    -1:00   \n",
              "1                        54.3115                   +10:00   \n",
              "2                      -117.9246                   -12:00   \n",
              "\n",
              "          location.timezone.description                            login.uuid  \\\n",
              "0            Azores, Cape Verde Islands  8b658070-9c3c-429e-b61d-f3ae94a87d64   \n",
              "1  Eastern Australia, Guam, Vladivostok  14f6b8c5-5963-4c61-af82-f1547fe782fa   \n",
              "2                   Eniwetok, Kwajalein  917d8857-5ba9-4565-91c7-6c51369d3000   \n",
              "\n",
              "     login.username login.password login.salt  \\\n",
              "0  beautifulswan963         hallie   JVoWkJ39   \n",
              "1      goldendog635       panther1   qE03CGl0   \n",
              "2      bigrabbit783          isaac   6YyhWtga   \n",
              "\n",
              "                          login.md5                                login.sha1  \\\n",
              "0  c85c9d31e4a63a53fa7846e9b82f0dbe  1e62e5abe41de80d6352291440af2fcba3e16702   \n",
              "1  9d76f8244b93d88937d008a6ad895e5b  e8a826fdd645c973e30907f70adad8d66b1c03e9   \n",
              "2  ce7167f166a7fcffea837d3037576114  ccbca11d9eacf71776ac312e4643836faa263289   \n",
              "\n",
              "                                        login.sha256  \\\n",
              "0  3fd2fa9b33d072dec82701af949078bda24f2df0b7ffbf...   \n",
              "1  07ed5a9d17e5e7cb30dcfaae53d2161b1cb43c9fe32299...   \n",
              "2  8cb5beb40a8ba050815cf9d93bd4843890abc1da363edf...   \n",
              "\n",
              "                   dob.date  dob.age           registered.date  \\\n",
              "0  1956-01-22T13:24:37.805Z       67  2015-06-19T10:32:01.280Z   \n",
              "1  1949-11-25T18:06:25.394Z       73  2011-10-23T09:45:51.207Z   \n",
              "2  1993-09-03T00:02:17.413Z       29  2008-04-16T07:36:07.234Z   \n",
              "\n",
              "   registered.age id.name          id.value  \\\n",
              "0               7     PPS          5733542T   \n",
              "1              11      FN       25114945741   \n",
              "2              14   INSEE  2930831697226 76   \n",
              "\n",
              "                                      picture.large  \\\n",
              "0    https://randomuser.me/api/portraits/men/91.jpg   \n",
              "1    https://randomuser.me/api/portraits/men/86.jpg   \n",
              "2  https://randomuser.me/api/portraits/women/95.jpg   \n",
              "\n",
              "                                      picture.medium  \\\n",
              "0  https://randomuser.me/api/portraits/med/men/91...   \n",
              "1  https://randomuser.me/api/portraits/med/men/86...   \n",
              "2  https://randomuser.me/api/portraits/med/women/...   \n",
              "\n",
              "                                   picture.thumbnail  \n",
              "0  https://randomuser.me/api/portraits/thumb/men/...  \n",
              "1  https://randomuser.me/api/portraits/thumb/men/...  \n",
              "2  https://randomuser.me/api/portraits/thumb/wome...  "
            ],
            "text/html": [
              "\n",
              "  <div id=\"df-4f11947e-1f0d-4929-9e3f-f8eff25a6dca\">\n",
              "    <div class=\"colab-df-container\">\n",
              "      <div>\n",
              "<style scoped>\n",
              "    .dataframe tbody tr th:only-of-type {\n",
              "        vertical-align: middle;\n",
              "    }\n",
              "\n",
              "    .dataframe tbody tr th {\n",
              "        vertical-align: top;\n",
              "    }\n",
              "\n",
              "    .dataframe thead th {\n",
              "        text-align: right;\n",
              "    }\n",
              "</style>\n",
              "<table border=\"1\" class=\"dataframe\">\n",
              "  <thead>\n",
              "    <tr style=\"text-align: right;\">\n",
              "      <th></th>\n",
              "      <th>gender</th>\n",
              "      <th>email</th>\n",
              "      <th>phone</th>\n",
              "      <th>cell</th>\n",
              "      <th>nat</th>\n",
              "      <th>name.title</th>\n",
              "      <th>name.first</th>\n",
              "      <th>name.last</th>\n",
              "      <th>location.street.number</th>\n",
              "      <th>location.street.name</th>\n",
              "      <th>location.city</th>\n",
              "      <th>location.state</th>\n",
              "      <th>location.country</th>\n",
              "      <th>location.postcode</th>\n",
              "      <th>location.coordinates.latitude</th>\n",
              "      <th>location.coordinates.longitude</th>\n",
              "      <th>location.timezone.offset</th>\n",
              "      <th>location.timezone.description</th>\n",
              "      <th>login.uuid</th>\n",
              "      <th>login.username</th>\n",
              "      <th>login.password</th>\n",
              "      <th>login.salt</th>\n",
              "      <th>login.md5</th>\n",
              "      <th>login.sha1</th>\n",
              "      <th>login.sha256</th>\n",
              "      <th>dob.date</th>\n",
              "      <th>dob.age</th>\n",
              "      <th>registered.date</th>\n",
              "      <th>registered.age</th>\n",
              "      <th>id.name</th>\n",
              "      <th>id.value</th>\n",
              "      <th>picture.large</th>\n",
              "      <th>picture.medium</th>\n",
              "      <th>picture.thumbnail</th>\n",
              "    </tr>\n",
              "  </thead>\n",
              "  <tbody>\n",
              "    <tr>\n",
              "      <th>0</th>\n",
              "      <td>male</td>\n",
              "      <td>juan.otoole@example.com</td>\n",
              "      <td>051-265-4842</td>\n",
              "      <td>081-961-2946</td>\n",
              "      <td>IE</td>\n",
              "      <td>Mr</td>\n",
              "      <td>Juan</td>\n",
              "      <td>Otoole</td>\n",
              "      <td>3606</td>\n",
              "      <td>Novara Avenue</td>\n",
              "      <td>Ardee</td>\n",
              "      <td>Laois</td>\n",
              "      <td>Ireland</td>\n",
              "      <td>14034</td>\n",
              "      <td>-2.5585</td>\n",
              "      <td>-81.7806</td>\n",
              "      <td>-1:00</td>\n",
              "      <td>Azores, Cape Verde Islands</td>\n",
              "      <td>8b658070-9c3c-429e-b61d-f3ae94a87d64</td>\n",
              "      <td>beautifulswan963</td>\n",
              "      <td>hallie</td>\n",
              "      <td>JVoWkJ39</td>\n",
              "      <td>c85c9d31e4a63a53fa7846e9b82f0dbe</td>\n",
              "      <td>1e62e5abe41de80d6352291440af2fcba3e16702</td>\n",
              "      <td>3fd2fa9b33d072dec82701af949078bda24f2df0b7ffbf...</td>\n",
              "      <td>1956-01-22T13:24:37.805Z</td>\n",
              "      <td>67</td>\n",
              "      <td>2015-06-19T10:32:01.280Z</td>\n",
              "      <td>7</td>\n",
              "      <td>PPS</td>\n",
              "      <td>5733542T</td>\n",
              "      <td>https://randomuser.me/api/portraits/men/91.jpg</td>\n",
              "      <td>https://randomuser.me/api/portraits/med/men/91...</td>\n",
              "      <td>https://randomuser.me/api/portraits/thumb/men/...</td>\n",
              "    </tr>\n",
              "    <tr>\n",
              "      <th>1</th>\n",
              "      <td>male</td>\n",
              "      <td>ayman.tveitan@example.com</td>\n",
              "      <td>65343765</td>\n",
              "      <td>43350743</td>\n",
              "      <td>NO</td>\n",
              "      <td>Mr</td>\n",
              "      <td>Ayman</td>\n",
              "      <td>Tveitan</td>\n",
              "      <td>5159</td>\n",
              "      <td>Eindrides vei</td>\n",
              "      <td>Ålesund</td>\n",
              "      <td>Bergen</td>\n",
              "      <td>Norway</td>\n",
              "      <td>2003</td>\n",
              "      <td>83.6119</td>\n",
              "      <td>54.3115</td>\n",
              "      <td>+10:00</td>\n",
              "      <td>Eastern Australia, Guam, Vladivostok</td>\n",
              "      <td>14f6b8c5-5963-4c61-af82-f1547fe782fa</td>\n",
              "      <td>goldendog635</td>\n",
              "      <td>panther1</td>\n",
              "      <td>qE03CGl0</td>\n",
              "      <td>9d76f8244b93d88937d008a6ad895e5b</td>\n",
              "      <td>e8a826fdd645c973e30907f70adad8d66b1c03e9</td>\n",
              "      <td>07ed5a9d17e5e7cb30dcfaae53d2161b1cb43c9fe32299...</td>\n",
              "      <td>1949-11-25T18:06:25.394Z</td>\n",
              "      <td>73</td>\n",
              "      <td>2011-10-23T09:45:51.207Z</td>\n",
              "      <td>11</td>\n",
              "      <td>FN</td>\n",
              "      <td>25114945741</td>\n",
              "      <td>https://randomuser.me/api/portraits/men/86.jpg</td>\n",
              "      <td>https://randomuser.me/api/portraits/med/men/86...</td>\n",
              "      <td>https://randomuser.me/api/portraits/thumb/men/...</td>\n",
              "    </tr>\n",
              "    <tr>\n",
              "      <th>2</th>\n",
              "      <td>female</td>\n",
              "      <td>norah.dumont@example.com</td>\n",
              "      <td>02-62-32-28-36</td>\n",
              "      <td>06-87-49-15-13</td>\n",
              "      <td>FR</td>\n",
              "      <td>Miss</td>\n",
              "      <td>Norah</td>\n",
              "      <td>Dumont</td>\n",
              "      <td>272</td>\n",
              "      <td>Rue Courbet</td>\n",
              "      <td>Courbevoie</td>\n",
              "      <td>Maine-et-Loire</td>\n",
              "      <td>France</td>\n",
              "      <td>96685</td>\n",
              "      <td>-28.7149</td>\n",
              "      <td>-117.9246</td>\n",
              "      <td>-12:00</td>\n",
              "      <td>Eniwetok, Kwajalein</td>\n",
              "      <td>917d8857-5ba9-4565-91c7-6c51369d3000</td>\n",
              "      <td>bigrabbit783</td>\n",
              "      <td>isaac</td>\n",
              "      <td>6YyhWtga</td>\n",
              "      <td>ce7167f166a7fcffea837d3037576114</td>\n",
              "      <td>ccbca11d9eacf71776ac312e4643836faa263289</td>\n",
              "      <td>8cb5beb40a8ba050815cf9d93bd4843890abc1da363edf...</td>\n",
              "      <td>1993-09-03T00:02:17.413Z</td>\n",
              "      <td>29</td>\n",
              "      <td>2008-04-16T07:36:07.234Z</td>\n",
              "      <td>14</td>\n",
              "      <td>INSEE</td>\n",
              "      <td>2930831697226 76</td>\n",
              "      <td>https://randomuser.me/api/portraits/women/95.jpg</td>\n",
              "      <td>https://randomuser.me/api/portraits/med/women/...</td>\n",
              "      <td>https://randomuser.me/api/portraits/thumb/wome...</td>\n",
              "    </tr>\n",
              "  </tbody>\n",
              "</table>\n",
              "</div>\n",
              "      <button class=\"colab-df-convert\" onclick=\"convertToInteractive('df-4f11947e-1f0d-4929-9e3f-f8eff25a6dca')\"\n",
              "              title=\"Convert this dataframe to an interactive table.\"\n",
              "              style=\"display:none;\">\n",
              "        \n",
              "  <svg xmlns=\"http://www.w3.org/2000/svg\" height=\"24px\"viewBox=\"0 0 24 24\"\n",
              "       width=\"24px\">\n",
              "    <path d=\"M0 0h24v24H0V0z\" fill=\"none\"/>\n",
              "    <path d=\"M18.56 5.44l.94 2.06.94-2.06 2.06-.94-2.06-.94-.94-2.06-.94 2.06-2.06.94zm-11 1L8.5 8.5l.94-2.06 2.06-.94-2.06-.94L8.5 2.5l-.94 2.06-2.06.94zm10 10l.94 2.06.94-2.06 2.06-.94-2.06-.94-.94-2.06-.94 2.06-2.06.94z\"/><path d=\"M17.41 7.96l-1.37-1.37c-.4-.4-.92-.59-1.43-.59-.52 0-1.04.2-1.43.59L10.3 9.45l-7.72 7.72c-.78.78-.78 2.05 0 2.83L4 21.41c.39.39.9.59 1.41.59.51 0 1.02-.2 1.41-.59l7.78-7.78 2.81-2.81c.8-.78.8-2.07 0-2.86zM5.41 20L4 18.59l7.72-7.72 1.47 1.35L5.41 20z\"/>\n",
              "  </svg>\n",
              "      </button>\n",
              "      \n",
              "  <style>\n",
              "    .colab-df-container {\n",
              "      display:flex;\n",
              "      flex-wrap:wrap;\n",
              "      gap: 12px;\n",
              "    }\n",
              "\n",
              "    .colab-df-convert {\n",
              "      background-color: #E8F0FE;\n",
              "      border: none;\n",
              "      border-radius: 50%;\n",
              "      cursor: pointer;\n",
              "      display: none;\n",
              "      fill: #1967D2;\n",
              "      height: 32px;\n",
              "      padding: 0 0 0 0;\n",
              "      width: 32px;\n",
              "    }\n",
              "\n",
              "    .colab-df-convert:hover {\n",
              "      background-color: #E2EBFA;\n",
              "      box-shadow: 0px 1px 2px rgba(60, 64, 67, 0.3), 0px 1px 3px 1px rgba(60, 64, 67, 0.15);\n",
              "      fill: #174EA6;\n",
              "    }\n",
              "\n",
              "    [theme=dark] .colab-df-convert {\n",
              "      background-color: #3B4455;\n",
              "      fill: #D2E3FC;\n",
              "    }\n",
              "\n",
              "    [theme=dark] .colab-df-convert:hover {\n",
              "      background-color: #434B5C;\n",
              "      box-shadow: 0px 1px 3px 1px rgba(0, 0, 0, 0.15);\n",
              "      filter: drop-shadow(0px 1px 2px rgba(0, 0, 0, 0.3));\n",
              "      fill: #FFFFFF;\n",
              "    }\n",
              "  </style>\n",
              "\n",
              "      <script>\n",
              "        const buttonEl =\n",
              "          document.querySelector('#df-4f11947e-1f0d-4929-9e3f-f8eff25a6dca button.colab-df-convert');\n",
              "        buttonEl.style.display =\n",
              "          google.colab.kernel.accessAllowed ? 'block' : 'none';\n",
              "\n",
              "        async function convertToInteractive(key) {\n",
              "          const element = document.querySelector('#df-4f11947e-1f0d-4929-9e3f-f8eff25a6dca');\n",
              "          const dataTable =\n",
              "            await google.colab.kernel.invokeFunction('convertToInteractive',\n",
              "                                                     [key], {});\n",
              "          if (!dataTable) return;\n",
              "\n",
              "          const docLinkHtml = 'Like what you see? Visit the ' +\n",
              "            '<a target=\"_blank\" href=https://colab.research.google.com/notebooks/data_table.ipynb>data table notebook</a>'\n",
              "            + ' to learn more about interactive tables.';\n",
              "          element.innerHTML = '';\n",
              "          dataTable['output_type'] = 'display_data';\n",
              "          await google.colab.output.renderOutput(dataTable, element);\n",
              "          const docLink = document.createElement('div');\n",
              "          docLink.innerHTML = docLinkHtml;\n",
              "          element.appendChild(docLink);\n",
              "        }\n",
              "      </script>\n",
              "    </div>\n",
              "  </div>\n",
              "  "
            ]
          },
          "metadata": {},
          "execution_count": 180
        }
      ]
    },
    {
      "cell_type": "code",
      "execution_count": 181,
      "metadata": {
        "id": "y0EiQBfgNEgb"
      },
      "outputs": [],
      "source": [
        "# Loop para obter o país de acordo com a região\n",
        "#tratar a contagem desagrupada\n",
        "for i in range(df.shape[0]):\n",
        "    try:\n",
        "        pais = df['nat'].values[i]\n",
        "        paisDescricao=pycountry.countries.get(alpha_2=pais).name\n",
        "        nomes_paises.append(paisDescricao)\n",
        "    except:\n",
        "        continue"
      ]
    },
    {
      "cell_type": "code",
      "execution_count": 194,
      "metadata": {
        "id": "Ke69xq96Oeeu",
        "colab": {
          "base_uri": "https://localhost:8080/",
          "height": 382
        },
        "outputId": "956d7c8b-2b3b-4281-ddfc-52fe9567af5f"
      },
      "outputs": [
        {
          "output_type": "display_data",
          "data": {
            "text/plain": [
              "{'Ireland': 8,\n",
              " 'Norway': 6,\n",
              " 'France': 6,\n",
              " 'Serbia': 3,\n",
              " 'Spain': 7,\n",
              " 'United States': 11,\n",
              " 'Mexico': 8,\n",
              " 'India': 9,\n",
              " 'Iran, Islamic Republic of': 5,\n",
              " 'Australia': 6,\n",
              " 'Brazil': 11,\n",
              " 'Ukraine': 9,\n",
              " 'Germany': 5,\n",
              " 'Denmark': 5,\n",
              " 'Netherlands': 3,\n",
              " 'Turkey': 7,\n",
              " 'Switzerland': 6,\n",
              " 'Canada': 6,\n",
              " 'New Zealand': 4,\n",
              " 'Finland': 4,\n",
              " 'United Kingdom': 6}"
            ]
          },
          "metadata": {}
        }
      ],
      "source": [
        "# Prepara e exibe um dictonary com a contagem de usuarios por pais\n",
        "from collections import Counter\n",
        "dict_usuario_pais = dict(Counter(nomes_paises))\n",
        "display(dict_usuario_pais)\n"
      ]
    },
    {
      "cell_type": "code",
      "source": [
        "type(dict_usuario_pais)"
      ],
      "metadata": {
        "colab": {
          "base_uri": "https://localhost:8080/"
        },
        "id": "ACcnxqHwv0_w",
        "outputId": "01aaf33d-402d-4138-a988-714047396091"
      },
      "execution_count": 158,
      "outputs": [
        {
          "output_type": "execute_result",
          "data": {
            "text/plain": [
              "dict"
            ]
          },
          "metadata": {},
          "execution_count": 158
        }
      ]
    },
    {
      "cell_type": "code",
      "source": [
        "# Transform dictonary into a new dataframe\n",
        "df_usuarios_pais=pd.DataFrame.from_dict(dict_usuario_pais, orient='index', columns=['Usuarios'])\n"
      ],
      "metadata": {
        "id": "Vf0r3LoRw4i7"
      },
      "execution_count": 184,
      "outputs": []
    },
    {
      "cell_type": "code",
      "source": [
        "#Relatório básico\n",
        "df_usuarios_pais.head()"
      ],
      "metadata": {
        "colab": {
          "base_uri": "https://localhost:8080/",
          "height": 206
        },
        "id": "DHycC69WBzRu",
        "outputId": "f23e819b-c6de-4f17-c56c-d96b982bdbdf"
      },
      "execution_count": 185,
      "outputs": [
        {
          "output_type": "execute_result",
          "data": {
            "text/plain": [
              "         Usuarios\n",
              "Ireland         8\n",
              "Norway          6\n",
              "France          6\n",
              "Serbia          3\n",
              "Spain           7"
            ],
            "text/html": [
              "\n",
              "  <div id=\"df-abfae09b-d0f0-4f86-8621-1e645d6548b4\">\n",
              "    <div class=\"colab-df-container\">\n",
              "      <div>\n",
              "<style scoped>\n",
              "    .dataframe tbody tr th:only-of-type {\n",
              "        vertical-align: middle;\n",
              "    }\n",
              "\n",
              "    .dataframe tbody tr th {\n",
              "        vertical-align: top;\n",
              "    }\n",
              "\n",
              "    .dataframe thead th {\n",
              "        text-align: right;\n",
              "    }\n",
              "</style>\n",
              "<table border=\"1\" class=\"dataframe\">\n",
              "  <thead>\n",
              "    <tr style=\"text-align: right;\">\n",
              "      <th></th>\n",
              "      <th>Usuarios</th>\n",
              "    </tr>\n",
              "  </thead>\n",
              "  <tbody>\n",
              "    <tr>\n",
              "      <th>Ireland</th>\n",
              "      <td>8</td>\n",
              "    </tr>\n",
              "    <tr>\n",
              "      <th>Norway</th>\n",
              "      <td>6</td>\n",
              "    </tr>\n",
              "    <tr>\n",
              "      <th>France</th>\n",
              "      <td>6</td>\n",
              "    </tr>\n",
              "    <tr>\n",
              "      <th>Serbia</th>\n",
              "      <td>3</td>\n",
              "    </tr>\n",
              "    <tr>\n",
              "      <th>Spain</th>\n",
              "      <td>7</td>\n",
              "    </tr>\n",
              "  </tbody>\n",
              "</table>\n",
              "</div>\n",
              "      <button class=\"colab-df-convert\" onclick=\"convertToInteractive('df-abfae09b-d0f0-4f86-8621-1e645d6548b4')\"\n",
              "              title=\"Convert this dataframe to an interactive table.\"\n",
              "              style=\"display:none;\">\n",
              "        \n",
              "  <svg xmlns=\"http://www.w3.org/2000/svg\" height=\"24px\"viewBox=\"0 0 24 24\"\n",
              "       width=\"24px\">\n",
              "    <path d=\"M0 0h24v24H0V0z\" fill=\"none\"/>\n",
              "    <path d=\"M18.56 5.44l.94 2.06.94-2.06 2.06-.94-2.06-.94-.94-2.06-.94 2.06-2.06.94zm-11 1L8.5 8.5l.94-2.06 2.06-.94-2.06-.94L8.5 2.5l-.94 2.06-2.06.94zm10 10l.94 2.06.94-2.06 2.06-.94-2.06-.94-.94-2.06-.94 2.06-2.06.94z\"/><path d=\"M17.41 7.96l-1.37-1.37c-.4-.4-.92-.59-1.43-.59-.52 0-1.04.2-1.43.59L10.3 9.45l-7.72 7.72c-.78.78-.78 2.05 0 2.83L4 21.41c.39.39.9.59 1.41.59.51 0 1.02-.2 1.41-.59l7.78-7.78 2.81-2.81c.8-.78.8-2.07 0-2.86zM5.41 20L4 18.59l7.72-7.72 1.47 1.35L5.41 20z\"/>\n",
              "  </svg>\n",
              "      </button>\n",
              "      \n",
              "  <style>\n",
              "    .colab-df-container {\n",
              "      display:flex;\n",
              "      flex-wrap:wrap;\n",
              "      gap: 12px;\n",
              "    }\n",
              "\n",
              "    .colab-df-convert {\n",
              "      background-color: #E8F0FE;\n",
              "      border: none;\n",
              "      border-radius: 50%;\n",
              "      cursor: pointer;\n",
              "      display: none;\n",
              "      fill: #1967D2;\n",
              "      height: 32px;\n",
              "      padding: 0 0 0 0;\n",
              "      width: 32px;\n",
              "    }\n",
              "\n",
              "    .colab-df-convert:hover {\n",
              "      background-color: #E2EBFA;\n",
              "      box-shadow: 0px 1px 2px rgba(60, 64, 67, 0.3), 0px 1px 3px 1px rgba(60, 64, 67, 0.15);\n",
              "      fill: #174EA6;\n",
              "    }\n",
              "\n",
              "    [theme=dark] .colab-df-convert {\n",
              "      background-color: #3B4455;\n",
              "      fill: #D2E3FC;\n",
              "    }\n",
              "\n",
              "    [theme=dark] .colab-df-convert:hover {\n",
              "      background-color: #434B5C;\n",
              "      box-shadow: 0px 1px 3px 1px rgba(0, 0, 0, 0.15);\n",
              "      filter: drop-shadow(0px 1px 2px rgba(0, 0, 0, 0.3));\n",
              "      fill: #FFFFFF;\n",
              "    }\n",
              "  </style>\n",
              "\n",
              "      <script>\n",
              "        const buttonEl =\n",
              "          document.querySelector('#df-abfae09b-d0f0-4f86-8621-1e645d6548b4 button.colab-df-convert');\n",
              "        buttonEl.style.display =\n",
              "          google.colab.kernel.accessAllowed ? 'block' : 'none';\n",
              "\n",
              "        async function convertToInteractive(key) {\n",
              "          const element = document.querySelector('#df-abfae09b-d0f0-4f86-8621-1e645d6548b4');\n",
              "          const dataTable =\n",
              "            await google.colab.kernel.invokeFunction('convertToInteractive',\n",
              "                                                     [key], {});\n",
              "          if (!dataTable) return;\n",
              "\n",
              "          const docLinkHtml = 'Like what you see? Visit the ' +\n",
              "            '<a target=\"_blank\" href=https://colab.research.google.com/notebooks/data_table.ipynb>data table notebook</a>'\n",
              "            + ' to learn more about interactive tables.';\n",
              "          element.innerHTML = '';\n",
              "          dataTable['output_type'] = 'display_data';\n",
              "          await google.colab.output.renderOutput(dataTable, element);\n",
              "          const docLink = document.createElement('div');\n",
              "          docLink.innerHTML = docLinkHtml;\n",
              "          element.appendChild(docLink);\n",
              "        }\n",
              "      </script>\n",
              "    </div>\n",
              "  </div>\n",
              "  "
            ]
          },
          "metadata": {},
          "execution_count": 185
        }
      ]
    },
    {
      "cell_type": "code",
      "source": [
        "#Gráfico básico, sem exibição do nome de todos os paises que tem usuários\n",
        "df_usuarios_pais.plot(y='Usuarios', title = 'Usuarios por Pais', colormap = 'viridis');"
      ],
      "metadata": {
        "colab": {
          "base_uri": "https://localhost:8080/",
          "height": 284
        },
        "id": "MaiH1FKQBuE0",
        "outputId": "505291bd-7b53-4ce2-df48-4237ae3d5b12"
      },
      "execution_count": 189,
      "outputs": [
        {
          "output_type": "display_data",
          "data": {
            "text/plain": [
              "<Figure size 432x288 with 1 Axes>"
            ],
            "image/png": "[encoded data removed]"
          },
          "metadata": {}
        }
      ]
    },
    {
      "cell_type": "code",
      "source": [
        "# Lista auxiliar Paises\n",
        "# para alterar o label da coluna paises\n",
        "df_usuario_pais.rename( columns={'Unnamed: 0':'pais',1 :'usuarios'}, inplace=True)\n",
        "\n",
        "#paisesLista = df_usuarios_paises.columns.tolist()\n",
        "#paisesLista[paisesLista.index('paises')] = 'usuarios'\n",
        "#df_usuarios_paises.columns = paisesLista"
      ],
      "metadata": {
        "id": "-ic_P1Xs1rei",
        "colab": {
          "base_uri": "https://localhost:8080/",
          "height": 235
        },
        "outputId": "ed7fc6d6-f9da-4c71-bb6c-e80494b53b89"
      },
      "execution_count": 70,
      "outputs": [
        {
          "output_type": "error",
          "ename": "AttributeError",
          "evalue": "ignored",
          "traceback": [
            "\u001b[0;31m---------------------------------------------------------------------------\u001b[0m",
            "\u001b[0;31mAttributeError\u001b[0m                            Traceback (most recent call last)",
            "\u001b[0;32m<ipython-input-70-223a290e1321>\u001b[0m in \u001b[0;36m<module>\u001b[0;34m\u001b[0m\n\u001b[1;32m      1\u001b[0m \u001b[0;31m# Lista auxiliar Paises\u001b[0m\u001b[0;34m\u001b[0m\u001b[0;34m\u001b[0m\u001b[0;34m\u001b[0m\u001b[0m\n\u001b[1;32m      2\u001b[0m \u001b[0;31m# para alterar o label da coluna paises\u001b[0m\u001b[0;34m\u001b[0m\u001b[0;34m\u001b[0m\u001b[0;34m\u001b[0m\u001b[0m\n\u001b[0;32m----> 3\u001b[0;31m \u001b[0mdf_usuario_pais\u001b[0m\u001b[0;34m.\u001b[0m\u001b[0mrename\u001b[0m\u001b[0;34m(\u001b[0m \u001b[0mcolumns\u001b[0m\u001b[0;34m=\u001b[0m\u001b[0;34m{\u001b[0m\u001b[0;34m'Unnamed: 0'\u001b[0m\u001b[0;34m:\u001b[0m\u001b[0;34m'pais'\u001b[0m\u001b[0;34m,\u001b[0m\u001b[0;36m1\u001b[0m \u001b[0;34m:\u001b[0m\u001b[0;34m'usuarios'\u001b[0m\u001b[0;34m}\u001b[0m\u001b[0;34m,\u001b[0m \u001b[0minplace\u001b[0m\u001b[0;34m=\u001b[0m\u001b[0;32mTrue\u001b[0m\u001b[0;34m)\u001b[0m\u001b[0;34m\u001b[0m\u001b[0;34m\u001b[0m\u001b[0m\n\u001b[0m\u001b[1;32m      4\u001b[0m \u001b[0;34m\u001b[0m\u001b[0m\n\u001b[1;32m      5\u001b[0m \u001b[0;31m#paisesLista = df_usuarios_paises.columns.tolist()\u001b[0m\u001b[0;34m\u001b[0m\u001b[0;34m\u001b[0m\u001b[0;34m\u001b[0m\u001b[0m\n",
            "\u001b[0;31mAttributeError\u001b[0m: 'Counter' object has no attribute 'rename'"
          ]
        }
      ]
    },
    {
      "cell_type": "code",
      "execution_count": null,
      "metadata": {
        "id": "OJPKheYkkBL1",
        "outputId": "b7bca97a-2319-4ada-b8fb-8ba6d098c26e",
        "colab": {
          "base_uri": "https://localhost:8080/",
          "height": 708
        }
      },
      "outputs": [
        {
          "output_type": "display_data",
          "data": {
            "text/plain": [
              "                           usuarios\n",
              "Germany                          15\n",
              "Iran, Islamic Republic of        15\n",
              "United Kingdom                   12\n",
              "Switzerland                      12\n",
              "Netherlands                      12\n",
              "Spain                            11\n",
              "Ireland                          10\n",
              "India                            10\n",
              "Brazil                            9\n",
              "Serbia                            9\n",
              "Ukraine                           9\n",
              "Canada                            8\n",
              "France                            8\n",
              "Finland                           8\n",
              "Mexico                            8\n",
              "Australia                         7\n",
              "New Zealand                       7\n",
              "United States                     7\n",
              "Denmark                           6\n",
              "Norway                            4\n",
              "Turkey                            3"
            ],
            "text/html": [
              "\n",
              "  <div id=\"df-edff741b-0062-4062-9f96-490b48e0204f\">\n",
              "    <div class=\"colab-df-container\">\n",
              "      <div>\n",
              "<style scoped>\n",
              "    .dataframe tbody tr th:only-of-type {\n",
              "        vertical-align: middle;\n",
              "    }\n",
              "\n",
              "    .dataframe tbody tr th {\n",
              "        vertical-align: top;\n",
              "    }\n",
              "\n",
              "    .dataframe thead th {\n",
              "        text-align: right;\n",
              "    }\n",
              "</style>\n",
              "<table border=\"1\" class=\"dataframe\">\n",
              "  <thead>\n",
              "    <tr style=\"text-align: right;\">\n",
              "      <th></th>\n",
              "      <th>usuarios</th>\n",
              "    </tr>\n",
              "  </thead>\n",
              "  <tbody>\n",
              "    <tr>\n",
              "      <th>Germany</th>\n",
              "      <td>15</td>\n",
              "    </tr>\n",
              "    <tr>\n",
              "      <th>Iran, Islamic Republic of</th>\n",
              "      <td>15</td>\n",
              "    </tr>\n",
              "    <tr>\n",
              "      <th>United Kingdom</th>\n",
              "      <td>12</td>\n",
              "    </tr>\n",
              "    <tr>\n",
              "      <th>Switzerland</th>\n",
              "      <td>12</td>\n",
              "    </tr>\n",
              "    <tr>\n",
              "      <th>Netherlands</th>\n",
              "      <td>12</td>\n",
              "    </tr>\n",
              "    <tr>\n",
              "      <th>Spain</th>\n",
              "      <td>11</td>\n",
              "    </tr>\n",
              "    <tr>\n",
              "      <th>Ireland</th>\n",
              "      <td>10</td>\n",
              "    </tr>\n",
              "    <tr>\n",
              "      <th>India</th>\n",
              "      <td>10</td>\n",
              "    </tr>\n",
              "    <tr>\n",
              "      <th>Brazil</th>\n",
              "      <td>9</td>\n",
              "    </tr>\n",
              "    <tr>\n",
              "      <th>Serbia</th>\n",
              "      <td>9</td>\n",
              "    </tr>\n",
              "    <tr>\n",
              "      <th>Ukraine</th>\n",
              "      <td>9</td>\n",
              "    </tr>\n",
              "    <tr>\n",
              "      <th>Canada</th>\n",
              "      <td>8</td>\n",
              "    </tr>\n",
              "    <tr>\n",
              "      <th>France</th>\n",
              "      <td>8</td>\n",
              "    </tr>\n",
              "    <tr>\n",
              "      <th>Finland</th>\n",
              "      <td>8</td>\n",
              "    </tr>\n",
              "    <tr>\n",
              "      <th>Mexico</th>\n",
              "      <td>8</td>\n",
              "    </tr>\n",
              "    <tr>\n",
              "      <th>Australia</th>\n",
              "      <td>7</td>\n",
              "    </tr>\n",
              "    <tr>\n",
              "      <th>New Zealand</th>\n",
              "      <td>7</td>\n",
              "    </tr>\n",
              "    <tr>\n",
              "      <th>United States</th>\n",
              "      <td>7</td>\n",
              "    </tr>\n",
              "    <tr>\n",
              "      <th>Denmark</th>\n",
              "      <td>6</td>\n",
              "    </tr>\n",
              "    <tr>\n",
              "      <th>Norway</th>\n",
              "      <td>4</td>\n",
              "    </tr>\n",
              "    <tr>\n",
              "      <th>Turkey</th>\n",
              "      <td>3</td>\n",
              "    </tr>\n",
              "  </tbody>\n",
              "</table>\n",
              "</div>\n",
              "      <button class=\"colab-df-convert\" onclick=\"convertToInteractive('df-edff741b-0062-4062-9f96-490b48e0204f')\"\n",
              "              title=\"Convert this dataframe to an interactive table.\"\n",
              "              style=\"display:none;\">\n",
              "        \n",
              "  <svg xmlns=\"http://www.w3.org/2000/svg\" height=\"24px\"viewBox=\"0 0 24 24\"\n",
              "       width=\"24px\">\n",
              "    <path d=\"M0 0h24v24H0V0z\" fill=\"none\"/>\n",
              "    <path d=\"M18.56 5.44l.94 2.06.94-2.06 2.06-.94-2.06-.94-.94-2.06-.94 2.06-2.06.94zm-11 1L8.5 8.5l.94-2.06 2.06-.94-2.06-.94L8.5 2.5l-.94 2.06-2.06.94zm10 10l.94 2.06.94-2.06 2.06-.94-2.06-.94-.94-2.06-.94 2.06-2.06.94z\"/><path d=\"M17.41 7.96l-1.37-1.37c-.4-.4-.92-.59-1.43-.59-.52 0-1.04.2-1.43.59L10.3 9.45l-7.72 7.72c-.78.78-.78 2.05 0 2.83L4 21.41c.39.39.9.59 1.41.59.51 0 1.02-.2 1.41-.59l7.78-7.78 2.81-2.81c.8-.78.8-2.07 0-2.86zM5.41 20L4 18.59l7.72-7.72 1.47 1.35L5.41 20z\"/>\n",
              "  </svg>\n",
              "      </button>\n",
              "      \n",
              "  <style>\n",
              "    .colab-df-container {\n",
              "      display:flex;\n",
              "      flex-wrap:wrap;\n",
              "      gap: 12px;\n",
              "    }\n",
              "\n",
              "    .colab-df-convert {\n",
              "      background-color: #E8F0FE;\n",
              "      border: none;\n",
              "      border-radius: 50%;\n",
              "      cursor: pointer;\n",
              "      display: none;\n",
              "      fill: #1967D2;\n",
              "      height: 32px;\n",
              "      padding: 0 0 0 0;\n",
              "      width: 32px;\n",
              "    }\n",
              "\n",
              "    .colab-df-convert:hover {\n",
              "      background-color: #E2EBFA;\n",
              "      box-shadow: 0px 1px 2px rgba(60, 64, 67, 0.3), 0px 1px 3px 1px rgba(60, 64, 67, 0.15);\n",
              "      fill: #174EA6;\n",
              "    }\n",
              "\n",
              "    [theme=dark] .colab-df-convert {\n",
              "      background-color: #3B4455;\n",
              "      fill: #D2E3FC;\n",
              "    }\n",
              "\n",
              "    [theme=dark] .colab-df-convert:hover {\n",
              "      background-color: #434B5C;\n",
              "      box-shadow: 0px 1px 3px 1px rgba(0, 0, 0, 0.15);\n",
              "      filter: drop-shadow(0px 1px 2px rgba(0, 0, 0, 0.3));\n",
              "      fill: #FFFFFF;\n",
              "    }\n",
              "  </style>\n",
              "\n",
              "      <script>\n",
              "        const buttonEl =\n",
              "          document.querySelector('#df-edff741b-0062-4062-9f96-490b48e0204f button.colab-df-convert');\n",
              "        buttonEl.style.display =\n",
              "          google.colab.kernel.accessAllowed ? 'block' : 'none';\n",
              "\n",
              "        async function convertToInteractive(key) {\n",
              "          const element = document.querySelector('#df-edff741b-0062-4062-9f96-490b48e0204f');\n",
              "          const dataTable =\n",
              "            await google.colab.kernel.invokeFunction('convertToInteractive',\n",
              "                                                     [key], {});\n",
              "          if (!dataTable) return;\n",
              "\n",
              "          const docLinkHtml = 'Like what you see? Visit the ' +\n",
              "            '<a target=\"_blank\" href=https://colab.research.google.com/notebooks/data_table.ipynb>data table notebook</a>'\n",
              "            + ' to learn more about interactive tables.';\n",
              "          element.innerHTML = '';\n",
              "          dataTable['output_type'] = 'display_data';\n",
              "          await google.colab.output.renderOutput(dataTable, element);\n",
              "          const docLink = document.createElement('div');\n",
              "          docLink.innerHTML = docLinkHtml;\n",
              "          element.appendChild(docLink);\n",
              "        }\n",
              "      </script>\n",
              "    </div>\n",
              "  </div>\n",
              "  "
            ]
          },
          "metadata": {}
        }
      ],
      "source": [
        "# Visualiza\n",
        "display(df_usuario_pais)"
      ]
    },
    {
      "cell_type": "code",
      "source": [
        "import matplotlib.pyplot as plt\n",
        "xy = plt.subplots()\n",
        "df_usuarios_paises.plot(x='paises',y='usuarios',axis=1)"
      ],
      "metadata": {
        "id": "-2PWLRPy020q",
        "colab": {
          "base_uri": "https://localhost:8080/",
          "height": 760
        },
        "outputId": "f67486dd-c267-4991-9b27-8167fbc4d3c4"
      },
      "execution_count": null,
      "outputs": [
        {
          "output_type": "error",
          "ename": "KeyError",
          "evalue": "ignored",
          "traceback": [
            "\u001b[0;31m---------------------------------------------------------------------------\u001b[0m",
            "\u001b[0;31mKeyError\u001b[0m                                  Traceback (most recent call last)",
            "\u001b[0;32m/usr/local/lib/python3.8/dist-packages/pandas/core/indexes/base.py\u001b[0m in \u001b[0;36mget_loc\u001b[0;34m(self, key, method, tolerance)\u001b[0m\n\u001b[1;32m   3360\u001b[0m             \u001b[0;32mtry\u001b[0m\u001b[0;34m:\u001b[0m\u001b[0;34m\u001b[0m\u001b[0;34m\u001b[0m\u001b[0m\n\u001b[0;32m-> 3361\u001b[0;31m                 \u001b[0;32mreturn\u001b[0m \u001b[0mself\u001b[0m\u001b[0;34m.\u001b[0m\u001b[0m_engine\u001b[0m\u001b[0;34m.\u001b[0m\u001b[0mget_loc\u001b[0m\u001b[0;34m(\u001b[0m\u001b[0mcasted_key\u001b[0m\u001b[0;34m)\u001b[0m\u001b[0;34m\u001b[0m\u001b[0;34m\u001b[0m\u001b[0m\n\u001b[0m\u001b[1;32m   3362\u001b[0m             \u001b[0;32mexcept\u001b[0m \u001b[0mKeyError\u001b[0m \u001b[0;32mas\u001b[0m \u001b[0merr\u001b[0m\u001b[0;34m:\u001b[0m\u001b[0;34m\u001b[0m\u001b[0;34m\u001b[0m\u001b[0m\n",
            "\u001b[0;32m/usr/local/lib/python3.8/dist-packages/pandas/_libs/index.pyx\u001b[0m in \u001b[0;36mpandas._libs.index.IndexEngine.get_loc\u001b[0;34m()\u001b[0m\n",
            "\u001b[0;32m/usr/local/lib/python3.8/dist-packages/pandas/_libs/index.pyx\u001b[0m in \u001b[0;36mpandas._libs.index.IndexEngine.get_loc\u001b[0;34m()\u001b[0m\n",
            "\u001b[0;32mpandas/_libs/hashtable_class_helper.pxi\u001b[0m in \u001b[0;36mpandas._libs.hashtable.PyObjectHashTable.get_item\u001b[0;34m()\u001b[0m\n",
            "\u001b[0;32mpandas/_libs/hashtable_class_helper.pxi\u001b[0m in \u001b[0;36mpandas._libs.hashtable.PyObjectHashTable.get_item\u001b[0;34m()\u001b[0m\n",
            "\u001b[0;31mKeyError\u001b[0m: 'paises'",
            "\nThe above exception was the direct cause of the following exception:\n",
            "\u001b[0;31mKeyError\u001b[0m                                  Traceback (most recent call last)",
            "\u001b[0;32m<ipython-input-35-02a0bf941798>\u001b[0m in \u001b[0;36m<module>\u001b[0;34m\u001b[0m\n\u001b[1;32m      1\u001b[0m \u001b[0;32mimport\u001b[0m \u001b[0mmatplotlib\u001b[0m\u001b[0;34m.\u001b[0m\u001b[0mpyplot\u001b[0m \u001b[0;32mas\u001b[0m \u001b[0mplt\u001b[0m\u001b[0;34m\u001b[0m\u001b[0;34m\u001b[0m\u001b[0m\n\u001b[1;32m      2\u001b[0m \u001b[0mxy\u001b[0m \u001b[0;34m=\u001b[0m \u001b[0mplt\u001b[0m\u001b[0;34m.\u001b[0m\u001b[0msubplots\u001b[0m\u001b[0;34m(\u001b[0m\u001b[0;34m)\u001b[0m\u001b[0;34m\u001b[0m\u001b[0;34m\u001b[0m\u001b[0m\n\u001b[0;32m----> 3\u001b[0;31m \u001b[0mdf_usuarios_paises\u001b[0m\u001b[0;34m.\u001b[0m\u001b[0mplot\u001b[0m\u001b[0;34m(\u001b[0m\u001b[0mx\u001b[0m\u001b[0;34m=\u001b[0m\u001b[0;34m'paises'\u001b[0m\u001b[0;34m,\u001b[0m\u001b[0my\u001b[0m\u001b[0;34m=\u001b[0m\u001b[0;34m'usuarios'\u001b[0m\u001b[0;34m,\u001b[0m\u001b[0maxis\u001b[0m\u001b[0;34m=\u001b[0m\u001b[0;36m1\u001b[0m\u001b[0;34m)\u001b[0m\u001b[0;34m\u001b[0m\u001b[0;34m\u001b[0m\u001b[0m\n\u001b[0m",
            "\u001b[0;32m/usr/local/lib/python3.8/dist-packages/pandas/plotting/_core.py\u001b[0m in \u001b[0;36m__call__\u001b[0;34m(self, *args, **kwargs)\u001b[0m\n\u001b[1;32m    935\u001b[0m                 \u001b[0;32mif\u001b[0m \u001b[0mis_integer\u001b[0m\u001b[0;34m(\u001b[0m\u001b[0mx\u001b[0m\u001b[0;34m)\u001b[0m \u001b[0;32mand\u001b[0m \u001b[0;32mnot\u001b[0m \u001b[0mdata\u001b[0m\u001b[0;34m.\u001b[0m\u001b[0mcolumns\u001b[0m\u001b[0;34m.\u001b[0m\u001b[0mholds_integer\u001b[0m\u001b[0;34m(\u001b[0m\u001b[0;34m)\u001b[0m\u001b[0;34m:\u001b[0m\u001b[0;34m\u001b[0m\u001b[0;34m\u001b[0m\u001b[0m\n\u001b[1;32m    936\u001b[0m                     \u001b[0mx\u001b[0m \u001b[0;34m=\u001b[0m \u001b[0mdata_cols\u001b[0m\u001b[0;34m[\u001b[0m\u001b[0mx\u001b[0m\u001b[0;34m]\u001b[0m\u001b[0;34m\u001b[0m\u001b[0;34m\u001b[0m\u001b[0m\n\u001b[0;32m--> 937\u001b[0;31m                 \u001b[0;32melif\u001b[0m \u001b[0;32mnot\u001b[0m \u001b[0misinstance\u001b[0m\u001b[0;34m(\u001b[0m\u001b[0mdata\u001b[0m\u001b[0;34m[\u001b[0m\u001b[0mx\u001b[0m\u001b[0;34m]\u001b[0m\u001b[0;34m,\u001b[0m \u001b[0mABCSeries\u001b[0m\u001b[0;34m)\u001b[0m\u001b[0;34m:\u001b[0m\u001b[0;34m\u001b[0m\u001b[0;34m\u001b[0m\u001b[0m\n\u001b[0m\u001b[1;32m    938\u001b[0m                     \u001b[0;32mraise\u001b[0m \u001b[0mValueError\u001b[0m\u001b[0;34m(\u001b[0m\u001b[0;34m\"x must be a label or position\"\u001b[0m\u001b[0;34m)\u001b[0m\u001b[0;34m\u001b[0m\u001b[0;34m\u001b[0m\u001b[0m\n\u001b[1;32m    939\u001b[0m                 \u001b[0mdata\u001b[0m \u001b[0;34m=\u001b[0m \u001b[0mdata\u001b[0m\u001b[0;34m.\u001b[0m\u001b[0mset_index\u001b[0m\u001b[0;34m(\u001b[0m\u001b[0mx\u001b[0m\u001b[0;34m)\u001b[0m\u001b[0;34m\u001b[0m\u001b[0;34m\u001b[0m\u001b[0m\n",
            "\u001b[0;32m/usr/local/lib/python3.8/dist-packages/pandas/core/frame.py\u001b[0m in \u001b[0;36m__getitem__\u001b[0;34m(self, key)\u001b[0m\n\u001b[1;32m   3456\u001b[0m             \u001b[0;32mif\u001b[0m \u001b[0mself\u001b[0m\u001b[0;34m.\u001b[0m\u001b[0mcolumns\u001b[0m\u001b[0;34m.\u001b[0m\u001b[0mnlevels\u001b[0m \u001b[0;34m>\u001b[0m \u001b[0;36m1\u001b[0m\u001b[0;34m:\u001b[0m\u001b[0;34m\u001b[0m\u001b[0;34m\u001b[0m\u001b[0m\n\u001b[1;32m   3457\u001b[0m                 \u001b[0;32mreturn\u001b[0m \u001b[0mself\u001b[0m\u001b[0;34m.\u001b[0m\u001b[0m_getitem_multilevel\u001b[0m\u001b[0;34m(\u001b[0m\u001b[0mkey\u001b[0m\u001b[0;34m)\u001b[0m\u001b[0;34m\u001b[0m\u001b[0;34m\u001b[0m\u001b[0m\n\u001b[0;32m-> 3458\u001b[0;31m             \u001b[0mindexer\u001b[0m \u001b[0;34m=\u001b[0m \u001b[0mself\u001b[0m\u001b[0;34m.\u001b[0m\u001b[0mcolumns\u001b[0m\u001b[0;34m.\u001b[0m\u001b[0mget_loc\u001b[0m\u001b[0;34m(\u001b[0m\u001b[0mkey\u001b[0m\u001b[0;34m)\u001b[0m\u001b[0;34m\u001b[0m\u001b[0;34m\u001b[0m\u001b[0m\n\u001b[0m\u001b[1;32m   3459\u001b[0m             \u001b[0;32mif\u001b[0m \u001b[0mis_integer\u001b[0m\u001b[0;34m(\u001b[0m\u001b[0mindexer\u001b[0m\u001b[0;34m)\u001b[0m\u001b[0;34m:\u001b[0m\u001b[0;34m\u001b[0m\u001b[0;34m\u001b[0m\u001b[0m\n\u001b[1;32m   3460\u001b[0m                 \u001b[0mindexer\u001b[0m \u001b[0;34m=\u001b[0m \u001b[0;34m[\u001b[0m\u001b[0mindexer\u001b[0m\u001b[0;34m]\u001b[0m\u001b[0;34m\u001b[0m\u001b[0;34m\u001b[0m\u001b[0m\n",
            "\u001b[0;32m/usr/local/lib/python3.8/dist-packages/pandas/core/indexes/base.py\u001b[0m in \u001b[0;36mget_loc\u001b[0;34m(self, key, method, tolerance)\u001b[0m\n\u001b[1;32m   3361\u001b[0m                 \u001b[0;32mreturn\u001b[0m \u001b[0mself\u001b[0m\u001b[0;34m.\u001b[0m\u001b[0m_engine\u001b[0m\u001b[0;34m.\u001b[0m\u001b[0mget_loc\u001b[0m\u001b[0;34m(\u001b[0m\u001b[0mcasted_key\u001b[0m\u001b[0;34m)\u001b[0m\u001b[0;34m\u001b[0m\u001b[0;34m\u001b[0m\u001b[0m\n\u001b[1;32m   3362\u001b[0m             \u001b[0;32mexcept\u001b[0m \u001b[0mKeyError\u001b[0m \u001b[0;32mas\u001b[0m \u001b[0merr\u001b[0m\u001b[0;34m:\u001b[0m\u001b[0;34m\u001b[0m\u001b[0;34m\u001b[0m\u001b[0m\n\u001b[0;32m-> 3363\u001b[0;31m                 \u001b[0;32mraise\u001b[0m \u001b[0mKeyError\u001b[0m\u001b[0;34m(\u001b[0m\u001b[0mkey\u001b[0m\u001b[0;34m)\u001b[0m \u001b[0;32mfrom\u001b[0m \u001b[0merr\u001b[0m\u001b[0;34m\u001b[0m\u001b[0;34m\u001b[0m\u001b[0m\n\u001b[0m\u001b[1;32m   3364\u001b[0m \u001b[0;34m\u001b[0m\u001b[0m\n\u001b[1;32m   3365\u001b[0m         \u001b[0;32mif\u001b[0m \u001b[0mis_scalar\u001b[0m\u001b[0;34m(\u001b[0m\u001b[0mkey\u001b[0m\u001b[0;34m)\u001b[0m \u001b[0;32mand\u001b[0m \u001b[0misna\u001b[0m\u001b[0;34m(\u001b[0m\u001b[0mkey\u001b[0m\u001b[0;34m)\u001b[0m \u001b[0;32mand\u001b[0m \u001b[0;32mnot\u001b[0m \u001b[0mself\u001b[0m\u001b[0;34m.\u001b[0m\u001b[0mhasnans\u001b[0m\u001b[0;34m:\u001b[0m\u001b[0;34m\u001b[0m\u001b[0;34m\u001b[0m\u001b[0m\n",
            "\u001b[0;31mKeyError\u001b[0m: 'paises'"
          ]
        },
        {
          "output_type": "display_data",
          "data": {
            "text/plain": [
              "<Figure size 432x288 with 1 Axes>"
            ],
            "image/png": "[encoded data removed]"
          },
          "metadata": {}
        }
      ]
    },
    {
      "cell_type": "code",
      "execution_count": null,
      "metadata": {
        "colab": {
          "base_uri": "https://localhost:8080/",
          "height": 446
        },
        "id": "9vLWE-JaPB8K",
        "outputId": "f738f6a3-4128-469f-c772-bbd2614d8caf"
      },
      "outputs": [
        {
          "data": {
            "image/png": "[encoded data removed]",
            "text/plain": [
              "<Figure size 1440x576 with 1 Axes>"
            ]
          },
          "metadata": {},
          "output_type": "display_data"
        }
      ],
      "source": [
        "# Plot\n",
        "\n",
        "# Figura\n",
        "plt.figure(figsize = (20,8))\n",
        "\n",
        "# Barplot\n",
        "sns.barplot(y = df_filmes_paises[:20].country, x = df_filmes_paises[:20].Movie_Count, orient = \"h\")\n",
        "\n",
        "# Loop\n",
        "for i in range(0,20):\n",
        "    plt.text(df_filmes_paises.Movie_Count[df_filmes_paises.index[i]]-1,\n",
        "             i + 0.30,\n",
        "             round(df_filmes_paises[\"Movie_Count\"][df_filmes_paises.index[i]],2))\n",
        "\n",
        "plt.ylabel('País')             \n",
        "plt.xlabel('\\nNúmero de Filmes')\n",
        "plt.title('\\nNúmero de Filmes Produzidos Por País\\n')\n",
        "plt.show()"
      ]
    },
    {
      "cell_type": "markdown",
      "metadata": {
        "id": "szAHC3FEyoiv"
      },
      "source": [
        "## 9- Quais São os Top 10 Melhores Filmes?\n",
        "\n",
        "Top 10 filmes com melhor avaliação e mais de 25 mil votos."
      ]
    },
    {
      "cell_type": "code",
      "execution_count": null,
      "metadata": {
        "id": "BMBWTlyykBL2"
      },
      "outputs": [],
      "source": [
        "# Resultado\n",
        "top10_melhores_filmes = pd.read_sql_query(consulta9, conn)"
      ]
    },
    {
      "cell_type": "markdown",
      "metadata": {
        "id": "AOyJM8blkBL3"
      },
      "source": [
        "## 10- Quais São os Top 10 Piores Filmes?\n",
        "\n",
        "Top 10 filmes com pior avaliação e mais de 25 mil votos."
      ]
    },
    {
      "cell_type": "code",
      "execution_count": null,
      "metadata": {
        "id": "naOoI-IXfKSI"
      },
      "outputs": [],
      "source": [
        "# Resultado\n",
        "top10_piores_filmes = pd.read_sql_query(consulta10, conn)"
      ]
    },
    {
      "cell_type": "markdown",
      "metadata": {
        "id": "H3rKUiitkBL5"
      },
      "source": [
        "# Fim"
      ]
    },
    {
      "cell_type": "markdown",
      "metadata": {
        "id": "bB-zuVijkBL5"
      },
      "source": [
        "### Obrigado\n",
        "\n",
        "### Visite o Blog da Data Science Academy - <a href=\"http://blog.dsacademy.com.br\">Blog DSA</a>"
      ]
    },
    {
      "cell_type": "markdown",
      "metadata": {
        "id": "IDJ-pf6vkBL5"
      },
      "source": [
        "Parabéns se você chegou até aqui. Use o voucher PYTHONDSA9642 para comprar qualquer curso ou Formação da DSA com 5% de desconto."
      ]
    }
  ],
  "metadata": {
    "colab": {
      "provenance": [],
      "include_colab_link": true
    },
    "kernelspec": {
      "display_name": "Python 3",
      "language": "python",
      "name": "python3"
    },
    "language_info": {
      "codemirror_mode": {
        "name": "ipython",
        "version": 3
      },
      "file_extension": ".py",
      "mimetype": "text/x-python",
      "name": "python",
      "nbconvert_exporter": "python",
      "pygments_lexer": "ipython3",
      "version": "3.8.8"
    }
  },
  "nbformat": 4,
  "nbformat_minor": 0
}