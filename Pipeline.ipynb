{
  "cells": [
    {
      "cell_type": "markdown",
      "metadata": {
        "id": "view-in-github",
        "colab_type": "text"
      },
      "source": [
        "<a href=\"https://colab.research.google.com/github/EdisonMoreira/-aquecimento-formacao-infra/blob/master/Pipeline.ipynb\" target=\"_parent\"><img src=\"https://colab.research.google.com/assets/colab-badge.svg\" alt=\"Open In Colab\"/></a>"
      ]
    },
    {
      "cell_type": "markdown",
      "metadata": {
        "id": "6yTR340XkBKS"
      },
      "source": [
        "# <font color='blue'>Escritório de Dados</font>\n",
        "\n",
        "## Aquecimento para Formação de Infraestrutura\n",
        "## Edison Moreira\n",
        "### Iplanrio / Diretoria de Sistemas (DSI) / Gerência de Arquitetura e Integrações (GAI)"
      ]
    },
    {
      "cell_type": "markdown",
      "metadata": {
        "id": "wrY9P4JKkBKh"
      },
      "source": [
        "## Pipeline\n",
        "### Etapa 1: Entendendo os dados 🎲\n",
        "\n",
        "- **Objetivo:** nessa etapa, você deve somente ingerir dados da API do `randomuser.me` e observar o formato dos dados, tentando imaginar como eles poderiam ser usados para construir uma tabela.\n",
        "- **Descrição da solução:** a solução dessa etapa consiste em uma função para consumir a API na URL `https://randomuser.me/api/` e retornar um dicionário com os dados."
      ]
    },
    {
      "cell_type": "markdown",
      "metadata": {
        "id": "AorSGd1XkBKl"
      },
      "source": [
        "## Instalando e Carregando Pacotes"
      ]
    },
    {
      "cell_type": "code",
      "execution_count": 1,
      "metadata": {
        "id": "geX_WLH2kBKm",
        "outputId": "9bd28b5e-7274-4a43-ea85-d9e42f333ebb",
        "colab": {
          "base_uri": "https://localhost:8080/"
        }
      },
      "outputs": [
        {
          "output_type": "stream",
          "name": "stdout",
          "text": [
            "Versão da Linguagem Python Usada Neste Jupyter Notebook: 3.8.10\n"
          ]
        }
      ],
      "source": [
        "# Versão da Linguagem Python\n",
        "from platform import python_version\n",
        "print('Versão da Linguagem Python Usada Neste Jupyter Notebook:', python_version())"
      ]
    },
    {
      "cell_type": "code",
      "source": [
        "pip install requests"
      ],
      "metadata": {
        "colab": {
          "base_uri": "https://localhost:8080/"
        },
        "id": "rhOx3Gq5S4n6",
        "outputId": "1962a6d3-b39d-469f-d40c-cd7b053fc5bf"
      },
      "execution_count": 2,
      "outputs": [
        {
          "output_type": "stream",
          "name": "stdout",
          "text": [
            "Looking in indexes: https://pypi.org/simple, https://us-python.pkg.dev/colab-wheels/public/simple/\n",
            "Requirement already satisfied: requests in /usr/local/lib/python3.8/dist-packages (2.25.1)\n",
            "Requirement already satisfied: certifi>=2017.4.17 in /usr/local/lib/python3.8/dist-packages (from requests) (2022.12.7)\n",
            "Requirement already satisfied: idna<3,>=2.5 in /usr/local/lib/python3.8/dist-packages (from requests) (2.10)\n",
            "Requirement already satisfied: chardet<5,>=3.0.2 in /usr/local/lib/python3.8/dist-packages (from requests) (4.0.0)\n",
            "Requirement already satisfied: urllib3<1.27,>=1.21.1 in /usr/local/lib/python3.8/dist-packages (from requests) (1.26.14)\n"
          ]
        }
      ]
    },
    {
      "cell_type": "code",
      "execution_count": 3,
      "metadata": {
        "id": "KwrZ9EWy02p7"
      },
      "outputs": [],
      "source": [
        "# Import da package para tratamento de acesso a uma API\n",
        "import requests"
      ]
    },
    {
      "cell_type": "markdown",
      "metadata": {
        "id": "yebFAbpYviBJ"
      },
      "source": [
        "## Ingerindo os Dados\n",
        "\n",
        "Acessando os dados na API Random User\n",
        "\n",
        "Confirmando o sucesso do acesso que é \n",
        "API Status Code 200: Everything went okay, \n",
        "and the result has been returned (if any)."
      ]
    },
    {
      "cell_type": "code",
      "execution_count": 4,
      "metadata": {
        "id": "GCynwX5SFUt8",
        "colab": {
          "base_uri": "https://localhost:8080/"
        },
        "outputId": "eef72256-ad4d-4845-d552-bacf68387e62"
      },
      "outputs": [
        {
          "output_type": "stream",
          "name": "stdout",
          "text": [
            "200\n"
          ]
        }
      ],
      "source": [
        "response = requests.get(\"https://randomuser.me/api/\")\n",
        "print(response.status_code)"
      ]
    },
    {
      "cell_type": "markdown",
      "source": [
        "Exibindo o conteúdo do response que tem o formato json,\n",
        "sendo a formatação de dictionary"
      ],
      "metadata": {
        "id": "kvjKPHzkblgL"
      }
    },
    {
      "cell_type": "code",
      "source": [
        "response.json()"
      ],
      "metadata": {
        "colab": {
          "base_uri": "https://localhost:8080/"
        },
        "id": "g4_DNzJnaQoM",
        "outputId": "e320137a-5fd4-4b33-f0bb-477cce43ef0e"
      },
      "execution_count": 5,
      "outputs": [
        {
          "output_type": "execute_result",
          "data": {
            "text/plain": [
              "{'results': [{'gender': 'male',\n",
              "   'name': {'title': 'Mr', 'first': 'Mathis', 'last': 'Dubois'},\n",
              "   'location': {'street': {'number': 4500, 'name': 'Rue des Abbesses'},\n",
              "    'city': 'Orléans',\n",
              "    'state': 'Vienne',\n",
              "    'country': 'France',\n",
              "    'postcode': 57064,\n",
              "    'coordinates': {'latitude': '-18.5116', 'longitude': '-33.5086'},\n",
              "    'timezone': {'offset': '-5:00',\n",
              "     'description': 'Eastern Time (US & Canada), Bogota, Lima'}},\n",
              "   'email': 'mathis.dubois@example.com',\n",
              "   'login': {'uuid': 'a337aaf8-2754-4e5e-9608-1609a3a61b58',\n",
              "    'username': 'beautifulleopard198',\n",
              "    'password': 'girl',\n",
              "    'salt': 'lCvr6w5f',\n",
              "    'md5': '17748ac6b92f6b51ff29139b05d6a8d7',\n",
              "    'sha1': 'fd3fd33ffa3e018a13b1d7de19fe67b7092a9dea',\n",
              "    'sha256': '631e4beedb540b39072a6afefd9ad5fcec349c0968270775f098f2209bbac61a'},\n",
              "   'dob': {'date': '1968-02-21T04:26:55.208Z', 'age': 55},\n",
              "   'registered': {'date': '2002-07-25T21:55:38.331Z', 'age': 20},\n",
              "   'phone': '04-26-40-73-50',\n",
              "   'cell': '06-59-46-87-45',\n",
              "   'id': {'name': 'INSEE', 'value': '1680183847274 40'},\n",
              "   'picture': {'large': 'https://randomuser.me/api/portraits/men/59.jpg',\n",
              "    'medium': 'https://randomuser.me/api/portraits/med/men/59.jpg',\n",
              "    'thumbnail': 'https://randomuser.me/api/portraits/thumb/men/59.jpg'},\n",
              "   'nat': 'FR'}],\n",
              " 'info': {'seed': 'feb8537b45b9d8a5',\n",
              "  'results': 1,\n",
              "  'page': 1,\n",
              "  'version': '1.4'}}"
            ]
          },
          "metadata": {},
          "execution_count": 5
        }
      ]
    },
    {
      "cell_type": "markdown",
      "source": [
        "### Etapa 2: Coletando dados 💾\n",
        "\n",
        "- **Objetivo:** nessa etapa, você deve coletar dados da API e armazená-los em um arquivo CSV.\n",
        "- **Descrição da solução:** a solução dessa etapa consiste em uma função para coletar uma quantidade `n` de dados da API (sendo `n` um valor fornecido via parâmetro da função), manipulá-los para montar um `pandas.DataFrame` e salvar o resultado em um arquivo CSV.\n",
        "**Dicas:**\n",
        "  - Para tornar os dados mais fáceis de manipular no futuro, faça com que o `DataFrame` seja \"plano\", ou seja, cada coluna seja um único atributo do objeto.\n",
        "  - Para ter dados suficientes para uma análise razoável nas próximas etapas, recomendamos `n>=500`."
      ],
      "metadata": {
        "id": "Dxl2C1Nha2o5"
      }
    },
    {
      "cell_type": "markdown",
      "metadata": {
        "id": "yx0flL9gkBLH"
      },
      "source": [
        "> Criar função qu receba parametro Args1 para fazer Args1 acessos a API\n",
        "Juntando cada leitura (append) ao dicitionario"
      ]
    },
    {
      "cell_type": "code",
      "source": [
        "# Import da packages\n",
        "# para tratamento de acesso a uma API\n",
        "# para criação e processamento de Pandas Dataframe\n",
        "import pandas as pd\n",
        "pd.set_option(\"display.max.columns\", None)"
      ],
      "metadata": {
        "id": "BfeW_pG9jb5e"
      },
      "execution_count": 6,
      "outputs": []
    },
    {
      "cell_type": "code",
      "source": [
        "# Função para coletar uma quantidade n de dados da API (sendo n um valor fornecido via parâmetro da função),\n",
        "def coletaDado (quantidadeDado: int):\n",
        "    parametroAPI=\"https://randomuser.me/api/?results=\" + str(quantidadeDado)\n",
        "    print(parametroAPI)\n",
        "    return requests.get(parametroAPI)"
      ],
      "metadata": {
        "id": "JjDHPbp7bsYD"
      },
      "execution_count": 7,
      "outputs": []
    },
    {
      "cell_type": "code",
      "source": [
        "responseDados = coletaDado(200)\n",
        "print(responseDados.status_code)"
      ],
      "metadata": {
        "colab": {
          "base_uri": "https://localhost:8080/"
        },
        "id": "56NJRF7cSzso",
        "outputId": "011f14bc-8c02-4fea-e0fd-a09ffb8f3763"
      },
      "execution_count": 8,
      "outputs": [
        {
          "output_type": "stream",
          "name": "stdout",
          "text": [
            "https://randomuser.me/api/?results=200\n",
            "200\n"
          ]
        }
      ]
    },
    {
      "cell_type": "code",
      "source": [
        "responseDict=responseDados.json()"
      ],
      "metadata": {
        "id": "2lcvVtR3TMyC"
      },
      "execution_count": 9,
      "outputs": []
    },
    {
      "cell_type": "code",
      "source": [
        "# Use json_normalize() to convert JSON (dict, list of dicts) to DataFrame Plano, cada campo uma coluna\n",
        "import json\n",
        "from pandas import json_normalize\n",
        "df = json_normalize(responseDict['results']) "
      ],
      "metadata": {
        "id": "SEw7w6uER-sP"
      },
      "execution_count": 10,
      "outputs": []
    },
    {
      "cell_type": "code",
      "source": [
        "pip install phonenumbers\n"
      ],
      "metadata": {
        "colab": {
          "base_uri": "https://localhost:8080/"
        },
        "id": "BSi0lABkNkdR",
        "outputId": "16d1912b-8e3f-4559-80ef-0e3cffe04246"
      },
      "execution_count": 11,
      "outputs": [
        {
          "output_type": "stream",
          "name": "stdout",
          "text": [
            "Looking in indexes: https://pypi.org/simple, https://us-python.pkg.dev/colab-wheels/public/simple/\n",
            "Collecting phonenumbers\n",
            "  Downloading phonenumbers-8.13.6-py2.py3-none-any.whl (2.6 MB)\n",
            "\u001b[2K     \u001b[90m━━━━━━━━━━━━━━━━━━━━━━━━━━━━━━━━━━━━━━━━\u001b[0m \u001b[32m2.6/2.6 MB\u001b[0m \u001b[31m58.7 MB/s\u001b[0m eta \u001b[36m0:00:00\u001b[0m\n",
            "\u001b[?25hInstalling collected packages: phonenumbers\n",
            "Successfully installed phonenumbers-8.13.6\n"
          ]
        }
      ]
    },
    {
      "cell_type": "code",
      "source": [
        "import phonenumbers"
      ],
      "metadata": {
        "id": "9bQNVV4JPqjv"
      },
      "execution_count": 12,
      "outputs": []
    },
    {
      "cell_type": "code",
      "source": [
        "# Padrão E.164 formato Internacional\n",
        "# Phones que contem letras são desprezados\n",
        "# A Python program to demonstrate working of re.match().\n",
        "import re\n",
        " \n",
        "# Lets use a regular expression to dismatch a phone string\n",
        "# within alphabet characters\n",
        "regex = r\"([0-9 -()]+)\"\n",
        "\n",
        "\n",
        "for ind in df.index:\n",
        "    match = re.search(regex, df['phone'][ind])\n",
        "    if match is True:\n",
        "      phoneIntAux = phonenumbers.parse(df['phone'][ind], df['nat'][ind])\n",
        "      phoneInt = phonenumbers.format_number(phoneIntAux, phonenumbers.PhoneNumberFormat.INTERNATIONAL)\n",
        "      df.loc[ind, 'phone']  = phoneInt    "
      ],
      "metadata": {
        "id": "g493jZCgKxCg"
      },
      "execution_count": 13,
      "outputs": []
    },
    {
      "cell_type": "code",
      "source": [
        "# Padrão E.164 formato Internacional\n",
        "# Celulares que contem letras são desprezados\n",
        "# A Python program to demonstrate working of re.match().\n",
        "\n",
        "for ind in df.index:\n",
        "   match = re.search(regex, df['cell'][ind])\n",
        "   if match == None:\n",
        "     cellIntAux = phonenumbers.parse(df['cell'][ind], df['nat'][ind])\n",
        "     cellInt = phonenumbers.format_number(phoneIntAux, phonenumbers.PhoneNumberFormat.INTERNATIONAL)\n",
        "     df.loc[ind, 'cell']  = cellInt\n",
        "   "
      ],
      "metadata": {
        "id": "Iu42uvMn8IMh"
      },
      "execution_count": 14,
      "outputs": []
    },
    {
      "cell_type": "markdown",
      "source": [
        "### Etapa 4: Analisando dados sem agrupamento 📊\n",
        "\n",
        "- **Objetivo**: com seus dados devidamente tratados, você deve gerar os seguintes itens:\n",
        "  - Um relatório em texto (não precisa de formatação) contendo:\n",
        "    - A porcentagem dos usuários por gênero\n",
        "    - A porcentagem dos usuários por país\n",
        "  - Uma imagem contendo um gráfico de distribuição da idade dos usuários (a biblioteca utilizada para o `plot` pode ser qualquer uma).\n",
        "- **Descrição da solução**: uma função que recebe, como parâmetro, um `pandas.DataFrame` e gera dois arquivos: um relatório em texto e outro contendo um gráfico de distribuição da idade dos usuários."
      ],
      "metadata": {
        "id": "ZOnhkac1xTNI"
      }
    },
    {
      "cell_type": "code",
      "source": [
        "# Imports\n",
        "import numpy as np\n",
        "import matplotlib.pyplot as plt\n",
        "import seaborn as sns\n",
        "from matplotlib import cm\n",
        "import warnings\n",
        "warnings.filterwarnings(\"ignore\")\n",
        "sns.set_theme(style = \"whitegrid\")"
      ],
      "metadata": {
        "id": "BCCd0xqMRRAL"
      },
      "execution_count": 15,
      "outputs": []
    },
    {
      "cell_type": "markdown",
      "source": [
        "### A porcentagem dos usuários por gênero"
      ],
      "metadata": {
        "id": "mHPQ7KS8EbfX"
      }
    },
    {
      "cell_type": "code",
      "source": [
        "print(df[\"gender\"].unique())\n",
        "print(type(df[\"gender\"].unique()))"
      ],
      "metadata": {
        "colab": {
          "base_uri": "https://localhost:8080/"
        },
        "id": "29PYwP-X023u",
        "outputId": "02eff45a-40ba-41b5-889c-5ec6083ac170"
      },
      "execution_count": 16,
      "outputs": [
        {
          "output_type": "stream",
          "name": "stdout",
          "text": [
            "['female' 'male']\n",
            "<class 'numpy.ndarray'>\n"
          ]
        }
      ]
    },
    {
      "cell_type": "code",
      "source": [
        "df['gender'].value_counts()"
      ],
      "metadata": {
        "colab": {
          "base_uri": "https://localhost:8080/"
        },
        "id": "d-JRnpKb3mEp",
        "outputId": "1b27bdbf-09f3-40d7-e5b3-1704ed73f893"
      },
      "execution_count": 17,
      "outputs": [
        {
          "output_type": "execute_result",
          "data": {
            "text/plain": [
              "female    105\n",
              "male       95\n",
              "Name: gender, dtype: int64"
            ]
          },
          "metadata": {},
          "execution_count": 17
        }
      ]
    },
    {
      "cell_type": "code",
      "execution_count": 18,
      "metadata": {
        "id": "fhPq2Va2kBL0"
      },
      "outputs": [],
      "source": [
        "dfSexos=pd.DataFrame(df['gender'].value_counts())"
      ]
    },
    {
      "cell_type": "code",
      "source": [
        "# Lista auxiliar Sexo\n",
        "# para alterar o label da coluna gender\n",
        "sexosLista = dfSexos.columns.tolist()\n",
        "sexosLista[sexosLista.index('gender')] = 'usuarios'\n",
        "dfSexos.columns = sexosLista"
      ],
      "metadata": {
        "id": "8iP6ttNBCniu"
      },
      "execution_count": 19,
      "outputs": []
    },
    {
      "cell_type": "code",
      "source": [
        "# Vamos calcular o percentual para cada genero\n",
        "dfSexos['percentual'] = (dfSexos['usuarios'] / dfSexos['usuarios'].sum()) * 100"
      ],
      "metadata": {
        "id": "gn9nzcJe_b33"
      },
      "execution_count": 20,
      "outputs": []
    },
    {
      "cell_type": "code",
      "source": [
        "#Relatório básico \n",
        "display(dfSexos)"
      ],
      "metadata": {
        "id": "YBoCsr7c_0io",
        "colab": {
          "base_uri": "https://localhost:8080/",
          "height": 112
        },
        "outputId": "973d20af-083d-4778-c446-b1b5dd03352a"
      },
      "execution_count": 21,
      "outputs": [
        {
          "output_type": "display_data",
          "data": {
            "text/plain": [
              "        usuarios  percentual\n",
              "female       105        52.5\n",
              "male          95        47.5"
            ],
            "text/html": [
              "\n",
              "  <div id=\"df-85860190-9d1e-48bb-b837-e1e0ef11f7af\">\n",
              "    <div class=\"colab-df-container\">\n",
              "      <div>\n",
              "<style scoped>\n",
              "    .dataframe tbody tr th:only-of-type {\n",
              "        vertical-align: middle;\n",
              "    }\n",
              "\n",
              "    .dataframe tbody tr th {\n",
              "        vertical-align: top;\n",
              "    }\n",
              "\n",
              "    .dataframe thead th {\n",
              "        text-align: right;\n",
              "    }\n",
              "</style>\n",
              "<table border=\"1\" class=\"dataframe\">\n",
              "  <thead>\n",
              "    <tr style=\"text-align: right;\">\n",
              "      <th></th>\n",
              "      <th>usuarios</th>\n",
              "      <th>percentual</th>\n",
              "    </tr>\n",
              "  </thead>\n",
              "  <tbody>\n",
              "    <tr>\n",
              "      <th>female</th>\n",
              "      <td>105</td>\n",
              "      <td>52.5</td>\n",
              "    </tr>\n",
              "    <tr>\n",
              "      <th>male</th>\n",
              "      <td>95</td>\n",
              "      <td>47.5</td>\n",
              "    </tr>\n",
              "  </tbody>\n",
              "</table>\n",
              "</div>\n",
              "      <button class=\"colab-df-convert\" onclick=\"convertToInteractive('df-85860190-9d1e-48bb-b837-e1e0ef11f7af')\"\n",
              "              title=\"Convert this dataframe to an interactive table.\"\n",
              "              style=\"display:none;\">\n",
              "        \n",
              "  <svg xmlns=\"http://www.w3.org/2000/svg\" height=\"24px\"viewBox=\"0 0 24 24\"\n",
              "       width=\"24px\">\n",
              "    <path d=\"M0 0h24v24H0V0z\" fill=\"none\"/>\n",
              "    <path d=\"M18.56 5.44l.94 2.06.94-2.06 2.06-.94-2.06-.94-.94-2.06-.94 2.06-2.06.94zm-11 1L8.5 8.5l.94-2.06 2.06-.94-2.06-.94L8.5 2.5l-.94 2.06-2.06.94zm10 10l.94 2.06.94-2.06 2.06-.94-2.06-.94-.94-2.06-.94 2.06-2.06.94z\"/><path d=\"M17.41 7.96l-1.37-1.37c-.4-.4-.92-.59-1.43-.59-.52 0-1.04.2-1.43.59L10.3 9.45l-7.72 7.72c-.78.78-.78 2.05 0 2.83L4 21.41c.39.39.9.59 1.41.59.51 0 1.02-.2 1.41-.59l7.78-7.78 2.81-2.81c.8-.78.8-2.07 0-2.86zM5.41 20L4 18.59l7.72-7.72 1.47 1.35L5.41 20z\"/>\n",
              "  </svg>\n",
              "      </button>\n",
              "      \n",
              "  <style>\n",
              "    .colab-df-container {\n",
              "      display:flex;\n",
              "      flex-wrap:wrap;\n",
              "      gap: 12px;\n",
              "    }\n",
              "\n",
              "    .colab-df-convert {\n",
              "      background-color: #E8F0FE;\n",
              "      border: none;\n",
              "      border-radius: 50%;\n",
              "      cursor: pointer;\n",
              "      display: none;\n",
              "      fill: #1967D2;\n",
              "      height: 32px;\n",
              "      padding: 0 0 0 0;\n",
              "      width: 32px;\n",
              "    }\n",
              "\n",
              "    .colab-df-convert:hover {\n",
              "      background-color: #E2EBFA;\n",
              "      box-shadow: 0px 1px 2px rgba(60, 64, 67, 0.3), 0px 1px 3px 1px rgba(60, 64, 67, 0.15);\n",
              "      fill: #174EA6;\n",
              "    }\n",
              "\n",
              "    [theme=dark] .colab-df-convert {\n",
              "      background-color: #3B4455;\n",
              "      fill: #D2E3FC;\n",
              "    }\n",
              "\n",
              "    [theme=dark] .colab-df-convert:hover {\n",
              "      background-color: #434B5C;\n",
              "      box-shadow: 0px 1px 3px 1px rgba(0, 0, 0, 0.15);\n",
              "      filter: drop-shadow(0px 1px 2px rgba(0, 0, 0, 0.3));\n",
              "      fill: #FFFFFF;\n",
              "    }\n",
              "  </style>\n",
              "\n",
              "      <script>\n",
              "        const buttonEl =\n",
              "          document.querySelector('#df-85860190-9d1e-48bb-b837-e1e0ef11f7af button.colab-df-convert');\n",
              "        buttonEl.style.display =\n",
              "          google.colab.kernel.accessAllowed ? 'block' : 'none';\n",
              "\n",
              "        async function convertToInteractive(key) {\n",
              "          const element = document.querySelector('#df-85860190-9d1e-48bb-b837-e1e0ef11f7af');\n",
              "          const dataTable =\n",
              "            await google.colab.kernel.invokeFunction('convertToInteractive',\n",
              "                                                     [key], {});\n",
              "          if (!dataTable) return;\n",
              "\n",
              "          const docLinkHtml = 'Like what you see? Visit the ' +\n",
              "            '<a target=\"_blank\" href=https://colab.research.google.com/notebooks/data_table.ipynb>data table notebook</a>'\n",
              "            + ' to learn more about interactive tables.';\n",
              "          element.innerHTML = '';\n",
              "          dataTable['output_type'] = 'display_data';\n",
              "          await google.colab.output.renderOutput(dataTable, element);\n",
              "          const docLink = document.createElement('div');\n",
              "          docLink.innerHTML = docLinkHtml;\n",
              "          element.appendChild(docLink);\n",
              "        }\n",
              "      </script>\n",
              "    </div>\n",
              "  </div>\n",
              "  "
            ]
          },
          "metadata": {}
        }
      ]
    },
    {
      "cell_type": "code",
      "source": [
        "#Gráfico básico\n",
        "dfSexos.plot(kind='bar',y='percentual', title = 'Usuarios por Gênero', colormap = 'plasma');"
      ],
      "metadata": {
        "colab": {
          "base_uri": "https://localhost:8080/",
          "height": 312
        },
        "id": "Hx4XXgLcFYDN",
        "outputId": "8db64d8d-0031-461a-b110-7e5fd4fc68d2"
      },
      "execution_count": 22,
      "outputs": [
        {
          "output_type": "display_data",
          "data": {
            "text/plain": [
              "<Figure size 432x288 with 1 Axes>"
            ],
            "image/png": "[encoded data removed]"
          },
          "metadata": {}
        }
      ]
    },
    {
      "cell_type": "markdown",
      "source": [
        "### A porcentagem dos usuários por país"
      ],
      "metadata": {
        "id": "deuB-c9OEMy-"
      }
    },
    {
      "cell_type": "markdown",
      "source": [
        "Import da package para acesso e tratamento dos países (Country)"
      ],
      "metadata": {
        "id": "SvKzxKtuenGp"
      }
    },
    {
      "cell_type": "code",
      "source": [
        "# Instala o pacote\n",
        "# https://pypi.org/project/pycountry/\n",
        "!pip install -q pycountry"
      ],
      "metadata": {
        "id": "XNlMnLsLUUtg",
        "colab": {
          "base_uri": "https://localhost:8080/"
        },
        "outputId": "b7ba8c85-8876-4702-861b-1c8880ba0e61"
      },
      "execution_count": 23,
      "outputs": [
        {
          "output_type": "stream",
          "name": "stdout",
          "text": [
            "\u001b[?25l     \u001b[90m━━━━━━━━━━━━━━━━━━━━━━━━━━━━━━━━━━━━━━━━\u001b[0m \u001b[32m0.0/10.1 MB\u001b[0m \u001b[31m?\u001b[0m eta \u001b[36m-:--:--\u001b[0m\r\u001b[2K     \u001b[91m━━━━━━━━\u001b[0m\u001b[90m╺\u001b[0m\u001b[90m━━━━━━━━━━━━━━━━━━━━━━━━━━━━━━━\u001b[0m \u001b[32m2.1/10.1 MB\u001b[0m \u001b[31m76.2 MB/s\u001b[0m eta \u001b[36m0:00:01\u001b[0m\r\u001b[2K     \u001b[91m━━━━━━━━━━━━━━━━━━━━━━━━━━\u001b[0m\u001b[91m╸\u001b[0m\u001b[90m━━━━━━━━━━━━━\u001b[0m \u001b[32m6.8/10.1 MB\u001b[0m \u001b[31m99.8 MB/s\u001b[0m eta \u001b[36m0:00:01\u001b[0m\r\u001b[2K     \u001b[91m━━━━━━━━━━━━━━━━━━━━━━━━━━━━━━━━━━━━━━\u001b[0m\u001b[91m╸\u001b[0m \u001b[32m10.1/10.1 MB\u001b[0m \u001b[31m116.7 MB/s\u001b[0m eta \u001b[36m0:00:01\u001b[0m\r\u001b[2K     \u001b[90m━━━━━━━━━━━━━━━━━━━━━━━━━━━━━━━━━━━━━━━━\u001b[0m \u001b[32m10.1/10.1 MB\u001b[0m \u001b[31m76.3 MB/s\u001b[0m eta \u001b[36m0:00:00\u001b[0m\n",
            "\u001b[?25h  Installing build dependencies ... \u001b[?25l\u001b[?25hdone\n",
            "  Getting requirements to build wheel ... \u001b[?25l\u001b[?25hdone\n",
            "  Preparing metadata (pyproject.toml) ... \u001b[?25l\u001b[?25hdone\n",
            "  Building wheel for pycountry (pyproject.toml) ... \u001b[?25l\u001b[?25hdone\n"
          ]
        }
      ]
    },
    {
      "cell_type": "code",
      "source": [
        "# Listas auxiliares Paises\n",
        "import pycountry\n",
        "nomes_paises = []"
      ],
      "metadata": {
        "id": "3Lb5jQ7t0WqY"
      },
      "execution_count": 24,
      "outputs": []
    },
    {
      "cell_type": "code",
      "source": [
        "df.head()"
      ],
      "metadata": {
        "colab": {
          "base_uri": "https://localhost:8080/",
          "height": 444
        },
        "id": "f0xnsEJaoGHL",
        "outputId": "bfc51d4a-f05a-4740-9714-b079141fc7ed"
      },
      "execution_count": 25,
      "outputs": [
        {
          "output_type": "execute_result",
          "data": {
            "text/plain": [
              "   gender                         email           phone            cell nat  \\\n",
              "0  female    alice.sullivan@example.com  (401) 794-1230  (658) 623-4841  US   \n",
              "1    male  ronald.carpenter@example.com    021-884-7860    081-844-8144  IE   \n",
              "2  female    astrid.thomsen@example.com        54206500        75358060  DK   \n",
              "3  female       ruza.mancic@example.com    031-4424-374    065-3540-416  RS   \n",
              "4    male      eelis.kotila@example.com      05-170-782   043-441-11-84  FI   \n",
              "\n",
              "  name.title name.first  name.last  location.street.number  \\\n",
              "0        Mrs      Alice   Sullivan                    3122   \n",
              "1         Mr     Ronald  Carpenter                     204   \n",
              "2         Ms     Astrid    Thomsen                     935   \n",
              "3         Ms       Ruža     Mančić                    5014   \n",
              "4         Mr      Eelis     Kotila                     201   \n",
              "\n",
              "  location.street.name location.city        location.state location.country  \\\n",
              "0            Locust Rd     Los Lunas              Kentucky    United States   \n",
              "1         South Street       Ratoath                 Cavan          Ireland   \n",
              "2          Dragebakken     Odense Sv            Syddanmark          Denmark   \n",
              "3   Stefana Radoslava         Zvečan           North Banat           Serbia   \n",
              "4     Verkatehtaankatu      Lempäälä  Central Ostrobothnia          Finland   \n",
              "\n",
              "  location.postcode location.coordinates.latitude  \\\n",
              "0             64014                       85.5533   \n",
              "1             74173                      -47.8104   \n",
              "2             75424                       16.7370   \n",
              "3             96842                      -15.9992   \n",
              "4             84218                       28.8880   \n",
              "\n",
              "  location.coordinates.longitude location.timezone.offset  \\\n",
              "0                        30.4288                    +3:00   \n",
              "1                       -37.1697                    -2:00   \n",
              "2                        -8.7161                    +3:30   \n",
              "3                       150.9085                    +6:00   \n",
              "4                         9.3075                    +1:00   \n",
              "\n",
              "             location.timezone.description  \\\n",
              "0  Baghdad, Riyadh, Moscow, St. Petersburg   \n",
              "1                             Mid-Atlantic   \n",
              "2                                   Tehran   \n",
              "3                   Almaty, Dhaka, Colombo   \n",
              "4      Brussels, Copenhagen, Madrid, Paris   \n",
              "\n",
              "                             login.uuid  login.username login.password  \\\n",
              "0  0e694785-96ef-4867-9f57-e2779512ae72     lazywolf268         freeze   \n",
              "1  099e8467-c713-41fd-bee4-b80d160cc0ba  redelephant701         181818   \n",
              "2  f8d620a4-a3c2-44dc-acda-1e76d276fc70  smallrabbit596          pizza   \n",
              "3  34e2fc91-29fb-4ad8-b09d-0bcc85489740   orangebear747         hurley   \n",
              "4  00c958d1-908c-4c7c-8b6b-c8df6f648bf5    greenbird144        fiction   \n",
              "\n",
              "  login.salt                         login.md5  \\\n",
              "0   A58FABu7  799478ea4950278212e1907e003eeecb   \n",
              "1   PKD9F3zk  37a86ac0fbd6e9987b2da2de85a82795   \n",
              "2   P1HCcKZa  789528b950709638644eded3585f7a1c   \n",
              "3   zsHR9uRO  d086bb65fab2f1321f18c8dd79302a78   \n",
              "4   jGiASo97  b89a7aad0f5b3c6f15dcd1fc384f7a46   \n",
              "\n",
              "                                 login.sha1  \\\n",
              "0  3f627be5457f9fce51b9a953344254b98b2bc44b   \n",
              "1  531412d218b47c2eccac130acb8b4ca0f8d6c637   \n",
              "2  89b818784dc9b5e5d9b3ec61334a9de0e5d3dbd1   \n",
              "3  58da32af58a95b505aa713d0c876192fa03e87c6   \n",
              "4  06c4751b491a31bbc34787a9d41ac5f2ce6b9cca   \n",
              "\n",
              "                                        login.sha256  \\\n",
              "0  455acd256dad0c9b7e57581bdb33f5f32e66ea144a4a3e...   \n",
              "1  f25cd43bcd77a1f3b223348001506c2b9e74e43e099e30...   \n",
              "2  0acd2ffa3691124f4d78d9c81ae3f8dfce9edc9cd1888d...   \n",
              "3  446029ddea31383cd89b9e62f753884e76c76b087844fe...   \n",
              "4  4bdaa6eb14b3f14b30c311f424422ff5e4f8248f7672a8...   \n",
              "\n",
              "                   dob.date  dob.age           registered.date  \\\n",
              "0  1970-03-01T09:42:12.023Z       53  2012-03-23T12:35:49.636Z   \n",
              "1  1958-01-07T04:24:58.052Z       65  2017-11-12T17:01:49.756Z   \n",
              "2  1965-03-01T07:10:43.911Z       58  2007-08-11T12:12:40.132Z   \n",
              "3  1983-10-26T07:45:13.721Z       39  2013-01-15T22:09:44.876Z   \n",
              "4  1975-01-19T10:44:22.768Z       48  2020-02-28T15:33:48.503Z   \n",
              "\n",
              "   registered.age id.name           id.value  \\\n",
              "0              10     SSN        209-87-9827   \n",
              "1               5     PPS           9740492T   \n",
              "2              15     CPR        010365-5774   \n",
              "3              10     SID          160645063   \n",
              "4               3    HETU  NaNNA445undefined   \n",
              "\n",
              "                                      picture.large  \\\n",
              "0  https://randomuser.me/api/portraits/women/55.jpg   \n",
              "1    https://randomuser.me/api/portraits/men/12.jpg   \n",
              "2  https://randomuser.me/api/portraits/women/48.jpg   \n",
              "3  https://randomuser.me/api/portraits/women/39.jpg   \n",
              "4    https://randomuser.me/api/portraits/men/41.jpg   \n",
              "\n",
              "                                      picture.medium  \\\n",
              "0  https://randomuser.me/api/portraits/med/women/...   \n",
              "1  https://randomuser.me/api/portraits/med/men/12...   \n",
              "2  https://randomuser.me/api/portraits/med/women/...   \n",
              "3  https://randomuser.me/api/portraits/med/women/...   \n",
              "4  https://randomuser.me/api/portraits/med/men/41...   \n",
              "\n",
              "                                   picture.thumbnail  \n",
              "0  https://randomuser.me/api/portraits/thumb/wome...  \n",
              "1  https://randomuser.me/api/portraits/thumb/men/...  \n",
              "2  https://randomuser.me/api/portraits/thumb/wome...  \n",
              "3  https://randomuser.me/api/portraits/thumb/wome...  \n",
              "4  https://randomuser.me/api/portraits/thumb/men/...  "
            ],
            "text/html": [
              "\n",
              "  <div id=\"df-25b4cf62-b3b2-4d8b-abd2-39b84253965a\">\n",
              "    <div class=\"colab-df-container\">\n",
              "      <div>\n",
              "<style scoped>\n",
              "    .dataframe tbody tr th:only-of-type {\n",
              "        vertical-align: middle;\n",
              "    }\n",
              "\n",
              "    .dataframe tbody tr th {\n",
              "        vertical-align: top;\n",
              "    }\n",
              "\n",
              "    .dataframe thead th {\n",
              "        text-align: right;\n",
              "    }\n",
              "</style>\n",
              "<table border=\"1\" class=\"dataframe\">\n",
              "  <thead>\n",
              "    <tr style=\"text-align: right;\">\n",
              "      <th></th>\n",
              "      <th>gender</th>\n",
              "      <th>email</th>\n",
              "      <th>phone</th>\n",
              "      <th>cell</th>\n",
              "      <th>nat</th>\n",
              "      <th>name.title</th>\n",
              "      <th>name.first</th>\n",
              "      <th>name.last</th>\n",
              "      <th>location.street.number</th>\n",
              "      <th>location.street.name</th>\n",
              "      <th>location.city</th>\n",
              "      <th>location.state</th>\n",
              "      <th>location.country</th>\n",
              "      <th>location.postcode</th>\n",
              "      <th>location.coordinates.latitude</th>\n",
              "      <th>location.coordinates.longitude</th>\n",
              "      <th>location.timezone.offset</th>\n",
              "      <th>location.timezone.description</th>\n",
              "      <th>login.uuid</th>\n",
              "      <th>login.username</th>\n",
              "      <th>login.password</th>\n",
              "      <th>login.salt</th>\n",
              "      <th>login.md5</th>\n",
              "      <th>login.sha1</th>\n",
              "      <th>login.sha256</th>\n",
              "      <th>dob.date</th>\n",
              "      <th>dob.age</th>\n",
              "      <th>registered.date</th>\n",
              "      <th>registered.age</th>\n",
              "      <th>id.name</th>\n",
              "      <th>id.value</th>\n",
              "      <th>picture.large</th>\n",
              "      <th>picture.medium</th>\n",
              "      <th>picture.thumbnail</th>\n",
              "    </tr>\n",
              "  </thead>\n",
              "  <tbody>\n",
              "    <tr>\n",
              "      <th>0</th>\n",
              "      <td>female</td>\n",
              "      <td>alice.sullivan@example.com</td>\n",
              "      <td>(401) 794-1230</td>\n",
              "      <td>(658) 623-4841</td>\n",
              "      <td>US</td>\n",
              "      <td>Mrs</td>\n",
              "      <td>Alice</td>\n",
              "      <td>Sullivan</td>\n",
              "      <td>3122</td>\n",
              "      <td>Locust Rd</td>\n",
              "      <td>Los Lunas</td>\n",
              "      <td>Kentucky</td>\n",
              "      <td>United States</td>\n",
              "      <td>64014</td>\n",
              "      <td>85.5533</td>\n",
              "      <td>30.4288</td>\n",
              "      <td>+3:00</td>\n",
              "      <td>Baghdad, Riyadh, Moscow, St. Petersburg</td>\n",
              "      <td>0e694785-96ef-4867-9f57-e2779512ae72</td>\n",
              "      <td>lazywolf268</td>\n",
              "      <td>freeze</td>\n",
              "      <td>A58FABu7</td>\n",
              "      <td>799478ea4950278212e1907e003eeecb</td>\n",
              "      <td>3f627be5457f9fce51b9a953344254b98b2bc44b</td>\n",
              "      <td>455acd256dad0c9b7e57581bdb33f5f32e66ea144a4a3e...</td>\n",
              "      <td>1970-03-01T09:42:12.023Z</td>\n",
              "      <td>53</td>\n",
              "      <td>2012-03-23T12:35:49.636Z</td>\n",
              "      <td>10</td>\n",
              "      <td>SSN</td>\n",
              "      <td>209-87-9827</td>\n",
              "      <td>https://randomuser.me/api/portraits/women/55.jpg</td>\n",
              "      <td>https://randomuser.me/api/portraits/med/women/...</td>\n",
              "      <td>https://randomuser.me/api/portraits/thumb/wome...</td>\n",
              "    </tr>\n",
              "    <tr>\n",
              "      <th>1</th>\n",
              "      <td>male</td>\n",
              "      <td>ronald.carpenter@example.com</td>\n",
              "      <td>021-884-7860</td>\n",
              "      <td>081-844-8144</td>\n",
              "      <td>IE</td>\n",
              "      <td>Mr</td>\n",
              "      <td>Ronald</td>\n",
              "      <td>Carpenter</td>\n",
              "      <td>204</td>\n",
              "      <td>South Street</td>\n",
              "      <td>Ratoath</td>\n",
              "      <td>Cavan</td>\n",
              "      <td>Ireland</td>\n",
              "      <td>74173</td>\n",
              "      <td>-47.8104</td>\n",
              "      <td>-37.1697</td>\n",
              "      <td>-2:00</td>\n",
              "      <td>Mid-Atlantic</td>\n",
              "      <td>099e8467-c713-41fd-bee4-b80d160cc0ba</td>\n",
              "      <td>redelephant701</td>\n",
              "      <td>181818</td>\n",
              "      <td>PKD9F3zk</td>\n",
              "      <td>37a86ac0fbd6e9987b2da2de85a82795</td>\n",
              "      <td>531412d218b47c2eccac130acb8b4ca0f8d6c637</td>\n",
              "      <td>f25cd43bcd77a1f3b223348001506c2b9e74e43e099e30...</td>\n",
              "      <td>1958-01-07T04:24:58.052Z</td>\n",
              "      <td>65</td>\n",
              "      <td>2017-11-12T17:01:49.756Z</td>\n",
              "      <td>5</td>\n",
              "      <td>PPS</td>\n",
              "      <td>9740492T</td>\n",
              "      <td>https://randomuser.me/api/portraits/men/12.jpg</td>\n",
              "      <td>https://randomuser.me/api/portraits/med/men/12...</td>\n",
              "      <td>https://randomuser.me/api/portraits/thumb/men/...</td>\n",
              "    </tr>\n",
              "    <tr>\n",
              "      <th>2</th>\n",
              "      <td>female</td>\n",
              "      <td>astrid.thomsen@example.com</td>\n",
              "      <td>54206500</td>\n",
              "      <td>75358060</td>\n",
              "      <td>DK</td>\n",
              "      <td>Ms</td>\n",
              "      <td>Astrid</td>\n",
              "      <td>Thomsen</td>\n",
              "      <td>935</td>\n",
              "      <td>Dragebakken</td>\n",
              "      <td>Odense Sv</td>\n",
              "      <td>Syddanmark</td>\n",
              "      <td>Denmark</td>\n",
              "      <td>75424</td>\n",
              "      <td>16.7370</td>\n",
              "      <td>-8.7161</td>\n",
              "      <td>+3:30</td>\n",
              "      <td>Tehran</td>\n",
              "      <td>f8d620a4-a3c2-44dc-acda-1e76d276fc70</td>\n",
              "      <td>smallrabbit596</td>\n",
              "      <td>pizza</td>\n",
              "      <td>P1HCcKZa</td>\n",
              "      <td>789528b950709638644eded3585f7a1c</td>\n",
              "      <td>89b818784dc9b5e5d9b3ec61334a9de0e5d3dbd1</td>\n",
              "      <td>0acd2ffa3691124f4d78d9c81ae3f8dfce9edc9cd1888d...</td>\n",
              "      <td>1965-03-01T07:10:43.911Z</td>\n",
              "      <td>58</td>\n",
              "      <td>2007-08-11T12:12:40.132Z</td>\n",
              "      <td>15</td>\n",
              "      <td>CPR</td>\n",
              "      <td>010365-5774</td>\n",
              "      <td>https://randomuser.me/api/portraits/women/48.jpg</td>\n",
              "      <td>https://randomuser.me/api/portraits/med/women/...</td>\n",
              "      <td>https://randomuser.me/api/portraits/thumb/wome...</td>\n",
              "    </tr>\n",
              "    <tr>\n",
              "      <th>3</th>\n",
              "      <td>female</td>\n",
              "      <td>ruza.mancic@example.com</td>\n",
              "      <td>031-4424-374</td>\n",
              "      <td>065-3540-416</td>\n",
              "      <td>RS</td>\n",
              "      <td>Ms</td>\n",
              "      <td>Ruža</td>\n",
              "      <td>Mančić</td>\n",
              "      <td>5014</td>\n",
              "      <td>Stefana Radoslava</td>\n",
              "      <td>Zvečan</td>\n",
              "      <td>North Banat</td>\n",
              "      <td>Serbia</td>\n",
              "      <td>96842</td>\n",
              "      <td>-15.9992</td>\n",
              "      <td>150.9085</td>\n",
              "      <td>+6:00</td>\n",
              "      <td>Almaty, Dhaka, Colombo</td>\n",
              "      <td>34e2fc91-29fb-4ad8-b09d-0bcc85489740</td>\n",
              "      <td>orangebear747</td>\n",
              "      <td>hurley</td>\n",
              "      <td>zsHR9uRO</td>\n",
              "      <td>d086bb65fab2f1321f18c8dd79302a78</td>\n",
              "      <td>58da32af58a95b505aa713d0c876192fa03e87c6</td>\n",
              "      <td>446029ddea31383cd89b9e62f753884e76c76b087844fe...</td>\n",
              "      <td>1983-10-26T07:45:13.721Z</td>\n",
              "      <td>39</td>\n",
              "      <td>2013-01-15T22:09:44.876Z</td>\n",
              "      <td>10</td>\n",
              "      <td>SID</td>\n",
              "      <td>160645063</td>\n",
              "      <td>https://randomuser.me/api/portraits/women/39.jpg</td>\n",
              "      <td>https://randomuser.me/api/portraits/med/women/...</td>\n",
              "      <td>https://randomuser.me/api/portraits/thumb/wome...</td>\n",
              "    </tr>\n",
              "    <tr>\n",
              "      <th>4</th>\n",
              "      <td>male</td>\n",
              "      <td>eelis.kotila@example.com</td>\n",
              "      <td>05-170-782</td>\n",
              "      <td>043-441-11-84</td>\n",
              "      <td>FI</td>\n",
              "      <td>Mr</td>\n",
              "      <td>Eelis</td>\n",
              "      <td>Kotila</td>\n",
              "      <td>201</td>\n",
              "      <td>Verkatehtaankatu</td>\n",
              "      <td>Lempäälä</td>\n",
              "      <td>Central Ostrobothnia</td>\n",
              "      <td>Finland</td>\n",
              "      <td>84218</td>\n",
              "      <td>28.8880</td>\n",
              "      <td>9.3075</td>\n",
              "      <td>+1:00</td>\n",
              "      <td>Brussels, Copenhagen, Madrid, Paris</td>\n",
              "      <td>00c958d1-908c-4c7c-8b6b-c8df6f648bf5</td>\n",
              "      <td>greenbird144</td>\n",
              "      <td>fiction</td>\n",
              "      <td>jGiASo97</td>\n",
              "      <td>b89a7aad0f5b3c6f15dcd1fc384f7a46</td>\n",
              "      <td>06c4751b491a31bbc34787a9d41ac5f2ce6b9cca</td>\n",
              "      <td>4bdaa6eb14b3f14b30c311f424422ff5e4f8248f7672a8...</td>\n",
              "      <td>1975-01-19T10:44:22.768Z</td>\n",
              "      <td>48</td>\n",
              "      <td>2020-02-28T15:33:48.503Z</td>\n",
              "      <td>3</td>\n",
              "      <td>HETU</td>\n",
              "      <td>NaNNA445undefined</td>\n",
              "      <td>https://randomuser.me/api/portraits/men/41.jpg</td>\n",
              "      <td>https://randomuser.me/api/portraits/med/men/41...</td>\n",
              "      <td>https://randomuser.me/api/portraits/thumb/men/...</td>\n",
              "    </tr>\n",
              "  </tbody>\n",
              "</table>\n",
              "</div>\n",
              "      <button class=\"colab-df-convert\" onclick=\"convertToInteractive('df-25b4cf62-b3b2-4d8b-abd2-39b84253965a')\"\n",
              "              title=\"Convert this dataframe to an interactive table.\"\n",
              "              style=\"display:none;\">\n",
              "        \n",
              "  <svg xmlns=\"http://www.w3.org/2000/svg\" height=\"24px\"viewBox=\"0 0 24 24\"\n",
              "       width=\"24px\">\n",
              "    <path d=\"M0 0h24v24H0V0z\" fill=\"none\"/>\n",
              "    <path d=\"M18.56 5.44l.94 2.06.94-2.06 2.06-.94-2.06-.94-.94-2.06-.94 2.06-2.06.94zm-11 1L8.5 8.5l.94-2.06 2.06-.94-2.06-.94L8.5 2.5l-.94 2.06-2.06.94zm10 10l.94 2.06.94-2.06 2.06-.94-2.06-.94-.94-2.06-.94 2.06-2.06.94z\"/><path d=\"M17.41 7.96l-1.37-1.37c-.4-.4-.92-.59-1.43-.59-.52 0-1.04.2-1.43.59L10.3 9.45l-7.72 7.72c-.78.78-.78 2.05 0 2.83L4 21.41c.39.39.9.59 1.41.59.51 0 1.02-.2 1.41-.59l7.78-7.78 2.81-2.81c.8-.78.8-2.07 0-2.86zM5.41 20L4 18.59l7.72-7.72 1.47 1.35L5.41 20z\"/>\n",
              "  </svg>\n",
              "      </button>\n",
              "      \n",
              "  <style>\n",
              "    .colab-df-container {\n",
              "      display:flex;\n",
              "      flex-wrap:wrap;\n",
              "      gap: 12px;\n",
              "    }\n",
              "\n",
              "    .colab-df-convert {\n",
              "      background-color: #E8F0FE;\n",
              "      border: none;\n",
              "      border-radius: 50%;\n",
              "      cursor: pointer;\n",
              "      display: none;\n",
              "      fill: #1967D2;\n",
              "      height: 32px;\n",
              "      padding: 0 0 0 0;\n",
              "      width: 32px;\n",
              "    }\n",
              "\n",
              "    .colab-df-convert:hover {\n",
              "      background-color: #E2EBFA;\n",
              "      box-shadow: 0px 1px 2px rgba(60, 64, 67, 0.3), 0px 1px 3px 1px rgba(60, 64, 67, 0.15);\n",
              "      fill: #174EA6;\n",
              "    }\n",
              "\n",
              "    [theme=dark] .colab-df-convert {\n",
              "      background-color: #3B4455;\n",
              "      fill: #D2E3FC;\n",
              "    }\n",
              "\n",
              "    [theme=dark] .colab-df-convert:hover {\n",
              "      background-color: #434B5C;\n",
              "      box-shadow: 0px 1px 3px 1px rgba(0, 0, 0, 0.15);\n",
              "      filter: drop-shadow(0px 1px 2px rgba(0, 0, 0, 0.3));\n",
              "      fill: #FFFFFF;\n",
              "    }\n",
              "  </style>\n",
              "\n",
              "      <script>\n",
              "        const buttonEl =\n",
              "          document.querySelector('#df-25b4cf62-b3b2-4d8b-abd2-39b84253965a button.colab-df-convert');\n",
              "        buttonEl.style.display =\n",
              "          google.colab.kernel.accessAllowed ? 'block' : 'none';\n",
              "\n",
              "        async function convertToInteractive(key) {\n",
              "          const element = document.querySelector('#df-25b4cf62-b3b2-4d8b-abd2-39b84253965a');\n",
              "          const dataTable =\n",
              "            await google.colab.kernel.invokeFunction('convertToInteractive',\n",
              "                                                     [key], {});\n",
              "          if (!dataTable) return;\n",
              "\n",
              "          const docLinkHtml = 'Like what you see? Visit the ' +\n",
              "            '<a target=\"_blank\" href=https://colab.research.google.com/notebooks/data_table.ipynb>data table notebook</a>'\n",
              "            + ' to learn more about interactive tables.';\n",
              "          element.innerHTML = '';\n",
              "          dataTable['output_type'] = 'display_data';\n",
              "          await google.colab.output.renderOutput(dataTable, element);\n",
              "          const docLink = document.createElement('div');\n",
              "          docLink.innerHTML = docLinkHtml;\n",
              "          element.appendChild(docLink);\n",
              "        }\n",
              "      </script>\n",
              "    </div>\n",
              "  </div>\n",
              "  "
            ]
          },
          "metadata": {},
          "execution_count": 25
        }
      ]
    },
    {
      "cell_type": "code",
      "execution_count": 26,
      "metadata": {
        "id": "y0EiQBfgNEgb"
      },
      "outputs": [],
      "source": [
        "# Loop para obter o país de acordo com a região\n",
        "#tratar a contagem desagrupada\n",
        "for i in range(df.shape[0]):\n",
        "    try:\n",
        "        pais = df['nat'].values[i]\n",
        "        paisDescricao=pycountry.countries.get(alpha_2=pais).name\n",
        "        nomes_paises.append(paisDescricao)\n",
        "    except:\n",
        "        continue"
      ]
    },
    {
      "cell_type": "code",
      "execution_count": 27,
      "metadata": {
        "id": "Ke69xq96Oeeu",
        "colab": {
          "base_uri": "https://localhost:8080/",
          "height": 382
        },
        "outputId": "e0271262-8e26-4a0e-d452-ccb053c75a51"
      },
      "outputs": [
        {
          "output_type": "display_data",
          "data": {
            "text/plain": [
              "{'United States': 6,\n",
              " 'Ireland': 9,\n",
              " 'Denmark': 10,\n",
              " 'Serbia': 7,\n",
              " 'Finland': 13,\n",
              " 'India': 9,\n",
              " 'Australia': 12,\n",
              " 'Mexico': 11,\n",
              " 'Ukraine': 11,\n",
              " 'France': 9,\n",
              " 'Canada': 6,\n",
              " 'Switzerland': 7,\n",
              " 'Germany': 14,\n",
              " 'New Zealand': 10,\n",
              " 'Spain': 8,\n",
              " 'Turkey': 5,\n",
              " 'Norway': 14,\n",
              " 'Iran, Islamic Republic of': 8,\n",
              " 'Netherlands': 11,\n",
              " 'United Kingdom': 13,\n",
              " 'Brazil': 7}"
            ]
          },
          "metadata": {}
        }
      ],
      "source": [
        "# Prepara e exibe um dictonary com a contagem de usuarios por pais\n",
        "from collections import Counter\n",
        "dict_usuario_pais = dict(Counter(nomes_paises))\n",
        "display(dict_usuario_pais)\n"
      ]
    },
    {
      "cell_type": "code",
      "source": [
        "type(dict_usuario_pais)"
      ],
      "metadata": {
        "colab": {
          "base_uri": "https://localhost:8080/"
        },
        "id": "ACcnxqHwv0_w",
        "outputId": "be097164-85a2-4796-e55f-f84721304764"
      },
      "execution_count": 28,
      "outputs": [
        {
          "output_type": "execute_result",
          "data": {
            "text/plain": [
              "dict"
            ]
          },
          "metadata": {},
          "execution_count": 28
        }
      ]
    },
    {
      "cell_type": "code",
      "source": [
        "# Transform dictonary into a new dataframe\n",
        "df_usuarios_pais=pd.DataFrame.from_dict(dict_usuario_pais, orient='index', columns=['Usuarios'])\n"
      ],
      "metadata": {
        "id": "Vf0r3LoRw4i7"
      },
      "execution_count": 29,
      "outputs": []
    },
    {
      "cell_type": "code",
      "source": [
        "#Relatório básico\n",
        "df_usuarios_pais.head()"
      ],
      "metadata": {
        "colab": {
          "base_uri": "https://localhost:8080/",
          "height": 206
        },
        "id": "DHycC69WBzRu",
        "outputId": "4846f6d3-28cb-43d6-8db0-5d7803bc94ba"
      },
      "execution_count": 30,
      "outputs": [
        {
          "output_type": "execute_result",
          "data": {
            "text/plain": [
              "               Usuarios\n",
              "United States         6\n",
              "Ireland               9\n",
              "Denmark              10\n",
              "Serbia                7\n",
              "Finland              13"
            ],
            "text/html": [
              "\n",
              "  <div id=\"df-be983c65-ec71-4ba8-9864-6e402289fd29\">\n",
              "    <div class=\"colab-df-container\">\n",
              "      <div>\n",
              "<style scoped>\n",
              "    .dataframe tbody tr th:only-of-type {\n",
              "        vertical-align: middle;\n",
              "    }\n",
              "\n",
              "    .dataframe tbody tr th {\n",
              "        vertical-align: top;\n",
              "    }\n",
              "\n",
              "    .dataframe thead th {\n",
              "        text-align: right;\n",
              "    }\n",
              "</style>\n",
              "<table border=\"1\" class=\"dataframe\">\n",
              "  <thead>\n",
              "    <tr style=\"text-align: right;\">\n",
              "      <th></th>\n",
              "      <th>Usuarios</th>\n",
              "    </tr>\n",
              "  </thead>\n",
              "  <tbody>\n",
              "    <tr>\n",
              "      <th>United States</th>\n",
              "      <td>6</td>\n",
              "    </tr>\n",
              "    <tr>\n",
              "      <th>Ireland</th>\n",
              "      <td>9</td>\n",
              "    </tr>\n",
              "    <tr>\n",
              "      <th>Denmark</th>\n",
              "      <td>10</td>\n",
              "    </tr>\n",
              "    <tr>\n",
              "      <th>Serbia</th>\n",
              "      <td>7</td>\n",
              "    </tr>\n",
              "    <tr>\n",
              "      <th>Finland</th>\n",
              "      <td>13</td>\n",
              "    </tr>\n",
              "  </tbody>\n",
              "</table>\n",
              "</div>\n",
              "      <button class=\"colab-df-convert\" onclick=\"convertToInteractive('df-be983c65-ec71-4ba8-9864-6e402289fd29')\"\n",
              "              title=\"Convert this dataframe to an interactive table.\"\n",
              "              style=\"display:none;\">\n",
              "        \n",
              "  <svg xmlns=\"http://www.w3.org/2000/svg\" height=\"24px\"viewBox=\"0 0 24 24\"\n",
              "       width=\"24px\">\n",
              "    <path d=\"M0 0h24v24H0V0z\" fill=\"none\"/>\n",
              "    <path d=\"M18.56 5.44l.94 2.06.94-2.06 2.06-.94-2.06-.94-.94-2.06-.94 2.06-2.06.94zm-11 1L8.5 8.5l.94-2.06 2.06-.94-2.06-.94L8.5 2.5l-.94 2.06-2.06.94zm10 10l.94 2.06.94-2.06 2.06-.94-2.06-.94-.94-2.06-.94 2.06-2.06.94z\"/><path d=\"M17.41 7.96l-1.37-1.37c-.4-.4-.92-.59-1.43-.59-.52 0-1.04.2-1.43.59L10.3 9.45l-7.72 7.72c-.78.78-.78 2.05 0 2.83L4 21.41c.39.39.9.59 1.41.59.51 0 1.02-.2 1.41-.59l7.78-7.78 2.81-2.81c.8-.78.8-2.07 0-2.86zM5.41 20L4 18.59l7.72-7.72 1.47 1.35L5.41 20z\"/>\n",
              "  </svg>\n",
              "      </button>\n",
              "      \n",
              "  <style>\n",
              "    .colab-df-container {\n",
              "      display:flex;\n",
              "      flex-wrap:wrap;\n",
              "      gap: 12px;\n",
              "    }\n",
              "\n",
              "    .colab-df-convert {\n",
              "      background-color: #E8F0FE;\n",
              "      border: none;\n",
              "      border-radius: 50%;\n",
              "      cursor: pointer;\n",
              "      display: none;\n",
              "      fill: #1967D2;\n",
              "      height: 32px;\n",
              "      padding: 0 0 0 0;\n",
              "      width: 32px;\n",
              "    }\n",
              "\n",
              "    .colab-df-convert:hover {\n",
              "      background-color: #E2EBFA;\n",
              "      box-shadow: 0px 1px 2px rgba(60, 64, 67, 0.3), 0px 1px 3px 1px rgba(60, 64, 67, 0.15);\n",
              "      fill: #174EA6;\n",
              "    }\n",
              "\n",
              "    [theme=dark] .colab-df-convert {\n",
              "      background-color: #3B4455;\n",
              "      fill: #D2E3FC;\n",
              "    }\n",
              "\n",
              "    [theme=dark] .colab-df-convert:hover {\n",
              "      background-color: #434B5C;\n",
              "      box-shadow: 0px 1px 3px 1px rgba(0, 0, 0, 0.15);\n",
              "      filter: drop-shadow(0px 1px 2px rgba(0, 0, 0, 0.3));\n",
              "      fill: #FFFFFF;\n",
              "    }\n",
              "  </style>\n",
              "\n",
              "      <script>\n",
              "        const buttonEl =\n",
              "          document.querySelector('#df-be983c65-ec71-4ba8-9864-6e402289fd29 button.colab-df-convert');\n",
              "        buttonEl.style.display =\n",
              "          google.colab.kernel.accessAllowed ? 'block' : 'none';\n",
              "\n",
              "        async function convertToInteractive(key) {\n",
              "          const element = document.querySelector('#df-be983c65-ec71-4ba8-9864-6e402289fd29');\n",
              "          const dataTable =\n",
              "            await google.colab.kernel.invokeFunction('convertToInteractive',\n",
              "                                                     [key], {});\n",
              "          if (!dataTable) return;\n",
              "\n",
              "          const docLinkHtml = 'Like what you see? Visit the ' +\n",
              "            '<a target=\"_blank\" href=https://colab.research.google.com/notebooks/data_table.ipynb>data table notebook</a>'\n",
              "            + ' to learn more about interactive tables.';\n",
              "          element.innerHTML = '';\n",
              "          dataTable['output_type'] = 'display_data';\n",
              "          await google.colab.output.renderOutput(dataTable, element);\n",
              "          const docLink = document.createElement('div');\n",
              "          docLink.innerHTML = docLinkHtml;\n",
              "          element.appendChild(docLink);\n",
              "        }\n",
              "      </script>\n",
              "    </div>\n",
              "  </div>\n",
              "  "
            ]
          },
          "metadata": {},
          "execution_count": 30
        }
      ]
    },
    {
      "cell_type": "code",
      "source": [
        "#Gráfico básico, sem exibição do nome de todos os paises que tem usuários\n",
        "df_usuarios_pais.plot(y='Usuarios', title = 'Usuarios por Pais', colormap = 'viridis');"
      ],
      "metadata": {
        "colab": {
          "base_uri": "https://localhost:8080/",
          "height": 284
        },
        "id": "MaiH1FKQBuE0",
        "outputId": "56277061-06a6-498f-8d56-d0d85daa6fbb"
      },
      "execution_count": 31,
      "outputs": [
        {
          "output_type": "display_data",
          "data": {
            "text/plain": [
              "<Figure size 432x288 with 1 Axes>"
            ],
            "image/png": "[encoded data removed]"
          },
          "metadata": {}
        }
      ]
    },
    {
      "cell_type": "code",
      "execution_count": null,
      "metadata": {
        "colab": {
          "base_uri": "https://localhost:8080/",
          "height": 446
        },
        "id": "9vLWE-JaPB8K",
        "outputId": "f738f6a3-4128-469f-c772-bbd2614d8caf"
      },
      "outputs": [
        {
          "data": {
            "image/png": "[encoded data removed]",
            "text/plain": [
              "<Figure size 1440x576 with 1 Axes>"
            ]
          },
          "metadata": {},
          "output_type": "display_data"
        }
      ],
      "source": [
        "# Plot\n",
        "\n",
        "# Figura\n",
        "plt.figure(figsize = (20,8))\n",
        "\n",
        "# Barplot\n",
        "sns.barplot(y = df_filmes_paises[:20].country, x = df_filmes_paises[:20].Movie_Count, orient = \"h\")\n",
        "\n",
        "# Loop\n",
        "for i in range(0,20):\n",
        "    plt.text(df_filmes_paises.Movie_Count[df_filmes_paises.index[i]]-1,\n",
        "             i + 0.30,\n",
        "             round(df_filmes_paises[\"Movie_Count\"][df_filmes_paises.index[i]],2))\n",
        "\n",
        "plt.ylabel('País')             \n",
        "plt.xlabel('\\nNúmero de Filmes')\n",
        "plt.title('\\nNúmero de Filmes Produzidos Por País\\n')\n",
        "plt.show()"
      ]
    },
    {
      "cell_type": "markdown",
      "metadata": {
        "id": "szAHC3FEyoiv"
      },
      "source": [
        "## 9- Quais São os Top 10 Melhores Filmes?\n",
        "\n",
        "Top 10 filmes com melhor avaliação e mais de 25 mil votos."
      ]
    },
    {
      "cell_type": "code",
      "execution_count": null,
      "metadata": {
        "id": "BMBWTlyykBL2"
      },
      "outputs": [],
      "source": [
        "# Resultado\n",
        "top10_melhores_filmes = pd.read_sql_query(consulta9, conn)"
      ]
    },
    {
      "cell_type": "markdown",
      "metadata": {
        "id": "AOyJM8blkBL3"
      },
      "source": [
        "## 10- Quais São os Top 10 Piores Filmes?\n",
        "\n",
        "Top 10 filmes com pior avaliação e mais de 25 mil votos."
      ]
    },
    {
      "cell_type": "code",
      "execution_count": null,
      "metadata": {
        "id": "naOoI-IXfKSI"
      },
      "outputs": [],
      "source": [
        "# Resultado\n",
        "top10_piores_filmes = pd.read_sql_query(consulta10, conn)"
      ]
    },
    {
      "cell_type": "markdown",
      "metadata": {
        "id": "H3rKUiitkBL5"
      },
      "source": [
        "# Fim"
      ]
    },
    {
      "cell_type": "markdown",
      "metadata": {
        "id": "bB-zuVijkBL5"
      },
      "source": [
        "### Obrigado\n",
        "\n",
        "### Visite o Blog da Data Science Academy - <a href=\"http://blog.dsacademy.com.br\">Blog DSA</a>"
      ]
    },
    {
      "cell_type": "markdown",
      "metadata": {
        "id": "IDJ-pf6vkBL5"
      },
      "source": [
        "Parabéns se você chegou até aqui. Use o voucher PYTHONDSA9642 para comprar qualquer curso ou Formação da DSA com 5% de desconto."
      ]
    }
  ],
  "metadata": {
    "colab": {
      "provenance": [],
      "include_colab_link": true
    },
    "kernelspec": {
      "display_name": "Python 3",
      "language": "python",
      "name": "python3"
    },
    "language_info": {
      "codemirror_mode": {
        "name": "ipython",
        "version": 3
      },
      "file_extension": ".py",
      "mimetype": "text/x-python",
      "name": "python",
      "nbconvert_exporter": "python",
      "pygments_lexer": "ipython3",
      "version": "3.8.8"
    }
  },
  "nbformat": 4,
  "nbformat_minor": 0
}