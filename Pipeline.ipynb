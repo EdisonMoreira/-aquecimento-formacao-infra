{
  "cells": [
    {
      "cell_type": "markdown",
      "metadata": {
        "id": "view-in-github",
        "colab_type": "text"
      },
      "source": [
        "<a href=\"https://colab.research.google.com/github/EdisonMoreira/-aquecimento-formacao-infra/blob/master/Pipeline.ipynb\" target=\"_parent\"><img src=\"https://colab.research.google.com/assets/colab-badge.svg\" alt=\"Open In Colab\"/></a>"
      ]
    },
    {
      "cell_type": "markdown",
      "metadata": {
        "id": "6yTR340XkBKS"
      },
      "source": [
        "# <font color='blue'>Escritório de Dados</font>\n",
        "\n",
        "## Aquecimento para Formação de Infraestrutura\n",
        "## Edison Moreira\n",
        "### Iplanrio / Diretoria de Sistemas (DSI) / Gerência de Arquitetura e Integrações (GAI)"
      ]
    },
    {
      "cell_type": "markdown",
      "metadata": {
        "id": "wrY9P4JKkBKh"
      },
      "source": [
        "## Pipeline\n",
        "### Etapa 1: Entendendo os dados 🎲\n",
        "\n",
        "- **Objetivo:** nessa etapa, você deve somente ingerir dados da API do `randomuser.me` e observar o formato dos dados, tentando imaginar como eles poderiam ser usados para construir uma tabela.\n",
        "- **Descrição da solução:** a solução dessa etapa consiste em uma função para consumir a API na URL `https://randomuser.me/api/` e retornar um dicionário com os dados."
      ]
    },
    {
      "cell_type": "markdown",
      "metadata": {
        "id": "AorSGd1XkBKl"
      },
      "source": [
        "## Instalando e Carregando Pacotes"
      ]
    },
    {
      "cell_type": "code",
      "execution_count": 101,
      "metadata": {
        "id": "geX_WLH2kBKm",
        "outputId": "780dff91-1882-4bac-c176-d2709b14d3bf",
        "colab": {
          "base_uri": "https://localhost:8080/"
        }
      },
      "outputs": [
        {
          "output_type": "stream",
          "name": "stdout",
          "text": [
            "Versão da Linguagem Python Usada Neste Jupyter Notebook: 3.8.10\n"
          ]
        }
      ],
      "source": [
        "# Versão da Linguagem Python\n",
        "from platform import python_version\n",
        "print('Versão da Linguagem Python Usada Neste Jupyter Notebook:', python_version())"
      ]
    },
    {
      "cell_type": "code",
      "source": [
        "pip install requests"
      ],
      "metadata": {
        "colab": {
          "base_uri": "https://localhost:8080/"
        },
        "id": "rhOx3Gq5S4n6",
        "outputId": "065b1a22-9b75-427d-cd35-3dd974a5f98c"
      },
      "execution_count": 102,
      "outputs": [
        {
          "output_type": "stream",
          "name": "stdout",
          "text": [
            "Looking in indexes: https://pypi.org/simple, https://us-python.pkg.dev/colab-wheels/public/simple/\n",
            "Requirement already satisfied: requests in /usr/local/lib/python3.8/dist-packages (2.25.1)\n",
            "Requirement already satisfied: idna<3,>=2.5 in /usr/local/lib/python3.8/dist-packages (from requests) (2.10)\n",
            "Requirement already satisfied: certifi>=2017.4.17 in /usr/local/lib/python3.8/dist-packages (from requests) (2022.12.7)\n",
            "Requirement already satisfied: urllib3<1.27,>=1.21.1 in /usr/local/lib/python3.8/dist-packages (from requests) (1.24.3)\n",
            "Requirement already satisfied: chardet<5,>=3.0.2 in /usr/local/lib/python3.8/dist-packages (from requests) (4.0.0)\n"
          ]
        }
      ]
    },
    {
      "cell_type": "code",
      "execution_count": 103,
      "metadata": {
        "id": "KwrZ9EWy02p7"
      },
      "outputs": [],
      "source": [
        "# Import da package para tratamento de acesso a uma API\n",
        "import requests"
      ]
    },
    {
      "cell_type": "markdown",
      "metadata": {
        "id": "yebFAbpYviBJ"
      },
      "source": [
        "## Ingerindo os Dados\n",
        "\n",
        "Acessando os dados na API Random User\n",
        "\n",
        "Confirmando o sucesso do acesso que é \n",
        "API Status Code 200: Everything went okay, \n",
        "and the result has been returned (if any)."
      ]
    },
    {
      "cell_type": "code",
      "execution_count": 104,
      "metadata": {
        "id": "GCynwX5SFUt8",
        "colab": {
          "base_uri": "https://localhost:8080/"
        },
        "outputId": "8d375c0b-5124-4dfa-8eff-f2dfc6bf3702"
      },
      "outputs": [
        {
          "output_type": "stream",
          "name": "stdout",
          "text": [
            "200\n"
          ]
        }
      ],
      "source": [
        "response = requests.get(\"https://randomuser.me/api/\")\n",
        "print(response.status_code)"
      ]
    },
    {
      "cell_type": "markdown",
      "source": [
        "Identificando quais ão a package/classe do objeto response"
      ],
      "metadata": {
        "id": "7YnlA39FbVmV"
      }
    },
    {
      "cell_type": "code",
      "source": [
        "type(response)"
      ],
      "metadata": {
        "colab": {
          "base_uri": "https://localhost:8080/"
        },
        "id": "d-HTWx0vZuqr",
        "outputId": "24d8c59c-4665-46a6-e938-96c1d570c78a"
      },
      "execution_count": 105,
      "outputs": [
        {
          "output_type": "execute_result",
          "data": {
            "text/plain": [
              "requests.models.Response"
            ]
          },
          "metadata": {},
          "execution_count": 105
        }
      ]
    },
    {
      "cell_type": "markdown",
      "source": [
        "Exibindo o conteúdo do response que tem o formato json,\n",
        "sendo a formatação de dictionary"
      ],
      "metadata": {
        "id": "kvjKPHzkblgL"
      }
    },
    {
      "cell_type": "code",
      "source": [
        "response.json()"
      ],
      "metadata": {
        "colab": {
          "base_uri": "https://localhost:8080/"
        },
        "id": "g4_DNzJnaQoM",
        "outputId": "af52df27-1f4a-4d16-9547-5fe26e468318"
      },
      "execution_count": 106,
      "outputs": [
        {
          "output_type": "execute_result",
          "data": {
            "text/plain": [
              "{'results': [{'gender': 'female',\n",
              "   'name': {'title': 'Ms', 'first': 'Daniela', 'last': 'Cruz'},\n",
              "   'location': {'street': {'number': 7192,\n",
              "     'name': 'Calle de Alberto Aguilera'},\n",
              "    'city': 'Arrecife',\n",
              "    'state': 'Castilla la Mancha',\n",
              "    'country': 'Spain',\n",
              "    'postcode': 10369,\n",
              "    'coordinates': {'latitude': '-34.4335', 'longitude': '159.0940'},\n",
              "    'timezone': {'offset': '+5:45', 'description': 'Kathmandu'}},\n",
              "   'email': 'daniela.cruz@example.com',\n",
              "   'login': {'uuid': '42dcb414-0c17-44da-b660-0bb77881a0ea',\n",
              "    'username': 'beautifulbear730',\n",
              "    'password': 'goku',\n",
              "    'salt': 'XfCs1OTy',\n",
              "    'md5': '2f70f5e965eee1b4cf1a3ed0ba0dce2c',\n",
              "    'sha1': 'a95215fb529a134cb716669ac6c2cac24e02aa94',\n",
              "    'sha256': '51ecbb0daa9f8f80897df809923ba3cfb2b0d14d39b3d2315bf2745825d9663f'},\n",
              "   'dob': {'date': '1983-10-25T05:45:34.801Z', 'age': 39},\n",
              "   'registered': {'date': '2011-01-29T05:59:19.955Z', 'age': 12},\n",
              "   'phone': '955-060-868',\n",
              "   'cell': '610-090-129',\n",
              "   'id': {'name': 'DNI', 'value': '40163969-J'},\n",
              "   'picture': {'large': 'https://randomuser.me/api/portraits/women/45.jpg',\n",
              "    'medium': 'https://randomuser.me/api/portraits/med/women/45.jpg',\n",
              "    'thumbnail': 'https://randomuser.me/api/portraits/thumb/women/45.jpg'},\n",
              "   'nat': 'ES'}],\n",
              " 'info': {'seed': '526b88c19726f6f1',\n",
              "  'results': 1,\n",
              "  'page': 1,\n",
              "  'version': '1.4'}}"
            ]
          },
          "metadata": {},
          "execution_count": 106
        }
      ]
    },
    {
      "cell_type": "markdown",
      "source": [
        "### Etapa 2: Coletando dados 💾\n",
        "\n",
        "- **Objetivo:** nessa etapa, você deve coletar dados da API e armazená-los em um arquivo CSV.\n",
        "- **Descrição da solução:** a solução dessa etapa consiste em uma função para coletar uma quantidade `n` de dados da API (sendo `n` um valor fornecido via parâmetro da função), manipulá-los para montar um `pandas.DataFrame` e salvar o resultado em um arquivo CSV.\n",
        "**Dicas:**\n",
        "  - Para tornar os dados mais fáceis de manipular no futuro, faça com que o `DataFrame` seja \"plano\", ou seja, cada coluna seja um único atributo do objeto.\n",
        "  - Para ter dados suficientes para uma análise razoável nas próximas etapas, recomendamos `n>=500`."
      ],
      "metadata": {
        "id": "Dxl2C1Nha2o5"
      }
    },
    {
      "cell_type": "markdown",
      "metadata": {
        "id": "yx0flL9gkBLH"
      },
      "source": [
        "> Criar função qu receba parametro Args1 para fazer Args1 acessos a API\n",
        "Juntando cada leitura (append) ao dicitionario"
      ]
    },
    {
      "cell_type": "code",
      "source": [
        "# Import da packages\n",
        "# para tratamento de acesso a uma API\n",
        "# para criação e processamento de Pandas Dataframe\n",
        "import requests as reqs\n",
        "import pandas as pd"
      ],
      "metadata": {
        "id": "BfeW_pG9jb5e"
      },
      "execution_count": 107,
      "outputs": []
    },
    {
      "cell_type": "code",
      "source": [
        "# Função para coletar uma quantidade n de dados da API (sendo n um valor fornecido via parâmetro da função),\n",
        "def coletaDado (quantidadeDado: int):\n",
        "    parametroAPI=\"https://randomuser.me/api/?results=\" + str(quantidadeDado)\n",
        "    print(parametroAPI)\n",
        "    return reqs.get(parametroAPI)"
      ],
      "metadata": {
        "id": "JjDHPbp7bsYD"
      },
      "execution_count": 91,
      "outputs": []
    },
    {
      "cell_type": "code",
      "source": [
        "responseDados = coletaDado(5)\n",
        "print(responseDados.status_code)"
      ],
      "metadata": {
        "colab": {
          "base_uri": "https://localhost:8080/"
        },
        "id": "56NJRF7cSzso",
        "outputId": "56115f54-6035-4b55-bc0c-3a79ef5b648c"
      },
      "execution_count": 108,
      "outputs": [
        {
          "output_type": "stream",
          "name": "stdout",
          "text": [
            "https://randomuser.me/api/?results=5\n",
            "200\n"
          ]
        }
      ]
    },
    {
      "cell_type": "code",
      "source": [
        "type(responseDados)"
      ],
      "metadata": {
        "colab": {
          "base_uri": "https://localhost:8080/"
        },
        "id": "uCGwrhUTuGlX",
        "outputId": "283443e3-cc97-491a-957c-ce64b190092b"
      },
      "execution_count": 109,
      "outputs": [
        {
          "output_type": "execute_result",
          "data": {
            "text/plain": [
              "requests.models.Response"
            ]
          },
          "metadata": {},
          "execution_count": 109
        }
      ]
    },
    {
      "cell_type": "code",
      "source": [
        "responseDict=responseDados.json()"
      ],
      "metadata": {
        "id": "2lcvVtR3TMyC"
      },
      "execution_count": 110,
      "outputs": []
    },
    {
      "cell_type": "code",
      "source": [
        "type(responseDict)"
      ],
      "metadata": {
        "colab": {
          "base_uri": "https://localhost:8080/"
        },
        "id": "GVrf9CvbUV88",
        "outputId": "e93eb857-1e6b-4672-f8ab-8dd7f518c602"
      },
      "execution_count": 111,
      "outputs": [
        {
          "output_type": "execute_result",
          "data": {
            "text/plain": [
              "dict"
            ]
          },
          "metadata": {},
          "execution_count": 111
        }
      ]
    },
    {
      "cell_type": "code",
      "source": [
        "import json\n",
        "from pandas import json_normalize\n",
        "\n",
        "\n"
      ],
      "metadata": {
        "id": "vq0fsb7DC82O"
      },
      "execution_count": 112,
      "outputs": []
    },
    {
      "cell_type": "code",
      "source": [
        "# Use json_normalize() to convert JSON (dict, list of dicts) to DataFrame\n",
        "df = json_normalize(responseDict['results']) \n",
        "print(df)"
      ],
      "metadata": {
        "colab": {
          "base_uri": "https://localhost:8080/"
        },
        "id": "SEw7w6uER-sP",
        "outputId": "e6d2dbc1-8b69-49f1-ac02-6ae3e206513d"
      },
      "execution_count": 113,
      "outputs": [
        {
          "output_type": "stream",
          "name": "stdout",
          "text": [
            "  gender                        email           phone            cell nat  \\\n",
            "0   male      giray.aykac@example.com  (865)-026-2683  (599)-887-6060  TR   \n",
            "1   male    tristan.morin@example.com    W99 I82-2332    D28 X84-7238  CA   \n",
            "2   male    tormod.reiten@example.com        24514308        44912836  NO   \n",
            "3   male    robert.moreno@example.com     01222 73521    07174 627929  GB   \n",
            "4   male  romain.fournier@example.com  01-53-10-53-11  06-65-32-39-64  FR   \n",
            "\n",
            "  name.title name.first name.last  location.street.number  \\\n",
            "0         Mr      Giray     Aykaç                    3435   \n",
            "1         Mr    Tristan     Morin                    1180   \n",
            "2         Mr     Tormod    Reiten                    7066   \n",
            "3         Mr     Robert    Moreno                    3037   \n",
            "4         Mr     Romain  Fournier                    8079   \n",
            "\n",
            "  location.street.name  ...  \\\n",
            "0     Talak Göktepe Cd  ...   \n",
            "1        Frederick Ave  ...   \n",
            "2          Åsdalsveien  ...   \n",
            "3            York Road  ...   \n",
            "4         Rue du Stade  ...   \n",
            "\n",
            "                                        login.sha256  \\\n",
            "0  43b76edccf0e5782f4e2f02f5510d6ffb0cfca1b0437ef...   \n",
            "1  8dc4b3452bc54de0b4bb0ccd9d74f6d3d6e7a72d06e0f0...   \n",
            "2  1b4a497008e8edfd61f7e0838e56af527195605a1cb09f...   \n",
            "3  491584449dadd65c1e969ba1665c1c51d7077ffdbee6fc...   \n",
            "4  4ea59090a1f3d7c6244f7f3ee85a4919543e6d5eb329d2...   \n",
            "\n",
            "                   dob.date dob.age           registered.date registered.age  \\\n",
            "0  1980-08-08T06:26:31.938Z      42  2013-08-13T00:50:58.024Z              9   \n",
            "1  1950-04-30T05:36:58.409Z      72  2013-06-12T01:52:16.153Z              9   \n",
            "2  1956-06-28T05:54:12.113Z      66  2022-01-03T00:28:29.768Z              1   \n",
            "3  1986-08-11T13:52:41.805Z      36  2006-04-20T13:02:40.630Z             16   \n",
            "4  1985-09-20T13:57:47.125Z      37  2015-07-29T08:04:36.165Z              7   \n",
            "\n",
            "  id.name          id.value                                   picture.large  \\\n",
            "0                      None  https://randomuser.me/api/portraits/men/97.jpg   \n",
            "1     SIN         884755901  https://randomuser.me/api/portraits/men/47.jpg   \n",
            "2      FN       28065616108  https://randomuser.me/api/portraits/men/53.jpg   \n",
            "3    NINO     HP 73 43 85 B  https://randomuser.me/api/portraits/men/95.jpg   \n",
            "4   INSEE  1850821893604 59  https://randomuser.me/api/portraits/men/80.jpg   \n",
            "\n",
            "                                      picture.medium  \\\n",
            "0  https://randomuser.me/api/portraits/med/men/97...   \n",
            "1  https://randomuser.me/api/portraits/med/men/47...   \n",
            "2  https://randomuser.me/api/portraits/med/men/53...   \n",
            "3  https://randomuser.me/api/portraits/med/men/95...   \n",
            "4  https://randomuser.me/api/portraits/med/men/80...   \n",
            "\n",
            "                                   picture.thumbnail  \n",
            "0  https://randomuser.me/api/portraits/thumb/men/...  \n",
            "1  https://randomuser.me/api/portraits/thumb/men/...  \n",
            "2  https://randomuser.me/api/portraits/thumb/men/...  \n",
            "3  https://randomuser.me/api/portraits/thumb/men/...  \n",
            "4  https://randomuser.me/api/portraits/thumb/men/...  \n",
            "\n",
            "[5 rows x 34 columns]\n"
          ]
        }
      ]
    },
    {
      "cell_type": "code",
      "source": [
        "# Imports\n",
        "import re\n",
        "import time\n",
        "import numpy as np\n",
        "import matplotlib.pyplot as plt"
      ],
      "metadata": {
        "id": "BCCd0xqMRRAL"
      },
      "execution_count": null,
      "outputs": []
    },
    {
      "cell_type": "code",
      "source": [
        "file_name = \"binary.csv\"\n",
        "\n",
        "def retornaArq(file_name):\n",
        "    df = pd.read_csv(file_name)\n",
        "    return df.describe()\n",
        "    \n",
        "retornaArq(file_name)"
      ],
      "metadata": {
        "id": "xWaDCZI8STeZ"
      },
      "execution_count": null,
      "outputs": []
    },
    {
      "cell_type": "markdown",
      "source": [
        "Import da package para acesso e tratamento dos países (Country)"
      ],
      "metadata": {
        "id": "SvKzxKtuenGp"
      }
    },
    {
      "cell_type": "code",
      "source": [
        "# Instala o pacote\n",
        "# https://pypi.org/project/pycountry/\n",
        "!pip install -q pycountry"
      ],
      "metadata": {
        "colab": {
          "base_uri": "https://localhost:8080/"
        },
        "id": "XNlMnLsLUUtg",
        "outputId": "7b062164-e052-47fe-aa14-4352f60559c0"
      },
      "execution_count": 7,
      "outputs": [
        {
          "output_type": "stream",
          "name": "stdout",
          "text": [
            "\u001b[?25l     \u001b[90m━━━━━━━━━━━━━━━━━━━━━━━━━━━━━━━━━━━━━━━━\u001b[0m \u001b[32m0.0/10.1 MB\u001b[0m \u001b[31m?\u001b[0m eta \u001b[36m-:--:--\u001b[0m\r\u001b[2K     \u001b[91m━━━━━━━━━━━━━━\u001b[0m\u001b[91m╸\u001b[0m\u001b[90m━━━━━━━━━━━━━━━━━━━━━━━━━\u001b[0m \u001b[32m3.8/10.1 MB\u001b[0m \u001b[31m114.4 MB/s\u001b[0m eta \u001b[36m0:00:01\u001b[0m\r\u001b[2K     \u001b[91m━━━━━━━━━━━━━━━━━━━━━━━━━━━━━━━━━\u001b[0m\u001b[91m╸\u001b[0m\u001b[90m━━━━━━\u001b[0m \u001b[32m8.6/10.1 MB\u001b[0m \u001b[31m124.6 MB/s\u001b[0m eta \u001b[36m0:00:01\u001b[0m\r\u001b[2K     \u001b[91m━━━━━━━━━━━━━━━━━━━━━━━━━━━━━━━━━━━━━━\u001b[0m\u001b[91m╸\u001b[0m \u001b[32m10.1/10.1 MB\u001b[0m \u001b[31m125.7 MB/s\u001b[0m eta \u001b[36m0:00:01\u001b[0m\r\u001b[2K     \u001b[90m━━━━━━━━━━━━━━━━━━━━━━━━━━━━━━━━━━━━━━━━\u001b[0m \u001b[32m10.1/10.1 MB\u001b[0m \u001b[31m71.8 MB/s\u001b[0m eta \u001b[36m0:00:00\u001b[0m\n",
            "\u001b[?25h  Installing build dependencies ... \u001b[?25l\u001b[?25hdone\n",
            "  Getting requirements to build wheel ... \u001b[?25l\u001b[?25hdone\n",
            "  Preparing metadata (pyproject.toml) ... \u001b[?25l\u001b[?25hdone\n",
            "  Building wheel for pycountry (pyproject.toml) ... \u001b[?25l\u001b[?25hdone\n"
          ]
        }
      ]
    },
    {
      "cell_type": "markdown",
      "metadata": {
        "id": "t6ScDbBNzblj"
      },
      "source": [
        "## 8- Qual o Número de Filmes Produzidos Por País?\n",
        "\n",
        "Número de filmes produzidos por país."
      ]
    },
    {
      "cell_type": "code",
      "execution_count": null,
      "metadata": {
        "id": "xit2KSBiLOdf"
      },
      "outputs": [],
      "source": [
        "# Consulta SQL\n",
        "consulta8 = '''\n",
        "            SELECT region, COUNT(*) Number_of_movies FROM \n",
        "            akas JOIN titles ON \n",
        "            akas.title_id = titles.title_id\n",
        "            WHERE region != 'None'\n",
        "            AND type = \\'movie\\'\n",
        "            GROUP BY region\n",
        "            ''' "
      ]
    },
    {
      "cell_type": "code",
      "execution_count": null,
      "metadata": {
        "id": "FxiQKzlbkBLy"
      },
      "outputs": [],
      "source": [
        "# Resultado\n",
        "resultado8 = pd.read_sql_query(consulta8, conn)"
      ]
    },
    {
      "cell_type": "code",
      "execution_count": null,
      "metadata": {
        "id": "O1TcqZihkBLz",
        "outputId": "99404a43-77ec-4121-874e-6c6bbfa4aed8"
      },
      "outputs": [
        {
          "data": {
            "text/html": [
              "<div>\n",
              "<style scoped>\n",
              "    .dataframe tbody tr th:only-of-type {\n",
              "        vertical-align: middle;\n",
              "    }\n",
              "\n",
              "    .dataframe tbody tr th {\n",
              "        vertical-align: top;\n",
              "    }\n",
              "\n",
              "    .dataframe thead th {\n",
              "        text-align: right;\n",
              "    }\n",
              "</style>\n",
              "<table border=\"1\" class=\"dataframe\">\n",
              "  <thead>\n",
              "    <tr style=\"text-align: right;\">\n",
              "      <th></th>\n",
              "      <th>region</th>\n",
              "      <th>Number_of_movies</th>\n",
              "    </tr>\n",
              "  </thead>\n",
              "  <tbody>\n",
              "    <tr>\n",
              "      <th>0</th>\n",
              "      <td>AD</td>\n",
              "      <td>22</td>\n",
              "    </tr>\n",
              "    <tr>\n",
              "      <th>1</th>\n",
              "      <td>AE</td>\n",
              "      <td>321</td>\n",
              "    </tr>\n",
              "    <tr>\n",
              "      <th>2</th>\n",
              "      <td>AF</td>\n",
              "      <td>108</td>\n",
              "    </tr>\n",
              "    <tr>\n",
              "      <th>3</th>\n",
              "      <td>AG</td>\n",
              "      <td>12</td>\n",
              "    </tr>\n",
              "    <tr>\n",
              "      <th>4</th>\n",
              "      <td>AL</td>\n",
              "      <td>1230</td>\n",
              "    </tr>\n",
              "    <tr>\n",
              "      <th>...</th>\n",
              "      <td>...</td>\n",
              "      <td>...</td>\n",
              "    </tr>\n",
              "    <tr>\n",
              "      <th>227</th>\n",
              "      <td>YUCS</td>\n",
              "      <td>146</td>\n",
              "    </tr>\n",
              "    <tr>\n",
              "      <th>228</th>\n",
              "      <td>ZA</td>\n",
              "      <td>2930</td>\n",
              "    </tr>\n",
              "    <tr>\n",
              "      <th>229</th>\n",
              "      <td>ZM</td>\n",
              "      <td>11</td>\n",
              "    </tr>\n",
              "    <tr>\n",
              "      <th>230</th>\n",
              "      <td>ZRCD</td>\n",
              "      <td>2</td>\n",
              "    </tr>\n",
              "    <tr>\n",
              "      <th>231</th>\n",
              "      <td>ZW</td>\n",
              "      <td>46</td>\n",
              "    </tr>\n",
              "  </tbody>\n",
              "</table>\n",
              "<p>232 rows × 2 columns</p>\n",
              "</div>"
            ],
            "text/plain": [
              "    region  Number_of_movies\n",
              "0       AD                22\n",
              "1       AE               321\n",
              "2       AF               108\n",
              "3       AG                12\n",
              "4       AL              1230\n",
              "..     ...               ...\n",
              "227   YUCS               146\n",
              "228     ZA              2930\n",
              "229     ZM                11\n",
              "230   ZRCD                 2\n",
              "231     ZW                46\n",
              "\n",
              "[232 rows x 2 columns]"
            ]
          },
          "metadata": {},
          "output_type": "display_data"
        }
      ],
      "source": [
        "display(resultado8)"
      ]
    },
    {
      "cell_type": "code",
      "execution_count": null,
      "metadata": {
        "id": "wVeA78irkBLz",
        "outputId": "4f94cd07-cb4b-4e71-828b-6d04f700d384"
      },
      "outputs": [
        {
          "data": {
            "text/plain": [
              "(232, 2)"
            ]
          },
          "execution_count": 91,
          "metadata": {},
          "output_type": "execute_result"
        }
      ],
      "source": [
        "# Shape\n",
        "resultado8.shape"
      ]
    },
    {
      "cell_type": "code",
      "execution_count": null,
      "metadata": {
        "id": "nRg64HbkkBLz",
        "outputId": "f7cc4936-8ffd-4e18-db63-d605d7c8929f"
      },
      "outputs": [
        {
          "data": {
            "text/plain": [
              "232"
            ]
          },
          "execution_count": 92,
          "metadata": {},
          "output_type": "execute_result"
        }
      ],
      "source": [
        "# Número de linhas\n",
        "resultado8.shape[0]"
      ]
    },
    {
      "cell_type": "code",
      "execution_count": null,
      "metadata": {
        "id": "fhPq2Va2kBL0"
      },
      "outputs": [],
      "source": [
        "# Listas auxiliares\n",
        "nomes_paises = []\n",
        "contagem = []"
      ]
    },
    {
      "cell_type": "code",
      "execution_count": null,
      "metadata": {
        "id": "y0EiQBfgNEgb"
      },
      "outputs": [],
      "source": [
        "# Loop para obter o país de acordo com a região\n",
        "for i in range(resultado8.shape[0]):\n",
        "    try:\n",
        "        coun = resultado8['region'].values[i]\n",
        "        nomes_paises.append(pycountry.countries.get(alpha_2 = coun).name)\n",
        "        contagem.append(resultado8['Number_of_movies'].values[i])\n",
        "    except: \n",
        "        continue"
      ]
    },
    {
      "cell_type": "code",
      "execution_count": null,
      "metadata": {
        "id": "Ke69xq96Oeeu"
      },
      "outputs": [],
      "source": [
        "# Prepara o dataframe\n",
        "df_filmes_paises = pd.DataFrame()\n",
        "df_filmes_paises['country'] = nomes_paises\n",
        "df_filmes_paises['Movie_Count'] = contagem"
      ]
    },
    {
      "cell_type": "code",
      "execution_count": null,
      "metadata": {
        "id": "RyaO-hmNOxv-"
      },
      "outputs": [],
      "source": [
        "# Ordena o resultado\n",
        "df_filmes_paises = df_filmes_paises.sort_values(by = 'Movie_Count', ascending = False)"
      ]
    },
    {
      "cell_type": "code",
      "execution_count": null,
      "metadata": {
        "id": "OJPKheYkkBL1",
        "outputId": "66ca1258-33aa-4bc7-abda-31004b3a9c59"
      },
      "outputs": [
        {
          "data": {
            "text/html": [
              "<div>\n",
              "<style scoped>\n",
              "    .dataframe tbody tr th:only-of-type {\n",
              "        vertical-align: middle;\n",
              "    }\n",
              "\n",
              "    .dataframe tbody tr th {\n",
              "        vertical-align: top;\n",
              "    }\n",
              "\n",
              "    .dataframe thead th {\n",
              "        text-align: right;\n",
              "    }\n",
              "</style>\n",
              "<table border=\"1\" class=\"dataframe\">\n",
              "  <thead>\n",
              "    <tr style=\"text-align: right;\">\n",
              "      <th></th>\n",
              "      <th>country</th>\n",
              "      <th>Movie_Count</th>\n",
              "    </tr>\n",
              "  </thead>\n",
              "  <tbody>\n",
              "    <tr>\n",
              "      <th>198</th>\n",
              "      <td>United States</td>\n",
              "      <td>255987</td>\n",
              "    </tr>\n",
              "    <tr>\n",
              "      <th>65</th>\n",
              "      <td>United Kingdom</td>\n",
              "      <td>113225</td>\n",
              "    </tr>\n",
              "    <tr>\n",
              "      <th>96</th>\n",
              "      <td>Japan</td>\n",
              "      <td>87815</td>\n",
              "    </tr>\n",
              "    <tr>\n",
              "      <th>63</th>\n",
              "      <td>France</td>\n",
              "      <td>80993</td>\n",
              "    </tr>\n",
              "    <tr>\n",
              "      <th>89</th>\n",
              "      <td>India</td>\n",
              "      <td>70743</td>\n",
              "    </tr>\n",
              "    <tr>\n",
              "      <th>32</th>\n",
              "      <td>Canada</td>\n",
              "      <td>67483</td>\n",
              "    </tr>\n",
              "    <tr>\n",
              "      <th>47</th>\n",
              "      <td>Germany</td>\n",
              "      <td>65316</td>\n",
              "    </tr>\n",
              "    <tr>\n",
              "      <th>93</th>\n",
              "      <td>Italy</td>\n",
              "      <td>63060</td>\n",
              "    </tr>\n",
              "    <tr>\n",
              "      <th>26</th>\n",
              "      <td>Brazil</td>\n",
              "      <td>61825</td>\n",
              "    </tr>\n",
              "    <tr>\n",
              "      <th>58</th>\n",
              "      <td>Spain</td>\n",
              "      <td>61704</td>\n",
              "    </tr>\n",
              "  </tbody>\n",
              "</table>\n",
              "</div>"
            ],
            "text/plain": [
              "            country  Movie_Count\n",
              "198   United States       255987\n",
              "65   United Kingdom       113225\n",
              "96            Japan        87815\n",
              "63           France        80993\n",
              "89            India        70743\n",
              "32           Canada        67483\n",
              "47          Germany        65316\n",
              "93            Italy        63060\n",
              "26           Brazil        61825\n",
              "58            Spain        61704"
            ]
          },
          "execution_count": 97,
          "metadata": {},
          "output_type": "execute_result"
        }
      ],
      "source": [
        "# Visualiza\n",
        "df_filmes_paises.head(10)"
      ]
    },
    {
      "cell_type": "code",
      "execution_count": null,
      "metadata": {
        "colab": {
          "base_uri": "https://localhost:8080/",
          "height": 446
        },
        "id": "9vLWE-JaPB8K",
        "outputId": "f738f6a3-4128-469f-c772-bbd2614d8caf"
      },
      "outputs": [
        {
          "data": {
            "image/png": "[encoded data removed]",
            "text/plain": [
              "<Figure size 1440x576 with 1 Axes>"
            ]
          },
          "metadata": {},
          "output_type": "display_data"
        }
      ],
      "source": [
        "# Plot\n",
        "\n",
        "# Figura\n",
        "plt.figure(figsize = (20,8))\n",
        "\n",
        "# Barplot\n",
        "sns.barplot(y = df_filmes_paises[:20].country, x = df_filmes_paises[:20].Movie_Count, orient = \"h\")\n",
        "\n",
        "# Loop\n",
        "for i in range(0,20):\n",
        "    plt.text(df_filmes_paises.Movie_Count[df_filmes_paises.index[i]]-1,\n",
        "             i + 0.30,\n",
        "             round(df_filmes_paises[\"Movie_Count\"][df_filmes_paises.index[i]],2))\n",
        "\n",
        "plt.ylabel('País')             \n",
        "plt.xlabel('\\nNúmero de Filmes')\n",
        "plt.title('\\nNúmero de Filmes Produzidos Por País\\n')\n",
        "plt.show()"
      ]
    },
    {
      "cell_type": "markdown",
      "metadata": {
        "id": "szAHC3FEyoiv"
      },
      "source": [
        "## 9- Quais São os Top 10 Melhores Filmes?\n",
        "\n",
        "Top 10 filmes com melhor avaliação e mais de 25 mil votos."
      ]
    },
    {
      "cell_type": "code",
      "execution_count": null,
      "metadata": {
        "id": "b4IB3sTJiStg"
      },
      "outputs": [],
      "source": [
        "# Consulta SQL\n",
        "consulta9 = '''\n",
        "            SELECT primary_title AS Movie_Name, genres, rating\n",
        "            FROM \n",
        "            titles JOIN ratings\n",
        "            ON  titles.title_id = ratings.title_id\n",
        "            WHERE titles.type = 'movie' AND ratings.votes >= 25000\n",
        "            ORDER BY rating DESC\n",
        "            LIMIT 10          \n",
        "            ''' "
      ]
    },
    {
      "cell_type": "code",
      "execution_count": null,
      "metadata": {
        "id": "BMBWTlyykBL2"
      },
      "outputs": [],
      "source": [
        "# Resultado\n",
        "top10_melhores_filmes = pd.read_sql_query(consulta9, conn)"
      ]
    },
    {
      "cell_type": "code",
      "execution_count": null,
      "metadata": {
        "id": "mMtlq1cRkBL2",
        "outputId": "9cc7e0ea-e998-4365-cde7-f3f017bb9e94"
      },
      "outputs": [
        {
          "data": {
            "text/html": [
              "<div>\n",
              "<style scoped>\n",
              "    .dataframe tbody tr th:only-of-type {\n",
              "        vertical-align: middle;\n",
              "    }\n",
              "\n",
              "    .dataframe tbody tr th {\n",
              "        vertical-align: top;\n",
              "    }\n",
              "\n",
              "    .dataframe thead th {\n",
              "        text-align: right;\n",
              "    }\n",
              "</style>\n",
              "<table border=\"1\" class=\"dataframe\">\n",
              "  <thead>\n",
              "    <tr style=\"text-align: right;\">\n",
              "      <th></th>\n",
              "      <th>Movie_Name</th>\n",
              "      <th>genres</th>\n",
              "      <th>rating</th>\n",
              "    </tr>\n",
              "  </thead>\n",
              "  <tbody>\n",
              "    <tr>\n",
              "      <th>0</th>\n",
              "      <td>The Shawshank Redemption</td>\n",
              "      <td>Drama</td>\n",
              "      <td>9.3</td>\n",
              "    </tr>\n",
              "    <tr>\n",
              "      <th>1</th>\n",
              "      <td>The Chaos Class</td>\n",
              "      <td>Comedy,Drama</td>\n",
              "      <td>9.3</td>\n",
              "    </tr>\n",
              "    <tr>\n",
              "      <th>2</th>\n",
              "      <td>The Godfather</td>\n",
              "      <td>Crime,Drama</td>\n",
              "      <td>9.2</td>\n",
              "    </tr>\n",
              "    <tr>\n",
              "      <th>3</th>\n",
              "      <td>CM101MMXI Fundamentals</td>\n",
              "      <td>Comedy,Documentary</td>\n",
              "      <td>9.2</td>\n",
              "    </tr>\n",
              "    <tr>\n",
              "      <th>4</th>\n",
              "      <td>Soorarai Pottru</td>\n",
              "      <td>Drama</td>\n",
              "      <td>9.1</td>\n",
              "    </tr>\n",
              "    <tr>\n",
              "      <th>5</th>\n",
              "      <td>12 Angry Men</td>\n",
              "      <td>Crime,Drama</td>\n",
              "      <td>9.0</td>\n",
              "    </tr>\n",
              "    <tr>\n",
              "      <th>6</th>\n",
              "      <td>The Godfather: Part II</td>\n",
              "      <td>Crime,Drama</td>\n",
              "      <td>9.0</td>\n",
              "    </tr>\n",
              "    <tr>\n",
              "      <th>7</th>\n",
              "      <td>The Dark Knight</td>\n",
              "      <td>Action,Crime,Drama</td>\n",
              "      <td>9.0</td>\n",
              "    </tr>\n",
              "    <tr>\n",
              "      <th>8</th>\n",
              "      <td>Dara of Jasenovac</td>\n",
              "      <td>Drama,War</td>\n",
              "      <td>9.0</td>\n",
              "    </tr>\n",
              "    <tr>\n",
              "      <th>9</th>\n",
              "      <td>David Attenborough: A Life on Our Planet</td>\n",
              "      <td>Biography,Documentary</td>\n",
              "      <td>9.0</td>\n",
              "    </tr>\n",
              "  </tbody>\n",
              "</table>\n",
              "</div>"
            ],
            "text/plain": [
              "                                 Movie_Name                 genres  rating\n",
              "0                  The Shawshank Redemption                  Drama     9.3\n",
              "1                           The Chaos Class           Comedy,Drama     9.3\n",
              "2                             The Godfather            Crime,Drama     9.2\n",
              "3                    CM101MMXI Fundamentals     Comedy,Documentary     9.2\n",
              "4                           Soorarai Pottru                  Drama     9.1\n",
              "5                              12 Angry Men            Crime,Drama     9.0\n",
              "6                    The Godfather: Part II            Crime,Drama     9.0\n",
              "7                           The Dark Knight     Action,Crime,Drama     9.0\n",
              "8                         Dara of Jasenovac              Drama,War     9.0\n",
              "9  David Attenborough: A Life on Our Planet  Biography,Documentary     9.0"
            ]
          },
          "metadata": {},
          "output_type": "display_data"
        }
      ],
      "source": [
        "display(top10_melhores_filmes)"
      ]
    },
    {
      "cell_type": "markdown",
      "metadata": {
        "id": "AOyJM8blkBL3"
      },
      "source": [
        "## 10- Quais São os Top 10 Piores Filmes?\n",
        "\n",
        "Top 10 filmes com pior avaliação e mais de 25 mil votos."
      ]
    },
    {
      "cell_type": "code",
      "execution_count": null,
      "metadata": {
        "id": "xNkQXdifjWEF"
      },
      "outputs": [],
      "source": [
        "# Consulta SQL\n",
        "consulta10 = '''\n",
        "            SELECT primary_title AS Movie_Name, genres, rating\n",
        "            FROM \n",
        "            titles JOIN ratings\n",
        "            ON  titles.title_id = ratings.title_id\n",
        "            WHERE titles.type = 'movie' AND ratings.votes >= 25000\n",
        "            ORDER BY rating ASC\n",
        "            LIMIT 10\n",
        "            ''' "
      ]
    },
    {
      "cell_type": "code",
      "execution_count": null,
      "metadata": {
        "id": "naOoI-IXfKSI"
      },
      "outputs": [],
      "source": [
        "# Resultado\n",
        "top10_piores_filmes = pd.read_sql_query(consulta10, conn)"
      ]
    },
    {
      "cell_type": "code",
      "execution_count": null,
      "metadata": {
        "id": "XfzTdNp1kBL4",
        "outputId": "1a9e4a87-c0ec-4675-b9e2-e1642541c86d"
      },
      "outputs": [
        {
          "data": {
            "text/html": [
              "<div>\n",
              "<style scoped>\n",
              "    .dataframe tbody tr th:only-of-type {\n",
              "        vertical-align: middle;\n",
              "    }\n",
              "\n",
              "    .dataframe tbody tr th {\n",
              "        vertical-align: top;\n",
              "    }\n",
              "\n",
              "    .dataframe thead th {\n",
              "        text-align: right;\n",
              "    }\n",
              "</style>\n",
              "<table border=\"1\" class=\"dataframe\">\n",
              "  <thead>\n",
              "    <tr style=\"text-align: right;\">\n",
              "      <th></th>\n",
              "      <th>Movie_Name</th>\n",
              "      <th>genres</th>\n",
              "      <th>rating</th>\n",
              "    </tr>\n",
              "  </thead>\n",
              "  <tbody>\n",
              "    <tr>\n",
              "      <th>0</th>\n",
              "      <td>Cumali Ceber</td>\n",
              "      <td>Comedy</td>\n",
              "      <td>1.0</td>\n",
              "    </tr>\n",
              "    <tr>\n",
              "      <th>1</th>\n",
              "      <td>Smolensk</td>\n",
              "      <td>Drama,Thriller</td>\n",
              "      <td>1.1</td>\n",
              "    </tr>\n",
              "    <tr>\n",
              "      <th>2</th>\n",
              "      <td>Sadak 2</td>\n",
              "      <td>Action,Drama</td>\n",
              "      <td>1.1</td>\n",
              "    </tr>\n",
              "    <tr>\n",
              "      <th>3</th>\n",
              "      <td>Reis</td>\n",
              "      <td>Biography,Drama</td>\n",
              "      <td>1.4</td>\n",
              "    </tr>\n",
              "    <tr>\n",
              "      <th>4</th>\n",
              "      <td>Justin Bieber: Never Say Never</td>\n",
              "      <td>Documentary,Music</td>\n",
              "      <td>1.6</td>\n",
              "    </tr>\n",
              "    <tr>\n",
              "      <th>5</th>\n",
              "      <td>Manos: the Hands of Fate</td>\n",
              "      <td>Drama,Horror</td>\n",
              "      <td>1.8</td>\n",
              "    </tr>\n",
              "    <tr>\n",
              "      <th>6</th>\n",
              "      <td>Radhe</td>\n",
              "      <td>Action,Crime,Thriller</td>\n",
              "      <td>1.8</td>\n",
              "    </tr>\n",
              "    <tr>\n",
              "      <th>7</th>\n",
              "      <td>Superbabies: Baby Geniuses 2</td>\n",
              "      <td>Comedy,Family,Sci-Fi</td>\n",
              "      <td>1.9</td>\n",
              "    </tr>\n",
              "    <tr>\n",
              "      <th>8</th>\n",
              "      <td>The Hottie &amp; the Nottie</td>\n",
              "      <td>Comedy,Romance</td>\n",
              "      <td>1.9</td>\n",
              "    </tr>\n",
              "    <tr>\n",
              "      <th>9</th>\n",
              "      <td>Disaster Movie</td>\n",
              "      <td>Comedy,Sci-Fi</td>\n",
              "      <td>1.9</td>\n",
              "    </tr>\n",
              "  </tbody>\n",
              "</table>\n",
              "</div>"
            ],
            "text/plain": [
              "                       Movie_Name                 genres  rating\n",
              "0                    Cumali Ceber                 Comedy     1.0\n",
              "1                        Smolensk         Drama,Thriller     1.1\n",
              "2                         Sadak 2           Action,Drama     1.1\n",
              "3                            Reis        Biography,Drama     1.4\n",
              "4  Justin Bieber: Never Say Never      Documentary,Music     1.6\n",
              "5        Manos: the Hands of Fate           Drama,Horror     1.8\n",
              "6                           Radhe  Action,Crime,Thriller     1.8\n",
              "7    Superbabies: Baby Geniuses 2   Comedy,Family,Sci-Fi     1.9\n",
              "8         The Hottie & the Nottie         Comedy,Romance     1.9\n",
              "9                  Disaster Movie          Comedy,Sci-Fi     1.9"
            ]
          },
          "metadata": {},
          "output_type": "display_data"
        }
      ],
      "source": [
        "display(top10_piores_filmes)"
      ]
    },
    {
      "cell_type": "markdown",
      "metadata": {
        "id": "H3rKUiitkBL5"
      },
      "source": [
        "# Fim"
      ]
    },
    {
      "cell_type": "markdown",
      "metadata": {
        "id": "bB-zuVijkBL5"
      },
      "source": [
        "### Obrigado\n",
        "\n",
        "### Visite o Blog da Data Science Academy - <a href=\"http://blog.dsacademy.com.br\">Blog DSA</a>"
      ]
    },
    {
      "cell_type": "markdown",
      "metadata": {
        "id": "IDJ-pf6vkBL5"
      },
      "source": [
        "Parabéns se você chegou até aqui. Use o voucher PYTHONDSA9642 para comprar qualquer curso ou Formação da DSA com 5% de desconto."
      ]
    }
  ],
  "metadata": {
    "colab": {
      "collapsed_sections": [
        "yebFAbpYviBJ",
        "m6W_XSp3yBSL",
        "CWF1erMywd2w",
        "jRKl5x8YxoXO",
        "V4RFdmlvsbgQ",
        "2F2Dmji2xR9v",
        "9U6CKRVVzF5O",
        "Z4O4rDdHy7oO"
      ],
      "provenance": [],
      "include_colab_link": true
    },
    "kernelspec": {
      "display_name": "Python 3",
      "language": "python",
      "name": "python3"
    },
    "language_info": {
      "codemirror_mode": {
        "name": "ipython",
        "version": 3
      },
      "file_extension": ".py",
      "mimetype": "text/x-python",
      "name": "python",
      "nbconvert_exporter": "python",
      "pygments_lexer": "ipython3",
      "version": "3.8.8"
    }
  },
  "nbformat": 4,
  "nbformat_minor": 0
}