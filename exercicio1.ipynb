{
  "cells": [
    {
      "cell_type": "markdown",
      "metadata": {
        "id": "view-in-github",
        "colab_type": "text"
      },
      "source": [
        "<a href=\"https://colab.research.google.com/github/EdisonMoreira/-aquecimento-formacao-infra/blob/master/exercicio1.ipynb\" target=\"_parent\"><img src=\"https://colab.research.google.com/assets/colab-badge.svg\" alt=\"Open In Colab\"/></a>"
      ]
    },
    {
      "cell_type": "markdown",
      "metadata": {
        "id": "6yTR340XkBKS"
      },
      "source": [
        "# <font color='blue'>Data Science Academy - Python Fundamentos - Capítulo 6</font>\n",
        "\n",
        "## Download: http://github.com/dsacademybr"
      ]
    },
    {
      "cell_type": "markdown",
      "metadata": {
        "id": "PCKcAD6kkBKd"
      },
      "source": [
        "## Mini-Projeto 1 - Guia de Análise Exploratória de Dados com Python e Linguagem SQL"
      ]
    },
    {
      "cell_type": "markdown",
      "metadata": {
        "id": "Zi85ul2VkBKf"
      },
      "source": [
        "![title](imagens/mini-projeto1.png)"
      ]
    },
    {
      "cell_type": "markdown",
      "metadata": {
        "id": "wrY9P4JKkBKh"
      },
      "source": [
        "Neste Mini-Projeto vamos apresentar um guia básico de análise exploratória de dados usando Linguagem Python, Linguagem SQL e Banco de Dados SQLite. Usaremos dados reais disponíveis publicamente, dados sobre filmes no <a href=\"https://www.imdb.com/interfaces/\">IMDB</a>.\n",
        "\n",
        "Guias avançados de Análise Exploratória de Dados são fornecidos na <a href=\"https://www.datascienceacademy.com.br/bundle/formacao-cientista-de-dados\">Formação Cientista de Dados</a>.\n",
        "\n",
        "Para aprender mais sobre Linguagem SQL:\n",
        "\n",
        "- <a href=\"https://www.datascienceacademy.com.br/path-player?courseid=microsoft-power-bi-para-data-science\">SQL Analytics Básico</a>\n",
        "- <a href=\"https://www.datascienceacademy.com.br/course/modelagem-de-banco-de-dados-relacionais-nao-relacionais-e-data-stores\">SQL Analytics Avançado</a>\n",
        "\n",
        "Ao aplicar Análise Exploratória de Dados vamos responder a estas 10 perguntas:\n",
        "\n",
        "- 1- Quais São as Categorias de Filmes Mais Comuns no IMDB?\n",
        "- 2- Qual o Número de Títulos Por Gênero?\n",
        "- 3- Qual a Mediana de Avaliação dos Filmes Por Gênero?\n",
        "- 4- Qual a Mediana de Avaliação dos Filmes Em Relação ao Ano de Estréia?\n",
        "- 5- Qual o Número de Filmes Avaliados Por Gênero Em Relação ao Ano de Estréia?\n",
        "- 6- Qual o Filme Com Maior Tempo de Duração? Calcule os Percentis.\n",
        "- 7- Qual a Relação Entre Duração e Gênero?\n",
        "- 8- Qual o Número de Filmes Produzidos Por País?\n",
        "- 9- Quais São os Top 10 Melhores Filmes?\n",
        "- 10- Quais São os Top 10 Piores Filmes?"
      ]
    },
    {
      "cell_type": "markdown",
      "metadata": {
        "id": "AorSGd1XkBKl"
      },
      "source": [
        "## Instalando e Carregando Pacotes"
      ]
    },
    {
      "cell_type": "code",
      "execution_count": null,
      "metadata": {
        "id": "geX_WLH2kBKm",
        "outputId": "b6ef2b38-1b35-4bdb-a0e2-23b90c14872a"
      },
      "outputs": [
        {
          "name": "stdout",
          "output_type": "stream",
          "text": [
            "Versão da Linguagem Python Usada Neste Jupyter Notebook: 3.8.8\n"
          ]
        }
      ],
      "source": [
        "# Versão da Linguagem Python\n",
        "from platform import python_version\n",
        "print('Versão da Linguagem Python Usada Neste Jupyter Notebook:', python_version())"
      ]
    },
    {
      "cell_type": "markdown",
      "metadata": {
        "id": "SXVD5ETMkBKs"
      },
      "source": [
        "https://pypi.org/\n",
        "\n",
        "https://pypi.org/project/imdb-sqlite/"
      ]
    },
    {
      "cell_type": "code",
      "execution_count": null,
      "metadata": {
        "id": "XEa1Oqd5t8tX"
      },
      "outputs": [],
      "source": [
        "# Instala o pacote\n",
        "!pip install -q imdb-sqlite"
      ]
    },
    {
      "cell_type": "markdown",
      "metadata": {
        "id": "HCnrPgOKkBKw"
      },
      "source": [
        "Agora executamos o pacote para download dos datasets."
      ]
    },
    {
      "cell_type": "code",
      "execution_count": null,
      "metadata": {
        "colab": {
          "base_uri": "https://localhost:8080/"
        },
        "id": "YjAl4v6xkBK7",
        "outputId": "360931ff-a268-4c0b-a281-d497d1623cb2"
      },
      "outputs": [
        {
          "output_type": "stream",
          "name": "stdout",
          "text": [
            "\u001b[K     |████████████████████████████████| 10.1 MB 25.4 MB/s \n",
            "\u001b[?25h  Installing build dependencies ... \u001b[?25l\u001b[?25hdone\n",
            "  Getting requirements to build wheel ... \u001b[?25l\u001b[?25hdone\n",
            "    Preparing wheel metadata ... \u001b[?25l\u001b[?25hdone\n",
            "  Building wheel for pycountry (PEP 517) ... \u001b[?25l\u001b[?25hdone\n"
          ]
        }
      ],
      "source": [
        "# Instala o pacote\n",
        "# https://pypi.org/project/pycountry/\n",
        "!pip install -q pycountry"
      ]
    },
    {
      "cell_type": "code",
      "execution_count": null,
      "metadata": {
        "id": "KwrZ9EWy02p7"
      },
      "outputs": [],
      "source": [
        "# Imports\n",
        "import re\n",
        "import time\n",
        "import sqlite3\n",
        "import pycountry\n",
        "import numpy as np\n",
        "import pandas as pd\n",
        "import matplotlib.pyplot as plt\n",
        "import seaborn as sns\n",
        "from matplotlib import cm\n",
        "from sklearn.feature_extraction.text import CountVectorizer\n",
        "import warnings\n",
        "warnings.filterwarnings(\"ignore\")\n",
        "sns.set_theme(style = \"whitegrid\")"
      ]
    },
    {
      "cell_type": "markdown",
      "metadata": {
        "id": "yebFAbpYviBJ"
      },
      "source": [
        "## Carregando os Dados\n",
        "\n",
        "Primeiro temos que baixar os dados!"
      ]
    },
    {
      "cell_type": "code",
      "execution_count": null,
      "metadata": {
        "colab": {
          "base_uri": "https://localhost:8080/"
        },
        "id": "18JO-2JAwLf8",
        "outputId": "e360e532-9690-4f2b-f240-6a822d0ab838"
      },
      "outputs": [
        {
          "output_type": "stream",
          "name": "stdout",
          "text": [
            "2022-04-05 14:12:22,767 GET https://datasets.imdbws.com/name.basics.tsv.gz -> downloads/name.basics.tsv.gz\n",
            "2022-04-05 14:12:26,833 GET https://datasets.imdbws.com/title.basics.tsv.gz -> downloads/title.basics.tsv.gz\n",
            "2022-04-05 14:12:29,426 GET https://datasets.imdbws.com/title.akas.tsv.gz -> downloads/title.akas.tsv.gz\n",
            "2022-04-05 14:12:33,632 GET https://datasets.imdbws.com/title.principals.tsv.gz -> downloads/title.principals.tsv.gz\n",
            "2022-04-05 14:12:40,237 GET https://datasets.imdbws.com/title.episode.tsv.gz -> downloads/title.episode.tsv.gz\n",
            "2022-04-05 14:12:41,086 GET https://datasets.imdbws.com/title.ratings.tsv.gz -> downloads/title.ratings.tsv.gz\n",
            "2022-04-05 14:12:41,212 Populating database: imdb.db\n",
            "2022-04-05 14:12:41,212 Applying schema\n",
            "2022-04-05 14:12:41,214 Importing file: downloads/name.basics.tsv.gz\n",
            "2022-04-05 14:12:41,214 Reading number of rows ...\n",
            "2022-04-05 14:12:47,463 Inserting rows into table: people\n",
            "100% 11531349/11531349 [02:09<00:00, 89167.62 rows/s]\n",
            "2022-04-05 14:14:56,797 Importing file: downloads/title.basics.tsv.gz\n",
            "2022-04-05 14:14:56,797 Reading number of rows ...\n",
            "2022-04-05 14:15:01,909 Inserting rows into table: titles\n",
            "100% 8824341/8824341 [02:00<00:00, 72997.08 rows/s]\n",
            "2022-04-05 14:17:02,799 Importing file: downloads/title.akas.tsv.gz\n",
            "2022-04-05 14:17:02,799 Reading number of rows ...\n",
            "2022-04-05 14:17:12,291 Inserting rows into table: akas\n",
            "100% 31626489/31626489 [06:04<00:00, 86652.26 rows/s]\n",
            "2022-04-05 14:23:17,280 Importing file: downloads/title.principals.tsv.gz\n",
            "2022-04-05 14:23:17,281 Reading number of rows ...\n",
            "2022-04-05 14:23:31,889 Inserting rows into table: crew\n",
            "100% 49755277/49755277 [07:24<00:00, 111825.67 rows/s]\n",
            "2022-04-05 14:30:56,831 Importing file: downloads/title.episode.tsv.gz\n",
            "2022-04-05 14:30:56,831 Reading number of rows ...\n",
            "2022-04-05 14:30:58,059 Inserting rows into table: episodes\n",
            "100% 6618573/6618573 [00:47<00:00, 138046.55 rows/s]\n",
            "2022-04-05 14:31:46,009 Importing file: downloads/title.ratings.tsv.gz\n",
            "2022-04-05 14:31:46,009 Reading number of rows ...\n",
            "2022-04-05 14:31:46,199 Inserting rows into table: ratings\n",
            "100% 1231208/1231208 [00:09<00:00, 130724.59 rows/s]\n",
            "2022-04-05 14:31:55,623 Creating table indices ...\n",
            "2022-04-05 14:35:10,811 Import successful\n",
            "CPU times: user 23.7 s, sys: 3.04 s, total: 26.7 s\n",
            "Wall time: 22min 48s\n"
          ]
        }
      ],
      "source": [
        "%%time\n",
        "!imdb-sqlite"
      ]
    },
    {
      "cell_type": "code",
      "execution_count": null,
      "metadata": {
        "id": "GCynwX5SFUt8"
      },
      "outputs": [],
      "source": [
        "# Conecta no banco de dados\n",
        "conn = sqlite3.connect(\"imdb.db\")"
      ]
    },
    {
      "cell_type": "code",
      "execution_count": null,
      "metadata": {
        "id": "ODFg_X23F0Yu"
      },
      "outputs": [],
      "source": [
        "# Extrai a lista de tabelas\n",
        "tabelas = pd.read_sql_query(\"SELECT NAME AS 'Table_Name' FROM sqlite_master WHERE type = 'table'\", conn)"
      ]
    },
    {
      "cell_type": "code",
      "execution_count": null,
      "metadata": {
        "colab": {
          "base_uri": "https://localhost:8080/"
        },
        "id": "w-nobgfskBLC",
        "outputId": "64df40ff-43a5-4cde-ef20-d741b6a0afb1"
      },
      "outputs": [
        {
          "output_type": "execute_result",
          "data": {
            "text/plain": [
              "pandas.core.frame.DataFrame"
            ]
          },
          "metadata": {},
          "execution_count": 8
        }
      ],
      "source": [
        "# Tipo do objeto\n",
        "type(tabelas)"
      ]
    },
    {
      "cell_type": "code",
      "execution_count": null,
      "metadata": {
        "colab": {
          "base_uri": "https://localhost:8080/",
          "height": 206
        },
        "id": "9cawbSmMkBLD",
        "outputId": "175cf3fd-d693-4ffd-d8ab-db60854b3070"
      },
      "outputs": [
        {
          "output_type": "execute_result",
          "data": {
            "text/plain": [
              "  Table_Name\n",
              "0     people\n",
              "1     titles\n",
              "2       akas\n",
              "3       crew\n",
              "4   episodes"
            ],
            "text/html": [
              "\n",
              "  <div id=\"df-52fbad7b-09ed-43e9-b617-7fef0915e399\">\n",
              "    <div class=\"colab-df-container\">\n",
              "      <div>\n",
              "<style scoped>\n",
              "    .dataframe tbody tr th:only-of-type {\n",
              "        vertical-align: middle;\n",
              "    }\n",
              "\n",
              "    .dataframe tbody tr th {\n",
              "        vertical-align: top;\n",
              "    }\n",
              "\n",
              "    .dataframe thead th {\n",
              "        text-align: right;\n",
              "    }\n",
              "</style>\n",
              "<table border=\"1\" class=\"dataframe\">\n",
              "  <thead>\n",
              "    <tr style=\"text-align: right;\">\n",
              "      <th></th>\n",
              "      <th>Table_Name</th>\n",
              "    </tr>\n",
              "  </thead>\n",
              "  <tbody>\n",
              "    <tr>\n",
              "      <th>0</th>\n",
              "      <td>people</td>\n",
              "    </tr>\n",
              "    <tr>\n",
              "      <th>1</th>\n",
              "      <td>titles</td>\n",
              "    </tr>\n",
              "    <tr>\n",
              "      <th>2</th>\n",
              "      <td>akas</td>\n",
              "    </tr>\n",
              "    <tr>\n",
              "      <th>3</th>\n",
              "      <td>crew</td>\n",
              "    </tr>\n",
              "    <tr>\n",
              "      <th>4</th>\n",
              "      <td>episodes</td>\n",
              "    </tr>\n",
              "  </tbody>\n",
              "</table>\n",
              "</div>\n",
              "      <button class=\"colab-df-convert\" onclick=\"convertToInteractive('df-52fbad7b-09ed-43e9-b617-7fef0915e399')\"\n",
              "              title=\"Convert this dataframe to an interactive table.\"\n",
              "              style=\"display:none;\">\n",
              "        \n",
              "  <svg xmlns=\"http://www.w3.org/2000/svg\" height=\"24px\"viewBox=\"0 0 24 24\"\n",
              "       width=\"24px\">\n",
              "    <path d=\"M0 0h24v24H0V0z\" fill=\"none\"/>\n",
              "    <path d=\"M18.56 5.44l.94 2.06.94-2.06 2.06-.94-2.06-.94-.94-2.06-.94 2.06-2.06.94zm-11 1L8.5 8.5l.94-2.06 2.06-.94-2.06-.94L8.5 2.5l-.94 2.06-2.06.94zm10 10l.94 2.06.94-2.06 2.06-.94-2.06-.94-.94-2.06-.94 2.06-2.06.94z\"/><path d=\"M17.41 7.96l-1.37-1.37c-.4-.4-.92-.59-1.43-.59-.52 0-1.04.2-1.43.59L10.3 9.45l-7.72 7.72c-.78.78-.78 2.05 0 2.83L4 21.41c.39.39.9.59 1.41.59.51 0 1.02-.2 1.41-.59l7.78-7.78 2.81-2.81c.8-.78.8-2.07 0-2.86zM5.41 20L4 18.59l7.72-7.72 1.47 1.35L5.41 20z\"/>\n",
              "  </svg>\n",
              "      </button>\n",
              "      \n",
              "  <style>\n",
              "    .colab-df-container {\n",
              "      display:flex;\n",
              "      flex-wrap:wrap;\n",
              "      gap: 12px;\n",
              "    }\n",
              "\n",
              "    .colab-df-convert {\n",
              "      background-color: #E8F0FE;\n",
              "      border: none;\n",
              "      border-radius: 50%;\n",
              "      cursor: pointer;\n",
              "      display: none;\n",
              "      fill: #1967D2;\n",
              "      height: 32px;\n",
              "      padding: 0 0 0 0;\n",
              "      width: 32px;\n",
              "    }\n",
              "\n",
              "    .colab-df-convert:hover {\n",
              "      background-color: #E2EBFA;\n",
              "      box-shadow: 0px 1px 2px rgba(60, 64, 67, 0.3), 0px 1px 3px 1px rgba(60, 64, 67, 0.15);\n",
              "      fill: #174EA6;\n",
              "    }\n",
              "\n",
              "    [theme=dark] .colab-df-convert {\n",
              "      background-color: #3B4455;\n",
              "      fill: #D2E3FC;\n",
              "    }\n",
              "\n",
              "    [theme=dark] .colab-df-convert:hover {\n",
              "      background-color: #434B5C;\n",
              "      box-shadow: 0px 1px 3px 1px rgba(0, 0, 0, 0.15);\n",
              "      filter: drop-shadow(0px 1px 2px rgba(0, 0, 0, 0.3));\n",
              "      fill: #FFFFFF;\n",
              "    }\n",
              "  </style>\n",
              "\n",
              "      <script>\n",
              "        const buttonEl =\n",
              "          document.querySelector('#df-52fbad7b-09ed-43e9-b617-7fef0915e399 button.colab-df-convert');\n",
              "        buttonEl.style.display =\n",
              "          google.colab.kernel.accessAllowed ? 'block' : 'none';\n",
              "\n",
              "        async function convertToInteractive(key) {\n",
              "          const element = document.querySelector('#df-52fbad7b-09ed-43e9-b617-7fef0915e399');\n",
              "          const dataTable =\n",
              "            await google.colab.kernel.invokeFunction('convertToInteractive',\n",
              "                                                     [key], {});\n",
              "          if (!dataTable) return;\n",
              "\n",
              "          const docLinkHtml = 'Like what you see? Visit the ' +\n",
              "            '<a target=\"_blank\" href=https://colab.research.google.com/notebooks/data_table.ipynb>data table notebook</a>'\n",
              "            + ' to learn more about interactive tables.';\n",
              "          element.innerHTML = '';\n",
              "          dataTable['output_type'] = 'display_data';\n",
              "          await google.colab.output.renderOutput(dataTable, element);\n",
              "          const docLink = document.createElement('div');\n",
              "          docLink.innerHTML = docLinkHtml;\n",
              "          element.appendChild(docLink);\n",
              "        }\n",
              "      </script>\n",
              "    </div>\n",
              "  </div>\n",
              "  "
            ]
          },
          "metadata": {},
          "execution_count": 9
        }
      ],
      "source": [
        "# Visualiza o resultado\n",
        "tabelas.head()"
      ]
    },
    {
      "cell_type": "code",
      "execution_count": null,
      "metadata": {
        "id": "9FD19PZWkBLE"
      },
      "outputs": [],
      "source": [
        "# Vamos converter o dataframe em uma lista\n",
        "tabelas = tabelas[\"Table_Name\"].values.tolist()"
      ]
    },
    {
      "cell_type": "code",
      "execution_count": null,
      "metadata": {
        "colab": {
          "base_uri": "https://localhost:8080/",
          "height": 1000
        },
        "id": "Z2GQyqVgF6gD",
        "outputId": "8a6039e4-7c20-4230-dd36-f7d94a736551"
      },
      "outputs": [
        {
          "output_type": "stream",
          "name": "stdout",
          "text": [
            "Esquema da tabela: people\n"
          ]
        },
        {
          "output_type": "display_data",
          "data": {
            "text/plain": [
              "   cid       name     type  notnull dflt_value  pk\n",
              "0    0  person_id  VARCHAR        0       None   1\n",
              "1    1       name  VARCHAR        0       None   0\n",
              "2    2       born  INTEGER        0       None   0\n",
              "3    3       died  INTEGER        0       None   0"
            ],
            "text/html": [
              "\n",
              "  <div id=\"df-53f64b45-d2d8-49c5-af79-e9e7f0d447ea\">\n",
              "    <div class=\"colab-df-container\">\n",
              "      <div>\n",
              "<style scoped>\n",
              "    .dataframe tbody tr th:only-of-type {\n",
              "        vertical-align: middle;\n",
              "    }\n",
              "\n",
              "    .dataframe tbody tr th {\n",
              "        vertical-align: top;\n",
              "    }\n",
              "\n",
              "    .dataframe thead th {\n",
              "        text-align: right;\n",
              "    }\n",
              "</style>\n",
              "<table border=\"1\" class=\"dataframe\">\n",
              "  <thead>\n",
              "    <tr style=\"text-align: right;\">\n",
              "      <th></th>\n",
              "      <th>cid</th>\n",
              "      <th>name</th>\n",
              "      <th>type</th>\n",
              "      <th>notnull</th>\n",
              "      <th>dflt_value</th>\n",
              "      <th>pk</th>\n",
              "    </tr>\n",
              "  </thead>\n",
              "  <tbody>\n",
              "    <tr>\n",
              "      <th>0</th>\n",
              "      <td>0</td>\n",
              "      <td>person_id</td>\n",
              "      <td>VARCHAR</td>\n",
              "      <td>0</td>\n",
              "      <td>None</td>\n",
              "      <td>1</td>\n",
              "    </tr>\n",
              "    <tr>\n",
              "      <th>1</th>\n",
              "      <td>1</td>\n",
              "      <td>name</td>\n",
              "      <td>VARCHAR</td>\n",
              "      <td>0</td>\n",
              "      <td>None</td>\n",
              "      <td>0</td>\n",
              "    </tr>\n",
              "    <tr>\n",
              "      <th>2</th>\n",
              "      <td>2</td>\n",
              "      <td>born</td>\n",
              "      <td>INTEGER</td>\n",
              "      <td>0</td>\n",
              "      <td>None</td>\n",
              "      <td>0</td>\n",
              "    </tr>\n",
              "    <tr>\n",
              "      <th>3</th>\n",
              "      <td>3</td>\n",
              "      <td>died</td>\n",
              "      <td>INTEGER</td>\n",
              "      <td>0</td>\n",
              "      <td>None</td>\n",
              "      <td>0</td>\n",
              "    </tr>\n",
              "  </tbody>\n",
              "</table>\n",
              "</div>\n",
              "      <button class=\"colab-df-convert\" onclick=\"convertToInteractive('df-53f64b45-d2d8-49c5-af79-e9e7f0d447ea')\"\n",
              "              title=\"Convert this dataframe to an interactive table.\"\n",
              "              style=\"display:none;\">\n",
              "        \n",
              "  <svg xmlns=\"http://www.w3.org/2000/svg\" height=\"24px\"viewBox=\"0 0 24 24\"\n",
              "       width=\"24px\">\n",
              "    <path d=\"M0 0h24v24H0V0z\" fill=\"none\"/>\n",
              "    <path d=\"M18.56 5.44l.94 2.06.94-2.06 2.06-.94-2.06-.94-.94-2.06-.94 2.06-2.06.94zm-11 1L8.5 8.5l.94-2.06 2.06-.94-2.06-.94L8.5 2.5l-.94 2.06-2.06.94zm10 10l.94 2.06.94-2.06 2.06-.94-2.06-.94-.94-2.06-.94 2.06-2.06.94z\"/><path d=\"M17.41 7.96l-1.37-1.37c-.4-.4-.92-.59-1.43-.59-.52 0-1.04.2-1.43.59L10.3 9.45l-7.72 7.72c-.78.78-.78 2.05 0 2.83L4 21.41c.39.39.9.59 1.41.59.51 0 1.02-.2 1.41-.59l7.78-7.78 2.81-2.81c.8-.78.8-2.07 0-2.86zM5.41 20L4 18.59l7.72-7.72 1.47 1.35L5.41 20z\"/>\n",
              "  </svg>\n",
              "      </button>\n",
              "      \n",
              "  <style>\n",
              "    .colab-df-container {\n",
              "      display:flex;\n",
              "      flex-wrap:wrap;\n",
              "      gap: 12px;\n",
              "    }\n",
              "\n",
              "    .colab-df-convert {\n",
              "      background-color: #E8F0FE;\n",
              "      border: none;\n",
              "      border-radius: 50%;\n",
              "      cursor: pointer;\n",
              "      display: none;\n",
              "      fill: #1967D2;\n",
              "      height: 32px;\n",
              "      padding: 0 0 0 0;\n",
              "      width: 32px;\n",
              "    }\n",
              "\n",
              "    .colab-df-convert:hover {\n",
              "      background-color: #E2EBFA;\n",
              "      box-shadow: 0px 1px 2px rgba(60, 64, 67, 0.3), 0px 1px 3px 1px rgba(60, 64, 67, 0.15);\n",
              "      fill: #174EA6;\n",
              "    }\n",
              "\n",
              "    [theme=dark] .colab-df-convert {\n",
              "      background-color: #3B4455;\n",
              "      fill: #D2E3FC;\n",
              "    }\n",
              "\n",
              "    [theme=dark] .colab-df-convert:hover {\n",
              "      background-color: #434B5C;\n",
              "      box-shadow: 0px 1px 3px 1px rgba(0, 0, 0, 0.15);\n",
              "      filter: drop-shadow(0px 1px 2px rgba(0, 0, 0, 0.3));\n",
              "      fill: #FFFFFF;\n",
              "    }\n",
              "  </style>\n",
              "\n",
              "      <script>\n",
              "        const buttonEl =\n",
              "          document.querySelector('#df-53f64b45-d2d8-49c5-af79-e9e7f0d447ea button.colab-df-convert');\n",
              "        buttonEl.style.display =\n",
              "          google.colab.kernel.accessAllowed ? 'block' : 'none';\n",
              "\n",
              "        async function convertToInteractive(key) {\n",
              "          const element = document.querySelector('#df-53f64b45-d2d8-49c5-af79-e9e7f0d447ea');\n",
              "          const dataTable =\n",
              "            await google.colab.kernel.invokeFunction('convertToInteractive',\n",
              "                                                     [key], {});\n",
              "          if (!dataTable) return;\n",
              "\n",
              "          const docLinkHtml = 'Like what you see? Visit the ' +\n",
              "            '<a target=\"_blank\" href=https://colab.research.google.com/notebooks/data_table.ipynb>data table notebook</a>'\n",
              "            + ' to learn more about interactive tables.';\n",
              "          element.innerHTML = '';\n",
              "          dataTable['output_type'] = 'display_data';\n",
              "          await google.colab.output.renderOutput(dataTable, element);\n",
              "          const docLink = document.createElement('div');\n",
              "          docLink.innerHTML = docLinkHtml;\n",
              "          element.appendChild(docLink);\n",
              "        }\n",
              "      </script>\n",
              "    </div>\n",
              "  </div>\n",
              "  "
            ]
          },
          "metadata": {}
        },
        {
          "output_type": "stream",
          "name": "stdout",
          "text": [
            "----------------------------------------------------------------------------------------------------\n",
            "\n",
            "\n",
            "Esquema da tabela: titles\n"
          ]
        },
        {
          "output_type": "display_data",
          "data": {
            "text/plain": [
              "   cid             name     type  notnull dflt_value  pk\n",
              "0    0         title_id  VARCHAR        0       None   1\n",
              "1    1             type  VARCHAR        0       None   0\n",
              "2    2    primary_title  VARCHAR        0       None   0\n",
              "3    3   original_title  VARCHAR        0       None   0\n",
              "4    4         is_adult  INTEGER        0       None   0\n",
              "5    5        premiered  INTEGER        0       None   0\n",
              "6    6            ended  INTEGER        0       None   0\n",
              "7    7  runtime_minutes  INTEGER        0       None   0\n",
              "8    8           genres  VARCHAR        0       None   0"
            ],
            "text/html": [
              "\n",
              "  <div id=\"df-00a95673-1830-46f5-b17f-e7201dd5a806\">\n",
              "    <div class=\"colab-df-container\">\n",
              "      <div>\n",
              "<style scoped>\n",
              "    .dataframe tbody tr th:only-of-type {\n",
              "        vertical-align: middle;\n",
              "    }\n",
              "\n",
              "    .dataframe tbody tr th {\n",
              "        vertical-align: top;\n",
              "    }\n",
              "\n",
              "    .dataframe thead th {\n",
              "        text-align: right;\n",
              "    }\n",
              "</style>\n",
              "<table border=\"1\" class=\"dataframe\">\n",
              "  <thead>\n",
              "    <tr style=\"text-align: right;\">\n",
              "      <th></th>\n",
              "      <th>cid</th>\n",
              "      <th>name</th>\n",
              "      <th>type</th>\n",
              "      <th>notnull</th>\n",
              "      <th>dflt_value</th>\n",
              "      <th>pk</th>\n",
              "    </tr>\n",
              "  </thead>\n",
              "  <tbody>\n",
              "    <tr>\n",
              "      <th>0</th>\n",
              "      <td>0</td>\n",
              "      <td>title_id</td>\n",
              "      <td>VARCHAR</td>\n",
              "      <td>0</td>\n",
              "      <td>None</td>\n",
              "      <td>1</td>\n",
              "    </tr>\n",
              "    <tr>\n",
              "      <th>1</th>\n",
              "      <td>1</td>\n",
              "      <td>type</td>\n",
              "      <td>VARCHAR</td>\n",
              "      <td>0</td>\n",
              "      <td>None</td>\n",
              "      <td>0</td>\n",
              "    </tr>\n",
              "    <tr>\n",
              "      <th>2</th>\n",
              "      <td>2</td>\n",
              "      <td>primary_title</td>\n",
              "      <td>VARCHAR</td>\n",
              "      <td>0</td>\n",
              "      <td>None</td>\n",
              "      <td>0</td>\n",
              "    </tr>\n",
              "    <tr>\n",
              "      <th>3</th>\n",
              "      <td>3</td>\n",
              "      <td>original_title</td>\n",
              "      <td>VARCHAR</td>\n",
              "      <td>0</td>\n",
              "      <td>None</td>\n",
              "      <td>0</td>\n",
              "    </tr>\n",
              "    <tr>\n",
              "      <th>4</th>\n",
              "      <td>4</td>\n",
              "      <td>is_adult</td>\n",
              "      <td>INTEGER</td>\n",
              "      <td>0</td>\n",
              "      <td>None</td>\n",
              "      <td>0</td>\n",
              "    </tr>\n",
              "    <tr>\n",
              "      <th>5</th>\n",
              "      <td>5</td>\n",
              "      <td>premiered</td>\n",
              "      <td>INTEGER</td>\n",
              "      <td>0</td>\n",
              "      <td>None</td>\n",
              "      <td>0</td>\n",
              "    </tr>\n",
              "    <tr>\n",
              "      <th>6</th>\n",
              "      <td>6</td>\n",
              "      <td>ended</td>\n",
              "      <td>INTEGER</td>\n",
              "      <td>0</td>\n",
              "      <td>None</td>\n",
              "      <td>0</td>\n",
              "    </tr>\n",
              "    <tr>\n",
              "      <th>7</th>\n",
              "      <td>7</td>\n",
              "      <td>runtime_minutes</td>\n",
              "      <td>INTEGER</td>\n",
              "      <td>0</td>\n",
              "      <td>None</td>\n",
              "      <td>0</td>\n",
              "    </tr>\n",
              "    <tr>\n",
              "      <th>8</th>\n",
              "      <td>8</td>\n",
              "      <td>genres</td>\n",
              "      <td>VARCHAR</td>\n",
              "      <td>0</td>\n",
              "      <td>None</td>\n",
              "      <td>0</td>\n",
              "    </tr>\n",
              "  </tbody>\n",
              "</table>\n",
              "</div>\n",
              "      <button class=\"colab-df-convert\" onclick=\"convertToInteractive('df-00a95673-1830-46f5-b17f-e7201dd5a806')\"\n",
              "              title=\"Convert this dataframe to an interactive table.\"\n",
              "              style=\"display:none;\">\n",
              "        \n",
              "  <svg xmlns=\"http://www.w3.org/2000/svg\" height=\"24px\"viewBox=\"0 0 24 24\"\n",
              "       width=\"24px\">\n",
              "    <path d=\"M0 0h24v24H0V0z\" fill=\"none\"/>\n",
              "    <path d=\"M18.56 5.44l.94 2.06.94-2.06 2.06-.94-2.06-.94-.94-2.06-.94 2.06-2.06.94zm-11 1L8.5 8.5l.94-2.06 2.06-.94-2.06-.94L8.5 2.5l-.94 2.06-2.06.94zm10 10l.94 2.06.94-2.06 2.06-.94-2.06-.94-.94-2.06-.94 2.06-2.06.94z\"/><path d=\"M17.41 7.96l-1.37-1.37c-.4-.4-.92-.59-1.43-.59-.52 0-1.04.2-1.43.59L10.3 9.45l-7.72 7.72c-.78.78-.78 2.05 0 2.83L4 21.41c.39.39.9.59 1.41.59.51 0 1.02-.2 1.41-.59l7.78-7.78 2.81-2.81c.8-.78.8-2.07 0-2.86zM5.41 20L4 18.59l7.72-7.72 1.47 1.35L5.41 20z\"/>\n",
              "  </svg>\n",
              "      </button>\n",
              "      \n",
              "  <style>\n",
              "    .colab-df-container {\n",
              "      display:flex;\n",
              "      flex-wrap:wrap;\n",
              "      gap: 12px;\n",
              "    }\n",
              "\n",
              "    .colab-df-convert {\n",
              "      background-color: #E8F0FE;\n",
              "      border: none;\n",
              "      border-radius: 50%;\n",
              "      cursor: pointer;\n",
              "      display: none;\n",
              "      fill: #1967D2;\n",
              "      height: 32px;\n",
              "      padding: 0 0 0 0;\n",
              "      width: 32px;\n",
              "    }\n",
              "\n",
              "    .colab-df-convert:hover {\n",
              "      background-color: #E2EBFA;\n",
              "      box-shadow: 0px 1px 2px rgba(60, 64, 67, 0.3), 0px 1px 3px 1px rgba(60, 64, 67, 0.15);\n",
              "      fill: #174EA6;\n",
              "    }\n",
              "\n",
              "    [theme=dark] .colab-df-convert {\n",
              "      background-color: #3B4455;\n",
              "      fill: #D2E3FC;\n",
              "    }\n",
              "\n",
              "    [theme=dark] .colab-df-convert:hover {\n",
              "      background-color: #434B5C;\n",
              "      box-shadow: 0px 1px 3px 1px rgba(0, 0, 0, 0.15);\n",
              "      filter: drop-shadow(0px 1px 2px rgba(0, 0, 0, 0.3));\n",
              "      fill: #FFFFFF;\n",
              "    }\n",
              "  </style>\n",
              "\n",
              "      <script>\n",
              "        const buttonEl =\n",
              "          document.querySelector('#df-00a95673-1830-46f5-b17f-e7201dd5a806 button.colab-df-convert');\n",
              "        buttonEl.style.display =\n",
              "          google.colab.kernel.accessAllowed ? 'block' : 'none';\n",
              "\n",
              "        async function convertToInteractive(key) {\n",
              "          const element = document.querySelector('#df-00a95673-1830-46f5-b17f-e7201dd5a806');\n",
              "          const dataTable =\n",
              "            await google.colab.kernel.invokeFunction('convertToInteractive',\n",
              "                                                     [key], {});\n",
              "          if (!dataTable) return;\n",
              "\n",
              "          const docLinkHtml = 'Like what you see? Visit the ' +\n",
              "            '<a target=\"_blank\" href=https://colab.research.google.com/notebooks/data_table.ipynb>data table notebook</a>'\n",
              "            + ' to learn more about interactive tables.';\n",
              "          element.innerHTML = '';\n",
              "          dataTable['output_type'] = 'display_data';\n",
              "          await google.colab.output.renderOutput(dataTable, element);\n",
              "          const docLink = document.createElement('div');\n",
              "          docLink.innerHTML = docLinkHtml;\n",
              "          element.appendChild(docLink);\n",
              "        }\n",
              "      </script>\n",
              "    </div>\n",
              "  </div>\n",
              "  "
            ]
          },
          "metadata": {}
        },
        {
          "output_type": "stream",
          "name": "stdout",
          "text": [
            "----------------------------------------------------------------------------------------------------\n",
            "\n",
            "\n",
            "Esquema da tabela: akas\n"
          ]
        },
        {
          "output_type": "display_data",
          "data": {
            "text/plain": [
              "   cid               name     type  notnull dflt_value  pk\n",
              "0    0           title_id  VARCHAR        0       None   0\n",
              "1    1              title  VARCHAR        0       None   0\n",
              "2    2             region  VARCHAR        0       None   0\n",
              "3    3           language  VARCHAR        0       None   0\n",
              "4    4              types  VARCHAR        0       None   0\n",
              "5    5         attributes  VARCHAR        0       None   0\n",
              "6    6  is_original_title  INTEGER        0       None   0"
            ],
            "text/html": [
              "\n",
              "  <div id=\"df-84e854cc-1be1-4cb2-8831-ad727e667300\">\n",
              "    <div class=\"colab-df-container\">\n",
              "      <div>\n",
              "<style scoped>\n",
              "    .dataframe tbody tr th:only-of-type {\n",
              "        vertical-align: middle;\n",
              "    }\n",
              "\n",
              "    .dataframe tbody tr th {\n",
              "        vertical-align: top;\n",
              "    }\n",
              "\n",
              "    .dataframe thead th {\n",
              "        text-align: right;\n",
              "    }\n",
              "</style>\n",
              "<table border=\"1\" class=\"dataframe\">\n",
              "  <thead>\n",
              "    <tr style=\"text-align: right;\">\n",
              "      <th></th>\n",
              "      <th>cid</th>\n",
              "      <th>name</th>\n",
              "      <th>type</th>\n",
              "      <th>notnull</th>\n",
              "      <th>dflt_value</th>\n",
              "      <th>pk</th>\n",
              "    </tr>\n",
              "  </thead>\n",
              "  <tbody>\n",
              "    <tr>\n",
              "      <th>0</th>\n",
              "      <td>0</td>\n",
              "      <td>title_id</td>\n",
              "      <td>VARCHAR</td>\n",
              "      <td>0</td>\n",
              "      <td>None</td>\n",
              "      <td>0</td>\n",
              "    </tr>\n",
              "    <tr>\n",
              "      <th>1</th>\n",
              "      <td>1</td>\n",
              "      <td>title</td>\n",
              "      <td>VARCHAR</td>\n",
              "      <td>0</td>\n",
              "      <td>None</td>\n",
              "      <td>0</td>\n",
              "    </tr>\n",
              "    <tr>\n",
              "      <th>2</th>\n",
              "      <td>2</td>\n",
              "      <td>region</td>\n",
              "      <td>VARCHAR</td>\n",
              "      <td>0</td>\n",
              "      <td>None</td>\n",
              "      <td>0</td>\n",
              "    </tr>\n",
              "    <tr>\n",
              "      <th>3</th>\n",
              "      <td>3</td>\n",
              "      <td>language</td>\n",
              "      <td>VARCHAR</td>\n",
              "      <td>0</td>\n",
              "      <td>None</td>\n",
              "      <td>0</td>\n",
              "    </tr>\n",
              "    <tr>\n",
              "      <th>4</th>\n",
              "      <td>4</td>\n",
              "      <td>types</td>\n",
              "      <td>VARCHAR</td>\n",
              "      <td>0</td>\n",
              "      <td>None</td>\n",
              "      <td>0</td>\n",
              "    </tr>\n",
              "    <tr>\n",
              "      <th>5</th>\n",
              "      <td>5</td>\n",
              "      <td>attributes</td>\n",
              "      <td>VARCHAR</td>\n",
              "      <td>0</td>\n",
              "      <td>None</td>\n",
              "      <td>0</td>\n",
              "    </tr>\n",
              "    <tr>\n",
              "      <th>6</th>\n",
              "      <td>6</td>\n",
              "      <td>is_original_title</td>\n",
              "      <td>INTEGER</td>\n",
              "      <td>0</td>\n",
              "      <td>None</td>\n",
              "      <td>0</td>\n",
              "    </tr>\n",
              "  </tbody>\n",
              "</table>\n",
              "</div>\n",
              "      <button class=\"colab-df-convert\" onclick=\"convertToInteractive('df-84e854cc-1be1-4cb2-8831-ad727e667300')\"\n",
              "              title=\"Convert this dataframe to an interactive table.\"\n",
              "              style=\"display:none;\">\n",
              "        \n",
              "  <svg xmlns=\"http://www.w3.org/2000/svg\" height=\"24px\"viewBox=\"0 0 24 24\"\n",
              "       width=\"24px\">\n",
              "    <path d=\"M0 0h24v24H0V0z\" fill=\"none\"/>\n",
              "    <path d=\"M18.56 5.44l.94 2.06.94-2.06 2.06-.94-2.06-.94-.94-2.06-.94 2.06-2.06.94zm-11 1L8.5 8.5l.94-2.06 2.06-.94-2.06-.94L8.5 2.5l-.94 2.06-2.06.94zm10 10l.94 2.06.94-2.06 2.06-.94-2.06-.94-.94-2.06-.94 2.06-2.06.94z\"/><path d=\"M17.41 7.96l-1.37-1.37c-.4-.4-.92-.59-1.43-.59-.52 0-1.04.2-1.43.59L10.3 9.45l-7.72 7.72c-.78.78-.78 2.05 0 2.83L4 21.41c.39.39.9.59 1.41.59.51 0 1.02-.2 1.41-.59l7.78-7.78 2.81-2.81c.8-.78.8-2.07 0-2.86zM5.41 20L4 18.59l7.72-7.72 1.47 1.35L5.41 20z\"/>\n",
              "  </svg>\n",
              "      </button>\n",
              "      \n",
              "  <style>\n",
              "    .colab-df-container {\n",
              "      display:flex;\n",
              "      flex-wrap:wrap;\n",
              "      gap: 12px;\n",
              "    }\n",
              "\n",
              "    .colab-df-convert {\n",
              "      background-color: #E8F0FE;\n",
              "      border: none;\n",
              "      border-radius: 50%;\n",
              "      cursor: pointer;\n",
              "      display: none;\n",
              "      fill: #1967D2;\n",
              "      height: 32px;\n",
              "      padding: 0 0 0 0;\n",
              "      width: 32px;\n",
              "    }\n",
              "\n",
              "    .colab-df-convert:hover {\n",
              "      background-color: #E2EBFA;\n",
              "      box-shadow: 0px 1px 2px rgba(60, 64, 67, 0.3), 0px 1px 3px 1px rgba(60, 64, 67, 0.15);\n",
              "      fill: #174EA6;\n",
              "    }\n",
              "\n",
              "    [theme=dark] .colab-df-convert {\n",
              "      background-color: #3B4455;\n",
              "      fill: #D2E3FC;\n",
              "    }\n",
              "\n",
              "    [theme=dark] .colab-df-convert:hover {\n",
              "      background-color: #434B5C;\n",
              "      box-shadow: 0px 1px 3px 1px rgba(0, 0, 0, 0.15);\n",
              "      filter: drop-shadow(0px 1px 2px rgba(0, 0, 0, 0.3));\n",
              "      fill: #FFFFFF;\n",
              "    }\n",
              "  </style>\n",
              "\n",
              "      <script>\n",
              "        const buttonEl =\n",
              "          document.querySelector('#df-84e854cc-1be1-4cb2-8831-ad727e667300 button.colab-df-convert');\n",
              "        buttonEl.style.display =\n",
              "          google.colab.kernel.accessAllowed ? 'block' : 'none';\n",
              "\n",
              "        async function convertToInteractive(key) {\n",
              "          const element = document.querySelector('#df-84e854cc-1be1-4cb2-8831-ad727e667300');\n",
              "          const dataTable =\n",
              "            await google.colab.kernel.invokeFunction('convertToInteractive',\n",
              "                                                     [key], {});\n",
              "          if (!dataTable) return;\n",
              "\n",
              "          const docLinkHtml = 'Like what you see? Visit the ' +\n",
              "            '<a target=\"_blank\" href=https://colab.research.google.com/notebooks/data_table.ipynb>data table notebook</a>'\n",
              "            + ' to learn more about interactive tables.';\n",
              "          element.innerHTML = '';\n",
              "          dataTable['output_type'] = 'display_data';\n",
              "          await google.colab.output.renderOutput(dataTable, element);\n",
              "          const docLink = document.createElement('div');\n",
              "          docLink.innerHTML = docLinkHtml;\n",
              "          element.appendChild(docLink);\n",
              "        }\n",
              "      </script>\n",
              "    </div>\n",
              "  </div>\n",
              "  "
            ]
          },
          "metadata": {}
        },
        {
          "output_type": "stream",
          "name": "stdout",
          "text": [
            "----------------------------------------------------------------------------------------------------\n",
            "\n",
            "\n",
            "Esquema da tabela: crew\n"
          ]
        },
        {
          "output_type": "display_data",
          "data": {
            "text/plain": [
              "   cid        name     type  notnull dflt_value  pk\n",
              "0    0    title_id  VARCHAR        0       None   0\n",
              "1    1   person_id  VARCHAR        0       None   0\n",
              "2    2    category  VARCHAR        0       None   0\n",
              "3    3         job  VARCHAR        0       None   0\n",
              "4    4  characters  VARCHAR        0       None   0"
            ],
            "text/html": [
              "\n",
              "  <div id=\"df-73e8317d-7f87-4272-9c63-4c0ceb1e0e55\">\n",
              "    <div class=\"colab-df-container\">\n",
              "      <div>\n",
              "<style scoped>\n",
              "    .dataframe tbody tr th:only-of-type {\n",
              "        vertical-align: middle;\n",
              "    }\n",
              "\n",
              "    .dataframe tbody tr th {\n",
              "        vertical-align: top;\n",
              "    }\n",
              "\n",
              "    .dataframe thead th {\n",
              "        text-align: right;\n",
              "    }\n",
              "</style>\n",
              "<table border=\"1\" class=\"dataframe\">\n",
              "  <thead>\n",
              "    <tr style=\"text-align: right;\">\n",
              "      <th></th>\n",
              "      <th>cid</th>\n",
              "      <th>name</th>\n",
              "      <th>type</th>\n",
              "      <th>notnull</th>\n",
              "      <th>dflt_value</th>\n",
              "      <th>pk</th>\n",
              "    </tr>\n",
              "  </thead>\n",
              "  <tbody>\n",
              "    <tr>\n",
              "      <th>0</th>\n",
              "      <td>0</td>\n",
              "      <td>title_id</td>\n",
              "      <td>VARCHAR</td>\n",
              "      <td>0</td>\n",
              "      <td>None</td>\n",
              "      <td>0</td>\n",
              "    </tr>\n",
              "    <tr>\n",
              "      <th>1</th>\n",
              "      <td>1</td>\n",
              "      <td>person_id</td>\n",
              "      <td>VARCHAR</td>\n",
              "      <td>0</td>\n",
              "      <td>None</td>\n",
              "      <td>0</td>\n",
              "    </tr>\n",
              "    <tr>\n",
              "      <th>2</th>\n",
              "      <td>2</td>\n",
              "      <td>category</td>\n",
              "      <td>VARCHAR</td>\n",
              "      <td>0</td>\n",
              "      <td>None</td>\n",
              "      <td>0</td>\n",
              "    </tr>\n",
              "    <tr>\n",
              "      <th>3</th>\n",
              "      <td>3</td>\n",
              "      <td>job</td>\n",
              "      <td>VARCHAR</td>\n",
              "      <td>0</td>\n",
              "      <td>None</td>\n",
              "      <td>0</td>\n",
              "    </tr>\n",
              "    <tr>\n",
              "      <th>4</th>\n",
              "      <td>4</td>\n",
              "      <td>characters</td>\n",
              "      <td>VARCHAR</td>\n",
              "      <td>0</td>\n",
              "      <td>None</td>\n",
              "      <td>0</td>\n",
              "    </tr>\n",
              "  </tbody>\n",
              "</table>\n",
              "</div>\n",
              "      <button class=\"colab-df-convert\" onclick=\"convertToInteractive('df-73e8317d-7f87-4272-9c63-4c0ceb1e0e55')\"\n",
              "              title=\"Convert this dataframe to an interactive table.\"\n",
              "              style=\"display:none;\">\n",
              "        \n",
              "  <svg xmlns=\"http://www.w3.org/2000/svg\" height=\"24px\"viewBox=\"0 0 24 24\"\n",
              "       width=\"24px\">\n",
              "    <path d=\"M0 0h24v24H0V0z\" fill=\"none\"/>\n",
              "    <path d=\"M18.56 5.44l.94 2.06.94-2.06 2.06-.94-2.06-.94-.94-2.06-.94 2.06-2.06.94zm-11 1L8.5 8.5l.94-2.06 2.06-.94-2.06-.94L8.5 2.5l-.94 2.06-2.06.94zm10 10l.94 2.06.94-2.06 2.06-.94-2.06-.94-.94-2.06-.94 2.06-2.06.94z\"/><path d=\"M17.41 7.96l-1.37-1.37c-.4-.4-.92-.59-1.43-.59-.52 0-1.04.2-1.43.59L10.3 9.45l-7.72 7.72c-.78.78-.78 2.05 0 2.83L4 21.41c.39.39.9.59 1.41.59.51 0 1.02-.2 1.41-.59l7.78-7.78 2.81-2.81c.8-.78.8-2.07 0-2.86zM5.41 20L4 18.59l7.72-7.72 1.47 1.35L5.41 20z\"/>\n",
              "  </svg>\n",
              "      </button>\n",
              "      \n",
              "  <style>\n",
              "    .colab-df-container {\n",
              "      display:flex;\n",
              "      flex-wrap:wrap;\n",
              "      gap: 12px;\n",
              "    }\n",
              "\n",
              "    .colab-df-convert {\n",
              "      background-color: #E8F0FE;\n",
              "      border: none;\n",
              "      border-radius: 50%;\n",
              "      cursor: pointer;\n",
              "      display: none;\n",
              "      fill: #1967D2;\n",
              "      height: 32px;\n",
              "      padding: 0 0 0 0;\n",
              "      width: 32px;\n",
              "    }\n",
              "\n",
              "    .colab-df-convert:hover {\n",
              "      background-color: #E2EBFA;\n",
              "      box-shadow: 0px 1px 2px rgba(60, 64, 67, 0.3), 0px 1px 3px 1px rgba(60, 64, 67, 0.15);\n",
              "      fill: #174EA6;\n",
              "    }\n",
              "\n",
              "    [theme=dark] .colab-df-convert {\n",
              "      background-color: #3B4455;\n",
              "      fill: #D2E3FC;\n",
              "    }\n",
              "\n",
              "    [theme=dark] .colab-df-convert:hover {\n",
              "      background-color: #434B5C;\n",
              "      box-shadow: 0px 1px 3px 1px rgba(0, 0, 0, 0.15);\n",
              "      filter: drop-shadow(0px 1px 2px rgba(0, 0, 0, 0.3));\n",
              "      fill: #FFFFFF;\n",
              "    }\n",
              "  </style>\n",
              "\n",
              "      <script>\n",
              "        const buttonEl =\n",
              "          document.querySelector('#df-73e8317d-7f87-4272-9c63-4c0ceb1e0e55 button.colab-df-convert');\n",
              "        buttonEl.style.display =\n",
              "          google.colab.kernel.accessAllowed ? 'block' : 'none';\n",
              "\n",
              "        async function convertToInteractive(key) {\n",
              "          const element = document.querySelector('#df-73e8317d-7f87-4272-9c63-4c0ceb1e0e55');\n",
              "          const dataTable =\n",
              "            await google.colab.kernel.invokeFunction('convertToInteractive',\n",
              "                                                     [key], {});\n",
              "          if (!dataTable) return;\n",
              "\n",
              "          const docLinkHtml = 'Like what you see? Visit the ' +\n",
              "            '<a target=\"_blank\" href=https://colab.research.google.com/notebooks/data_table.ipynb>data table notebook</a>'\n",
              "            + ' to learn more about interactive tables.';\n",
              "          element.innerHTML = '';\n",
              "          dataTable['output_type'] = 'display_data';\n",
              "          await google.colab.output.renderOutput(dataTable, element);\n",
              "          const docLink = document.createElement('div');\n",
              "          docLink.innerHTML = docLinkHtml;\n",
              "          element.appendChild(docLink);\n",
              "        }\n",
              "      </script>\n",
              "    </div>\n",
              "  </div>\n",
              "  "
            ]
          },
          "metadata": {}
        },
        {
          "output_type": "stream",
          "name": "stdout",
          "text": [
            "----------------------------------------------------------------------------------------------------\n",
            "\n",
            "\n",
            "Esquema da tabela: episodes\n"
          ]
        },
        {
          "output_type": "display_data",
          "data": {
            "text/plain": [
              "   cid              name     type  notnull dflt_value  pk\n",
              "0    0  episode_title_id  INTEGER        0       None   0\n",
              "1    1     show_title_id  INTEGER        0       None   0\n",
              "2    2     season_number  INTEGER        0       None   0\n",
              "3    3    eposide_number  INTEGER        0       None   0"
            ],
            "text/html": [
              "\n",
              "  <div id=\"df-e745f3cf-548c-4dbe-a082-d7087f4b508b\">\n",
              "    <div class=\"colab-df-container\">\n",
              "      <div>\n",
              "<style scoped>\n",
              "    .dataframe tbody tr th:only-of-type {\n",
              "        vertical-align: middle;\n",
              "    }\n",
              "\n",
              "    .dataframe tbody tr th {\n",
              "        vertical-align: top;\n",
              "    }\n",
              "\n",
              "    .dataframe thead th {\n",
              "        text-align: right;\n",
              "    }\n",
              "</style>\n",
              "<table border=\"1\" class=\"dataframe\">\n",
              "  <thead>\n",
              "    <tr style=\"text-align: right;\">\n",
              "      <th></th>\n",
              "      <th>cid</th>\n",
              "      <th>name</th>\n",
              "      <th>type</th>\n",
              "      <th>notnull</th>\n",
              "      <th>dflt_value</th>\n",
              "      <th>pk</th>\n",
              "    </tr>\n",
              "  </thead>\n",
              "  <tbody>\n",
              "    <tr>\n",
              "      <th>0</th>\n",
              "      <td>0</td>\n",
              "      <td>episode_title_id</td>\n",
              "      <td>INTEGER</td>\n",
              "      <td>0</td>\n",
              "      <td>None</td>\n",
              "      <td>0</td>\n",
              "    </tr>\n",
              "    <tr>\n",
              "      <th>1</th>\n",
              "      <td>1</td>\n",
              "      <td>show_title_id</td>\n",
              "      <td>INTEGER</td>\n",
              "      <td>0</td>\n",
              "      <td>None</td>\n",
              "      <td>0</td>\n",
              "    </tr>\n",
              "    <tr>\n",
              "      <th>2</th>\n",
              "      <td>2</td>\n",
              "      <td>season_number</td>\n",
              "      <td>INTEGER</td>\n",
              "      <td>0</td>\n",
              "      <td>None</td>\n",
              "      <td>0</td>\n",
              "    </tr>\n",
              "    <tr>\n",
              "      <th>3</th>\n",
              "      <td>3</td>\n",
              "      <td>eposide_number</td>\n",
              "      <td>INTEGER</td>\n",
              "      <td>0</td>\n",
              "      <td>None</td>\n",
              "      <td>0</td>\n",
              "    </tr>\n",
              "  </tbody>\n",
              "</table>\n",
              "</div>\n",
              "      <button class=\"colab-df-convert\" onclick=\"convertToInteractive('df-e745f3cf-548c-4dbe-a082-d7087f4b508b')\"\n",
              "              title=\"Convert this dataframe to an interactive table.\"\n",
              "              style=\"display:none;\">\n",
              "        \n",
              "  <svg xmlns=\"http://www.w3.org/2000/svg\" height=\"24px\"viewBox=\"0 0 24 24\"\n",
              "       width=\"24px\">\n",
              "    <path d=\"M0 0h24v24H0V0z\" fill=\"none\"/>\n",
              "    <path d=\"M18.56 5.44l.94 2.06.94-2.06 2.06-.94-2.06-.94-.94-2.06-.94 2.06-2.06.94zm-11 1L8.5 8.5l.94-2.06 2.06-.94-2.06-.94L8.5 2.5l-.94 2.06-2.06.94zm10 10l.94 2.06.94-2.06 2.06-.94-2.06-.94-.94-2.06-.94 2.06-2.06.94z\"/><path d=\"M17.41 7.96l-1.37-1.37c-.4-.4-.92-.59-1.43-.59-.52 0-1.04.2-1.43.59L10.3 9.45l-7.72 7.72c-.78.78-.78 2.05 0 2.83L4 21.41c.39.39.9.59 1.41.59.51 0 1.02-.2 1.41-.59l7.78-7.78 2.81-2.81c.8-.78.8-2.07 0-2.86zM5.41 20L4 18.59l7.72-7.72 1.47 1.35L5.41 20z\"/>\n",
              "  </svg>\n",
              "      </button>\n",
              "      \n",
              "  <style>\n",
              "    .colab-df-container {\n",
              "      display:flex;\n",
              "      flex-wrap:wrap;\n",
              "      gap: 12px;\n",
              "    }\n",
              "\n",
              "    .colab-df-convert {\n",
              "      background-color: #E8F0FE;\n",
              "      border: none;\n",
              "      border-radius: 50%;\n",
              "      cursor: pointer;\n",
              "      display: none;\n",
              "      fill: #1967D2;\n",
              "      height: 32px;\n",
              "      padding: 0 0 0 0;\n",
              "      width: 32px;\n",
              "    }\n",
              "\n",
              "    .colab-df-convert:hover {\n",
              "      background-color: #E2EBFA;\n",
              "      box-shadow: 0px 1px 2px rgba(60, 64, 67, 0.3), 0px 1px 3px 1px rgba(60, 64, 67, 0.15);\n",
              "      fill: #174EA6;\n",
              "    }\n",
              "\n",
              "    [theme=dark] .colab-df-convert {\n",
              "      background-color: #3B4455;\n",
              "      fill: #D2E3FC;\n",
              "    }\n",
              "\n",
              "    [theme=dark] .colab-df-convert:hover {\n",
              "      background-color: #434B5C;\n",
              "      box-shadow: 0px 1px 3px 1px rgba(0, 0, 0, 0.15);\n",
              "      filter: drop-shadow(0px 1px 2px rgba(0, 0, 0, 0.3));\n",
              "      fill: #FFFFFF;\n",
              "    }\n",
              "  </style>\n",
              "\n",
              "      <script>\n",
              "        const buttonEl =\n",
              "          document.querySelector('#df-e745f3cf-548c-4dbe-a082-d7087f4b508b button.colab-df-convert');\n",
              "        buttonEl.style.display =\n",
              "          google.colab.kernel.accessAllowed ? 'block' : 'none';\n",
              "\n",
              "        async function convertToInteractive(key) {\n",
              "          const element = document.querySelector('#df-e745f3cf-548c-4dbe-a082-d7087f4b508b');\n",
              "          const dataTable =\n",
              "            await google.colab.kernel.invokeFunction('convertToInteractive',\n",
              "                                                     [key], {});\n",
              "          if (!dataTable) return;\n",
              "\n",
              "          const docLinkHtml = 'Like what you see? Visit the ' +\n",
              "            '<a target=\"_blank\" href=https://colab.research.google.com/notebooks/data_table.ipynb>data table notebook</a>'\n",
              "            + ' to learn more about interactive tables.';\n",
              "          element.innerHTML = '';\n",
              "          dataTable['output_type'] = 'display_data';\n",
              "          await google.colab.output.renderOutput(dataTable, element);\n",
              "          const docLink = document.createElement('div');\n",
              "          docLink.innerHTML = docLinkHtml;\n",
              "          element.appendChild(docLink);\n",
              "        }\n",
              "      </script>\n",
              "    </div>\n",
              "  </div>\n",
              "  "
            ]
          },
          "metadata": {}
        },
        {
          "output_type": "stream",
          "name": "stdout",
          "text": [
            "----------------------------------------------------------------------------------------------------\n",
            "\n",
            "\n",
            "Esquema da tabela: ratings\n"
          ]
        },
        {
          "output_type": "display_data",
          "data": {
            "text/plain": [
              "   cid      name     type  notnull dflt_value  pk\n",
              "0    0  title_id  VARCHAR        0       None   1\n",
              "1    1    rating  INTEGER        0       None   0\n",
              "2    2     votes  INTEGER        0       None   0"
            ],
            "text/html": [
              "\n",
              "  <div id=\"df-b36aa3e3-7e5a-457f-868e-1d5230d287ea\">\n",
              "    <div class=\"colab-df-container\">\n",
              "      <div>\n",
              "<style scoped>\n",
              "    .dataframe tbody tr th:only-of-type {\n",
              "        vertical-align: middle;\n",
              "    }\n",
              "\n",
              "    .dataframe tbody tr th {\n",
              "        vertical-align: top;\n",
              "    }\n",
              "\n",
              "    .dataframe thead th {\n",
              "        text-align: right;\n",
              "    }\n",
              "</style>\n",
              "<table border=\"1\" class=\"dataframe\">\n",
              "  <thead>\n",
              "    <tr style=\"text-align: right;\">\n",
              "      <th></th>\n",
              "      <th>cid</th>\n",
              "      <th>name</th>\n",
              "      <th>type</th>\n",
              "      <th>notnull</th>\n",
              "      <th>dflt_value</th>\n",
              "      <th>pk</th>\n",
              "    </tr>\n",
              "  </thead>\n",
              "  <tbody>\n",
              "    <tr>\n",
              "      <th>0</th>\n",
              "      <td>0</td>\n",
              "      <td>title_id</td>\n",
              "      <td>VARCHAR</td>\n",
              "      <td>0</td>\n",
              "      <td>None</td>\n",
              "      <td>1</td>\n",
              "    </tr>\n",
              "    <tr>\n",
              "      <th>1</th>\n",
              "      <td>1</td>\n",
              "      <td>rating</td>\n",
              "      <td>INTEGER</td>\n",
              "      <td>0</td>\n",
              "      <td>None</td>\n",
              "      <td>0</td>\n",
              "    </tr>\n",
              "    <tr>\n",
              "      <th>2</th>\n",
              "      <td>2</td>\n",
              "      <td>votes</td>\n",
              "      <td>INTEGER</td>\n",
              "      <td>0</td>\n",
              "      <td>None</td>\n",
              "      <td>0</td>\n",
              "    </tr>\n",
              "  </tbody>\n",
              "</table>\n",
              "</div>\n",
              "      <button class=\"colab-df-convert\" onclick=\"convertToInteractive('df-b36aa3e3-7e5a-457f-868e-1d5230d287ea')\"\n",
              "              title=\"Convert this dataframe to an interactive table.\"\n",
              "              style=\"display:none;\">\n",
              "        \n",
              "  <svg xmlns=\"http://www.w3.org/2000/svg\" height=\"24px\"viewBox=\"0 0 24 24\"\n",
              "       width=\"24px\">\n",
              "    <path d=\"M0 0h24v24H0V0z\" fill=\"none\"/>\n",
              "    <path d=\"M18.56 5.44l.94 2.06.94-2.06 2.06-.94-2.06-.94-.94-2.06-.94 2.06-2.06.94zm-11 1L8.5 8.5l.94-2.06 2.06-.94-2.06-.94L8.5 2.5l-.94 2.06-2.06.94zm10 10l.94 2.06.94-2.06 2.06-.94-2.06-.94-.94-2.06-.94 2.06-2.06.94z\"/><path d=\"M17.41 7.96l-1.37-1.37c-.4-.4-.92-.59-1.43-.59-.52 0-1.04.2-1.43.59L10.3 9.45l-7.72 7.72c-.78.78-.78 2.05 0 2.83L4 21.41c.39.39.9.59 1.41.59.51 0 1.02-.2 1.41-.59l7.78-7.78 2.81-2.81c.8-.78.8-2.07 0-2.86zM5.41 20L4 18.59l7.72-7.72 1.47 1.35L5.41 20z\"/>\n",
              "  </svg>\n",
              "      </button>\n",
              "      \n",
              "  <style>\n",
              "    .colab-df-container {\n",
              "      display:flex;\n",
              "      flex-wrap:wrap;\n",
              "      gap: 12px;\n",
              "    }\n",
              "\n",
              "    .colab-df-convert {\n",
              "      background-color: #E8F0FE;\n",
              "      border: none;\n",
              "      border-radius: 50%;\n",
              "      cursor: pointer;\n",
              "      display: none;\n",
              "      fill: #1967D2;\n",
              "      height: 32px;\n",
              "      padding: 0 0 0 0;\n",
              "      width: 32px;\n",
              "    }\n",
              "\n",
              "    .colab-df-convert:hover {\n",
              "      background-color: #E2EBFA;\n",
              "      box-shadow: 0px 1px 2px rgba(60, 64, 67, 0.3), 0px 1px 3px 1px rgba(60, 64, 67, 0.15);\n",
              "      fill: #174EA6;\n",
              "    }\n",
              "\n",
              "    [theme=dark] .colab-df-convert {\n",
              "      background-color: #3B4455;\n",
              "      fill: #D2E3FC;\n",
              "    }\n",
              "\n",
              "    [theme=dark] .colab-df-convert:hover {\n",
              "      background-color: #434B5C;\n",
              "      box-shadow: 0px 1px 3px 1px rgba(0, 0, 0, 0.15);\n",
              "      filter: drop-shadow(0px 1px 2px rgba(0, 0, 0, 0.3));\n",
              "      fill: #FFFFFF;\n",
              "    }\n",
              "  </style>\n",
              "\n",
              "      <script>\n",
              "        const buttonEl =\n",
              "          document.querySelector('#df-b36aa3e3-7e5a-457f-868e-1d5230d287ea button.colab-df-convert');\n",
              "        buttonEl.style.display =\n",
              "          google.colab.kernel.accessAllowed ? 'block' : 'none';\n",
              "\n",
              "        async function convertToInteractive(key) {\n",
              "          const element = document.querySelector('#df-b36aa3e3-7e5a-457f-868e-1d5230d287ea');\n",
              "          const dataTable =\n",
              "            await google.colab.kernel.invokeFunction('convertToInteractive',\n",
              "                                                     [key], {});\n",
              "          if (!dataTable) return;\n",
              "\n",
              "          const docLinkHtml = 'Like what you see? Visit the ' +\n",
              "            '<a target=\"_blank\" href=https://colab.research.google.com/notebooks/data_table.ipynb>data table notebook</a>'\n",
              "            + ' to learn more about interactive tables.';\n",
              "          element.innerHTML = '';\n",
              "          dataTable['output_type'] = 'display_data';\n",
              "          await google.colab.output.renderOutput(dataTable, element);\n",
              "          const docLink = document.createElement('div');\n",
              "          docLink.innerHTML = docLinkHtml;\n",
              "          element.appendChild(docLink);\n",
              "        }\n",
              "      </script>\n",
              "    </div>\n",
              "  </div>\n",
              "  "
            ]
          },
          "metadata": {}
        },
        {
          "output_type": "stream",
          "name": "stdout",
          "text": [
            "----------------------------------------------------------------------------------------------------\n",
            "\n",
            "\n"
          ]
        }
      ],
      "source": [
        "# Vamos percorrer a lista de tabelas no banco de dados e extrair o esquema de cada uma\n",
        "for tabela in tabelas:\n",
        "    consulta = \"PRAGMA TABLE_INFO({})\".format(tabela)\n",
        "    resultado = pd.read_sql_query(consulta, conn)\n",
        "    print(\"Esquema da tabela:\", tabela)\n",
        "    display(resultado)\n",
        "    print(\"-\"*100)\n",
        "    print(\"\\n\")"
      ]
    },
    {
      "cell_type": "markdown",
      "metadata": {
        "id": "yx0flL9gkBLH"
      },
      "source": [
        "> Agora começamos a Análise Exploratória dos Dados."
      ]
    },
    {
      "cell_type": "markdown",
      "metadata": {
        "id": "m6W_XSp3yBSL"
      },
      "source": [
        "## 1- Quais São as Categorias de Filmes Mais Comuns no IMDB?\n",
        "\n",
        "Quais são os principais tipos (categorias) dos títulos (filmes)?"
      ]
    },
    {
      "cell_type": "code",
      "execution_count": null,
      "metadata": {
        "id": "72tvpOmJGTni"
      },
      "outputs": [],
      "source": [
        "# Cria a consulta SQL\n",
        "consulta1 = '''SELECT type, COUNT(*) AS COUNT FROM titles GROUP BY type''' "
      ]
    },
    {
      "cell_type": "code",
      "execution_count": null,
      "metadata": {
        "id": "ClnYtUTVkBLJ"
      },
      "outputs": [],
      "source": [
        "# Extrai o resultado\n",
        "resultado = pd.read_sql_query(consulta1, conn)"
      ]
    },
    {
      "cell_type": "code",
      "execution_count": null,
      "metadata": {
        "colab": {
          "base_uri": "https://localhost:8080/",
          "height": 395
        },
        "id": "HYgZRXHyRcK1",
        "outputId": "d521981a-54c1-441a-f021-ec74a82522f8"
      },
      "outputs": [
        {
          "output_type": "display_data",
          "data": {
            "text/plain": [
              "            type    COUNT\n",
              "0          movie   606395\n",
              "1          short   863404\n",
              "2      tvEpisode  6616225\n",
              "3   tvMiniSeries    42849\n",
              "4        tvMovie   135614\n",
              "5        tvPilot        2\n",
              "6       tvSeries   223071\n",
              "7        tvShort    10512\n",
              "8      tvSpecial    36476\n",
              "9          video   258969\n",
              "10     videoGame    30824"
            ],
            "text/html": [
              "\n",
              "  <div id=\"df-5cc4eb67-dae8-4009-8e8d-8dd34bf70fb5\">\n",
              "    <div class=\"colab-df-container\">\n",
              "      <div>\n",
              "<style scoped>\n",
              "    .dataframe tbody tr th:only-of-type {\n",
              "        vertical-align: middle;\n",
              "    }\n",
              "\n",
              "    .dataframe tbody tr th {\n",
              "        vertical-align: top;\n",
              "    }\n",
              "\n",
              "    .dataframe thead th {\n",
              "        text-align: right;\n",
              "    }\n",
              "</style>\n",
              "<table border=\"1\" class=\"dataframe\">\n",
              "  <thead>\n",
              "    <tr style=\"text-align: right;\">\n",
              "      <th></th>\n",
              "      <th>type</th>\n",
              "      <th>COUNT</th>\n",
              "    </tr>\n",
              "  </thead>\n",
              "  <tbody>\n",
              "    <tr>\n",
              "      <th>0</th>\n",
              "      <td>movie</td>\n",
              "      <td>606395</td>\n",
              "    </tr>\n",
              "    <tr>\n",
              "      <th>1</th>\n",
              "      <td>short</td>\n",
              "      <td>863404</td>\n",
              "    </tr>\n",
              "    <tr>\n",
              "      <th>2</th>\n",
              "      <td>tvEpisode</td>\n",
              "      <td>6616225</td>\n",
              "    </tr>\n",
              "    <tr>\n",
              "      <th>3</th>\n",
              "      <td>tvMiniSeries</td>\n",
              "      <td>42849</td>\n",
              "    </tr>\n",
              "    <tr>\n",
              "      <th>4</th>\n",
              "      <td>tvMovie</td>\n",
              "      <td>135614</td>\n",
              "    </tr>\n",
              "    <tr>\n",
              "      <th>5</th>\n",
              "      <td>tvPilot</td>\n",
              "      <td>2</td>\n",
              "    </tr>\n",
              "    <tr>\n",
              "      <th>6</th>\n",
              "      <td>tvSeries</td>\n",
              "      <td>223071</td>\n",
              "    </tr>\n",
              "    <tr>\n",
              "      <th>7</th>\n",
              "      <td>tvShort</td>\n",
              "      <td>10512</td>\n",
              "    </tr>\n",
              "    <tr>\n",
              "      <th>8</th>\n",
              "      <td>tvSpecial</td>\n",
              "      <td>36476</td>\n",
              "    </tr>\n",
              "    <tr>\n",
              "      <th>9</th>\n",
              "      <td>video</td>\n",
              "      <td>258969</td>\n",
              "    </tr>\n",
              "    <tr>\n",
              "      <th>10</th>\n",
              "      <td>videoGame</td>\n",
              "      <td>30824</td>\n",
              "    </tr>\n",
              "  </tbody>\n",
              "</table>\n",
              "</div>\n",
              "      <button class=\"colab-df-convert\" onclick=\"convertToInteractive('df-5cc4eb67-dae8-4009-8e8d-8dd34bf70fb5')\"\n",
              "              title=\"Convert this dataframe to an interactive table.\"\n",
              "              style=\"display:none;\">\n",
              "        \n",
              "  <svg xmlns=\"http://www.w3.org/2000/svg\" height=\"24px\"viewBox=\"0 0 24 24\"\n",
              "       width=\"24px\">\n",
              "    <path d=\"M0 0h24v24H0V0z\" fill=\"none\"/>\n",
              "    <path d=\"M18.56 5.44l.94 2.06.94-2.06 2.06-.94-2.06-.94-.94-2.06-.94 2.06-2.06.94zm-11 1L8.5 8.5l.94-2.06 2.06-.94-2.06-.94L8.5 2.5l-.94 2.06-2.06.94zm10 10l.94 2.06.94-2.06 2.06-.94-2.06-.94-.94-2.06-.94 2.06-2.06.94z\"/><path d=\"M17.41 7.96l-1.37-1.37c-.4-.4-.92-.59-1.43-.59-.52 0-1.04.2-1.43.59L10.3 9.45l-7.72 7.72c-.78.78-.78 2.05 0 2.83L4 21.41c.39.39.9.59 1.41.59.51 0 1.02-.2 1.41-.59l7.78-7.78 2.81-2.81c.8-.78.8-2.07 0-2.86zM5.41 20L4 18.59l7.72-7.72 1.47 1.35L5.41 20z\"/>\n",
              "  </svg>\n",
              "      </button>\n",
              "      \n",
              "  <style>\n",
              "    .colab-df-container {\n",
              "      display:flex;\n",
              "      flex-wrap:wrap;\n",
              "      gap: 12px;\n",
              "    }\n",
              "\n",
              "    .colab-df-convert {\n",
              "      background-color: #E8F0FE;\n",
              "      border: none;\n",
              "      border-radius: 50%;\n",
              "      cursor: pointer;\n",
              "      display: none;\n",
              "      fill: #1967D2;\n",
              "      height: 32px;\n",
              "      padding: 0 0 0 0;\n",
              "      width: 32px;\n",
              "    }\n",
              "\n",
              "    .colab-df-convert:hover {\n",
              "      background-color: #E2EBFA;\n",
              "      box-shadow: 0px 1px 2px rgba(60, 64, 67, 0.3), 0px 1px 3px 1px rgba(60, 64, 67, 0.15);\n",
              "      fill: #174EA6;\n",
              "    }\n",
              "\n",
              "    [theme=dark] .colab-df-convert {\n",
              "      background-color: #3B4455;\n",
              "      fill: #D2E3FC;\n",
              "    }\n",
              "\n",
              "    [theme=dark] .colab-df-convert:hover {\n",
              "      background-color: #434B5C;\n",
              "      box-shadow: 0px 1px 3px 1px rgba(0, 0, 0, 0.15);\n",
              "      filter: drop-shadow(0px 1px 2px rgba(0, 0, 0, 0.3));\n",
              "      fill: #FFFFFF;\n",
              "    }\n",
              "  </style>\n",
              "\n",
              "      <script>\n",
              "        const buttonEl =\n",
              "          document.querySelector('#df-5cc4eb67-dae8-4009-8e8d-8dd34bf70fb5 button.colab-df-convert');\n",
              "        buttonEl.style.display =\n",
              "          google.colab.kernel.accessAllowed ? 'block' : 'none';\n",
              "\n",
              "        async function convertToInteractive(key) {\n",
              "          const element = document.querySelector('#df-5cc4eb67-dae8-4009-8e8d-8dd34bf70fb5');\n",
              "          const dataTable =\n",
              "            await google.colab.kernel.invokeFunction('convertToInteractive',\n",
              "                                                     [key], {});\n",
              "          if (!dataTable) return;\n",
              "\n",
              "          const docLinkHtml = 'Like what you see? Visit the ' +\n",
              "            '<a target=\"_blank\" href=https://colab.research.google.com/notebooks/data_table.ipynb>data table notebook</a>'\n",
              "            + ' to learn more about interactive tables.';\n",
              "          element.innerHTML = '';\n",
              "          dataTable['output_type'] = 'display_data';\n",
              "          await google.colab.output.renderOutput(dataTable, element);\n",
              "          const docLink = document.createElement('div');\n",
              "          docLink.innerHTML = docLinkHtml;\n",
              "          element.appendChild(docLink);\n",
              "        }\n",
              "      </script>\n",
              "    </div>\n",
              "  </div>\n",
              "  "
            ]
          },
          "metadata": {}
        }
      ],
      "source": [
        "# Visualiza o resultado\n",
        "display(resultado)"
      ]
    },
    {
      "cell_type": "code",
      "execution_count": null,
      "metadata": {
        "id": "oUsal5PCh701"
      },
      "outputs": [],
      "source": [
        "# Vamos calcular o percentual para cada tipo\n",
        "resultado['percentual'] = (resultado['COUNT'] / resultado['COUNT'].sum()) * 100"
      ]
    },
    {
      "cell_type": "code",
      "execution_count": null,
      "metadata": {
        "colab": {
          "base_uri": "https://localhost:8080/",
          "height": 395
        },
        "id": "Ddwh8tPskBLM",
        "outputId": "977a2458-1e3d-4d4e-9cbe-6201384609e5"
      },
      "outputs": [
        {
          "output_type": "display_data",
          "data": {
            "text/plain": [
              "            type    COUNT  percentual\n",
              "0          movie   606395    6.871845\n",
              "1          short   863404    9.784345\n",
              "2      tvEpisode  6616225   74.976987\n",
              "3   tvMiniSeries    42849    0.485577\n",
              "4        tvMovie   135614    1.536817\n",
              "5        tvPilot        2    0.000023\n",
              "6       tvSeries   223071    2.527905\n",
              "7        tvShort    10512    0.119125\n",
              "8      tvSpecial    36476    0.413357\n",
              "9          video   258969    2.934712\n",
              "10     videoGame    30824    0.349307"
            ],
            "text/html": [
              "\n",
              "  <div id=\"df-cd5e703a-e957-4a2f-93bf-906ee710cbb7\">\n",
              "    <div class=\"colab-df-container\">\n",
              "      <div>\n",
              "<style scoped>\n",
              "    .dataframe tbody tr th:only-of-type {\n",
              "        vertical-align: middle;\n",
              "    }\n",
              "\n",
              "    .dataframe tbody tr th {\n",
              "        vertical-align: top;\n",
              "    }\n",
              "\n",
              "    .dataframe thead th {\n",
              "        text-align: right;\n",
              "    }\n",
              "</style>\n",
              "<table border=\"1\" class=\"dataframe\">\n",
              "  <thead>\n",
              "    <tr style=\"text-align: right;\">\n",
              "      <th></th>\n",
              "      <th>type</th>\n",
              "      <th>COUNT</th>\n",
              "      <th>percentual</th>\n",
              "    </tr>\n",
              "  </thead>\n",
              "  <tbody>\n",
              "    <tr>\n",
              "      <th>0</th>\n",
              "      <td>movie</td>\n",
              "      <td>606395</td>\n",
              "      <td>6.871845</td>\n",
              "    </tr>\n",
              "    <tr>\n",
              "      <th>1</th>\n",
              "      <td>short</td>\n",
              "      <td>863404</td>\n",
              "      <td>9.784345</td>\n",
              "    </tr>\n",
              "    <tr>\n",
              "      <th>2</th>\n",
              "      <td>tvEpisode</td>\n",
              "      <td>6616225</td>\n",
              "      <td>74.976987</td>\n",
              "    </tr>\n",
              "    <tr>\n",
              "      <th>3</th>\n",
              "      <td>tvMiniSeries</td>\n",
              "      <td>42849</td>\n",
              "      <td>0.485577</td>\n",
              "    </tr>\n",
              "    <tr>\n",
              "      <th>4</th>\n",
              "      <td>tvMovie</td>\n",
              "      <td>135614</td>\n",
              "      <td>1.536817</td>\n",
              "    </tr>\n",
              "    <tr>\n",
              "      <th>5</th>\n",
              "      <td>tvPilot</td>\n",
              "      <td>2</td>\n",
              "      <td>0.000023</td>\n",
              "    </tr>\n",
              "    <tr>\n",
              "      <th>6</th>\n",
              "      <td>tvSeries</td>\n",
              "      <td>223071</td>\n",
              "      <td>2.527905</td>\n",
              "    </tr>\n",
              "    <tr>\n",
              "      <th>7</th>\n",
              "      <td>tvShort</td>\n",
              "      <td>10512</td>\n",
              "      <td>0.119125</td>\n",
              "    </tr>\n",
              "    <tr>\n",
              "      <th>8</th>\n",
              "      <td>tvSpecial</td>\n",
              "      <td>36476</td>\n",
              "      <td>0.413357</td>\n",
              "    </tr>\n",
              "    <tr>\n",
              "      <th>9</th>\n",
              "      <td>video</td>\n",
              "      <td>258969</td>\n",
              "      <td>2.934712</td>\n",
              "    </tr>\n",
              "    <tr>\n",
              "      <th>10</th>\n",
              "      <td>videoGame</td>\n",
              "      <td>30824</td>\n",
              "      <td>0.349307</td>\n",
              "    </tr>\n",
              "  </tbody>\n",
              "</table>\n",
              "</div>\n",
              "      <button class=\"colab-df-convert\" onclick=\"convertToInteractive('df-cd5e703a-e957-4a2f-93bf-906ee710cbb7')\"\n",
              "              title=\"Convert this dataframe to an interactive table.\"\n",
              "              style=\"display:none;\">\n",
              "        \n",
              "  <svg xmlns=\"http://www.w3.org/2000/svg\" height=\"24px\"viewBox=\"0 0 24 24\"\n",
              "       width=\"24px\">\n",
              "    <path d=\"M0 0h24v24H0V0z\" fill=\"none\"/>\n",
              "    <path d=\"M18.56 5.44l.94 2.06.94-2.06 2.06-.94-2.06-.94-.94-2.06-.94 2.06-2.06.94zm-11 1L8.5 8.5l.94-2.06 2.06-.94-2.06-.94L8.5 2.5l-.94 2.06-2.06.94zm10 10l.94 2.06.94-2.06 2.06-.94-2.06-.94-.94-2.06-.94 2.06-2.06.94z\"/><path d=\"M17.41 7.96l-1.37-1.37c-.4-.4-.92-.59-1.43-.59-.52 0-1.04.2-1.43.59L10.3 9.45l-7.72 7.72c-.78.78-.78 2.05 0 2.83L4 21.41c.39.39.9.59 1.41.59.51 0 1.02-.2 1.41-.59l7.78-7.78 2.81-2.81c.8-.78.8-2.07 0-2.86zM5.41 20L4 18.59l7.72-7.72 1.47 1.35L5.41 20z\"/>\n",
              "  </svg>\n",
              "      </button>\n",
              "      \n",
              "  <style>\n",
              "    .colab-df-container {\n",
              "      display:flex;\n",
              "      flex-wrap:wrap;\n",
              "      gap: 12px;\n",
              "    }\n",
              "\n",
              "    .colab-df-convert {\n",
              "      background-color: #E8F0FE;\n",
              "      border: none;\n",
              "      border-radius: 50%;\n",
              "      cursor: pointer;\n",
              "      display: none;\n",
              "      fill: #1967D2;\n",
              "      height: 32px;\n",
              "      padding: 0 0 0 0;\n",
              "      width: 32px;\n",
              "    }\n",
              "\n",
              "    .colab-df-convert:hover {\n",
              "      background-color: #E2EBFA;\n",
              "      box-shadow: 0px 1px 2px rgba(60, 64, 67, 0.3), 0px 1px 3px 1px rgba(60, 64, 67, 0.15);\n",
              "      fill: #174EA6;\n",
              "    }\n",
              "\n",
              "    [theme=dark] .colab-df-convert {\n",
              "      background-color: #3B4455;\n",
              "      fill: #D2E3FC;\n",
              "    }\n",
              "\n",
              "    [theme=dark] .colab-df-convert:hover {\n",
              "      background-color: #434B5C;\n",
              "      box-shadow: 0px 1px 3px 1px rgba(0, 0, 0, 0.15);\n",
              "      filter: drop-shadow(0px 1px 2px rgba(0, 0, 0, 0.3));\n",
              "      fill: #FFFFFF;\n",
              "    }\n",
              "  </style>\n",
              "\n",
              "      <script>\n",
              "        const buttonEl =\n",
              "          document.querySelector('#df-cd5e703a-e957-4a2f-93bf-906ee710cbb7 button.colab-df-convert');\n",
              "        buttonEl.style.display =\n",
              "          google.colab.kernel.accessAllowed ? 'block' : 'none';\n",
              "\n",
              "        async function convertToInteractive(key) {\n",
              "          const element = document.querySelector('#df-cd5e703a-e957-4a2f-93bf-906ee710cbb7');\n",
              "          const dataTable =\n",
              "            await google.colab.kernel.invokeFunction('convertToInteractive',\n",
              "                                                     [key], {});\n",
              "          if (!dataTable) return;\n",
              "\n",
              "          const docLinkHtml = 'Like what you see? Visit the ' +\n",
              "            '<a target=\"_blank\" href=https://colab.research.google.com/notebooks/data_table.ipynb>data table notebook</a>'\n",
              "            + ' to learn more about interactive tables.';\n",
              "          element.innerHTML = '';\n",
              "          dataTable['output_type'] = 'display_data';\n",
              "          await google.colab.output.renderOutput(dataTable, element);\n",
              "          const docLink = document.createElement('div');\n",
              "          docLink.innerHTML = docLinkHtml;\n",
              "          element.appendChild(docLink);\n",
              "        }\n",
              "      </script>\n",
              "    </div>\n",
              "  </div>\n",
              "  "
            ]
          },
          "metadata": {}
        }
      ],
      "source": [
        "# Visualiza o resultado\n",
        "display(resultado)"
      ]
    },
    {
      "cell_type": "code",
      "execution_count": null,
      "metadata": {
        "id": "oWJrmfjHyBpW"
      },
      "outputs": [],
      "source": [
        "# Vamos criar um gráfico com apenas 4 categorias:\n",
        "# As 4 categorias com mais títulos e 1 categoria com todo o restante\n",
        "\n",
        "# Cria um dicionário vazio\n",
        "others = {}\n",
        "\n",
        "# Filtra o percentual em 3% e soma o total\n",
        "others['COUNT'] = resultado[resultado['percentual'] < 3]['COUNT'].sum()\n",
        "\n",
        "# Grava o percentual\n",
        "others['percentual'] = resultado[resultado['percentual'] < 3]['percentual'].sum()\n",
        "\n",
        "# Ajusta o nome\n",
        "others['type'] = 'others'"
      ]
    },
    {
      "cell_type": "code",
      "execution_count": null,
      "metadata": {
        "colab": {
          "base_uri": "https://localhost:8080/"
        },
        "id": "TzsgGZ7NkBLP",
        "outputId": "c385a5cd-5838-40c2-9ab5-aeea76aaa30e"
      },
      "outputs": [
        {
          "output_type": "execute_result",
          "data": {
            "text/plain": [
              "{'COUNT': 738317, 'percentual': 8.36682308627919, 'type': 'others'}"
            ]
          },
          "metadata": {},
          "execution_count": 18
        }
      ],
      "source": [
        "# Visualiza\n",
        "others"
      ]
    },
    {
      "cell_type": "code",
      "execution_count": null,
      "metadata": {
        "id": "H7WDZkbeyHz7"
      },
      "outputs": [],
      "source": [
        "# Filtra o dataframe de resultado\n",
        "resultado1 = resultado[resultado['percentual'] > 3]"
      ]
    },
    {
      "cell_type": "code",
      "execution_count": null,
      "metadata": {
        "id": "cC5LlIFSkBLQ"
      },
      "outputs": [],
      "source": [
        "# Append com o dataframe de outras categorias\n",
        "resultado1 = resultado1.append(others, ignore_index = True)"
      ]
    },
    {
      "cell_type": "code",
      "execution_count": null,
      "metadata": {
        "id": "K5mJGmqMyMaf"
      },
      "outputs": [],
      "source": [
        "# Ordena o resultado\n",
        "resultado1 = resultado1.sort_values(by = 'COUNT', ascending = False)"
      ]
    },
    {
      "cell_type": "code",
      "execution_count": null,
      "metadata": {
        "colab": {
          "base_uri": "https://localhost:8080/",
          "height": 175
        },
        "id": "SUa4paxbkBLR",
        "outputId": "3febf805-8e1d-41bc-f6e4-cd585327272c"
      },
      "outputs": [
        {
          "output_type": "execute_result",
          "data": {
            "text/plain": [
              "        type    COUNT  percentual\n",
              "2  tvEpisode  6616225   74.976987\n",
              "1      short   863404    9.784345\n",
              "3     others   738317    8.366823\n",
              "0      movie   606395    6.871845"
            ],
            "text/html": [
              "\n",
              "  <div id=\"df-87b685a3-4dac-46ea-89de-4e638fb6c1df\">\n",
              "    <div class=\"colab-df-container\">\n",
              "      <div>\n",
              "<style scoped>\n",
              "    .dataframe tbody tr th:only-of-type {\n",
              "        vertical-align: middle;\n",
              "    }\n",
              "\n",
              "    .dataframe tbody tr th {\n",
              "        vertical-align: top;\n",
              "    }\n",
              "\n",
              "    .dataframe thead th {\n",
              "        text-align: right;\n",
              "    }\n",
              "</style>\n",
              "<table border=\"1\" class=\"dataframe\">\n",
              "  <thead>\n",
              "    <tr style=\"text-align: right;\">\n",
              "      <th></th>\n",
              "      <th>type</th>\n",
              "      <th>COUNT</th>\n",
              "      <th>percentual</th>\n",
              "    </tr>\n",
              "  </thead>\n",
              "  <tbody>\n",
              "    <tr>\n",
              "      <th>2</th>\n",
              "      <td>tvEpisode</td>\n",
              "      <td>6616225</td>\n",
              "      <td>74.976987</td>\n",
              "    </tr>\n",
              "    <tr>\n",
              "      <th>1</th>\n",
              "      <td>short</td>\n",
              "      <td>863404</td>\n",
              "      <td>9.784345</td>\n",
              "    </tr>\n",
              "    <tr>\n",
              "      <th>3</th>\n",
              "      <td>others</td>\n",
              "      <td>738317</td>\n",
              "      <td>8.366823</td>\n",
              "    </tr>\n",
              "    <tr>\n",
              "      <th>0</th>\n",
              "      <td>movie</td>\n",
              "      <td>606395</td>\n",
              "      <td>6.871845</td>\n",
              "    </tr>\n",
              "  </tbody>\n",
              "</table>\n",
              "</div>\n",
              "      <button class=\"colab-df-convert\" onclick=\"convertToInteractive('df-87b685a3-4dac-46ea-89de-4e638fb6c1df')\"\n",
              "              title=\"Convert this dataframe to an interactive table.\"\n",
              "              style=\"display:none;\">\n",
              "        \n",
              "  <svg xmlns=\"http://www.w3.org/2000/svg\" height=\"24px\"viewBox=\"0 0 24 24\"\n",
              "       width=\"24px\">\n",
              "    <path d=\"M0 0h24v24H0V0z\" fill=\"none\"/>\n",
              "    <path d=\"M18.56 5.44l.94 2.06.94-2.06 2.06-.94-2.06-.94-.94-2.06-.94 2.06-2.06.94zm-11 1L8.5 8.5l.94-2.06 2.06-.94-2.06-.94L8.5 2.5l-.94 2.06-2.06.94zm10 10l.94 2.06.94-2.06 2.06-.94-2.06-.94-.94-2.06-.94 2.06-2.06.94z\"/><path d=\"M17.41 7.96l-1.37-1.37c-.4-.4-.92-.59-1.43-.59-.52 0-1.04.2-1.43.59L10.3 9.45l-7.72 7.72c-.78.78-.78 2.05 0 2.83L4 21.41c.39.39.9.59 1.41.59.51 0 1.02-.2 1.41-.59l7.78-7.78 2.81-2.81c.8-.78.8-2.07 0-2.86zM5.41 20L4 18.59l7.72-7.72 1.47 1.35L5.41 20z\"/>\n",
              "  </svg>\n",
              "      </button>\n",
              "      \n",
              "  <style>\n",
              "    .colab-df-container {\n",
              "      display:flex;\n",
              "      flex-wrap:wrap;\n",
              "      gap: 12px;\n",
              "    }\n",
              "\n",
              "    .colab-df-convert {\n",
              "      background-color: #E8F0FE;\n",
              "      border: none;\n",
              "      border-radius: 50%;\n",
              "      cursor: pointer;\n",
              "      display: none;\n",
              "      fill: #1967D2;\n",
              "      height: 32px;\n",
              "      padding: 0 0 0 0;\n",
              "      width: 32px;\n",
              "    }\n",
              "\n",
              "    .colab-df-convert:hover {\n",
              "      background-color: #E2EBFA;\n",
              "      box-shadow: 0px 1px 2px rgba(60, 64, 67, 0.3), 0px 1px 3px 1px rgba(60, 64, 67, 0.15);\n",
              "      fill: #174EA6;\n",
              "    }\n",
              "\n",
              "    [theme=dark] .colab-df-convert {\n",
              "      background-color: #3B4455;\n",
              "      fill: #D2E3FC;\n",
              "    }\n",
              "\n",
              "    [theme=dark] .colab-df-convert:hover {\n",
              "      background-color: #434B5C;\n",
              "      box-shadow: 0px 1px 3px 1px rgba(0, 0, 0, 0.15);\n",
              "      filter: drop-shadow(0px 1px 2px rgba(0, 0, 0, 0.3));\n",
              "      fill: #FFFFFF;\n",
              "    }\n",
              "  </style>\n",
              "\n",
              "      <script>\n",
              "        const buttonEl =\n",
              "          document.querySelector('#df-87b685a3-4dac-46ea-89de-4e638fb6c1df button.colab-df-convert');\n",
              "        buttonEl.style.display =\n",
              "          google.colab.kernel.accessAllowed ? 'block' : 'none';\n",
              "\n",
              "        async function convertToInteractive(key) {\n",
              "          const element = document.querySelector('#df-87b685a3-4dac-46ea-89de-4e638fb6c1df');\n",
              "          const dataTable =\n",
              "            await google.colab.kernel.invokeFunction('convertToInteractive',\n",
              "                                                     [key], {});\n",
              "          if (!dataTable) return;\n",
              "\n",
              "          const docLinkHtml = 'Like what you see? Visit the ' +\n",
              "            '<a target=\"_blank\" href=https://colab.research.google.com/notebooks/data_table.ipynb>data table notebook</a>'\n",
              "            + ' to learn more about interactive tables.';\n",
              "          element.innerHTML = '';\n",
              "          dataTable['output_type'] = 'display_data';\n",
              "          await google.colab.output.renderOutput(dataTable, element);\n",
              "          const docLink = document.createElement('div');\n",
              "          docLink.innerHTML = docLinkHtml;\n",
              "          element.appendChild(docLink);\n",
              "        }\n",
              "      </script>\n",
              "    </div>\n",
              "  </div>\n",
              "  "
            ]
          },
          "metadata": {},
          "execution_count": 22
        }
      ],
      "source": [
        "# Visualiza\n",
        "resultado1.head()"
      ]
    },
    {
      "cell_type": "code",
      "execution_count": null,
      "metadata": {
        "id": "haqP0vdokBLS"
      },
      "outputs": [],
      "source": [
        "# Ajusta os labels\n",
        "labels = [str(resultado1['type'][i])+' '+'['+str(round(resultado1['percentual'][i],2)) +'%'+']' for i in resultado1.index]"
      ]
    },
    {
      "cell_type": "code",
      "execution_count": null,
      "metadata": {
        "colab": {
          "base_uri": "https://localhost:8080/",
          "height": 557
        },
        "id": "2_ugTEy_HmoQ",
        "outputId": "3ce7f8e8-6d00-4102-a9c9-321c1400d42c"
      },
      "outputs": [
        {
          "output_type": "display_data",
          "data": {
            "text/plain": [
              "<Figure size 432x288 with 1 Axes>"
            ],
            "image/png": "[encoded data removed]"
          },
          "metadata": {}
        }
      ],
      "source": [
        "# Plot\n",
        "\n",
        "# Mapa de cores\n",
        "# https://matplotlib.org/stable/tutorials/colors/colormaps.html\n",
        "cs = cm.Set3(np.arange(100))\n",
        "\n",
        "# Cria a figura\n",
        "f = plt.figure()\n",
        "\n",
        "# Pie Plot\n",
        "plt.pie(resultado1['COUNT'], labeldistance = 1, radius = 3, colors = cs, wedgeprops = dict(width = 0.8))\n",
        "plt.legend(labels = labels, loc = 'center', prop = {'size':12})\n",
        "plt.title(\"Distribuição de Títulos\", loc = 'Center', fontdict = {'fontsize':20,'fontweight':20})\n",
        "plt.show()"
      ]
    },
    {
      "cell_type": "markdown",
      "metadata": {
        "id": "CWF1erMywd2w"
      },
      "source": [
        "## 2- Qual o Número de Títulos Por Gênero?\n",
        "\n",
        "Vamos calcular o número de filmes por gênero e entregar o resultado em valor percentual."
      ]
    },
    {
      "cell_type": "code",
      "execution_count": null,
      "metadata": {
        "id": "1oY3-f_ulQmh"
      },
      "outputs": [],
      "source": [
        "# Cria a consulta SQL\n",
        "consulta2 = '''SELECT genres, COUNT(*) FROM titles WHERE type = 'movie' GROUP BY genres''' "
      ]
    },
    {
      "cell_type": "code",
      "execution_count": null,
      "metadata": {
        "id": "xvaOXNmOkBLV"
      },
      "outputs": [],
      "source": [
        "# Resultado\n",
        "resultado2 = pd.read_sql_query(consulta2, conn)"
      ]
    },
    {
      "cell_type": "code",
      "execution_count": null,
      "metadata": {
        "id": "2bNWJitrkBLW",
        "outputId": "c1da57b5-383c-4191-f800-7f9a291c8fbc",
        "colab": {
          "base_uri": "https://localhost:8080/",
          "height": 423
        }
      },
      "outputs": [
        {
          "output_type": "display_data",
          "data": {
            "text/plain": [
              "                      genres  COUNT(*)\n",
              "0                     Action     13949\n",
              "1               Action,Adult        11\n",
              "2     Action,Adult,Adventure         1\n",
              "3        Action,Adult,Comedy         5\n",
              "4         Action,Adult,Crime        10\n",
              "...                      ...       ...\n",
              "1451        Thriller,Western        44\n",
              "1452                     War      1290\n",
              "1453             War,Western        14\n",
              "1454                 Western      5158\n",
              "1455                      \\N     71491\n",
              "\n",
              "[1456 rows x 2 columns]"
            ],
            "text/html": [
              "\n",
              "  <div id=\"df-d4fe7cde-ad3c-415b-8b29-48e0b90c6c0a\">\n",
              "    <div class=\"colab-df-container\">\n",
              "      <div>\n",
              "<style scoped>\n",
              "    .dataframe tbody tr th:only-of-type {\n",
              "        vertical-align: middle;\n",
              "    }\n",
              "\n",
              "    .dataframe tbody tr th {\n",
              "        vertical-align: top;\n",
              "    }\n",
              "\n",
              "    .dataframe thead th {\n",
              "        text-align: right;\n",
              "    }\n",
              "</style>\n",
              "<table border=\"1\" class=\"dataframe\">\n",
              "  <thead>\n",
              "    <tr style=\"text-align: right;\">\n",
              "      <th></th>\n",
              "      <th>genres</th>\n",
              "      <th>COUNT(*)</th>\n",
              "    </tr>\n",
              "  </thead>\n",
              "  <tbody>\n",
              "    <tr>\n",
              "      <th>0</th>\n",
              "      <td>Action</td>\n",
              "      <td>13949</td>\n",
              "    </tr>\n",
              "    <tr>\n",
              "      <th>1</th>\n",
              "      <td>Action,Adult</td>\n",
              "      <td>11</td>\n",
              "    </tr>\n",
              "    <tr>\n",
              "      <th>2</th>\n",
              "      <td>Action,Adult,Adventure</td>\n",
              "      <td>1</td>\n",
              "    </tr>\n",
              "    <tr>\n",
              "      <th>3</th>\n",
              "      <td>Action,Adult,Comedy</td>\n",
              "      <td>5</td>\n",
              "    </tr>\n",
              "    <tr>\n",
              "      <th>4</th>\n",
              "      <td>Action,Adult,Crime</td>\n",
              "      <td>10</td>\n",
              "    </tr>\n",
              "    <tr>\n",
              "      <th>...</th>\n",
              "      <td>...</td>\n",
              "      <td>...</td>\n",
              "    </tr>\n",
              "    <tr>\n",
              "      <th>1451</th>\n",
              "      <td>Thriller,Western</td>\n",
              "      <td>44</td>\n",
              "    </tr>\n",
              "    <tr>\n",
              "      <th>1452</th>\n",
              "      <td>War</td>\n",
              "      <td>1290</td>\n",
              "    </tr>\n",
              "    <tr>\n",
              "      <th>1453</th>\n",
              "      <td>War,Western</td>\n",
              "      <td>14</td>\n",
              "    </tr>\n",
              "    <tr>\n",
              "      <th>1454</th>\n",
              "      <td>Western</td>\n",
              "      <td>5158</td>\n",
              "    </tr>\n",
              "    <tr>\n",
              "      <th>1455</th>\n",
              "      <td>\\N</td>\n",
              "      <td>71491</td>\n",
              "    </tr>\n",
              "  </tbody>\n",
              "</table>\n",
              "<p>1456 rows × 2 columns</p>\n",
              "</div>\n",
              "      <button class=\"colab-df-convert\" onclick=\"convertToInteractive('df-d4fe7cde-ad3c-415b-8b29-48e0b90c6c0a')\"\n",
              "              title=\"Convert this dataframe to an interactive table.\"\n",
              "              style=\"display:none;\">\n",
              "        \n",
              "  <svg xmlns=\"http://www.w3.org/2000/svg\" height=\"24px\"viewBox=\"0 0 24 24\"\n",
              "       width=\"24px\">\n",
              "    <path d=\"M0 0h24v24H0V0z\" fill=\"none\"/>\n",
              "    <path d=\"M18.56 5.44l.94 2.06.94-2.06 2.06-.94-2.06-.94-.94-2.06-.94 2.06-2.06.94zm-11 1L8.5 8.5l.94-2.06 2.06-.94-2.06-.94L8.5 2.5l-.94 2.06-2.06.94zm10 10l.94 2.06.94-2.06 2.06-.94-2.06-.94-.94-2.06-.94 2.06-2.06.94z\"/><path d=\"M17.41 7.96l-1.37-1.37c-.4-.4-.92-.59-1.43-.59-.52 0-1.04.2-1.43.59L10.3 9.45l-7.72 7.72c-.78.78-.78 2.05 0 2.83L4 21.41c.39.39.9.59 1.41.59.51 0 1.02-.2 1.41-.59l7.78-7.78 2.81-2.81c.8-.78.8-2.07 0-2.86zM5.41 20L4 18.59l7.72-7.72 1.47 1.35L5.41 20z\"/>\n",
              "  </svg>\n",
              "      </button>\n",
              "      \n",
              "  <style>\n",
              "    .colab-df-container {\n",
              "      display:flex;\n",
              "      flex-wrap:wrap;\n",
              "      gap: 12px;\n",
              "    }\n",
              "\n",
              "    .colab-df-convert {\n",
              "      background-color: #E8F0FE;\n",
              "      border: none;\n",
              "      border-radius: 50%;\n",
              "      cursor: pointer;\n",
              "      display: none;\n",
              "      fill: #1967D2;\n",
              "      height: 32px;\n",
              "      padding: 0 0 0 0;\n",
              "      width: 32px;\n",
              "    }\n",
              "\n",
              "    .colab-df-convert:hover {\n",
              "      background-color: #E2EBFA;\n",
              "      box-shadow: 0px 1px 2px rgba(60, 64, 67, 0.3), 0px 1px 3px 1px rgba(60, 64, 67, 0.15);\n",
              "      fill: #174EA6;\n",
              "    }\n",
              "\n",
              "    [theme=dark] .colab-df-convert {\n",
              "      background-color: #3B4455;\n",
              "      fill: #D2E3FC;\n",
              "    }\n",
              "\n",
              "    [theme=dark] .colab-df-convert:hover {\n",
              "      background-color: #434B5C;\n",
              "      box-shadow: 0px 1px 3px 1px rgba(0, 0, 0, 0.15);\n",
              "      filter: drop-shadow(0px 1px 2px rgba(0, 0, 0, 0.3));\n",
              "      fill: #FFFFFF;\n",
              "    }\n",
              "  </style>\n",
              "\n",
              "      <script>\n",
              "        const buttonEl =\n",
              "          document.querySelector('#df-d4fe7cde-ad3c-415b-8b29-48e0b90c6c0a button.colab-df-convert');\n",
              "        buttonEl.style.display =\n",
              "          google.colab.kernel.accessAllowed ? 'block' : 'none';\n",
              "\n",
              "        async function convertToInteractive(key) {\n",
              "          const element = document.querySelector('#df-d4fe7cde-ad3c-415b-8b29-48e0b90c6c0a');\n",
              "          const dataTable =\n",
              "            await google.colab.kernel.invokeFunction('convertToInteractive',\n",
              "                                                     [key], {});\n",
              "          if (!dataTable) return;\n",
              "\n",
              "          const docLinkHtml = 'Like what you see? Visit the ' +\n",
              "            '<a target=\"_blank\" href=https://colab.research.google.com/notebooks/data_table.ipynb>data table notebook</a>'\n",
              "            + ' to learn more about interactive tables.';\n",
              "          element.innerHTML = '';\n",
              "          dataTable['output_type'] = 'display_data';\n",
              "          await google.colab.output.renderOutput(dataTable, element);\n",
              "          const docLink = document.createElement('div');\n",
              "          docLink.innerHTML = docLinkHtml;\n",
              "          element.appendChild(docLink);\n",
              "        }\n",
              "      </script>\n",
              "    </div>\n",
              "  </div>\n",
              "  "
            ]
          },
          "metadata": {}
        }
      ],
      "source": [
        "# Visualiza o resultado\n",
        "display(resultado2)"
      ]
    },
    {
      "cell_type": "code",
      "execution_count": null,
      "metadata": {
        "id": "N_4ONbrYwEgW"
      },
      "outputs": [],
      "source": [
        "# Converte as strings para minúsculo\n",
        "resultado2['genres'] = resultado2['genres'].str.lower().values"
      ]
    },
    {
      "cell_type": "code",
      "execution_count": null,
      "metadata": {
        "id": "vQK_FW_hkBLX"
      },
      "outputs": [],
      "source": [
        "# Remove valores NA (ausentes)\n",
        "temp = resultado2['genres'].dropna()"
      ]
    },
    {
      "cell_type": "markdown",
      "metadata": {
        "id": "2s8rnvuGkBLY"
      },
      "source": [
        "Usamos o Countvectorizer para converter a coluna de gêneros em um vetor one-hot encoded para contar o número de filmes em cada gênero.\n",
        "\n",
        "![title](imagens/one-hot.png)"
      ]
    },
    {
      "cell_type": "code",
      "execution_count": null,
      "metadata": {
        "id": "UPoGkcxfkBLY"
      },
      "outputs": [],
      "source": [
        "# Vamos criar um vetor usando expressão regular para filtrar as strings\n",
        "\n",
        "# https://docs.python.org/3.8/library/re.html\n",
        "padrao = '(?u)\\\\b[\\\\w-]+\\\\b'\n",
        "\n",
        "# https://scikit-learn.org/stable/modules/generated/sklearn.feature_extraction.text.CountVectorizer.html\n",
        "vetor = CountVectorizer(token_pattern = padrao, analyzer = 'word').fit(temp)"
      ]
    },
    {
      "cell_type": "code",
      "execution_count": null,
      "metadata": {
        "id": "oDoVenQdkBLZ",
        "outputId": "ebdb2d99-b792-4cef-fe36-98d23eb09e85",
        "colab": {
          "base_uri": "https://localhost:8080/"
        }
      },
      "outputs": [
        {
          "output_type": "execute_result",
          "data": {
            "text/plain": [
              "sklearn.feature_extraction.text.CountVectorizer"
            ]
          },
          "metadata": {},
          "execution_count": 31
        }
      ],
      "source": [
        "type(vetor)"
      ]
    },
    {
      "cell_type": "code",
      "execution_count": null,
      "metadata": {
        "id": "frCm0CvAkBLZ"
      },
      "outputs": [],
      "source": [
        "# Aplica a vetorização ao dataset sem valores NA\n",
        "bag_generos = vetor.transform(temp)"
      ]
    },
    {
      "cell_type": "code",
      "execution_count": null,
      "metadata": {
        "id": "P0Evk2KbkBLa",
        "outputId": "c81575b7-45bd-4d13-cbc9-7263ebd6076f",
        "colab": {
          "base_uri": "https://localhost:8080/"
        }
      },
      "outputs": [
        {
          "output_type": "execute_result",
          "data": {
            "text/plain": [
              "scipy.sparse.csr.csr_matrix"
            ]
          },
          "metadata": {},
          "execution_count": 33
        }
      ],
      "source": [
        "type(bag_generos)"
      ]
    },
    {
      "cell_type": "code",
      "execution_count": null,
      "metadata": {
        "id": "UTKaSuyTkBLb"
      },
      "outputs": [],
      "source": [
        "# Retorna gêneros únicos\n",
        "generos_unicos =  vetor.get_feature_names()"
      ]
    },
    {
      "cell_type": "code",
      "execution_count": null,
      "metadata": {
        "id": "C_HTLQkbl4r8"
      },
      "outputs": [],
      "source": [
        "# Cria o dataframe de gêneros\n",
        "generos = pd.DataFrame(bag_generos.todense(), columns = generos_unicos, index = temp.index)"
      ]
    },
    {
      "cell_type": "code",
      "execution_count": null,
      "metadata": {
        "id": "eGZTm4AOkBLc",
        "outputId": "3c8993a8-3336-42f8-9561-264685dbd855",
        "colab": {
          "base_uri": "https://localhost:8080/"
        }
      },
      "outputs": [
        {
          "output_type": "stream",
          "name": "stdout",
          "text": [
            "<class 'pandas.core.frame.DataFrame'>\n",
            "Int64Index: 1456 entries, 0 to 1455\n",
            "Data columns (total 29 columns):\n",
            " #   Column       Non-Null Count  Dtype\n",
            "---  ------       --------------  -----\n",
            " 0   action       1456 non-null   int64\n",
            " 1   adult        1456 non-null   int64\n",
            " 2   adventure    1456 non-null   int64\n",
            " 3   animation    1456 non-null   int64\n",
            " 4   biography    1456 non-null   int64\n",
            " 5   comedy       1456 non-null   int64\n",
            " 6   crime        1456 non-null   int64\n",
            " 7   documentary  1456 non-null   int64\n",
            " 8   drama        1456 non-null   int64\n",
            " 9   family       1456 non-null   int64\n",
            " 10  fantasy      1456 non-null   int64\n",
            " 11  film-noir    1456 non-null   int64\n",
            " 12  game-show    1456 non-null   int64\n",
            " 13  history      1456 non-null   int64\n",
            " 14  horror       1456 non-null   int64\n",
            " 15  music        1456 non-null   int64\n",
            " 16  musical      1456 non-null   int64\n",
            " 17  mystery      1456 non-null   int64\n",
            " 18  n            1456 non-null   int64\n",
            " 19  news         1456 non-null   int64\n",
            " 20  reality-tv   1456 non-null   int64\n",
            " 21  romance      1456 non-null   int64\n",
            " 22  sci-fi       1456 non-null   int64\n",
            " 23  short        1456 non-null   int64\n",
            " 24  sport        1456 non-null   int64\n",
            " 25  talk-show    1456 non-null   int64\n",
            " 26  thriller     1456 non-null   int64\n",
            " 27  war          1456 non-null   int64\n",
            " 28  western      1456 non-null   int64\n",
            "dtypes: int64(29)\n",
            "memory usage: 341.2 KB\n"
          ]
        }
      ],
      "source": [
        "# Visualiza\n",
        "generos.info()"
      ]
    },
    {
      "cell_type": "code",
      "execution_count": null,
      "metadata": {
        "id": "vrqhDM98kBLd"
      },
      "outputs": [],
      "source": [
        "# Drop da coluna n\n",
        "generos = generos.drop(columns = 'n', axis = 0)"
      ]
    },
    {
      "cell_type": "code",
      "execution_count": null,
      "metadata": {
        "id": "TOEA5eMVkBLd"
      },
      "outputs": [],
      "source": [
        "# Calcula o percentual\n",
        "generos_percentual = 100 * pd.Series(generos.sum()).sort_values(ascending = False) / generos.shape[0]"
      ]
    },
    {
      "cell_type": "code",
      "execution_count": null,
      "metadata": {
        "id": "tRXSe30akBLe",
        "outputId": "0f2ab298-acba-47ab-822d-18222a4b2a68",
        "colab": {
          "base_uri": "https://localhost:8080/"
        }
      },
      "outputs": [
        {
          "output_type": "execute_result",
          "data": {
            "text/plain": [
              "drama          18.131868\n",
              "comedy         16.826923\n",
              "documentary    15.796703\n",
              "adventure      14.766484\n",
              "action         14.423077\n",
              "romance        13.324176\n",
              "crime          13.186813\n",
              "mystery        12.568681\n",
              "thriller       12.293956\n",
              "fantasy        12.156593\n",
              "horror         12.019231\n",
              "history        11.813187\n",
              "dtype: float64"
            ]
          },
          "metadata": {},
          "execution_count": 39
        }
      ],
      "source": [
        "# Visualiza\n",
        "generos_percentual.head(12)"
      ]
    },
    {
      "cell_type": "code",
      "execution_count": null,
      "metadata": {
        "id": "sBVUjx7UkBLf",
        "outputId": "18d4532d-12fe-4361-daea-f3d93f1e652c",
        "colab": {
          "base_uri": "https://localhost:8080/",
          "height": 562
        }
      },
      "outputs": [
        {
          "output_type": "display_data",
          "data": {
            "text/plain": [
              "<Figure size 1152x576 with 1 Axes>"
            ],
            "image/png": "[encoded data removed]"
          },
          "metadata": {}
        }
      ],
      "source": [
        "# Plot\n",
        "plt.figure(figsize = (16,8))\n",
        "sns.barplot(x = generos_percentual.values, y = generos_percentual.index, orient = \"h\", palette = \"terrain\")\n",
        "plt.ylabel('Gênero')             \n",
        "plt.xlabel(\"\\nPercentual de Filmes (%)\")\n",
        "plt.title('\\nNúmero (Percentual) de Títulos Por Gênero\\n')\n",
        "plt.show()"
      ]
    },
    {
      "cell_type": "markdown",
      "metadata": {
        "id": "jRKl5x8YxoXO"
      },
      "source": [
        "## 3- Qual a Mediana de Avaliação dos Filmes Por Gênero?\n",
        "\n",
        "Mediana de avaliação dos filmes."
      ]
    },
    {
      "cell_type": "code",
      "execution_count": null,
      "metadata": {
        "id": "H6UC4vtt0QQG"
      },
      "outputs": [],
      "source": [
        "# Consulta SQL\n",
        "consulta3 = '''\n",
        "            SELECT rating, genres FROM \n",
        "            ratings JOIN titles ON ratings.title_id = titles.title_id \n",
        "            WHERE premiered <= 2022 AND type = 'movie'\n",
        "            ''' "
      ]
    },
    {
      "cell_type": "code",
      "execution_count": null,
      "metadata": {
        "id": "q26Yj7grkBLh"
      },
      "outputs": [],
      "source": [
        "# Resultado\n",
        "resultado3 = pd.read_sql_query(consulta3, conn)"
      ]
    },
    {
      "cell_type": "code",
      "execution_count": null,
      "metadata": {
        "id": "udbTGcxXkBLh",
        "outputId": "233f9c73-2757-4a24-e642-453fce7a423e",
        "colab": {
          "base_uri": "https://localhost:8080/",
          "height": 423
        }
      },
      "outputs": [
        {
          "output_type": "display_data",
          "data": {
            "text/plain": [
              "        rating                      genres\n",
              "0          4.5                          \\N\n",
              "1          6.0  Action,Adventure,Biography\n",
              "2          4.6                       Drama\n",
              "3          4.5                       Drama\n",
              "4          3.8                       Drama\n",
              "...        ...                         ...\n",
              "276816     5.8                    Thriller\n",
              "276817     6.4               Drama,History\n",
              "276818     3.6       Adventure,History,War\n",
              "276819     8.3                       Drama\n",
              "276820     8.7                          \\N\n",
              "\n",
              "[276821 rows x 2 columns]"
            ],
            "text/html": [
              "\n",
              "  <div id=\"df-f702e3cc-efaa-46f5-870d-f21e2d5e00cb\">\n",
              "    <div class=\"colab-df-container\">\n",
              "      <div>\n",
              "<style scoped>\n",
              "    .dataframe tbody tr th:only-of-type {\n",
              "        vertical-align: middle;\n",
              "    }\n",
              "\n",
              "    .dataframe tbody tr th {\n",
              "        vertical-align: top;\n",
              "    }\n",
              "\n",
              "    .dataframe thead th {\n",
              "        text-align: right;\n",
              "    }\n",
              "</style>\n",
              "<table border=\"1\" class=\"dataframe\">\n",
              "  <thead>\n",
              "    <tr style=\"text-align: right;\">\n",
              "      <th></th>\n",
              "      <th>rating</th>\n",
              "      <th>genres</th>\n",
              "    </tr>\n",
              "  </thead>\n",
              "  <tbody>\n",
              "    <tr>\n",
              "      <th>0</th>\n",
              "      <td>4.5</td>\n",
              "      <td>\\N</td>\n",
              "    </tr>\n",
              "    <tr>\n",
              "      <th>1</th>\n",
              "      <td>6.0</td>\n",
              "      <td>Action,Adventure,Biography</td>\n",
              "    </tr>\n",
              "    <tr>\n",
              "      <th>2</th>\n",
              "      <td>4.6</td>\n",
              "      <td>Drama</td>\n",
              "    </tr>\n",
              "    <tr>\n",
              "      <th>3</th>\n",
              "      <td>4.5</td>\n",
              "      <td>Drama</td>\n",
              "    </tr>\n",
              "    <tr>\n",
              "      <th>4</th>\n",
              "      <td>3.8</td>\n",
              "      <td>Drama</td>\n",
              "    </tr>\n",
              "    <tr>\n",
              "      <th>...</th>\n",
              "      <td>...</td>\n",
              "      <td>...</td>\n",
              "    </tr>\n",
              "    <tr>\n",
              "      <th>276816</th>\n",
              "      <td>5.8</td>\n",
              "      <td>Thriller</td>\n",
              "    </tr>\n",
              "    <tr>\n",
              "      <th>276817</th>\n",
              "      <td>6.4</td>\n",
              "      <td>Drama,History</td>\n",
              "    </tr>\n",
              "    <tr>\n",
              "      <th>276818</th>\n",
              "      <td>3.6</td>\n",
              "      <td>Adventure,History,War</td>\n",
              "    </tr>\n",
              "    <tr>\n",
              "      <th>276819</th>\n",
              "      <td>8.3</td>\n",
              "      <td>Drama</td>\n",
              "    </tr>\n",
              "    <tr>\n",
              "      <th>276820</th>\n",
              "      <td>8.7</td>\n",
              "      <td>\\N</td>\n",
              "    </tr>\n",
              "  </tbody>\n",
              "</table>\n",
              "<p>276821 rows × 2 columns</p>\n",
              "</div>\n",
              "      <button class=\"colab-df-convert\" onclick=\"convertToInteractive('df-f702e3cc-efaa-46f5-870d-f21e2d5e00cb')\"\n",
              "              title=\"Convert this dataframe to an interactive table.\"\n",
              "              style=\"display:none;\">\n",
              "        \n",
              "  <svg xmlns=\"http://www.w3.org/2000/svg\" height=\"24px\"viewBox=\"0 0 24 24\"\n",
              "       width=\"24px\">\n",
              "    <path d=\"M0 0h24v24H0V0z\" fill=\"none\"/>\n",
              "    <path d=\"M18.56 5.44l.94 2.06.94-2.06 2.06-.94-2.06-.94-.94-2.06-.94 2.06-2.06.94zm-11 1L8.5 8.5l.94-2.06 2.06-.94-2.06-.94L8.5 2.5l-.94 2.06-2.06.94zm10 10l.94 2.06.94-2.06 2.06-.94-2.06-.94-.94-2.06-.94 2.06-2.06.94z\"/><path d=\"M17.41 7.96l-1.37-1.37c-.4-.4-.92-.59-1.43-.59-.52 0-1.04.2-1.43.59L10.3 9.45l-7.72 7.72c-.78.78-.78 2.05 0 2.83L4 21.41c.39.39.9.59 1.41.59.51 0 1.02-.2 1.41-.59l7.78-7.78 2.81-2.81c.8-.78.8-2.07 0-2.86zM5.41 20L4 18.59l7.72-7.72 1.47 1.35L5.41 20z\"/>\n",
              "  </svg>\n",
              "      </button>\n",
              "      \n",
              "  <style>\n",
              "    .colab-df-container {\n",
              "      display:flex;\n",
              "      flex-wrap:wrap;\n",
              "      gap: 12px;\n",
              "    }\n",
              "\n",
              "    .colab-df-convert {\n",
              "      background-color: #E8F0FE;\n",
              "      border: none;\n",
              "      border-radius: 50%;\n",
              "      cursor: pointer;\n",
              "      display: none;\n",
              "      fill: #1967D2;\n",
              "      height: 32px;\n",
              "      padding: 0 0 0 0;\n",
              "      width: 32px;\n",
              "    }\n",
              "\n",
              "    .colab-df-convert:hover {\n",
              "      background-color: #E2EBFA;\n",
              "      box-shadow: 0px 1px 2px rgba(60, 64, 67, 0.3), 0px 1px 3px 1px rgba(60, 64, 67, 0.15);\n",
              "      fill: #174EA6;\n",
              "    }\n",
              "\n",
              "    [theme=dark] .colab-df-convert {\n",
              "      background-color: #3B4455;\n",
              "      fill: #D2E3FC;\n",
              "    }\n",
              "\n",
              "    [theme=dark] .colab-df-convert:hover {\n",
              "      background-color: #434B5C;\n",
              "      box-shadow: 0px 1px 3px 1px rgba(0, 0, 0, 0.15);\n",
              "      filter: drop-shadow(0px 1px 2px rgba(0, 0, 0, 0.3));\n",
              "      fill: #FFFFFF;\n",
              "    }\n",
              "  </style>\n",
              "\n",
              "      <script>\n",
              "        const buttonEl =\n",
              "          document.querySelector('#df-f702e3cc-efaa-46f5-870d-f21e2d5e00cb button.colab-df-convert');\n",
              "        buttonEl.style.display =\n",
              "          google.colab.kernel.accessAllowed ? 'block' : 'none';\n",
              "\n",
              "        async function convertToInteractive(key) {\n",
              "          const element = document.querySelector('#df-f702e3cc-efaa-46f5-870d-f21e2d5e00cb');\n",
              "          const dataTable =\n",
              "            await google.colab.kernel.invokeFunction('convertToInteractive',\n",
              "                                                     [key], {});\n",
              "          if (!dataTable) return;\n",
              "\n",
              "          const docLinkHtml = 'Like what you see? Visit the ' +\n",
              "            '<a target=\"_blank\" href=https://colab.research.google.com/notebooks/data_table.ipynb>data table notebook</a>'\n",
              "            + ' to learn more about interactive tables.';\n",
              "          element.innerHTML = '';\n",
              "          dataTable['output_type'] = 'display_data';\n",
              "          await google.colab.output.renderOutput(dataTable, element);\n",
              "          const docLink = document.createElement('div');\n",
              "          docLink.innerHTML = docLinkHtml;\n",
              "          element.appendChild(docLink);\n",
              "        }\n",
              "      </script>\n",
              "    </div>\n",
              "  </div>\n",
              "  "
            ]
          },
          "metadata": {}
        }
      ],
      "source": [
        "# Visualiza\n",
        "display(resultado3)"
      ]
    },
    {
      "cell_type": "code",
      "execution_count": null,
      "metadata": {
        "id": "W0JWWH6Y19SU"
      },
      "outputs": [],
      "source": [
        "# Vamos criar uma função para retornar os genêros\n",
        "def retorna_generos(df):\n",
        "    df['genres'] = df['genres'].str.lower().values\n",
        "    temp = df['genres'].dropna()\n",
        "    vetor = CountVectorizer(token_pattern = '(?u)\\\\b[\\\\w-]+\\\\b', analyzer = 'word').fit(temp)\n",
        "    generos_unicos =  vetor.get_feature_names()\n",
        "    generos_unicos = [genre for genre in generos_unicos if len(genre) > 1]\n",
        "    return generos_unicos"
      ]
    },
    {
      "cell_type": "code",
      "execution_count": null,
      "metadata": {
        "id": "RmowZTIUkBLi"
      },
      "outputs": [],
      "source": [
        "# Aplica a função\n",
        "generos_unicos = retorna_generos(resultado3)"
      ]
    },
    {
      "cell_type": "code",
      "execution_count": null,
      "metadata": {
        "id": "qnwfeKp4kBLj",
        "outputId": "83712b0e-a4c5-487f-8f5a-45776a2a8ffa",
        "colab": {
          "base_uri": "https://localhost:8080/"
        }
      },
      "outputs": [
        {
          "output_type": "execute_result",
          "data": {
            "text/plain": [
              "['action',\n",
              " 'adult',\n",
              " 'adventure',\n",
              " 'animation',\n",
              " 'biography',\n",
              " 'comedy',\n",
              " 'crime',\n",
              " 'documentary',\n",
              " 'drama',\n",
              " 'family',\n",
              " 'fantasy',\n",
              " 'film-noir',\n",
              " 'game-show',\n",
              " 'history',\n",
              " 'horror',\n",
              " 'music',\n",
              " 'musical',\n",
              " 'mystery',\n",
              " 'news',\n",
              " 'reality-tv',\n",
              " 'romance',\n",
              " 'sci-fi',\n",
              " 'short',\n",
              " 'sport',\n",
              " 'talk-show',\n",
              " 'thriller',\n",
              " 'war',\n",
              " 'western']"
            ]
          },
          "metadata": {},
          "execution_count": 47
        }
      ],
      "source": [
        "# Visualiza\n",
        "generos_unicos"
      ]
    },
    {
      "cell_type": "code",
      "execution_count": null,
      "metadata": {
        "id": "g7HWTjBckBLk"
      },
      "outputs": [],
      "source": [
        "# Cria listas vazias\n",
        "genero_counts = []\n",
        "genero_ratings = []"
      ]
    },
    {
      "cell_type": "code",
      "execution_count": null,
      "metadata": {
        "id": "Iggq_inu9QJz"
      },
      "outputs": [],
      "source": [
        "# Loop\n",
        "for item in generos_unicos:\n",
        "    \n",
        "    # Retorna a contagem de filmes por gênero\n",
        "    consulta = 'SELECT COUNT(rating) FROM ratings JOIN titles ON ratings.title_id=titles.title_id WHERE genres LIKE '+ '\\''+'%'+item+'%'+'\\' AND type=\\'movie\\''\n",
        "    resultado = pd.read_sql_query(consulta, conn)\n",
        "    genero_counts.append(resultado.values[0][0])\n",
        "  \n",
        "     # Retorna a avaliação de filmes por gênero\n",
        "    consulta = 'SELECT rating FROM ratings JOIN titles ON ratings.title_id=titles.title_id WHERE genres LIKE '+ '\\''+'%'+item+'%'+'\\' AND type=\\'movie\\''\n",
        "    resultado = pd.read_sql_query(consulta, conn)\n",
        "    genero_ratings.append(np.median(resultado['rating']))"
      ]
    },
    {
      "cell_type": "code",
      "execution_count": null,
      "metadata": {
        "id": "E4lGTLpfQStn"
      },
      "outputs": [],
      "source": [
        "# Prepara o dataframe final\n",
        "df_genero_ratings = pd.DataFrame()\n",
        "df_genero_ratings['genres'] = generos_unicos\n",
        "df_genero_ratings['count'] = genero_counts\n",
        "df_genero_ratings['rating'] = genero_ratings"
      ]
    },
    {
      "cell_type": "code",
      "execution_count": null,
      "metadata": {
        "id": "8FpOc5wxkBLl",
        "outputId": "75cd013f-4d36-4a51-dc4f-5711c4b19317",
        "colab": {
          "base_uri": "https://localhost:8080/",
          "height": 676
        }
      },
      "outputs": [
        {
          "output_type": "execute_result",
          "data": {
            "text/plain": [
              "         genres   count  rating\n",
              "0        action   28633     5.8\n",
              "1         adult    4361     5.9\n",
              "2     adventure   17385     6.0\n",
              "3     animation    4758     6.6\n",
              "4     biography    8418     7.0\n",
              "5        comedy   68509     6.0\n",
              "6         crime   23628     6.1\n",
              "7   documentary   41219     7.3\n",
              "8         drama  122586     6.3\n",
              "9        family   10693     6.3\n",
              "10      fantasy    8188     6.0\n",
              "11    film-noir     764     6.5\n",
              "12    game-show       3     8.9\n",
              "13      history    7652     6.9\n",
              "14       horror   19677     5.0\n",
              "15        music   12552     6.6\n",
              "16      musical    6222     6.2\n",
              "17      mystery   10355     6.0\n",
              "18         news     654     7.3\n",
              "19   reality-tv      46     6.0"
            ],
            "text/html": [
              "\n",
              "  <div id=\"df-1004f3c3-a8e0-4618-a2a0-288283e01b8a\">\n",
              "    <div class=\"colab-df-container\">\n",
              "      <div>\n",
              "<style scoped>\n",
              "    .dataframe tbody tr th:only-of-type {\n",
              "        vertical-align: middle;\n",
              "    }\n",
              "\n",
              "    .dataframe tbody tr th {\n",
              "        vertical-align: top;\n",
              "    }\n",
              "\n",
              "    .dataframe thead th {\n",
              "        text-align: right;\n",
              "    }\n",
              "</style>\n",
              "<table border=\"1\" class=\"dataframe\">\n",
              "  <thead>\n",
              "    <tr style=\"text-align: right;\">\n",
              "      <th></th>\n",
              "      <th>genres</th>\n",
              "      <th>count</th>\n",
              "      <th>rating</th>\n",
              "    </tr>\n",
              "  </thead>\n",
              "  <tbody>\n",
              "    <tr>\n",
              "      <th>0</th>\n",
              "      <td>action</td>\n",
              "      <td>28633</td>\n",
              "      <td>5.8</td>\n",
              "    </tr>\n",
              "    <tr>\n",
              "      <th>1</th>\n",
              "      <td>adult</td>\n",
              "      <td>4361</td>\n",
              "      <td>5.9</td>\n",
              "    </tr>\n",
              "    <tr>\n",
              "      <th>2</th>\n",
              "      <td>adventure</td>\n",
              "      <td>17385</td>\n",
              "      <td>6.0</td>\n",
              "    </tr>\n",
              "    <tr>\n",
              "      <th>3</th>\n",
              "      <td>animation</td>\n",
              "      <td>4758</td>\n",
              "      <td>6.6</td>\n",
              "    </tr>\n",
              "    <tr>\n",
              "      <th>4</th>\n",
              "      <td>biography</td>\n",
              "      <td>8418</td>\n",
              "      <td>7.0</td>\n",
              "    </tr>\n",
              "    <tr>\n",
              "      <th>5</th>\n",
              "      <td>comedy</td>\n",
              "      <td>68509</td>\n",
              "      <td>6.0</td>\n",
              "    </tr>\n",
              "    <tr>\n",
              "      <th>6</th>\n",
              "      <td>crime</td>\n",
              "      <td>23628</td>\n",
              "      <td>6.1</td>\n",
              "    </tr>\n",
              "    <tr>\n",
              "      <th>7</th>\n",
              "      <td>documentary</td>\n",
              "      <td>41219</td>\n",
              "      <td>7.3</td>\n",
              "    </tr>\n",
              "    <tr>\n",
              "      <th>8</th>\n",
              "      <td>drama</td>\n",
              "      <td>122586</td>\n",
              "      <td>6.3</td>\n",
              "    </tr>\n",
              "    <tr>\n",
              "      <th>9</th>\n",
              "      <td>family</td>\n",
              "      <td>10693</td>\n",
              "      <td>6.3</td>\n",
              "    </tr>\n",
              "    <tr>\n",
              "      <th>10</th>\n",
              "      <td>fantasy</td>\n",
              "      <td>8188</td>\n",
              "      <td>6.0</td>\n",
              "    </tr>\n",
              "    <tr>\n",
              "      <th>11</th>\n",
              "      <td>film-noir</td>\n",
              "      <td>764</td>\n",
              "      <td>6.5</td>\n",
              "    </tr>\n",
              "    <tr>\n",
              "      <th>12</th>\n",
              "      <td>game-show</td>\n",
              "      <td>3</td>\n",
              "      <td>8.9</td>\n",
              "    </tr>\n",
              "    <tr>\n",
              "      <th>13</th>\n",
              "      <td>history</td>\n",
              "      <td>7652</td>\n",
              "      <td>6.9</td>\n",
              "    </tr>\n",
              "    <tr>\n",
              "      <th>14</th>\n",
              "      <td>horror</td>\n",
              "      <td>19677</td>\n",
              "      <td>5.0</td>\n",
              "    </tr>\n",
              "    <tr>\n",
              "      <th>15</th>\n",
              "      <td>music</td>\n",
              "      <td>12552</td>\n",
              "      <td>6.6</td>\n",
              "    </tr>\n",
              "    <tr>\n",
              "      <th>16</th>\n",
              "      <td>musical</td>\n",
              "      <td>6222</td>\n",
              "      <td>6.2</td>\n",
              "    </tr>\n",
              "    <tr>\n",
              "      <th>17</th>\n",
              "      <td>mystery</td>\n",
              "      <td>10355</td>\n",
              "      <td>6.0</td>\n",
              "    </tr>\n",
              "    <tr>\n",
              "      <th>18</th>\n",
              "      <td>news</td>\n",
              "      <td>654</td>\n",
              "      <td>7.3</td>\n",
              "    </tr>\n",
              "    <tr>\n",
              "      <th>19</th>\n",
              "      <td>reality-tv</td>\n",
              "      <td>46</td>\n",
              "      <td>6.0</td>\n",
              "    </tr>\n",
              "  </tbody>\n",
              "</table>\n",
              "</div>\n",
              "      <button class=\"colab-df-convert\" onclick=\"convertToInteractive('df-1004f3c3-a8e0-4618-a2a0-288283e01b8a')\"\n",
              "              title=\"Convert this dataframe to an interactive table.\"\n",
              "              style=\"display:none;\">\n",
              "        \n",
              "  <svg xmlns=\"http://www.w3.org/2000/svg\" height=\"24px\"viewBox=\"0 0 24 24\"\n",
              "       width=\"24px\">\n",
              "    <path d=\"M0 0h24v24H0V0z\" fill=\"none\"/>\n",
              "    <path d=\"M18.56 5.44l.94 2.06.94-2.06 2.06-.94-2.06-.94-.94-2.06-.94 2.06-2.06.94zm-11 1L8.5 8.5l.94-2.06 2.06-.94-2.06-.94L8.5 2.5l-.94 2.06-2.06.94zm10 10l.94 2.06.94-2.06 2.06-.94-2.06-.94-.94-2.06-.94 2.06-2.06.94z\"/><path d=\"M17.41 7.96l-1.37-1.37c-.4-.4-.92-.59-1.43-.59-.52 0-1.04.2-1.43.59L10.3 9.45l-7.72 7.72c-.78.78-.78 2.05 0 2.83L4 21.41c.39.39.9.59 1.41.59.51 0 1.02-.2 1.41-.59l7.78-7.78 2.81-2.81c.8-.78.8-2.07 0-2.86zM5.41 20L4 18.59l7.72-7.72 1.47 1.35L5.41 20z\"/>\n",
              "  </svg>\n",
              "      </button>\n",
              "      \n",
              "  <style>\n",
              "    .colab-df-container {\n",
              "      display:flex;\n",
              "      flex-wrap:wrap;\n",
              "      gap: 12px;\n",
              "    }\n",
              "\n",
              "    .colab-df-convert {\n",
              "      background-color: #E8F0FE;\n",
              "      border: none;\n",
              "      border-radius: 50%;\n",
              "      cursor: pointer;\n",
              "      display: none;\n",
              "      fill: #1967D2;\n",
              "      height: 32px;\n",
              "      padding: 0 0 0 0;\n",
              "      width: 32px;\n",
              "    }\n",
              "\n",
              "    .colab-df-convert:hover {\n",
              "      background-color: #E2EBFA;\n",
              "      box-shadow: 0px 1px 2px rgba(60, 64, 67, 0.3), 0px 1px 3px 1px rgba(60, 64, 67, 0.15);\n",
              "      fill: #174EA6;\n",
              "    }\n",
              "\n",
              "    [theme=dark] .colab-df-convert {\n",
              "      background-color: #3B4455;\n",
              "      fill: #D2E3FC;\n",
              "    }\n",
              "\n",
              "    [theme=dark] .colab-df-convert:hover {\n",
              "      background-color: #434B5C;\n",
              "      box-shadow: 0px 1px 3px 1px rgba(0, 0, 0, 0.15);\n",
              "      filter: drop-shadow(0px 1px 2px rgba(0, 0, 0, 0.3));\n",
              "      fill: #FFFFFF;\n",
              "    }\n",
              "  </style>\n",
              "\n",
              "      <script>\n",
              "        const buttonEl =\n",
              "          document.querySelector('#df-1004f3c3-a8e0-4618-a2a0-288283e01b8a button.colab-df-convert');\n",
              "        buttonEl.style.display =\n",
              "          google.colab.kernel.accessAllowed ? 'block' : 'none';\n",
              "\n",
              "        async function convertToInteractive(key) {\n",
              "          const element = document.querySelector('#df-1004f3c3-a8e0-4618-a2a0-288283e01b8a');\n",
              "          const dataTable =\n",
              "            await google.colab.kernel.invokeFunction('convertToInteractive',\n",
              "                                                     [key], {});\n",
              "          if (!dataTable) return;\n",
              "\n",
              "          const docLinkHtml = 'Like what you see? Visit the ' +\n",
              "            '<a target=\"_blank\" href=https://colab.research.google.com/notebooks/data_table.ipynb>data table notebook</a>'\n",
              "            + ' to learn more about interactive tables.';\n",
              "          element.innerHTML = '';\n",
              "          dataTable['output_type'] = 'display_data';\n",
              "          await google.colab.output.renderOutput(dataTable, element);\n",
              "          const docLink = document.createElement('div');\n",
              "          docLink.innerHTML = docLinkHtml;\n",
              "          element.appendChild(docLink);\n",
              "        }\n",
              "      </script>\n",
              "    </div>\n",
              "  </div>\n",
              "  "
            ]
          },
          "metadata": {},
          "execution_count": 51
        }
      ],
      "source": [
        "# Visualiza\n",
        "df_genero_ratings.head(20)"
      ]
    },
    {
      "cell_type": "code",
      "execution_count": null,
      "metadata": {
        "id": "h0voA1yQQ_80"
      },
      "outputs": [],
      "source": [
        "# Drop do índice 18 (news)\n",
        "# Não queremos essa informação como gênero\n",
        "df_genero_ratings = df_genero_ratings.drop(index = 18)"
      ]
    },
    {
      "cell_type": "code",
      "execution_count": null,
      "metadata": {
        "id": "C2d5HNJITbaG"
      },
      "outputs": [],
      "source": [
        "# Ordena o resultado\n",
        "df_genero_ratings = df_genero_ratings.sort_values(by = 'rating', ascending = False)"
      ]
    },
    {
      "cell_type": "code",
      "execution_count": null,
      "metadata": {
        "colab": {
          "base_uri": "https://localhost:8080/",
          "height": 766
        },
        "id": "MSrgVMHuUAAV",
        "outputId": "a2a327f6-480a-415a-97db-71ec39009ffc"
      },
      "outputs": [
        {
          "output_type": "display_data",
          "data": {
            "text/plain": [
              "<Figure size 1296x864 with 1 Axes>"
            ],
            "image/png": "[encoded data removed]"
          },
          "metadata": {}
        }
      ],
      "source": [
        "# Plot\n",
        "\n",
        "# Figura\n",
        "plt.figure(figsize = (18,12))\n",
        "\n",
        "# Barplot\n",
        "sns.barplot(y = df_genero_ratings.genres, x = df_genero_ratings.rating, orient = \"h\")\n",
        "\n",
        "# Textos do gráfico\n",
        "for i in range(len(df_genero_ratings.index)):\n",
        "    \n",
        "    plt.text(4.2, \n",
        "             i + 0.3, \n",
        "             str(df_genero_ratings['count'][df_genero_ratings.index[i]]) + \" filmes\")\n",
        "    \n",
        "    plt.text(df_genero_ratings.rating[df_genero_ratings.index[i]],\n",
        "             i + 0.3,\n",
        "             round(df_genero_ratings[\"rating\"][df_genero_ratings.index[i]],2))\n",
        "\n",
        "plt.ylabel('Gênero')             \n",
        "plt.xlabel('Mediana da Avaliação')\n",
        "plt.title('\\nMediana de Avaliação Por Gênero\\n')\n",
        "plt.show()"
      ]
    },
    {
      "cell_type": "markdown",
      "metadata": {
        "id": "V4RFdmlvsbgQ"
      },
      "source": [
        "## 4- Qual a Mediana de Avaliação dos Filmes Em Relação ao Ano de Estréia?\n",
        "\n",
        "Mediana de avaliação dos filmes."
      ]
    },
    {
      "cell_type": "code",
      "execution_count": null,
      "metadata": {
        "id": "D7ZoVPJip0eA"
      },
      "outputs": [],
      "source": [
        "# Consulta SQL\n",
        "consulta4 = '''\n",
        "            SELECT rating AS Rating, premiered FROM \n",
        "            ratings JOIN titles ON ratings.title_id = titles.title_id \n",
        "            WHERE premiered <= 2022 AND type = 'movie'\n",
        "            ORDER BY premiered\n",
        "            ''' "
      ]
    },
    {
      "cell_type": "code",
      "execution_count": null,
      "metadata": {
        "id": "rICQ9mO4kBLm"
      },
      "outputs": [],
      "source": [
        "# Resultado\n",
        "resultado4 = pd.read_sql_query(consulta4, conn)"
      ]
    },
    {
      "cell_type": "code",
      "execution_count": null,
      "metadata": {
        "id": "yuCdOfpkkBLn",
        "outputId": "750633c0-a567-44df-9be7-efe7538e863b"
      },
      "outputs": [
        {
          "data": {
            "text/html": [
              "<div>\n",
              "<style scoped>\n",
              "    .dataframe tbody tr th:only-of-type {\n",
              "        vertical-align: middle;\n",
              "    }\n",
              "\n",
              "    .dataframe tbody tr th {\n",
              "        vertical-align: top;\n",
              "    }\n",
              "\n",
              "    .dataframe thead th {\n",
              "        text-align: right;\n",
              "    }\n",
              "</style>\n",
              "<table border=\"1\" class=\"dataframe\">\n",
              "  <thead>\n",
              "    <tr style=\"text-align: right;\">\n",
              "      <th></th>\n",
              "      <th>Rating</th>\n",
              "      <th>premiered</th>\n",
              "    </tr>\n",
              "  </thead>\n",
              "  <tbody>\n",
              "    <tr>\n",
              "      <th>0</th>\n",
              "      <td>6.4</td>\n",
              "      <td>1896</td>\n",
              "    </tr>\n",
              "    <tr>\n",
              "      <th>1</th>\n",
              "      <td>4.4</td>\n",
              "      <td>1897</td>\n",
              "    </tr>\n",
              "    <tr>\n",
              "      <th>2</th>\n",
              "      <td>3.9</td>\n",
              "      <td>1899</td>\n",
              "    </tr>\n",
              "    <tr>\n",
              "      <th>3</th>\n",
              "      <td>3.7</td>\n",
              "      <td>1899</td>\n",
              "    </tr>\n",
              "    <tr>\n",
              "      <th>4</th>\n",
              "      <td>6.0</td>\n",
              "      <td>1900</td>\n",
              "    </tr>\n",
              "    <tr>\n",
              "      <th>...</th>\n",
              "      <td>...</td>\n",
              "      <td>...</td>\n",
              "    </tr>\n",
              "    <tr>\n",
              "      <th>265680</th>\n",
              "      <td>6.6</td>\n",
              "      <td>2021</td>\n",
              "    </tr>\n",
              "    <tr>\n",
              "      <th>265681</th>\n",
              "      <td>4.8</td>\n",
              "      <td>2021</td>\n",
              "    </tr>\n",
              "    <tr>\n",
              "      <th>265682</th>\n",
              "      <td>8.3</td>\n",
              "      <td>2021</td>\n",
              "    </tr>\n",
              "    <tr>\n",
              "      <th>265683</th>\n",
              "      <td>6.0</td>\n",
              "      <td>2021</td>\n",
              "    </tr>\n",
              "    <tr>\n",
              "      <th>265684</th>\n",
              "      <td>7.9</td>\n",
              "      <td>2021</td>\n",
              "    </tr>\n",
              "  </tbody>\n",
              "</table>\n",
              "<p>265685 rows × 2 columns</p>\n",
              "</div>"
            ],
            "text/plain": [
              "        Rating  premiered\n",
              "0          6.4       1896\n",
              "1          4.4       1897\n",
              "2          3.9       1899\n",
              "3          3.7       1899\n",
              "4          6.0       1900\n",
              "...        ...        ...\n",
              "265680     6.6       2021\n",
              "265681     4.8       2021\n",
              "265682     8.3       2021\n",
              "265683     6.0       2021\n",
              "265684     7.9       2021\n",
              "\n",
              "[265685 rows x 2 columns]"
            ]
          },
          "metadata": {},
          "output_type": "display_data"
        }
      ],
      "source": [
        "display(resultado4)"
      ]
    },
    {
      "cell_type": "code",
      "execution_count": null,
      "metadata": {
        "id": "MC6R8jw-XWZj"
      },
      "outputs": [],
      "source": [
        "# Calculamos a mediana ao longo do tempo (anos)\n",
        "ratings = []\n",
        "for year in set(resultado4['premiered']):\n",
        "    ratings.append(np.median(resultado4[resultado4['premiered'] == year]['Rating']))"
      ]
    },
    {
      "cell_type": "code",
      "execution_count": null,
      "metadata": {
        "id": "ZhYpEsFlkBLo",
        "outputId": "bc5d69a8-b652-4828-a671-21b4bafc69e3"
      },
      "outputs": [
        {
          "data": {
            "text/plain": [
              "list"
            ]
          },
          "execution_count": 58,
          "metadata": {},
          "output_type": "execute_result"
        }
      ],
      "source": [
        "type(ratings)"
      ]
    },
    {
      "cell_type": "code",
      "execution_count": null,
      "metadata": {
        "id": "gsLSe-lIkBLo",
        "outputId": "5df5e174-3175-40a4-ee87-0f4ac94e2d52"
      },
      "outputs": [
        {
          "data": {
            "text/plain": [
              "[4.4, 3.8, 6.15, 4.5, 3.5, 4.6, 5.4, 4.3, 3.6]"
            ]
          },
          "execution_count": 59,
          "metadata": {},
          "output_type": "execute_result"
        }
      ],
      "source": [
        "ratings[1:10]"
      ]
    },
    {
      "cell_type": "code",
      "execution_count": null,
      "metadata": {
        "id": "VV_YECfDYLkU"
      },
      "outputs": [],
      "source": [
        "# Lista de anos\n",
        "anos = list(set(resultado4['premiered']))"
      ]
    },
    {
      "cell_type": "code",
      "execution_count": null,
      "metadata": {
        "id": "L2Lh5kaUkBLp",
        "outputId": "e816fba3-83b2-4ede-f8f0-7e21cd45f9e4"
      },
      "outputs": [
        {
          "data": {
            "text/plain": [
              "[1897, 1899, 1900, 1901, 1902, 1903, 1904, 1905, 1906]"
            ]
          },
          "execution_count": 61,
          "metadata": {},
          "output_type": "execute_result"
        }
      ],
      "source": [
        "anos[1:10]"
      ]
    },
    {
      "cell_type": "code",
      "execution_count": null,
      "metadata": {
        "colab": {
          "base_uri": "https://localhost:8080/",
          "height": 513
        },
        "id": "o-DcxevEspQQ",
        "outputId": "e3770997-6254-4e5c-a60f-e8cc665e9674"
      },
      "outputs": [
        {
          "data": {
            "image/png": "[encoded data removed]",
            "text/plain": [
              "<Figure size 1152x576 with 1 Axes>"
            ]
          },
          "metadata": {},
          "output_type": "display_data"
        }
      ],
      "source": [
        "# Plot\n",
        "plt.figure(figsize = (16,8))\n",
        "plt.plot(anos, ratings)\n",
        "plt.xlabel('\\nAno')\n",
        "plt.ylabel('Mediana de Avaliação')\n",
        "plt.title('\\nMediana de Avaliação dos Filmes Em Relação ao Ano de Estréia\\n')\n",
        "plt.show()"
      ]
    },
    {
      "cell_type": "markdown",
      "metadata": {
        "id": "2F2Dmji2xR9v"
      },
      "source": [
        "## 5- Qual o Número de Filmes Avaliados Por Gênero Em Relação ao Ano de Estréia?\n",
        "\n",
        "Número de filmes por gênero. Vamos listar os Top 5."
      ]
    },
    {
      "cell_type": "code",
      "execution_count": null,
      "metadata": {
        "id": "eHdCbIyDm10W"
      },
      "outputs": [],
      "source": [
        "# Consulta SQL\n",
        "consulta5 = '''SELECT genres FROM titles ''' "
      ]
    },
    {
      "cell_type": "code",
      "execution_count": null,
      "metadata": {
        "id": "CjCCjxlAkBLq"
      },
      "outputs": [],
      "source": [
        "# Resultado\n",
        "resultado5 = pd.read_sql_query(consulta5, conn)"
      ]
    },
    {
      "cell_type": "code",
      "execution_count": null,
      "metadata": {
        "id": "ID176MdXkBLq",
        "outputId": "9fcd096a-dc23-488f-8e92-cd2dcc9cffd1"
      },
      "outputs": [
        {
          "data": {
            "text/html": [
              "<div>\n",
              "<style scoped>\n",
              "    .dataframe tbody tr th:only-of-type {\n",
              "        vertical-align: middle;\n",
              "    }\n",
              "\n",
              "    .dataframe tbody tr th {\n",
              "        vertical-align: top;\n",
              "    }\n",
              "\n",
              "    .dataframe thead th {\n",
              "        text-align: right;\n",
              "    }\n",
              "</style>\n",
              "<table border=\"1\" class=\"dataframe\">\n",
              "  <thead>\n",
              "    <tr style=\"text-align: right;\">\n",
              "      <th></th>\n",
              "      <th>genres</th>\n",
              "    </tr>\n",
              "  </thead>\n",
              "  <tbody>\n",
              "    <tr>\n",
              "      <th>0</th>\n",
              "      <td>Documentary,Short</td>\n",
              "    </tr>\n",
              "    <tr>\n",
              "      <th>1</th>\n",
              "      <td>Animation,Short</td>\n",
              "    </tr>\n",
              "    <tr>\n",
              "      <th>2</th>\n",
              "      <td>Animation,Comedy,Romance</td>\n",
              "    </tr>\n",
              "    <tr>\n",
              "      <th>3</th>\n",
              "      <td>Animation,Short</td>\n",
              "    </tr>\n",
              "    <tr>\n",
              "      <th>4</th>\n",
              "      <td>Comedy,Short</td>\n",
              "    </tr>\n",
              "    <tr>\n",
              "      <th>...</th>\n",
              "      <td>...</td>\n",
              "    </tr>\n",
              "    <tr>\n",
              "      <th>8070583</th>\n",
              "      <td>Action,Drama,Family</td>\n",
              "    </tr>\n",
              "    <tr>\n",
              "      <th>8070584</th>\n",
              "      <td>Action,Drama,Family</td>\n",
              "    </tr>\n",
              "    <tr>\n",
              "      <th>8070585</th>\n",
              "      <td>Action,Drama,Family</td>\n",
              "    </tr>\n",
              "    <tr>\n",
              "      <th>8070586</th>\n",
              "      <td>Short</td>\n",
              "    </tr>\n",
              "    <tr>\n",
              "      <th>8070587</th>\n",
              "      <td>Animation,Comedy,Family</td>\n",
              "    </tr>\n",
              "  </tbody>\n",
              "</table>\n",
              "<p>8070588 rows × 1 columns</p>\n",
              "</div>"
            ],
            "text/plain": [
              "                           genres\n",
              "0               Documentary,Short\n",
              "1                 Animation,Short\n",
              "2        Animation,Comedy,Romance\n",
              "3                 Animation,Short\n",
              "4                    Comedy,Short\n",
              "...                           ...\n",
              "8070583       Action,Drama,Family\n",
              "8070584       Action,Drama,Family\n",
              "8070585       Action,Drama,Family\n",
              "8070586                     Short\n",
              "8070587   Animation,Comedy,Family\n",
              "\n",
              "[8070588 rows x 1 columns]"
            ]
          },
          "metadata": {},
          "output_type": "display_data"
        }
      ],
      "source": [
        "display(resultado5)"
      ]
    },
    {
      "cell_type": "code",
      "execution_count": null,
      "metadata": {
        "id": "3l9aiHCLvI5S"
      },
      "outputs": [],
      "source": [
        "# Retorna gêneros únicos\n",
        "generos_unicos = retorna_generos(resultado5)"
      ]
    },
    {
      "cell_type": "code",
      "execution_count": null,
      "metadata": {
        "id": "nDUTD7qnkBLr",
        "outputId": "88874e80-2901-4d77-ab61-d05e9dbbbdfb"
      },
      "outputs": [
        {
          "data": {
            "text/plain": [
              "['action',\n",
              " 'adult',\n",
              " 'adventure',\n",
              " 'animation',\n",
              " 'biography',\n",
              " 'comedy',\n",
              " 'crime',\n",
              " 'documentary',\n",
              " 'drama',\n",
              " 'family',\n",
              " 'fantasy',\n",
              " 'film-noir',\n",
              " 'game-show',\n",
              " 'history',\n",
              " 'horror',\n",
              " 'music',\n",
              " 'musical',\n",
              " 'mystery',\n",
              " 'news',\n",
              " 'reality-tv',\n",
              " 'romance',\n",
              " 'sci-fi',\n",
              " 'short',\n",
              " 'sport',\n",
              " 'talk-show',\n",
              " 'thriller',\n",
              " 'war',\n",
              " 'western']"
            ]
          },
          "execution_count": 67,
          "metadata": {},
          "output_type": "execute_result"
        }
      ],
      "source": [
        "# Visualiza o resultado\n",
        "generos_unicos"
      ]
    },
    {
      "cell_type": "code",
      "execution_count": null,
      "metadata": {
        "id": "IvXAi1HGf7X8"
      },
      "outputs": [],
      "source": [
        "# Agora fazemos a contagem\n",
        "genero_count = []\n",
        "for item in generos_unicos:\n",
        "    consulta = 'SELECT COUNT(*) COUNT FROM  titles  WHERE genres LIKE '+ '\\''+'%'+item+'%'+'\\' AND type=\\'movie\\' AND premiered <= 2022'\n",
        "    resultado = pd.read_sql_query(consulta, conn)\n",
        "    genero_count.append(resultado['COUNT'].values[0])"
      ]
    },
    {
      "cell_type": "code",
      "execution_count": null,
      "metadata": {
        "id": "6ASveNmFf9aI"
      },
      "outputs": [],
      "source": [
        "# Prepara o dataframe\n",
        "df_genero_count = pd.DataFrame()\n",
        "df_genero_count['genre'] = generos_unicos\n",
        "df_genero_count['Count'] = genero_count"
      ]
    },
    {
      "cell_type": "code",
      "execution_count": null,
      "metadata": {
        "id": "938c_uY-kDiW"
      },
      "outputs": [],
      "source": [
        "# Calcula os top 5\n",
        "df_genero_count = df_genero_count[df_genero_count['genre'] != 'n']\n",
        "df_genero_count = df_genero_count.sort_values(by = 'Count', ascending = False)\n",
        "top_generos = df_genero_count.head()['genre'].values"
      ]
    },
    {
      "cell_type": "code",
      "execution_count": null,
      "metadata": {
        "colab": {
          "base_uri": "https://localhost:8080/",
          "height": 499
        },
        "id": "8aP0rOP0mBh_",
        "outputId": "8604eb15-1809-48e6-9772-6e5c34e0624c"
      },
      "outputs": [
        {
          "data": {
            "image/png": "[encoded data removed]",
            "text/plain": [
              "<Figure size 1152x576 with 1 Axes>"
            ]
          },
          "metadata": {},
          "output_type": "display_data"
        }
      ],
      "source": [
        "# Plot\n",
        "\n",
        "# Figura\n",
        "plt.figure(figsize = (16,8))\n",
        "\n",
        "# Loop e Plot\n",
        "for item in top_generos:\n",
        "    consulta = 'SELECT COUNT(*) Number_of_movies, premiered Year FROM  titles  WHERE genres LIKE '+ '\\''+'%'+item+'%'+'\\' AND type=\\'movie\\' AND Year <=2022 GROUP BY Year'\n",
        "    resultado = pd.read_sql_query(consulta, conn)\n",
        "    plt.plot(resultado['Year'], resultado['Number_of_movies'])\n",
        "\n",
        "plt.xlabel('\\nAno')\n",
        "plt.ylabel('Número de Filmes Avaliados')\n",
        "plt.title('\\nNúmero de Filmes Avaliados Por Gênero Em Relação ao Ano de Estréia\\n')\n",
        "plt.legend(labels = top_generos)\n",
        "plt.show()"
      ]
    },
    {
      "cell_type": "markdown",
      "metadata": {
        "id": "9U6CKRVVzF5O"
      },
      "source": [
        "## 6- Qual o Filme Com Maior Tempo de Duração? Calcule os Percentis.\n",
        "\n",
        "Percentis e filme mais longo da história."
      ]
    },
    {
      "cell_type": "code",
      "execution_count": null,
      "metadata": {
        "id": "0emEVWQcZAkB"
      },
      "outputs": [],
      "source": [
        "# Consulta SQL\n",
        "consulta6 = '''\n",
        "            SELECT runtime_minutes Runtime \n",
        "            FROM titles \n",
        "            WHERE type = 'movie' AND Runtime != 'NaN'\n",
        "            ''' "
      ]
    },
    {
      "cell_type": "code",
      "execution_count": null,
      "metadata": {
        "id": "hOEKfXmEkBLt"
      },
      "outputs": [],
      "source": [
        "# Resultado\n",
        "resultado6 = pd.read_sql_query(consulta6, conn)"
      ]
    },
    {
      "cell_type": "code",
      "execution_count": null,
      "metadata": {
        "id": "KuajIPW6kBLt",
        "outputId": "9c5521f4-eda6-43e2-f7da-5ab5ecd71e2e"
      },
      "outputs": [
        {
          "data": {
            "text/html": [
              "<div>\n",
              "<style scoped>\n",
              "    .dataframe tbody tr th:only-of-type {\n",
              "        vertical-align: middle;\n",
              "    }\n",
              "\n",
              "    .dataframe tbody tr th {\n",
              "        vertical-align: top;\n",
              "    }\n",
              "\n",
              "    .dataframe thead th {\n",
              "        text-align: right;\n",
              "    }\n",
              "</style>\n",
              "<table border=\"1\" class=\"dataframe\">\n",
              "  <thead>\n",
              "    <tr style=\"text-align: right;\">\n",
              "      <th></th>\n",
              "      <th>Runtime</th>\n",
              "    </tr>\n",
              "  </thead>\n",
              "  <tbody>\n",
              "    <tr>\n",
              "      <th>0</th>\n",
              "      <td>100</td>\n",
              "    </tr>\n",
              "    <tr>\n",
              "      <th>1</th>\n",
              "      <td>70</td>\n",
              "    </tr>\n",
              "    <tr>\n",
              "      <th>2</th>\n",
              "      <td>90</td>\n",
              "    </tr>\n",
              "    <tr>\n",
              "      <th>3</th>\n",
              "      <td>120</td>\n",
              "    </tr>\n",
              "    <tr>\n",
              "      <th>4</th>\n",
              "      <td>58</td>\n",
              "    </tr>\n",
              "    <tr>\n",
              "      <th>...</th>\n",
              "      <td>...</td>\n",
              "    </tr>\n",
              "    <tr>\n",
              "      <th>366324</th>\n",
              "      <td>123</td>\n",
              "    </tr>\n",
              "    <tr>\n",
              "      <th>366325</th>\n",
              "      <td>57</td>\n",
              "    </tr>\n",
              "    <tr>\n",
              "      <th>366326</th>\n",
              "      <td>100</td>\n",
              "    </tr>\n",
              "    <tr>\n",
              "      <th>366327</th>\n",
              "      <td>116</td>\n",
              "    </tr>\n",
              "    <tr>\n",
              "      <th>366328</th>\n",
              "      <td>49</td>\n",
              "    </tr>\n",
              "  </tbody>\n",
              "</table>\n",
              "<p>366329 rows × 1 columns</p>\n",
              "</div>"
            ],
            "text/plain": [
              "        Runtime\n",
              "0           100\n",
              "1            70\n",
              "2            90\n",
              "3           120\n",
              "4            58\n",
              "...         ...\n",
              "366324      123\n",
              "366325       57\n",
              "366326      100\n",
              "366327      116\n",
              "366328       49\n",
              "\n",
              "[366329 rows x 1 columns]"
            ]
          },
          "metadata": {},
          "output_type": "display_data"
        }
      ],
      "source": [
        "display(resultado6)"
      ]
    },
    {
      "cell_type": "code",
      "execution_count": null,
      "metadata": {
        "colab": {
          "base_uri": "https://localhost:8080/"
        },
        "id": "TTu1QGec4wgb",
        "outputId": "3d8b9dc8-0d36-4e76-bbed-706aacb02b0d"
      },
      "outputs": [
        {
          "name": "stdout",
          "output_type": "stream",
          "text": [
            "0 percentil da duração (runtime) é: 1.0\n",
            "1 percentil da duração (runtime) é: 45.0\n",
            "2 percentil da duração (runtime) é: 48.0\n",
            "3 percentil da duração (runtime) é: 50.0\n",
            "4 percentil da duração (runtime) é: 50.0\n",
            "5 percentil da duração (runtime) é: 52.0\n",
            "6 percentil da duração (runtime) é: 52.0\n",
            "7 percentil da duração (runtime) é: 54.0\n",
            "8 percentil da duração (runtime) é: 55.0\n",
            "9 percentil da duração (runtime) é: 56.0\n",
            "10 percentil da duração (runtime) é: 58.0\n",
            "11 percentil da duração (runtime) é: 59.0\n",
            "12 percentil da duração (runtime) é: 60.0\n",
            "13 percentil da duração (runtime) é: 60.0\n",
            "14 percentil da duração (runtime) é: 60.0\n",
            "15 percentil da duração (runtime) é: 62.0\n",
            "16 percentil da duração (runtime) é: 63.0\n",
            "17 percentil da duração (runtime) é: 65.0\n",
            "18 percentil da duração (runtime) é: 66.0\n",
            "19 percentil da duração (runtime) é: 68.0\n",
            "20 percentil da duração (runtime) é: 70.0\n",
            "21 percentil da duração (runtime) é: 70.0\n",
            "22 percentil da duração (runtime) é: 71.0\n",
            "23 percentil da duração (runtime) é: 72.0\n",
            "24 percentil da duração (runtime) é: 73.0\n",
            "25 percentil da duração (runtime) é: 74.0\n",
            "26 percentil da duração (runtime) é: 75.0\n",
            "27 percentil da duração (runtime) é: 75.0\n",
            "28 percentil da duração (runtime) é: 76.0\n",
            "29 percentil da duração (runtime) é: 77.0\n",
            "30 percentil da duração (runtime) é: 78.0\n",
            "31 percentil da duração (runtime) é: 79.0\n",
            "32 percentil da duração (runtime) é: 80.0\n",
            "33 percentil da duração (runtime) é: 80.0\n",
            "34 percentil da duração (runtime) é: 80.0\n",
            "35 percentil da duração (runtime) é: 81.0\n",
            "36 percentil da duração (runtime) é: 82.0\n",
            "37 percentil da duração (runtime) é: 82.0\n",
            "38 percentil da duração (runtime) é: 83.0\n",
            "39 percentil da duração (runtime) é: 84.0\n",
            "40 percentil da duração (runtime) é: 84.0\n",
            "41 percentil da duração (runtime) é: 85.0\n",
            "42 percentil da duração (runtime) é: 85.0\n",
            "43 percentil da duração (runtime) é: 85.0\n",
            "44 percentil da duração (runtime) é: 86.0\n",
            "45 percentil da duração (runtime) é: 86.0\n",
            "46 percentil da duração (runtime) é: 87.0\n",
            "47 percentil da duração (runtime) é: 87.0\n",
            "48 percentil da duração (runtime) é: 88.0\n",
            "49 percentil da duração (runtime) é: 88.0\n",
            "50 percentil da duração (runtime) é: 89.0\n",
            "51 percentil da duração (runtime) é: 90.0\n",
            "52 percentil da duração (runtime) é: 90.0\n",
            "53 percentil da duração (runtime) é: 90.0\n",
            "54 percentil da duração (runtime) é: 90.0\n",
            "55 percentil da duração (runtime) é: 90.0\n",
            "56 percentil da duração (runtime) é: 90.0\n",
            "57 percentil da duração (runtime) é: 90.0\n",
            "58 percentil da duração (runtime) é: 91.0\n",
            "59 percentil da duração (runtime) é: 91.0\n",
            "60 percentil da duração (runtime) é: 92.0\n",
            "61 percentil da duração (runtime) é: 92.0\n",
            "62 percentil da duração (runtime) é: 93.0\n",
            "63 percentil da duração (runtime) é: 93.0\n",
            "64 percentil da duração (runtime) é: 94.0\n",
            "65 percentil da duração (runtime) é: 94.0\n",
            "66 percentil da duração (runtime) é: 95.0\n",
            "67 percentil da duração (runtime) é: 95.0\n",
            "68 percentil da duração (runtime) é: 96.0\n",
            "69 percentil da duração (runtime) é: 96.0\n",
            "70 percentil da duração (runtime) é: 97.0\n",
            "71 percentil da duração (runtime) é: 97.0\n",
            "72 percentil da duração (runtime) é: 98.0\n",
            "73 percentil da duração (runtime) é: 99.0\n",
            "74 percentil da duração (runtime) é: 100.0\n",
            "75 percentil da duração (runtime) é: 100.0\n",
            "76 percentil da duração (runtime) é: 100.0\n",
            "77 percentil da duração (runtime) é: 101.0\n",
            "78 percentil da duração (runtime) é: 102.0\n",
            "79 percentil da duração (runtime) é: 103.0\n",
            "80 percentil da duração (runtime) é: 104.0\n",
            "81 percentil da duração (runtime) é: 105.0\n",
            "82 percentil da duração (runtime) é: 106.0\n",
            "83 percentil da duração (runtime) é: 107.0\n",
            "84 percentil da duração (runtime) é: 108.0\n",
            "85 percentil da duração (runtime) é: 110.0\n",
            "86 percentil da duração (runtime) é: 110.0\n",
            "87 percentil da duração (runtime) é: 112.0\n",
            "88 percentil da duração (runtime) é: 114.0\n",
            "89 percentil da duração (runtime) é: 116.0\n",
            "90 percentil da duração (runtime) é: 119.0\n",
            "91 percentil da duração (runtime) é: 120.0\n",
            "92 percentil da duração (runtime) é: 122.0\n",
            "93 percentil da duração (runtime) é: 126.0\n",
            "94 percentil da duração (runtime) é: 130.0\n",
            "95 percentil da duração (runtime) é: 134.0\n",
            "96 percentil da duração (runtime) é: 139.0\n",
            "97 percentil da duração (runtime) é: 145.0\n",
            "98 percentil da duração (runtime) é: 153.0\n",
            "99 percentil da duração (runtime) é: 168.0\n",
            "100 percentil da duração (runtime) é: 51420.0\n"
          ]
        }
      ],
      "source": [
        "# Loop para cálculo dos percentis\n",
        "for i in range(101): \n",
        "    val = i\n",
        "    perc = round(np.percentile(resultado6['Runtime'].values, val), 2)\n",
        "    print('{} percentil da duração (runtime) é: {}'.format(val, perc))"
      ]
    },
    {
      "cell_type": "code",
      "execution_count": null,
      "metadata": {
        "id": "QsG590nIag_h"
      },
      "outputs": [],
      "source": [
        "# Refazendo a consulta e retornando o filme com maior duração\n",
        "consulta6 = '''\n",
        "            SELECT runtime_minutes Runtime, primary_title\n",
        "            FROM titles \n",
        "            WHERE type = 'movie' AND Runtime != 'NaN'\n",
        "            ORDER BY Runtime DESC\n",
        "            LIMIT 1\n",
        "            ''' "
      ]
    },
    {
      "cell_type": "code",
      "execution_count": null,
      "metadata": {
        "id": "LD02nBpYkBLu"
      },
      "outputs": [],
      "source": [
        "resultado6 = pd.read_sql_query(consulta6, conn)"
      ]
    },
    {
      "cell_type": "code",
      "execution_count": null,
      "metadata": {
        "colab": {
          "base_uri": "https://localhost:8080/",
          "height": 77
        },
        "id": "GiXWo7tBaqhZ",
        "outputId": "ae7656fe-6ba5-43dd-d4ae-5a39cac5b120"
      },
      "outputs": [
        {
          "data": {
            "text/html": [
              "<div>\n",
              "<style scoped>\n",
              "    .dataframe tbody tr th:only-of-type {\n",
              "        vertical-align: middle;\n",
              "    }\n",
              "\n",
              "    .dataframe tbody tr th {\n",
              "        vertical-align: top;\n",
              "    }\n",
              "\n",
              "    .dataframe thead th {\n",
              "        text-align: right;\n",
              "    }\n",
              "</style>\n",
              "<table border=\"1\" class=\"dataframe\">\n",
              "  <thead>\n",
              "    <tr style=\"text-align: right;\">\n",
              "      <th></th>\n",
              "      <th>Runtime</th>\n",
              "      <th>primary_title</th>\n",
              "    </tr>\n",
              "  </thead>\n",
              "  <tbody>\n",
              "    <tr>\n",
              "      <th>0</th>\n",
              "      <td>51420</td>\n",
              "      <td>Logistics</td>\n",
              "    </tr>\n",
              "  </tbody>\n",
              "</table>\n",
              "</div>"
            ],
            "text/plain": [
              "   Runtime primary_title\n",
              "0    51420     Logistics"
            ]
          },
          "execution_count": 78,
          "metadata": {},
          "output_type": "execute_result"
        }
      ],
      "source": [
        "resultado6"
      ]
    },
    {
      "cell_type": "markdown",
      "metadata": {
        "id": "Ho17U3IbcieL"
      },
      "source": [
        "'Logistics' é o filme mais longo da história (até este momento), com 857 horas (51420 minutos). Dirigido por Daniel Andersson e Erika Magnusson, o filme acompanha todo o ciclo de vida de um pedômetro (dispositivo de rastreamento de passos) em ordem cronológica reversa."
      ]
    },
    {
      "cell_type": "markdown",
      "metadata": {
        "id": "Z4O4rDdHy7oO"
      },
      "source": [
        "## 7- Qual a Relação Entre Duração e Gênero?\n",
        "\n",
        "Relação entre duração do filme e gênero."
      ]
    },
    {
      "cell_type": "code",
      "execution_count": null,
      "metadata": {
        "id": "0kc8MHtUledj"
      },
      "outputs": [],
      "source": [
        "# Consulta SQL\n",
        "consulta7 = '''\n",
        "            SELECT AVG(runtime_minutes) Runtime, genres \n",
        "            FROM titles \n",
        "            WHERE type = 'movie'\n",
        "            AND runtime_minutes != 'NaN'\n",
        "            GROUP BY genres\n",
        "            ''' "
      ]
    },
    {
      "cell_type": "code",
      "execution_count": null,
      "metadata": {
        "id": "H_pJxtiVkBLv"
      },
      "outputs": [],
      "source": [
        "# Resultado\n",
        "resultado7 = pd.read_sql_query(consulta7, conn)"
      ]
    },
    {
      "cell_type": "code",
      "execution_count": null,
      "metadata": {
        "id": "0rzN-DAm5mwA"
      },
      "outputs": [],
      "source": [
        "# Retorna gêneros únicos\n",
        "generos_unicos = retorna_generos(resultado7)"
      ]
    },
    {
      "cell_type": "code",
      "execution_count": null,
      "metadata": {
        "id": "NtcBoGPCkBLw",
        "outputId": "bc9d8299-5028-455b-bd6f-c51c35bf99fc"
      },
      "outputs": [
        {
          "data": {
            "text/plain": [
              "['action',\n",
              " 'adult',\n",
              " 'adventure',\n",
              " 'animation',\n",
              " 'biography',\n",
              " 'comedy',\n",
              " 'crime',\n",
              " 'documentary',\n",
              " 'drama',\n",
              " 'family',\n",
              " 'fantasy',\n",
              " 'film-noir',\n",
              " 'game-show',\n",
              " 'history',\n",
              " 'horror',\n",
              " 'music',\n",
              " 'musical',\n",
              " 'mystery',\n",
              " 'news',\n",
              " 'reality-tv',\n",
              " 'romance',\n",
              " 'sci-fi',\n",
              " 'short',\n",
              " 'sport',\n",
              " 'talk-show',\n",
              " 'thriller',\n",
              " 'war',\n",
              " 'western']"
            ]
          },
          "execution_count": 82,
          "metadata": {},
          "output_type": "execute_result"
        }
      ],
      "source": [
        "# Visualiza\n",
        "generos_unicos"
      ]
    },
    {
      "cell_type": "code",
      "execution_count": null,
      "metadata": {
        "id": "8f79NjxwEdA4"
      },
      "outputs": [],
      "source": [
        "# Calcula duração por gênero\n",
        "genero_runtime = []\n",
        "for item in generos_unicos:\n",
        "    consulta = 'SELECT runtime_minutes Runtime FROM  titles  WHERE genres LIKE '+ '\\''+'%'+item+'%'+'\\' AND type=\\'movie\\' AND Runtime!=\\'NaN\\''\n",
        "    resultado = pd.read_sql_query(consulta, conn)\n",
        "    genero_runtime.append(np.median(resultado['Runtime']))"
      ]
    },
    {
      "cell_type": "code",
      "execution_count": null,
      "metadata": {
        "id": "bW5jRTqyG5s1"
      },
      "outputs": [],
      "source": [
        "# Prepara o dataframe\n",
        "df_genero_runtime = pd.DataFrame()\n",
        "df_genero_runtime['genre'] = generos_unicos\n",
        "df_genero_runtime['runtime'] = genero_runtime"
      ]
    },
    {
      "cell_type": "code",
      "execution_count": null,
      "metadata": {
        "id": "q03CMhQwHTXs"
      },
      "outputs": [],
      "source": [
        "# Remove índice 18 (news)\n",
        "df_genero_runtime = df_genero_runtime.drop(index = 18)"
      ]
    },
    {
      "cell_type": "code",
      "execution_count": null,
      "metadata": {
        "id": "xa6O1pozHfEH"
      },
      "outputs": [],
      "source": [
        "# Ordena os dados\n",
        "df_genero_runtime = df_genero_runtime.sort_values(by = 'runtime', ascending = False)"
      ]
    },
    {
      "cell_type": "code",
      "execution_count": null,
      "metadata": {
        "colab": {
          "base_uri": "https://localhost:8080/",
          "height": 497
        },
        "id": "AKKU1iTHH19k",
        "outputId": "115ea1e7-7e87-4332-a92a-8851c8081c28"
      },
      "outputs": [
        {
          "data": {
            "image/png": "[encoded data removed]",
            "text/plain": [
              "<Figure size 1152x576 with 1 Axes>"
            ]
          },
          "metadata": {},
          "output_type": "display_data"
        }
      ],
      "source": [
        "# Plot\n",
        "\n",
        "# Tamanho da figura\n",
        "plt.figure(figsize = (16,8))\n",
        "\n",
        "# Barplot\n",
        "sns.barplot(y = df_genero_runtime.genre, x = df_genero_runtime.runtime, orient = \"h\")\n",
        "\n",
        "# Loop\n",
        "for i in range(len(df_genero_runtime.index)):\n",
        "    plt.text(df_genero_runtime.runtime[df_genero_runtime.index[i]],\n",
        "             i + 0.25,\n",
        "             round(df_genero_runtime[\"runtime\"][df_genero_runtime.index[i]], 2))\n",
        "\n",
        "plt.ylabel('Gênero')             \n",
        "plt.xlabel('\\nMediana de Tempo de Duração (Minutos)')\n",
        "plt.title('\\nRelação Entre Duração e Gênero\\n')\n",
        "plt.show()"
      ]
    },
    {
      "cell_type": "markdown",
      "metadata": {
        "id": "t6ScDbBNzblj"
      },
      "source": [
        "## 8- Qual o Número de Filmes Produzidos Por País?\n",
        "\n",
        "Número de filmes produzidos por país."
      ]
    },
    {
      "cell_type": "code",
      "execution_count": null,
      "metadata": {
        "id": "xit2KSBiLOdf"
      },
      "outputs": [],
      "source": [
        "# Consulta SQL\n",
        "consulta8 = '''\n",
        "            SELECT region, COUNT(*) Number_of_movies FROM \n",
        "            akas JOIN titles ON \n",
        "            akas.title_id = titles.title_id\n",
        "            WHERE region != 'None'\n",
        "            AND type = \\'movie\\'\n",
        "            GROUP BY region\n",
        "            ''' "
      ]
    },
    {
      "cell_type": "code",
      "execution_count": null,
      "metadata": {
        "id": "FxiQKzlbkBLy"
      },
      "outputs": [],
      "source": [
        "# Resultado\n",
        "resultado8 = pd.read_sql_query(consulta8, conn)"
      ]
    },
    {
      "cell_type": "code",
      "execution_count": null,
      "metadata": {
        "id": "O1TcqZihkBLz",
        "outputId": "99404a43-77ec-4121-874e-6c6bbfa4aed8"
      },
      "outputs": [
        {
          "data": {
            "text/html": [
              "<div>\n",
              "<style scoped>\n",
              "    .dataframe tbody tr th:only-of-type {\n",
              "        vertical-align: middle;\n",
              "    }\n",
              "\n",
              "    .dataframe tbody tr th {\n",
              "        vertical-align: top;\n",
              "    }\n",
              "\n",
              "    .dataframe thead th {\n",
              "        text-align: right;\n",
              "    }\n",
              "</style>\n",
              "<table border=\"1\" class=\"dataframe\">\n",
              "  <thead>\n",
              "    <tr style=\"text-align: right;\">\n",
              "      <th></th>\n",
              "      <th>region</th>\n",
              "      <th>Number_of_movies</th>\n",
              "    </tr>\n",
              "  </thead>\n",
              "  <tbody>\n",
              "    <tr>\n",
              "      <th>0</th>\n",
              "      <td>AD</td>\n",
              "      <td>22</td>\n",
              "    </tr>\n",
              "    <tr>\n",
              "      <th>1</th>\n",
              "      <td>AE</td>\n",
              "      <td>321</td>\n",
              "    </tr>\n",
              "    <tr>\n",
              "      <th>2</th>\n",
              "      <td>AF</td>\n",
              "      <td>108</td>\n",
              "    </tr>\n",
              "    <tr>\n",
              "      <th>3</th>\n",
              "      <td>AG</td>\n",
              "      <td>12</td>\n",
              "    </tr>\n",
              "    <tr>\n",
              "      <th>4</th>\n",
              "      <td>AL</td>\n",
              "      <td>1230</td>\n",
              "    </tr>\n",
              "    <tr>\n",
              "      <th>...</th>\n",
              "      <td>...</td>\n",
              "      <td>...</td>\n",
              "    </tr>\n",
              "    <tr>\n",
              "      <th>227</th>\n",
              "      <td>YUCS</td>\n",
              "      <td>146</td>\n",
              "    </tr>\n",
              "    <tr>\n",
              "      <th>228</th>\n",
              "      <td>ZA</td>\n",
              "      <td>2930</td>\n",
              "    </tr>\n",
              "    <tr>\n",
              "      <th>229</th>\n",
              "      <td>ZM</td>\n",
              "      <td>11</td>\n",
              "    </tr>\n",
              "    <tr>\n",
              "      <th>230</th>\n",
              "      <td>ZRCD</td>\n",
              "      <td>2</td>\n",
              "    </tr>\n",
              "    <tr>\n",
              "      <th>231</th>\n",
              "      <td>ZW</td>\n",
              "      <td>46</td>\n",
              "    </tr>\n",
              "  </tbody>\n",
              "</table>\n",
              "<p>232 rows × 2 columns</p>\n",
              "</div>"
            ],
            "text/plain": [
              "    region  Number_of_movies\n",
              "0       AD                22\n",
              "1       AE               321\n",
              "2       AF               108\n",
              "3       AG                12\n",
              "4       AL              1230\n",
              "..     ...               ...\n",
              "227   YUCS               146\n",
              "228     ZA              2930\n",
              "229     ZM                11\n",
              "230   ZRCD                 2\n",
              "231     ZW                46\n",
              "\n",
              "[232 rows x 2 columns]"
            ]
          },
          "metadata": {},
          "output_type": "display_data"
        }
      ],
      "source": [
        "display(resultado8)"
      ]
    },
    {
      "cell_type": "code",
      "execution_count": null,
      "metadata": {
        "id": "wVeA78irkBLz",
        "outputId": "4f94cd07-cb4b-4e71-828b-6d04f700d384"
      },
      "outputs": [
        {
          "data": {
            "text/plain": [
              "(232, 2)"
            ]
          },
          "execution_count": 91,
          "metadata": {},
          "output_type": "execute_result"
        }
      ],
      "source": [
        "# Shape\n",
        "resultado8.shape"
      ]
    },
    {
      "cell_type": "code",
      "execution_count": null,
      "metadata": {
        "id": "nRg64HbkkBLz",
        "outputId": "f7cc4936-8ffd-4e18-db63-d605d7c8929f"
      },
      "outputs": [
        {
          "data": {
            "text/plain": [
              "232"
            ]
          },
          "execution_count": 92,
          "metadata": {},
          "output_type": "execute_result"
        }
      ],
      "source": [
        "# Número de linhas\n",
        "resultado8.shape[0]"
      ]
    },
    {
      "cell_type": "code",
      "execution_count": null,
      "metadata": {
        "id": "fhPq2Va2kBL0"
      },
      "outputs": [],
      "source": [
        "# Listas auxiliares\n",
        "nomes_paises = []\n",
        "contagem = []"
      ]
    },
    {
      "cell_type": "code",
      "execution_count": null,
      "metadata": {
        "id": "y0EiQBfgNEgb"
      },
      "outputs": [],
      "source": [
        "# Loop para obter o país de acordo com a região\n",
        "for i in range(resultado8.shape[0]):\n",
        "    try:\n",
        "        coun = resultado8['region'].values[i]\n",
        "        nomes_paises.append(pycountry.countries.get(alpha_2 = coun).name)\n",
        "        contagem.append(resultado8['Number_of_movies'].values[i])\n",
        "    except: \n",
        "        continue"
      ]
    },
    {
      "cell_type": "code",
      "execution_count": null,
      "metadata": {
        "id": "Ke69xq96Oeeu"
      },
      "outputs": [],
      "source": [
        "# Prepara o dataframe\n",
        "df_filmes_paises = pd.DataFrame()\n",
        "df_filmes_paises['country'] = nomes_paises\n",
        "df_filmes_paises['Movie_Count'] = contagem"
      ]
    },
    {
      "cell_type": "code",
      "execution_count": null,
      "metadata": {
        "id": "RyaO-hmNOxv-"
      },
      "outputs": [],
      "source": [
        "# Ordena o resultado\n",
        "df_filmes_paises = df_filmes_paises.sort_values(by = 'Movie_Count', ascending = False)"
      ]
    },
    {
      "cell_type": "code",
      "execution_count": null,
      "metadata": {
        "id": "OJPKheYkkBL1",
        "outputId": "66ca1258-33aa-4bc7-abda-31004b3a9c59"
      },
      "outputs": [
        {
          "data": {
            "text/html": [
              "<div>\n",
              "<style scoped>\n",
              "    .dataframe tbody tr th:only-of-type {\n",
              "        vertical-align: middle;\n",
              "    }\n",
              "\n",
              "    .dataframe tbody tr th {\n",
              "        vertical-align: top;\n",
              "    }\n",
              "\n",
              "    .dataframe thead th {\n",
              "        text-align: right;\n",
              "    }\n",
              "</style>\n",
              "<table border=\"1\" class=\"dataframe\">\n",
              "  <thead>\n",
              "    <tr style=\"text-align: right;\">\n",
              "      <th></th>\n",
              "      <th>country</th>\n",
              "      <th>Movie_Count</th>\n",
              "    </tr>\n",
              "  </thead>\n",
              "  <tbody>\n",
              "    <tr>\n",
              "      <th>198</th>\n",
              "      <td>United States</td>\n",
              "      <td>255987</td>\n",
              "    </tr>\n",
              "    <tr>\n",
              "      <th>65</th>\n",
              "      <td>United Kingdom</td>\n",
              "      <td>113225</td>\n",
              "    </tr>\n",
              "    <tr>\n",
              "      <th>96</th>\n",
              "      <td>Japan</td>\n",
              "      <td>87815</td>\n",
              "    </tr>\n",
              "    <tr>\n",
              "      <th>63</th>\n",
              "      <td>France</td>\n",
              "      <td>80993</td>\n",
              "    </tr>\n",
              "    <tr>\n",
              "      <th>89</th>\n",
              "      <td>India</td>\n",
              "      <td>70743</td>\n",
              "    </tr>\n",
              "    <tr>\n",
              "      <th>32</th>\n",
              "      <td>Canada</td>\n",
              "      <td>67483</td>\n",
              "    </tr>\n",
              "    <tr>\n",
              "      <th>47</th>\n",
              "      <td>Germany</td>\n",
              "      <td>65316</td>\n",
              "    </tr>\n",
              "    <tr>\n",
              "      <th>93</th>\n",
              "      <td>Italy</td>\n",
              "      <td>63060</td>\n",
              "    </tr>\n",
              "    <tr>\n",
              "      <th>26</th>\n",
              "      <td>Brazil</td>\n",
              "      <td>61825</td>\n",
              "    </tr>\n",
              "    <tr>\n",
              "      <th>58</th>\n",
              "      <td>Spain</td>\n",
              "      <td>61704</td>\n",
              "    </tr>\n",
              "  </tbody>\n",
              "</table>\n",
              "</div>"
            ],
            "text/plain": [
              "            country  Movie_Count\n",
              "198   United States       255987\n",
              "65   United Kingdom       113225\n",
              "96            Japan        87815\n",
              "63           France        80993\n",
              "89            India        70743\n",
              "32           Canada        67483\n",
              "47          Germany        65316\n",
              "93            Italy        63060\n",
              "26           Brazil        61825\n",
              "58            Spain        61704"
            ]
          },
          "execution_count": 97,
          "metadata": {},
          "output_type": "execute_result"
        }
      ],
      "source": [
        "# Visualiza\n",
        "df_filmes_paises.head(10)"
      ]
    },
    {
      "cell_type": "code",
      "execution_count": null,
      "metadata": {
        "colab": {
          "base_uri": "https://localhost:8080/",
          "height": 446
        },
        "id": "9vLWE-JaPB8K",
        "outputId": "f738f6a3-4128-469f-c772-bbd2614d8caf"
      },
      "outputs": [
        {
          "data": {
            "image/png": "[encoded data removed]",
            "text/plain": [
              "<Figure size 1440x576 with 1 Axes>"
            ]
          },
          "metadata": {},
          "output_type": "display_data"
        }
      ],
      "source": [
        "# Plot\n",
        "\n",
        "# Figura\n",
        "plt.figure(figsize = (20,8))\n",
        "\n",
        "# Barplot\n",
        "sns.barplot(y = df_filmes_paises[:20].country, x = df_filmes_paises[:20].Movie_Count, orient = \"h\")\n",
        "\n",
        "# Loop\n",
        "for i in range(0,20):\n",
        "    plt.text(df_filmes_paises.Movie_Count[df_filmes_paises.index[i]]-1,\n",
        "             i + 0.30,\n",
        "             round(df_filmes_paises[\"Movie_Count\"][df_filmes_paises.index[i]],2))\n",
        "\n",
        "plt.ylabel('País')             \n",
        "plt.xlabel('\\nNúmero de Filmes')\n",
        "plt.title('\\nNúmero de Filmes Produzidos Por País\\n')\n",
        "plt.show()"
      ]
    },
    {
      "cell_type": "markdown",
      "metadata": {
        "id": "szAHC3FEyoiv"
      },
      "source": [
        "## 9- Quais São os Top 10 Melhores Filmes?\n",
        "\n",
        "Top 10 filmes com melhor avaliação e mais de 25 mil votos."
      ]
    },
    {
      "cell_type": "code",
      "execution_count": null,
      "metadata": {
        "id": "b4IB3sTJiStg"
      },
      "outputs": [],
      "source": [
        "# Consulta SQL\n",
        "consulta9 = '''\n",
        "            SELECT primary_title AS Movie_Name, genres, rating\n",
        "            FROM \n",
        "            titles JOIN ratings\n",
        "            ON  titles.title_id = ratings.title_id\n",
        "            WHERE titles.type = 'movie' AND ratings.votes >= 25000\n",
        "            ORDER BY rating DESC\n",
        "            LIMIT 10          \n",
        "            ''' "
      ]
    },
    {
      "cell_type": "code",
      "execution_count": null,
      "metadata": {
        "id": "BMBWTlyykBL2"
      },
      "outputs": [],
      "source": [
        "# Resultado\n",
        "top10_melhores_filmes = pd.read_sql_query(consulta9, conn)"
      ]
    },
    {
      "cell_type": "code",
      "execution_count": null,
      "metadata": {
        "id": "mMtlq1cRkBL2",
        "outputId": "9cc7e0ea-e998-4365-cde7-f3f017bb9e94"
      },
      "outputs": [
        {
          "data": {
            "text/html": [
              "<div>\n",
              "<style scoped>\n",
              "    .dataframe tbody tr th:only-of-type {\n",
              "        vertical-align: middle;\n",
              "    }\n",
              "\n",
              "    .dataframe tbody tr th {\n",
              "        vertical-align: top;\n",
              "    }\n",
              "\n",
              "    .dataframe thead th {\n",
              "        text-align: right;\n",
              "    }\n",
              "</style>\n",
              "<table border=\"1\" class=\"dataframe\">\n",
              "  <thead>\n",
              "    <tr style=\"text-align: right;\">\n",
              "      <th></th>\n",
              "      <th>Movie_Name</th>\n",
              "      <th>genres</th>\n",
              "      <th>rating</th>\n",
              "    </tr>\n",
              "  </thead>\n",
              "  <tbody>\n",
              "    <tr>\n",
              "      <th>0</th>\n",
              "      <td>The Shawshank Redemption</td>\n",
              "      <td>Drama</td>\n",
              "      <td>9.3</td>\n",
              "    </tr>\n",
              "    <tr>\n",
              "      <th>1</th>\n",
              "      <td>The Chaos Class</td>\n",
              "      <td>Comedy,Drama</td>\n",
              "      <td>9.3</td>\n",
              "    </tr>\n",
              "    <tr>\n",
              "      <th>2</th>\n",
              "      <td>The Godfather</td>\n",
              "      <td>Crime,Drama</td>\n",
              "      <td>9.2</td>\n",
              "    </tr>\n",
              "    <tr>\n",
              "      <th>3</th>\n",
              "      <td>CM101MMXI Fundamentals</td>\n",
              "      <td>Comedy,Documentary</td>\n",
              "      <td>9.2</td>\n",
              "    </tr>\n",
              "    <tr>\n",
              "      <th>4</th>\n",
              "      <td>Soorarai Pottru</td>\n",
              "      <td>Drama</td>\n",
              "      <td>9.1</td>\n",
              "    </tr>\n",
              "    <tr>\n",
              "      <th>5</th>\n",
              "      <td>12 Angry Men</td>\n",
              "      <td>Crime,Drama</td>\n",
              "      <td>9.0</td>\n",
              "    </tr>\n",
              "    <tr>\n",
              "      <th>6</th>\n",
              "      <td>The Godfather: Part II</td>\n",
              "      <td>Crime,Drama</td>\n",
              "      <td>9.0</td>\n",
              "    </tr>\n",
              "    <tr>\n",
              "      <th>7</th>\n",
              "      <td>The Dark Knight</td>\n",
              "      <td>Action,Crime,Drama</td>\n",
              "      <td>9.0</td>\n",
              "    </tr>\n",
              "    <tr>\n",
              "      <th>8</th>\n",
              "      <td>Dara of Jasenovac</td>\n",
              "      <td>Drama,War</td>\n",
              "      <td>9.0</td>\n",
              "    </tr>\n",
              "    <tr>\n",
              "      <th>9</th>\n",
              "      <td>David Attenborough: A Life on Our Planet</td>\n",
              "      <td>Biography,Documentary</td>\n",
              "      <td>9.0</td>\n",
              "    </tr>\n",
              "  </tbody>\n",
              "</table>\n",
              "</div>"
            ],
            "text/plain": [
              "                                 Movie_Name                 genres  rating\n",
              "0                  The Shawshank Redemption                  Drama     9.3\n",
              "1                           The Chaos Class           Comedy,Drama     9.3\n",
              "2                             The Godfather            Crime,Drama     9.2\n",
              "3                    CM101MMXI Fundamentals     Comedy,Documentary     9.2\n",
              "4                           Soorarai Pottru                  Drama     9.1\n",
              "5                              12 Angry Men            Crime,Drama     9.0\n",
              "6                    The Godfather: Part II            Crime,Drama     9.0\n",
              "7                           The Dark Knight     Action,Crime,Drama     9.0\n",
              "8                         Dara of Jasenovac              Drama,War     9.0\n",
              "9  David Attenborough: A Life on Our Planet  Biography,Documentary     9.0"
            ]
          },
          "metadata": {},
          "output_type": "display_data"
        }
      ],
      "source": [
        "display(top10_melhores_filmes)"
      ]
    },
    {
      "cell_type": "markdown",
      "metadata": {
        "id": "AOyJM8blkBL3"
      },
      "source": [
        "## 10- Quais São os Top 10 Piores Filmes?\n",
        "\n",
        "Top 10 filmes com pior avaliação e mais de 25 mil votos."
      ]
    },
    {
      "cell_type": "code",
      "execution_count": null,
      "metadata": {
        "id": "xNkQXdifjWEF"
      },
      "outputs": [],
      "source": [
        "# Consulta SQL\n",
        "consulta10 = '''\n",
        "            SELECT primary_title AS Movie_Name, genres, rating\n",
        "            FROM \n",
        "            titles JOIN ratings\n",
        "            ON  titles.title_id = ratings.title_id\n",
        "            WHERE titles.type = 'movie' AND ratings.votes >= 25000\n",
        "            ORDER BY rating ASC\n",
        "            LIMIT 10\n",
        "            ''' "
      ]
    },
    {
      "cell_type": "code",
      "execution_count": null,
      "metadata": {
        "id": "naOoI-IXfKSI"
      },
      "outputs": [],
      "source": [
        "# Resultado\n",
        "top10_piores_filmes = pd.read_sql_query(consulta10, conn)"
      ]
    },
    {
      "cell_type": "code",
      "execution_count": null,
      "metadata": {
        "id": "XfzTdNp1kBL4",
        "outputId": "1a9e4a87-c0ec-4675-b9e2-e1642541c86d"
      },
      "outputs": [
        {
          "data": {
            "text/html": [
              "<div>\n",
              "<style scoped>\n",
              "    .dataframe tbody tr th:only-of-type {\n",
              "        vertical-align: middle;\n",
              "    }\n",
              "\n",
              "    .dataframe tbody tr th {\n",
              "        vertical-align: top;\n",
              "    }\n",
              "\n",
              "    .dataframe thead th {\n",
              "        text-align: right;\n",
              "    }\n",
              "</style>\n",
              "<table border=\"1\" class=\"dataframe\">\n",
              "  <thead>\n",
              "    <tr style=\"text-align: right;\">\n",
              "      <th></th>\n",
              "      <th>Movie_Name</th>\n",
              "      <th>genres</th>\n",
              "      <th>rating</th>\n",
              "    </tr>\n",
              "  </thead>\n",
              "  <tbody>\n",
              "    <tr>\n",
              "      <th>0</th>\n",
              "      <td>Cumali Ceber</td>\n",
              "      <td>Comedy</td>\n",
              "      <td>1.0</td>\n",
              "    </tr>\n",
              "    <tr>\n",
              "      <th>1</th>\n",
              "      <td>Smolensk</td>\n",
              "      <td>Drama,Thriller</td>\n",
              "      <td>1.1</td>\n",
              "    </tr>\n",
              "    <tr>\n",
              "      <th>2</th>\n",
              "      <td>Sadak 2</td>\n",
              "      <td>Action,Drama</td>\n",
              "      <td>1.1</td>\n",
              "    </tr>\n",
              "    <tr>\n",
              "      <th>3</th>\n",
              "      <td>Reis</td>\n",
              "      <td>Biography,Drama</td>\n",
              "      <td>1.4</td>\n",
              "    </tr>\n",
              "    <tr>\n",
              "      <th>4</th>\n",
              "      <td>Justin Bieber: Never Say Never</td>\n",
              "      <td>Documentary,Music</td>\n",
              "      <td>1.6</td>\n",
              "    </tr>\n",
              "    <tr>\n",
              "      <th>5</th>\n",
              "      <td>Manos: the Hands of Fate</td>\n",
              "      <td>Drama,Horror</td>\n",
              "      <td>1.8</td>\n",
              "    </tr>\n",
              "    <tr>\n",
              "      <th>6</th>\n",
              "      <td>Radhe</td>\n",
              "      <td>Action,Crime,Thriller</td>\n",
              "      <td>1.8</td>\n",
              "    </tr>\n",
              "    <tr>\n",
              "      <th>7</th>\n",
              "      <td>Superbabies: Baby Geniuses 2</td>\n",
              "      <td>Comedy,Family,Sci-Fi</td>\n",
              "      <td>1.9</td>\n",
              "    </tr>\n",
              "    <tr>\n",
              "      <th>8</th>\n",
              "      <td>The Hottie &amp; the Nottie</td>\n",
              "      <td>Comedy,Romance</td>\n",
              "      <td>1.9</td>\n",
              "    </tr>\n",
              "    <tr>\n",
              "      <th>9</th>\n",
              "      <td>Disaster Movie</td>\n",
              "      <td>Comedy,Sci-Fi</td>\n",
              "      <td>1.9</td>\n",
              "    </tr>\n",
              "  </tbody>\n",
              "</table>\n",
              "</div>"
            ],
            "text/plain": [
              "                       Movie_Name                 genres  rating\n",
              "0                    Cumali Ceber                 Comedy     1.0\n",
              "1                        Smolensk         Drama,Thriller     1.1\n",
              "2                         Sadak 2           Action,Drama     1.1\n",
              "3                            Reis        Biography,Drama     1.4\n",
              "4  Justin Bieber: Never Say Never      Documentary,Music     1.6\n",
              "5        Manos: the Hands of Fate           Drama,Horror     1.8\n",
              "6                           Radhe  Action,Crime,Thriller     1.8\n",
              "7    Superbabies: Baby Geniuses 2   Comedy,Family,Sci-Fi     1.9\n",
              "8         The Hottie & the Nottie         Comedy,Romance     1.9\n",
              "9                  Disaster Movie          Comedy,Sci-Fi     1.9"
            ]
          },
          "metadata": {},
          "output_type": "display_data"
        }
      ],
      "source": [
        "display(top10_piores_filmes)"
      ]
    },
    {
      "cell_type": "markdown",
      "metadata": {
        "id": "H3rKUiitkBL5"
      },
      "source": [
        "# Fim"
      ]
    },
    {
      "cell_type": "markdown",
      "metadata": {
        "id": "bB-zuVijkBL5"
      },
      "source": [
        "### Obrigado\n",
        "\n",
        "### Visite o Blog da Data Science Academy - <a href=\"http://blog.dsacademy.com.br\">Blog DSA</a>"
      ]
    },
    {
      "cell_type": "markdown",
      "metadata": {
        "id": "IDJ-pf6vkBL5"
      },
      "source": [
        "Parabéns se você chegou até aqui. Use o voucher PYTHONDSA9642 para comprar qualquer curso ou Formação da DSA com 5% de desconto."
      ]
    }
  ],
  "metadata": {
    "colab": {
      "collapsed_sections": [
        "yebFAbpYviBJ",
        "m6W_XSp3yBSL",
        "CWF1erMywd2w",
        "jRKl5x8YxoXO",
        "V4RFdmlvsbgQ",
        "2F2Dmji2xR9v",
        "9U6CKRVVzF5O",
        "Z4O4rDdHy7oO"
      ],
      "provenance": [],
      "include_colab_link": true
    },
    "kernelspec": {
      "display_name": "Python 3",
      "language": "python",
      "name": "python3"
    },
    "language_info": {
      "codemirror_mode": {
        "name": "ipython",
        "version": 3
      },
      "file_extension": ".py",
      "mimetype": "text/x-python",
      "name": "python",
      "nbconvert_exporter": "python",
      "pygments_lexer": "ipython3",
      "version": "3.8.8"
    }
  },
  "nbformat": 4,
  "nbformat_minor": 0
}